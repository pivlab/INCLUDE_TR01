{
 "cells": [
  {
   "cell_type": "markdown",
   "id": "b34c43a1-10a7-4383-8fd2-1f5f319611f1",
   "metadata": {},
   "source": [
    "# title"
   ]
  },
  {
   "cell_type": "markdown",
   "id": "cffecb15-01c0-417d-b161-cd51de34fd45",
   "metadata": {},
   "source": [
    "Marc Subirana-Granés (2024)\n",
    "\n",
    "Description"
   ]
  },
  {
   "cell_type": "markdown",
   "id": "729769e4-0e57-4f40-a4b5-07975a3e6a00",
   "metadata": {},
   "source": [
    "# Load libraries/modules"
   ]
  },
  {
   "cell_type": "code",
   "execution_count": 32,
   "id": "e980c935-48f2-4dd5-a7f9-7925bc6e28d2",
   "metadata": {},
   "outputs": [],
   "source": []
  },
  {
   "cell_type": "markdown",
   "id": "067d4bbc-0db2-4a38-b9de-7b56b9cd2f4c",
   "metadata": {},
   "source": [
    "# Load data"
   ]
  },
  {
   "cell_type": "code",
   "execution_count": 48,
   "id": "9c83c01c-6658-4566-8b5c-e9fe21264711",
   "metadata": {},
   "outputs": [],
   "source": [
    "# define output nb\n",
    "output_nb_path = here('output/nbs/compare_same_model_PLIER_DelayedPLIER')\n",
    "\n",
    "if not os.path.exists(output_nb_path):\n",
    "    os.makedirs(output_nb_path)"
   ]
  }
 ],
 "metadata": {
  "jupytext": {
   "cell_metadata_filter": "all,-execution,-papermill,-trusted",
   "notebook_metadata_filter": "-jupytext.text_representation.jupytext_version"
  },
  "kernelspec": {
   "display_name": "Python 3 (ipykernel)",
   "language": "python",
   "name": "python3"
  },
  "language_info": {
   "codemirror_mode": {
    "name": "ipython",
    "version": 3
   },
   "file_extension": ".py",
   "mimetype": "text/x-python",
   "name": "python",
   "nbconvert_exporter": "python",
   "pygments_lexer": "ipython3",
   "version": "3.11.9"
  }
 },
 "nbformat": 4,
 "nbformat_minor": 5
}
