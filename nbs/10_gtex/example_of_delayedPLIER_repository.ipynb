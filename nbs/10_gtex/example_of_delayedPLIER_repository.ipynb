{
 "cells": [
  {
   "cell_type": "markdown",
   "id": "c527fb11-3e6e-4236-aac1-3a6804daafe0",
   "metadata": {},
   "source": [
    "# Example of delayedPLIER repository "
   ]
  },
  {
   "cell_type": "markdown",
   "id": "b2291048-f906-4b0f-aee0-f8d7c2565adc",
   "metadata": {},
   "source": [
    "Running the example in the DelayedPLIER repository, I submitted a PR that changes the `setAutoRealizationBackend` function to solve the problem."
   ]
  },
  {
   "cell_type": "markdown",
   "id": "a09e0d57-f4a4-4cb7-826f-cae4150f2765",
   "metadata": {},
   "source": [
    "# Load libraries/modules"
   ]
  },
  {
   "cell_type": "code",
   "execution_count": 4,
   "id": "78f3ac1b-f19b-40de-8bcf-7e19760cfd08",
   "metadata": {},
   "outputs": [
    {
     "name": "stderr",
     "output_type": "stream",
     "text": [
      "Loading required package: SingleCellExperiment\n",
      "\n",
      "Loading required package: SummarizedExperiment\n",
      "\n",
      "Loading required package: MatrixGenerics\n",
      "\n",
      "Loading required package: matrixStats\n",
      "\n",
      "\n",
      "Attaching package: ‘MatrixGenerics’\n",
      "\n",
      "\n",
      "The following objects are masked from ‘package:matrixStats’:\n",
      "\n",
      "    colAlls, colAnyNAs, colAnys, colAvgsPerRowSet, colCollapse,\n",
      "    colCounts, colCummaxs, colCummins, colCumprods, colCumsums,\n",
      "    colDiffs, colIQRDiffs, colIQRs, colLogSumExps, colMadDiffs,\n",
      "    colMads, colMaxs, colMeans2, colMedians, colMins, colOrderStats,\n",
      "    colProds, colQuantiles, colRanges, colRanks, colSdDiffs, colSds,\n",
      "    colSums2, colTabulates, colVarDiffs, colVars, colWeightedMads,\n",
      "    colWeightedMeans, colWeightedMedians, colWeightedSds,\n",
      "    colWeightedVars, rowAlls, rowAnyNAs, rowAnys, rowAvgsPerColSet,\n",
      "    rowCollapse, rowCounts, rowCummaxs, rowCummins, rowCumprods,\n",
      "    rowCumsums, rowDiffs, rowIQRDiffs, rowIQRs, rowLogSumExps,\n",
      "    rowMadDiffs, rowMads, rowMaxs, rowMeans2, rowMedians, rowMins,\n",
      "    rowOrderStats, rowProds, rowQuantiles, rowRanges, rowRanks,\n",
      "    rowSdDiffs, rowSds, rowSums2, rowTabulates, rowVarDiffs, rowVars,\n",
      "    rowWeightedMads, rowWeightedMeans, rowWeightedMedians,\n",
      "    rowWeightedSds, rowWeightedVars\n",
      "\n",
      "\n",
      "Loading required package: GenomicRanges\n",
      "\n",
      "Loading required package: stats4\n",
      "\n",
      "Loading required package: BiocGenerics\n",
      "\n",
      "\n",
      "Attaching package: ‘BiocGenerics’\n",
      "\n",
      "\n",
      "The following objects are masked from ‘package:stats’:\n",
      "\n",
      "    IQR, mad, sd, var, xtabs\n",
      "\n",
      "\n",
      "The following objects are masked from ‘package:base’:\n",
      "\n",
      "    anyDuplicated, aperm, append, as.data.frame, basename, cbind,\n",
      "    colnames, dirname, do.call, duplicated, eval, evalq, Filter, Find,\n",
      "    get, grep, grepl, intersect, is.unsorted, lapply, Map, mapply,\n",
      "    match, mget, order, paste, pmax, pmax.int, pmin, pmin.int,\n",
      "    Position, rank, rbind, Reduce, rownames, sapply, setdiff, sort,\n",
      "    table, tapply, union, unique, unsplit, which.max, which.min\n",
      "\n",
      "\n",
      "Loading required package: S4Vectors\n",
      "\n",
      "\n",
      "Attaching package: ‘S4Vectors’\n",
      "\n",
      "\n",
      "The following object is masked from ‘package:utils’:\n",
      "\n",
      "    findMatches\n",
      "\n",
      "\n",
      "The following objects are masked from ‘package:base’:\n",
      "\n",
      "    expand.grid, I, unname\n",
      "\n",
      "\n",
      "Loading required package: IRanges\n",
      "\n",
      "Loading required package: GenomeInfoDb\n",
      "\n",
      "Loading required package: Biobase\n",
      "\n",
      "Welcome to Bioconductor\n",
      "\n",
      "    Vignettes contain introductory material; view with\n",
      "    'browseVignettes()'. To cite Bioconductor, see\n",
      "    'citation(\"Biobase\")', and for packages 'citation(\"pkgname\")'.\n",
      "\n",
      "\n",
      "\n",
      "Attaching package: ‘Biobase’\n",
      "\n",
      "\n",
      "The following object is masked from ‘package:MatrixGenerics’:\n",
      "\n",
      "    rowMedians\n",
      "\n",
      "\n",
      "The following objects are masked from ‘package:matrixStats’:\n",
      "\n",
      "    anyMissing, rowMedians\n",
      "\n",
      "\n",
      "Loading required package: HDF5Array\n",
      "\n",
      "Loading required package: DelayedArray\n",
      "\n",
      "Loading required package: Matrix\n",
      "\n",
      "\n",
      "Attaching package: ‘Matrix’\n",
      "\n",
      "\n",
      "The following object is masked from ‘package:S4Vectors’:\n",
      "\n",
      "    expand\n",
      "\n",
      "\n",
      "Loading required package: S4Arrays\n",
      "\n",
      "Loading required package: abind\n",
      "\n",
      "\n",
      "Attaching package: ‘S4Arrays’\n",
      "\n",
      "\n",
      "The following object is masked from ‘package:abind’:\n",
      "\n",
      "    abind\n",
      "\n",
      "\n",
      "The following object is masked from ‘package:base’:\n",
      "\n",
      "    rowsum\n",
      "\n",
      "\n",
      "Loading required package: SparseArray\n",
      "\n",
      "\n",
      "Attaching package: ‘DelayedArray’\n",
      "\n",
      "\n",
      "The following objects are masked from ‘package:base’:\n",
      "\n",
      "    apply, scale, sweep\n",
      "\n",
      "\n",
      "Loading required package: rhdf5\n",
      "\n",
      "\n",
      "Attaching package: ‘HDF5Array’\n",
      "\n",
      "\n",
      "The following object is masked from ‘package:rhdf5’:\n",
      "\n",
      "    h5ls\n",
      "\n",
      "\n",
      "here() starts at /home/msubirana/Documents/pivlab/plier_recount3\n",
      "\n"
     ]
    }
   ],
   "source": [
    "library(TENxPBMCData)\n",
    "library(here)"
   ]
  },
  {
   "cell_type": "markdown",
   "id": "e5f90040-65f4-415f-a763-1f2921bb352f",
   "metadata": {},
   "source": [
    "# Load data"
   ]
  },
  {
   "cell_type": "code",
   "execution_count": 12,
   "id": "85b195f3-6866-4df5-86cd-7cd01d8f2b4f",
   "metadata": {},
   "outputs": [
    {
     "name": "stderr",
     "output_type": "stream",
     "text": [
      "see ?TENxPBMCData and browseVignettes('TENxPBMCData') for documentation\n",
      "\n",
      "loading from cache\n",
      "\n",
      "Can not create dataset. Object with name 'count' already exists.\n",
      "\n"
     ]
    },
    {
     "ename": "ERROR",
     "evalue": "Error in H5Dcreate(loc$H5Identifier, dataset, tid, sid, dcpl = dcpl): HDF5. Dataset. Unable to initialize object.\n",
     "output_type": "error",
     "traceback": [
      "Error in H5Dcreate(loc$H5Identifier, dataset, tid, sid, dcpl = dcpl): HDF5. Dataset. Unable to initialize object.\nTraceback:\n",
      "1. writeHDF5Array(mat, filepath = hdf5_count, name = \"count\")",
      "2. HDF5RealizationSink(dim(x), sink_dimnames, type(x), as.sparse, \n .     filepath = filepath, name = name, H5type = H5type, size = size, \n .     chunkdim = chunkdim, level = level)",
      "3. create_and_log_HDF5_dataset(filepath, name, dim, type = type, \n .     H5type = H5type, size = size, chunkdim = chunkdim, level = level)",
      "4. h5createDataset2(filepath, name, dim, maxdim = maxdim, type = type, \n .     H5type = H5type, size = size, chunkdim = chunkdim, level = level)",
      "5. h5createDataset(filepath, name, dim, maxdims = maxdim, storage.mode = type, \n .     H5type = H5type, size = size, chunk = chunkdim, level = level)",
      "6. H5Dcreate(loc$H5Identifier, dataset, tid, sid, dcpl = dcpl)"
     ]
    }
   ],
   "source": [
    "# define output nb\n",
    "output_nb_path = here('output/nbs/example_of_delayedPLIER_repository')\n",
    "dir.create(output_nb_path, showWarnings = FALSE)\n",
    "\n",
    "sce <- TENxPBMCData(\"pbmc4k\")\n",
    "mat <- counts(sce)\n",
    "rownames(mat) <- rowData(sce)$ENSEMBL_ID \n",
    "colnames(mat) <- colData(sce)$Sequence\n",
    "\n",
    "hdf5_count = file.path(output_nb_path, 'counts.hdf5')\n",
    "hdf5_dimnames = file.path(output_nb_path, 'dimnames.RDS')\n",
    "\n",
    "writeHDF5Array(mat, filepath = hdf5_count, name = \"count\")\n",
    "saveRDS(list(row.names = rowData(sce)$ENSEMBL_ID , col.names = colData(sce)$Sequence), file = hdf5_dimnames)\n",
    "\n",
    "path_script_funcs = '/home/msubirana/Documents/pivlab/DelayedPLIER/funcs.R'\n",
    "priorMat <- readRDS('/home/msubirana/Documents/pivlab/DelayedPLIER/canonicalPathways_ENSG.RDS')"
   ]
  },
  {
   "cell_type": "code",
   "execution_count": 34,
   "id": "7251ef93-119f-4120-932e-fbb4ef410ed7",
   "metadata": {},
   "outputs": [
    {
     "data": {
      "text/plain": [
       "<6 x 4340> sparse DelayedMatrix object of type \"integer\":\n",
       "                AAACCTGAGAAGGCCT ... TTTGTCATCCCAAGAT\n",
       "ENSG00000243485                0   .                0\n",
       "ENSG00000237613                0   .                0\n",
       "ENSG00000186092                0   .                0\n",
       "ENSG00000238009                0   .                0\n",
       "ENSG00000239945                0   .                0\n",
       "ENSG00000239906                0   .                0"
      ]
     },
     "metadata": {},
     "output_type": "display_data"
    }
   ],
   "source": [
    "head(mat)"
   ]
  },
  {
   "cell_type": "code",
   "execution_count": 7,
   "id": "6c288ac0-0f20-44d2-9cc5-afac3cfa2908",
   "metadata": {},
   "outputs": [
    {
     "name": "stderr",
     "output_type": "stream",
     "text": [
      "Loaded glmnet 4.1-8\n",
      "\n"
     ]
    }
   ],
   "source": [
    "source(path_script_funcs) #glmnet and HDF5Array will be loaded \n",
    "setAutoRealizationBackend(\"HDF5Array\") #supportedRealizationBackends(), getRealizationBackend()"
   ]
  },
  {
   "cell_type": "code",
   "execution_count": 9,
   "id": "120c337c-701e-47d9-9e7b-2fda7a0a9e16",
   "metadata": {},
   "outputs": [],
   "source": [
    "sce <- DelayedArray(seed = HDF5ArraySeed(filepath = hdf5_count, name = \"count\"))"
   ]
  },
  {
   "cell_type": "code",
   "execution_count": 10,
   "id": "55e5e286-35b8-44d1-b2c9-d217dda19d77",
   "metadata": {
    "scrolled": true
   },
   "outputs": [],
   "source": [
    "dimnamaes <- readRDS(hdf5_dimnames)\n",
    "rownames(sce) <- dimnamaes$row.names\n",
    "colnames(sce) <- dimnamaes$col.names"
   ]
  },
  {
   "cell_type": "code",
   "execution_count": 11,
   "id": "bd2f0576-9e52-42f8-8e66-438ef1831378",
   "metadata": {},
   "outputs": [],
   "source": [
    "sce[is.na(sce)] <- 0\n",
    "data <- sce[which(DelayedMatrixStats::rowSds(sce) >0),]"
   ]
  },
  {
   "cell_type": "code",
   "execution_count": 14,
   "id": "5a5e66fb-4b5d-4c88-9550-159f1bae7502",
   "metadata": {
    "editable": true,
    "slideshow": {
     "slide_type": ""
    },
    "tags": []
   },
   "outputs": [
    {
     "ename": "ERROR",
     "evalue": "Error in h(simpleError(msg, call)): error in evaluating the argument 'x' in selecting a method for function 'nrow': object 'priorMat' not found\n",
     "output_type": "error",
     "traceback": [
      "Error in h(simpleError(msg, call)): error in evaluating the argument 'x' in selecting a method for function 'nrow': object 'priorMat' not found\nTraceback:\n",
      "1. PLIER(data, priorMat, output_path = output_dplier)",
      "2. nrow(priorMat)",
      "3. .handleSimpleError(function (cond) \n . .Internal(C_tryCatchHelper(addr, 1L, cond)), \"object 'priorMat' not found\", \n .     base::quote(eval(expr, envir, enclos)))",
      "4. h(simpleError(msg, call))"
     ]
    }
   ],
   "source": [
    "ptm <- proc.time()\n",
    "output_dplier = file.path(output_nb_path, 'dplier_result')\n",
    "dir.create(output_dplier, showWarnings = FALSE)\n",
    "PLIER.res <- PLIER(data, priorMat, output_path = output_dplier)\n",
    "print(proc.time()-ptm)"
   ]
  },
  {
   "cell_type": "code",
   "execution_count": null,
   "id": "bb0b74ea-4a59-4746-8a7f-75eadb0935f8",
   "metadata": {
    "scrolled": true
   },
   "outputs": [],
   "source": [
    "head(data.frame(PLIER.res$B))"
   ]
  },
  {
   "cell_type": "code",
   "execution_count": null,
   "id": "d4e8846a-318f-4363-9b93-8b6735542ff9",
   "metadata": {},
   "outputs": [],
   "source": [
    "head(data.frame(PLIER.res$Z))"
   ]
  },
  {
   "cell_type": "code",
   "execution_count": null,
   "id": "5c9fc449-6ca8-492f-8951-615ee0414d22",
   "metadata": {},
   "outputs": [],
   "source": [
    "head(data.frame(PLIER.res$U))"
   ]
  }
 ],
 "metadata": {
  "kernelspec": {
   "display_name": "R",
   "language": "R",
   "name": "ir"
  },
  "language_info": {
   "codemirror_mode": "r",
   "file_extension": ".r",
   "mimetype": "text/x-r-source",
   "name": "R",
   "pygments_lexer": "r",
   "version": "4.3.3"
  }
 },
 "nbformat": 4,
 "nbformat_minor": 5
}
