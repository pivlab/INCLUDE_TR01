{
 "cells": [
  {
   "cell_type": "markdown",
   "id": "c527fb11-3e6e-4236-aac1-3a6804daafe0",
   "metadata": {},
   "source": [
    "# Example of delayedPLIER repository "
   ]
  },
  {
   "cell_type": "markdown",
   "id": "b2291048-f906-4b0f-aee0-f8d7c2565adc",
   "metadata": {},
   "source": [
    "Marc Subirana-Granés (2024)\n",
    "\n",
    "Running the example in the DelayedPLIER repository, I submitted a PR that changes the `setAutoRealizationBackend` function to solve the problem."
   ]
  },
  {
   "cell_type": "markdown",
   "id": "a09e0d57-f4a4-4cb7-826f-cae4150f2765",
   "metadata": {},
   "source": [
    "# Load libraries/modules"
   ]
  },
  {
   "cell_type": "code",
   "execution_count": 3,
   "id": "78f3ac1b-f19b-40de-8bcf-7e19760cfd08",
   "metadata": {
    "vscode": {
     "languageId": "r"
    }
   },
   "outputs": [
    {
     "name": "stderr",
     "output_type": "stream",
     "text": [
      "Loading required package: SingleCellExperiment\n",
      "\n",
      "Loading required package: SummarizedExperiment\n",
      "\n",
      "Loading required package: MatrixGenerics\n",
      "\n",
      "Loading required package: matrixStats\n",
      "\n"
     ]
    },
    {
     "name": "stderr",
     "output_type": "stream",
     "text": [
      "\n",
      "Attaching package: ‘MatrixGenerics’\n",
      "\n",
      "\n",
      "The following objects are masked from ‘package:matrixStats’:\n",
      "\n",
      "    colAlls, colAnyNAs, colAnys, colAvgsPerRowSet, colCollapse,\n",
      "    colCounts, colCummaxs, colCummins, colCumprods, colCumsums,\n",
      "    colDiffs, colIQRDiffs, colIQRs, colLogSumExps, colMadDiffs,\n",
      "    colMads, colMaxs, colMeans2, colMedians, colMins, colOrderStats,\n",
      "    colProds, colQuantiles, colRanges, colRanks, colSdDiffs, colSds,\n",
      "    colSums2, colTabulates, colVarDiffs, colVars, colWeightedMads,\n",
      "    colWeightedMeans, colWeightedMedians, colWeightedSds,\n",
      "    colWeightedVars, rowAlls, rowAnyNAs, rowAnys, rowAvgsPerColSet,\n",
      "    rowCollapse, rowCounts, rowCummaxs, rowCummins, rowCumprods,\n",
      "    rowCumsums, rowDiffs, rowIQRDiffs, rowIQRs, rowLogSumExps,\n",
      "    rowMadDiffs, rowMads, rowMaxs, rowMeans2, rowMedians, rowMins,\n",
      "    rowOrderStats, rowProds, rowQuantiles, rowRanges, rowRanks,\n",
      "    rowSdDiffs, rowSds, rowSums2, rowTabulates, rowVarDiffs, rowVars,\n",
      "    rowWeightedMads, rowWeightedMeans, rowWeightedMedians,\n",
      "    rowWeightedSds, rowWeightedVars\n",
      "\n",
      "\n",
      "Loading required package: GenomicRanges\n",
      "\n",
      "Loading required package: stats4\n",
      "\n",
      "Loading required package: BiocGenerics\n",
      "\n",
      "\n",
      "Attaching package: ‘BiocGenerics’\n",
      "\n",
      "\n",
      "The following objects are masked from ‘package:stats’:\n",
      "\n",
      "    IQR, mad, sd, var, xtabs\n",
      "\n",
      "\n",
      "The following objects are masked from ‘package:base’:\n",
      "\n",
      "    anyDuplicated, aperm, append, as.data.frame, basename, cbind,\n",
      "    colnames, dirname, do.call, duplicated, eval, evalq, Filter, Find,\n",
      "    get, grep, grepl, intersect, is.unsorted, lapply, Map, mapply,\n",
      "    match, mget, order, paste, pmax, pmax.int, pmin, pmin.int,\n",
      "    Position, rank, rbind, Reduce, rownames, sapply, setdiff, sort,\n",
      "    table, tapply, union, unique, unsplit, which.max, which.min\n",
      "\n",
      "\n",
      "Loading required package: S4Vectors\n",
      "\n",
      "\n",
      "Attaching package: ‘S4Vectors’\n",
      "\n",
      "\n",
      "The following object is masked from ‘package:utils’:\n",
      "\n",
      "    findMatches\n",
      "\n",
      "\n",
      "The following objects are masked from ‘package:base’:\n",
      "\n",
      "    expand.grid, I, unname\n",
      "\n",
      "\n",
      "Loading required package: IRanges\n",
      "\n",
      "Loading required package: GenomeInfoDb\n",
      "\n",
      "Loading required package: Biobase\n",
      "\n",
      "Welcome to Bioconductor\n",
      "\n",
      "    Vignettes contain introductory material; view with\n",
      "    'browseVignettes()'. To cite Bioconductor, see\n",
      "    'citation(\"Biobase\")', and for packages 'citation(\"pkgname\")'.\n",
      "\n",
      "\n",
      "\n",
      "Attaching package: ‘Biobase’\n",
      "\n",
      "\n",
      "The following object is masked from ‘package:MatrixGenerics’:\n",
      "\n",
      "    rowMedians\n",
      "\n",
      "\n",
      "The following objects are masked from ‘package:matrixStats’:\n",
      "\n",
      "    anyMissing, rowMedians\n",
      "\n",
      "\n",
      "Loading required package: HDF5Array\n",
      "\n",
      "Loading required package: DelayedArray\n",
      "\n",
      "Loading required package: Matrix\n",
      "\n",
      "\n",
      "Attaching package: ‘Matrix’\n",
      "\n",
      "\n",
      "The following object is masked from ‘package:S4Vectors’:\n",
      "\n",
      "    expand\n",
      "\n",
      "\n",
      "Loading required package: S4Arrays\n",
      "\n",
      "Loading required package: abind\n",
      "\n",
      "\n",
      "Attaching package: ‘S4Arrays’\n",
      "\n",
      "\n",
      "The following object is masked from ‘package:abind’:\n",
      "\n",
      "    abind\n",
      "\n",
      "\n",
      "The following object is masked from ‘package:base’:\n",
      "\n",
      "    rowsum\n",
      "\n",
      "\n",
      "Loading required package: SparseArray\n",
      "\n",
      "\n",
      "Attaching package: ‘DelayedArray’\n",
      "\n",
      "\n",
      "The following objects are masked from ‘package:base’:\n",
      "\n",
      "    apply, scale, sweep\n",
      "\n",
      "\n",
      "Loading required package: rhdf5\n",
      "\n",
      "\n",
      "Attaching package: ‘HDF5Array’\n",
      "\n",
      "\n",
      "The following object is masked from ‘package:rhdf5’:\n",
      "\n",
      "    h5ls\n",
      "\n",
      "\n",
      "here() starts at /home/msubirana/Documents/pivlab/plier_recount3\n",
      "\n"
     ]
    }
   ],
   "source": [
    "library(TENxPBMCData)\n",
    "library(here)"
   ]
  },
  {
   "cell_type": "markdown",
   "id": "e5f90040-65f4-415f-a763-1f2921bb352f",
   "metadata": {},
   "source": [
    "# Load data"
   ]
  },
  {
   "cell_type": "code",
   "execution_count": 4,
   "id": "85b195f3-6866-4df5-86cd-7cd01d8f2b4f",
   "metadata": {
    "vscode": {
     "languageId": "r"
    }
   },
   "outputs": [
    {
     "name": "stderr",
     "output_type": "stream",
     "text": [
      "see ?TENxPBMCData and browseVignettes('TENxPBMCData') for documentation\n",
      "\n",
      "loading from cache\n",
      "\n",
      "Can not create dataset. Object with name 'count' already exists.\n",
      "\n"
     ]
    },
    {
     "ename": "ERROR",
     "evalue": "Error in H5Dcreate(loc$H5Identifier, dataset, tid, sid, dcpl = dcpl): HDF5. Dataset. Unable to initialize object.\n",
     "output_type": "error",
     "traceback": [
      "Error in H5Dcreate(loc$H5Identifier, dataset, tid, sid, dcpl = dcpl): HDF5. Dataset. Unable to initialize object.\nTraceback:\n",
      "1. writeHDF5Array(mat, filepath = hdf5_count, name = \"count\")",
      "2. HDF5RealizationSink(dim(x), sink_dimnames, type(x), as.sparse, \n .     filepath = filepath, name = name, H5type = H5type, size = size, \n .     chunkdim = chunkdim, level = level)",
      "3. create_and_log_HDF5_dataset(filepath, name, dim, type = type, \n .     H5type = H5type, size = size, chunkdim = chunkdim, level = level)",
      "4. h5createDataset2(filepath, name, dim, maxdim = maxdim, type = type, \n .     H5type = H5type, size = size, chunkdim = chunkdim, level = level)",
      "5. h5createDataset(filepath, name, dim, maxdims = maxdim, storage.mode = type, \n .     H5type = H5type, size = size, chunk = chunkdim, level = level)",
      "6. H5Dcreate(loc$H5Identifier, dataset, tid, sid, dcpl = dcpl)"
     ]
    }
   ],
   "source": [
    "# define output nb\n",
    "output_nb_path = here('output/nbs/example_of_delayedPLIER_repository')\n",
    "dir.create(output_nb_path, showWarnings = FALSE)\n",
    "\n",
    "path_script_funcs = '/home/msubirana/Documents/pivlab/DelayedPLIER/funcs.R'\n",
    "priorMat <- readRDS('/home/msubirana/Documents/pivlab/DelayedPLIER/canonicalPathways_ENSG.RDS')\n",
    "\n",
    "sce <- TENxPBMCData(\"pbmc4k\")\n",
    "mat <- counts(sce)\n",
    "rownames(mat) <- rowData(sce)$ENSEMBL_ID \n",
    "colnames(mat) <- colData(sce)$Sequence\n",
    "\n",
    "hdf5_count = file.path(output_nb_path, 'counts.hdf5')\n",
    "hdf5_dimnames = file.path(output_nb_path, 'dimnames.RDS')\n",
    "\n",
    "writeHDF5Array(mat, filepath = hdf5_count, name = \"count\")\n",
    "saveRDS(list(row.names = rowData(sce)$ENSEMBL_ID , col.names = colData(sce)$Sequence), file = hdf5_dimnames)"
   ]
  },
  {
   "cell_type": "code",
   "execution_count": 9,
   "id": "20a02439",
   "metadata": {
    "vscode": {
     "languageId": "r"
    }
   },
   "outputs": [
    {
     "data": {
      "text/html": [
       "<style>\n",
       ".list-inline {list-style: none; margin:0; padding: 0}\n",
       ".list-inline>li {display: inline-block}\n",
       ".list-inline>li:not(:last-child)::after {content: \"\\00b7\"; padding: 0 .5ex}\n",
       "</style>\n",
       "<ol class=list-inline><li>'ENSG00000243485'</li><li>'ENSG00000237613'</li><li>'ENSG00000186092'</li><li>'ENSG00000238009'</li><li>'ENSG00000239945'</li><li>'ENSG00000239906'</li></ol>\n"
      ],
      "text/latex": [
       "\\begin{enumerate*}\n",
       "\\item 'ENSG00000243485'\n",
       "\\item 'ENSG00000237613'\n",
       "\\item 'ENSG00000186092'\n",
       "\\item 'ENSG00000238009'\n",
       "\\item 'ENSG00000239945'\n",
       "\\item 'ENSG00000239906'\n",
       "\\end{enumerate*}\n"
      ],
      "text/markdown": [
       "1. 'ENSG00000243485'\n",
       "2. 'ENSG00000237613'\n",
       "3. 'ENSG00000186092'\n",
       "4. 'ENSG00000238009'\n",
       "5. 'ENSG00000239945'\n",
       "6. 'ENSG00000239906'\n",
       "\n",
       "\n"
      ],
      "text/plain": [
       "[1] \"ENSG00000243485\" \"ENSG00000237613\" \"ENSG00000186092\" \"ENSG00000238009\"\n",
       "[5] \"ENSG00000239945\" \"ENSG00000239906\""
      ]
     },
     "metadata": {},
     "output_type": "display_data"
    },
    {
     "data": {
      "text/html": [
       "'character'"
      ],
      "text/latex": [
       "'character'"
      ],
      "text/markdown": [
       "'character'"
      ],
      "text/plain": [
       "[1] \"character\""
      ]
     },
     "metadata": {},
     "output_type": "display_data"
    }
   ],
   "source": [
    "head(rowData(sce)$ENSEMBL_ID)"
   ]
  },
  {
   "cell_type": "code",
   "execution_count": 7,
   "id": "b34da619",
   "metadata": {
    "vscode": {
     "languageId": "r"
    }
   },
   "outputs": [
    {
     "data": {
      "text/html": [
       "<style>\n",
       ".list-inline {list-style: none; margin:0; padding: 0}\n",
       ".list-inline>li {display: inline-block}\n",
       ".list-inline>li:not(:last-child)::after {content: \"\\00b7\"; padding: 0 .5ex}\n",
       "</style>\n",
       "<ol class=list-inline><li>'AAACCTGAGAAGGCCT'</li><li>'AAACCTGAGACAGACC'</li><li>'AAACCTGAGATAGTCA'</li><li>'AAACCTGAGCGCCTCA'</li><li>'AAACCTGAGGCATGGT'</li><li>'AAACCTGCAAGGTTCT'</li></ol>\n"
      ],
      "text/latex": [
       "\\begin{enumerate*}\n",
       "\\item 'AAACCTGAGAAGGCCT'\n",
       "\\item 'AAACCTGAGACAGACC'\n",
       "\\item 'AAACCTGAGATAGTCA'\n",
       "\\item 'AAACCTGAGCGCCTCA'\n",
       "\\item 'AAACCTGAGGCATGGT'\n",
       "\\item 'AAACCTGCAAGGTTCT'\n",
       "\\end{enumerate*}\n"
      ],
      "text/markdown": [
       "1. 'AAACCTGAGAAGGCCT'\n",
       "2. 'AAACCTGAGACAGACC'\n",
       "3. 'AAACCTGAGATAGTCA'\n",
       "4. 'AAACCTGAGCGCCTCA'\n",
       "5. 'AAACCTGAGGCATGGT'\n",
       "6. 'AAACCTGCAAGGTTCT'\n",
       "\n",
       "\n"
      ],
      "text/plain": [
       "[1] \"AAACCTGAGAAGGCCT\" \"AAACCTGAGACAGACC\" \"AAACCTGAGATAGTCA\" \"AAACCTGAGCGCCTCA\"\n",
       "[5] \"AAACCTGAGGCATGGT\" \"AAACCTGCAAGGTTCT\""
      ]
     },
     "metadata": {},
     "output_type": "display_data"
    }
   ],
   "source": [
    "head(colData(sce)$Sequence)"
   ]
  },
  {
   "cell_type": "code",
   "execution_count": 8,
   "id": "7251ef93-119f-4120-932e-fbb4ef410ed7",
   "metadata": {
    "vscode": {
     "languageId": "r"
    }
   },
   "outputs": [
    {
     "data": {
      "text/plain": [
       "<6 x 4340> sparse DelayedMatrix object of type \"integer\":\n",
       "                AAACCTGAGAAGGCCT ... TTTGTCATCCCAAGAT\n",
       "ENSG00000243485                0   .                0\n",
       "ENSG00000237613                0   .                0\n",
       "ENSG00000186092                0   .                0\n",
       "ENSG00000238009                0   .                0\n",
       "ENSG00000239945                0   .                0\n",
       "ENSG00000239906                0   .                0"
      ]
     },
     "metadata": {},
     "output_type": "display_data"
    }
   ],
   "source": [
    "head(mat)"
   ]
  },
  {
   "cell_type": "code",
   "execution_count": 9,
   "id": "6c288ac0-0f20-44d2-9cc5-afac3cfa2908",
   "metadata": {
    "vscode": {
     "languageId": "r"
    }
   },
   "outputs": [
    {
     "name": "stderr",
     "output_type": "stream",
     "text": [
      "Loaded glmnet 4.1-8\n",
      "\n"
     ]
    }
   ],
   "source": [
    "source(path_script_funcs) #glmnet and HDF5Array will be loaded \n",
    "setAutoRealizationBackend(\"HDF5Array\") #supportedRealizationBackends(), getRealizationBackend()"
   ]
  },
  {
   "cell_type": "code",
   "execution_count": 10,
   "id": "120c337c-701e-47d9-9e7b-2fda7a0a9e16",
   "metadata": {
    "vscode": {
     "languageId": "r"
    }
   },
   "outputs": [],
   "source": [
    "sce <- DelayedArray(seed = HDF5ArraySeed(filepath = hdf5_count, name = \"count\"))"
   ]
  },
  {
   "cell_type": "code",
   "execution_count": 11,
   "id": "55e5e286-35b8-44d1-b2c9-d217dda19d77",
   "metadata": {
    "scrolled": true,
    "vscode": {
     "languageId": "r"
    }
   },
   "outputs": [],
   "source": [
    "dimnamaes <- readRDS(hdf5_dimnames)\n",
    "rownames(sce) <- dimnamaes$row.names\n",
    "colnames(sce) <- dimnamaes$col.names"
   ]
  },
  {
   "cell_type": "code",
   "execution_count": 12,
   "id": "bd2f0576-9e52-42f8-8e66-438ef1831378",
   "metadata": {
    "vscode": {
     "languageId": "r"
    }
   },
   "outputs": [],
   "source": [
    "sce[is.na(sce)] <- 0\n",
    "data <- sce[which(DelayedMatrixStats::rowSds(sce) >0),]"
   ]
  },
  {
   "cell_type": "code",
   "execution_count": 13,
   "id": "5a5e66fb-4b5d-4c88-9550-159f1bae7502",
   "metadata": {
    "editable": true,
    "slideshow": {
     "slide_type": ""
    },
    "tags": [],
    "vscode": {
     "languageId": "r"
    }
   },
   "outputs": [
    {
     "name": "stderr",
     "output_type": "stream",
     "text": [
      "Selecting common genes: 5485\n",
      "\n",
      "Removing 0 pathways with too few genes\n",
      "\n",
      "Computing SVD\n",
      "\n",
      "Using rsvd\n",
      "\n",
      "Done\n",
      "\n",
      "k is set to 260\n",
      "\n"
     ]
    },
    {
     "name": "stdout",
     "output_type": "stream",
     "text": [
      "[1] 120.8525\n",
      "[1] \"L2 is set to 120.852491861614\"\n",
      "[1] \"L1 is set to 60.426245930807\"\n"
     ]
    },
    {
     "name": "stderr",
     "output_type": "stream",
     "text": [
      "errorY (SVD based:best possible) = 0.8011\n",
      "\n",
      "New L3 is 0.000488095243523415\n",
      "\n",
      "New L3 is 0.000626726698448458\n",
      "\n",
      "New L3 is 0.000626726698448458\n",
      "\n",
      "New L3 is 0.000626726698448458\n",
      "\n",
      "New L3 is 0.000626726698448458\n",
      "\n",
      "New L3 is 0.000626726698448458\n",
      "\n",
      "New L3 is 0.000626726698448458\n",
      "\n",
      "Bdiff is not decreasing\n",
      "\n",
      "Bdiff is not decreasing\n",
      "\n",
      "Bdiff is not decreasing\n",
      "\n",
      "Bdiff is not decreasing\n",
      "\n",
      "Bdiff is not decreasing\n",
      "\n",
      "Bdiff is not decreasing\n",
      "\n",
      "converged at  iteration 151 Bdiff is not decreasing\n",
      "\n",
      "There are 32  LVs with AUC>0.70\n",
      "\n"
     ]
    },
    {
     "name": "stdout",
     "output_type": "stream",
     "text": [
      "     user    system   elapsed \n",
      "15276.188  4761.593  8894.763 \n"
     ]
    }
   ],
   "source": [
    "ptm <- proc.time()\n",
    "output_dplier = file.path(output_nb_path, 'dplier_result')\n",
    "dir.create(output_dplier, showWarnings = FALSE)\n",
    "PLIER.res <- PLIER(data, priorMat, output_path = output_dplier)\n",
    "print(proc.time()-ptm)"
   ]
  },
  {
   "cell_type": "code",
   "execution_count": 14,
   "id": "bb0b74ea-4a59-4746-8a7f-75eadb0935f8",
   "metadata": {
    "scrolled": true,
    "vscode": {
     "languageId": "r"
    }
   },
   "outputs": [
    {
     "data": {
      "text/html": [
       "<table class=\"dataframe\">\n",
       "<caption>A data.frame: 6 × 4340</caption>\n",
       "<thead>\n",
       "\t<tr><th></th><th scope=col>AAACCTGAGAAGGCCT</th><th scope=col>AAACCTGAGACAGACC</th><th scope=col>AAACCTGAGATAGTCA</th><th scope=col>AAACCTGAGCGCCTCA</th><th scope=col>AAACCTGAGGCATGGT</th><th scope=col>AAACCTGCAAGGTTCT</th><th scope=col>AAACCTGCAGGATTGG</th><th scope=col>AAACCTGCAGGCGATA</th><th scope=col>AAACCTGCATCCCATC</th><th scope=col>AAACCTGCATGAAGTA</th><th scope=col>⋯</th><th scope=col>TTTGGTTCACTTAAGC</th><th scope=col>TTTGGTTCAGGACGTA</th><th scope=col>TTTGGTTCATGCCTAA</th><th scope=col>TTTGGTTCATTGGCGC</th><th scope=col>TTTGGTTGTTATCACG</th><th scope=col>TTTGGTTTCGCTAGCG</th><th scope=col>TTTGTCACACTTAACG</th><th scope=col>TTTGTCACAGGTCCAC</th><th scope=col>TTTGTCAGTTAAGACA</th><th scope=col>TTTGTCATCCCAAGAT</th></tr>\n",
       "\t<tr><th></th><th scope=col>&lt;dbl&gt;</th><th scope=col>&lt;dbl&gt;</th><th scope=col>&lt;dbl&gt;</th><th scope=col>&lt;dbl&gt;</th><th scope=col>&lt;dbl&gt;</th><th scope=col>&lt;dbl&gt;</th><th scope=col>&lt;dbl&gt;</th><th scope=col>&lt;dbl&gt;</th><th scope=col>&lt;dbl&gt;</th><th scope=col>&lt;dbl&gt;</th><th scope=col>⋯</th><th scope=col>&lt;dbl&gt;</th><th scope=col>&lt;dbl&gt;</th><th scope=col>&lt;dbl&gt;</th><th scope=col>&lt;dbl&gt;</th><th scope=col>&lt;dbl&gt;</th><th scope=col>&lt;dbl&gt;</th><th scope=col>&lt;dbl&gt;</th><th scope=col>&lt;dbl&gt;</th><th scope=col>&lt;dbl&gt;</th><th scope=col>&lt;dbl&gt;</th></tr>\n",
       "</thead>\n",
       "<tbody>\n",
       "\t<tr><th scope=row>1,REACTOME_RESPIRATORY_ELECTRON_TRANSPORT_ATP_SYNTHESIS_BY_CHEMIOSMOTIC_COUPLING_AND_HEAT_PRODUCTION_BY_UNCOUPLING_PROTEINS_</th><td>-0.06041167</td><td>-0.020060086</td><td>-0.072351252</td><td>-0.12441948</td><td>-0.188746099</td><td>-0.0726506023</td><td>-0.106610116</td><td> 1.07204340</td><td>-0.163930761</td><td> 0.47285977</td><td>⋯</td><td>-0.1047481930</td><td>-0.108844534</td><td>-0.06837793</td><td>-0.037045499</td><td>-0.229603322</td><td> 0.307604908</td><td>-0.04422958</td><td> 0.145899384</td><td>-0.13296022</td><td>-0.01949230</td></tr>\n",
       "\t<tr><th scope=row>2,PID_IL6_7PATHWAY</th><td> 0.07883781</td><td> 0.277803360</td><td> 0.120966270</td><td>-0.10546711</td><td>-0.101628431</td><td>-0.1262258575</td><td>-0.111357255</td><td>-0.13368080</td><td>-0.100612170</td><td> 0.70119925</td><td>⋯</td><td> 0.2378427905</td><td>-0.139088327</td><td>-0.12415270</td><td>-0.123831549</td><td>-0.054084155</td><td> 0.488537192</td><td>-0.06286200</td><td>-0.054330202</td><td>-0.09139508</td><td> 0.21628777</td></tr>\n",
       "\t<tr><th scope=row>3,KEGG_PARKINSONS_DISEASE</th><td>-0.01690189</td><td>-0.009511071</td><td> 0.015007867</td><td> 0.01135159</td><td>-0.004982491</td><td> 0.0115287237</td><td> 0.070999277</td><td>-0.16350499</td><td> 0.006682694</td><td> 0.01977064</td><td>⋯</td><td>-0.0002926929</td><td> 0.114200216</td><td> 0.02120270</td><td>-0.032938852</td><td>-0.021550755</td><td>-0.035838412</td><td> 0.00398529</td><td>-0.056236183</td><td>-0.03048336</td><td>-0.03108530</td></tr>\n",
       "\t<tr><th scope=row>4,KEGG_PATHOGENIC_ESCHERICHIA_COLI_INFECTION</th><td>-0.01210078</td><td>-0.012695337</td><td> 0.006577871</td><td> 0.02612853</td><td> 0.006189635</td><td>-0.0074906108</td><td>-0.039547812</td><td> 0.04782498</td><td>-0.004086115</td><td>-0.01897834</td><td>⋯</td><td>-0.0067904659</td><td>-0.008046914</td><td> 0.05389677</td><td>-0.005811486</td><td> 0.002361694</td><td> 0.022648748</td><td> 0.04184630</td><td>-0.003403966</td><td> 0.02205100</td><td>-0.01408123</td></tr>\n",
       "\t<tr><th scope=row>5,KEGG_NATURAL_KILLER_CELL_MEDIATED_CYTOTOXICITY</th><td>-0.03479394</td><td> 0.006227149</td><td>-0.044132464</td><td>-0.05190526</td><td>-0.035878560</td><td> 0.0009282842</td><td>-0.002472858</td><td>-0.14291873</td><td>-0.044994070</td><td>-0.08778462</td><td>⋯</td><td>-0.0644967296</td><td>-0.020605000</td><td> 0.11562466</td><td> 0.150436850</td><td>-0.026714169</td><td>-0.133844277</td><td> 0.19659264</td><td> 0.378261727</td><td>-0.04123632</td><td>-0.01759173</td></tr>\n",
       "\t<tr><th scope=row>6,KEGG_RIBOSOME</th><td>-0.24766751</td><td>-0.140717597</td><td>-0.284247633</td><td>-0.13855572</td><td>-0.023604823</td><td> 0.0677065392</td><td>-0.302334303</td><td> 0.47275810</td><td>-0.106681150</td><td> 0.08394256</td><td>⋯</td><td>-0.2477016588</td><td> 0.166414938</td><td>-0.04910606</td><td>-0.102250412</td><td>-0.074323910</td><td>-0.001567941</td><td>-0.12168342</td><td> 0.371179489</td><td>-0.07073071</td><td>-0.16114526</td></tr>\n",
       "</tbody>\n",
       "</table>\n"
      ],
      "text/latex": [
       "A data.frame: 6 × 4340\n",
       "\\begin{tabular}{r|lllllllllllllllllllll}\n",
       "  & AAACCTGAGAAGGCCT & AAACCTGAGACAGACC & AAACCTGAGATAGTCA & AAACCTGAGCGCCTCA & AAACCTGAGGCATGGT & AAACCTGCAAGGTTCT & AAACCTGCAGGATTGG & AAACCTGCAGGCGATA & AAACCTGCATCCCATC & AAACCTGCATGAAGTA & ⋯ & TTTGGTTCACTTAAGC & TTTGGTTCAGGACGTA & TTTGGTTCATGCCTAA & TTTGGTTCATTGGCGC & TTTGGTTGTTATCACG & TTTGGTTTCGCTAGCG & TTTGTCACACTTAACG & TTTGTCACAGGTCCAC & TTTGTCAGTTAAGACA & TTTGTCATCCCAAGAT\\\\\n",
       "  & <dbl> & <dbl> & <dbl> & <dbl> & <dbl> & <dbl> & <dbl> & <dbl> & <dbl> & <dbl> & ⋯ & <dbl> & <dbl> & <dbl> & <dbl> & <dbl> & <dbl> & <dbl> & <dbl> & <dbl> & <dbl>\\\\\n",
       "\\hline\n",
       "\t1,REACTOME\\_RESPIRATORY\\_ELECTRON\\_TRANSPORT\\_ATP\\_SYNTHESIS\\_BY\\_CHEMIOSMOTIC\\_COUPLING\\_AND\\_HEAT\\_PRODUCTION\\_BY\\_UNCOUPLING\\_PROTEINS\\_ & -0.06041167 & -0.020060086 & -0.072351252 & -0.12441948 & -0.188746099 & -0.0726506023 & -0.106610116 &  1.07204340 & -0.163930761 &  0.47285977 & ⋯ & -0.1047481930 & -0.108844534 & -0.06837793 & -0.037045499 & -0.229603322 &  0.307604908 & -0.04422958 &  0.145899384 & -0.13296022 & -0.01949230\\\\\n",
       "\t2,PID\\_IL6\\_7PATHWAY &  0.07883781 &  0.277803360 &  0.120966270 & -0.10546711 & -0.101628431 & -0.1262258575 & -0.111357255 & -0.13368080 & -0.100612170 &  0.70119925 & ⋯ &  0.2378427905 & -0.139088327 & -0.12415270 & -0.123831549 & -0.054084155 &  0.488537192 & -0.06286200 & -0.054330202 & -0.09139508 &  0.21628777\\\\\n",
       "\t3,KEGG\\_PARKINSONS\\_DISEASE & -0.01690189 & -0.009511071 &  0.015007867 &  0.01135159 & -0.004982491 &  0.0115287237 &  0.070999277 & -0.16350499 &  0.006682694 &  0.01977064 & ⋯ & -0.0002926929 &  0.114200216 &  0.02120270 & -0.032938852 & -0.021550755 & -0.035838412 &  0.00398529 & -0.056236183 & -0.03048336 & -0.03108530\\\\\n",
       "\t4,KEGG\\_PATHOGENIC\\_ESCHERICHIA\\_COLI\\_INFECTION & -0.01210078 & -0.012695337 &  0.006577871 &  0.02612853 &  0.006189635 & -0.0074906108 & -0.039547812 &  0.04782498 & -0.004086115 & -0.01897834 & ⋯ & -0.0067904659 & -0.008046914 &  0.05389677 & -0.005811486 &  0.002361694 &  0.022648748 &  0.04184630 & -0.003403966 &  0.02205100 & -0.01408123\\\\\n",
       "\t5,KEGG\\_NATURAL\\_KILLER\\_CELL\\_MEDIATED\\_CYTOTOXICITY & -0.03479394 &  0.006227149 & -0.044132464 & -0.05190526 & -0.035878560 &  0.0009282842 & -0.002472858 & -0.14291873 & -0.044994070 & -0.08778462 & ⋯ & -0.0644967296 & -0.020605000 &  0.11562466 &  0.150436850 & -0.026714169 & -0.133844277 &  0.19659264 &  0.378261727 & -0.04123632 & -0.01759173\\\\\n",
       "\t6,KEGG\\_RIBOSOME & -0.24766751 & -0.140717597 & -0.284247633 & -0.13855572 & -0.023604823 &  0.0677065392 & -0.302334303 &  0.47275810 & -0.106681150 &  0.08394256 & ⋯ & -0.2477016588 &  0.166414938 & -0.04910606 & -0.102250412 & -0.074323910 & -0.001567941 & -0.12168342 &  0.371179489 & -0.07073071 & -0.16114526\\\\\n",
       "\\end{tabular}\n"
      ],
      "text/markdown": [
       "\n",
       "A data.frame: 6 × 4340\n",
       "\n",
       "| <!--/--> | AAACCTGAGAAGGCCT &lt;dbl&gt; | AAACCTGAGACAGACC &lt;dbl&gt; | AAACCTGAGATAGTCA &lt;dbl&gt; | AAACCTGAGCGCCTCA &lt;dbl&gt; | AAACCTGAGGCATGGT &lt;dbl&gt; | AAACCTGCAAGGTTCT &lt;dbl&gt; | AAACCTGCAGGATTGG &lt;dbl&gt; | AAACCTGCAGGCGATA &lt;dbl&gt; | AAACCTGCATCCCATC &lt;dbl&gt; | AAACCTGCATGAAGTA &lt;dbl&gt; | ⋯ ⋯ | TTTGGTTCACTTAAGC &lt;dbl&gt; | TTTGGTTCAGGACGTA &lt;dbl&gt; | TTTGGTTCATGCCTAA &lt;dbl&gt; | TTTGGTTCATTGGCGC &lt;dbl&gt; | TTTGGTTGTTATCACG &lt;dbl&gt; | TTTGGTTTCGCTAGCG &lt;dbl&gt; | TTTGTCACACTTAACG &lt;dbl&gt; | TTTGTCACAGGTCCAC &lt;dbl&gt; | TTTGTCAGTTAAGACA &lt;dbl&gt; | TTTGTCATCCCAAGAT &lt;dbl&gt; |\n",
       "|---|---|---|---|---|---|---|---|---|---|---|---|---|---|---|---|---|---|---|---|---|---|\n",
       "| 1,REACTOME_RESPIRATORY_ELECTRON_TRANSPORT_ATP_SYNTHESIS_BY_CHEMIOSMOTIC_COUPLING_AND_HEAT_PRODUCTION_BY_UNCOUPLING_PROTEINS_ | -0.06041167 | -0.020060086 | -0.072351252 | -0.12441948 | -0.188746099 | -0.0726506023 | -0.106610116 |  1.07204340 | -0.163930761 |  0.47285977 | ⋯ | -0.1047481930 | -0.108844534 | -0.06837793 | -0.037045499 | -0.229603322 |  0.307604908 | -0.04422958 |  0.145899384 | -0.13296022 | -0.01949230 |\n",
       "| 2,PID_IL6_7PATHWAY |  0.07883781 |  0.277803360 |  0.120966270 | -0.10546711 | -0.101628431 | -0.1262258575 | -0.111357255 | -0.13368080 | -0.100612170 |  0.70119925 | ⋯ |  0.2378427905 | -0.139088327 | -0.12415270 | -0.123831549 | -0.054084155 |  0.488537192 | -0.06286200 | -0.054330202 | -0.09139508 |  0.21628777 |\n",
       "| 3,KEGG_PARKINSONS_DISEASE | -0.01690189 | -0.009511071 |  0.015007867 |  0.01135159 | -0.004982491 |  0.0115287237 |  0.070999277 | -0.16350499 |  0.006682694 |  0.01977064 | ⋯ | -0.0002926929 |  0.114200216 |  0.02120270 | -0.032938852 | -0.021550755 | -0.035838412 |  0.00398529 | -0.056236183 | -0.03048336 | -0.03108530 |\n",
       "| 4,KEGG_PATHOGENIC_ESCHERICHIA_COLI_INFECTION | -0.01210078 | -0.012695337 |  0.006577871 |  0.02612853 |  0.006189635 | -0.0074906108 | -0.039547812 |  0.04782498 | -0.004086115 | -0.01897834 | ⋯ | -0.0067904659 | -0.008046914 |  0.05389677 | -0.005811486 |  0.002361694 |  0.022648748 |  0.04184630 | -0.003403966 |  0.02205100 | -0.01408123 |\n",
       "| 5,KEGG_NATURAL_KILLER_CELL_MEDIATED_CYTOTOXICITY | -0.03479394 |  0.006227149 | -0.044132464 | -0.05190526 | -0.035878560 |  0.0009282842 | -0.002472858 | -0.14291873 | -0.044994070 | -0.08778462 | ⋯ | -0.0644967296 | -0.020605000 |  0.11562466 |  0.150436850 | -0.026714169 | -0.133844277 |  0.19659264 |  0.378261727 | -0.04123632 | -0.01759173 |\n",
       "| 6,KEGG_RIBOSOME | -0.24766751 | -0.140717597 | -0.284247633 | -0.13855572 | -0.023604823 |  0.0677065392 | -0.302334303 |  0.47275810 | -0.106681150 |  0.08394256 | ⋯ | -0.2477016588 |  0.166414938 | -0.04910606 | -0.102250412 | -0.074323910 | -0.001567941 | -0.12168342 |  0.371179489 | -0.07073071 | -0.16114526 |\n",
       "\n"
      ],
      "text/plain": [
       "                                                                                                                             AAACCTGAGAAGGCCT\n",
       "1,REACTOME_RESPIRATORY_ELECTRON_TRANSPORT_ATP_SYNTHESIS_BY_CHEMIOSMOTIC_COUPLING_AND_HEAT_PRODUCTION_BY_UNCOUPLING_PROTEINS_ -0.06041167     \n",
       "2,PID_IL6_7PATHWAY                                                                                                            0.07883781     \n",
       "3,KEGG_PARKINSONS_DISEASE                                                                                                    -0.01690189     \n",
       "4,KEGG_PATHOGENIC_ESCHERICHIA_COLI_INFECTION                                                                                 -0.01210078     \n",
       "5,KEGG_NATURAL_KILLER_CELL_MEDIATED_CYTOTOXICITY                                                                             -0.03479394     \n",
       "6,KEGG_RIBOSOME                                                                                                              -0.24766751     \n",
       "                                                                                                                             AAACCTGAGACAGACC\n",
       "1,REACTOME_RESPIRATORY_ELECTRON_TRANSPORT_ATP_SYNTHESIS_BY_CHEMIOSMOTIC_COUPLING_AND_HEAT_PRODUCTION_BY_UNCOUPLING_PROTEINS_ -0.020060086    \n",
       "2,PID_IL6_7PATHWAY                                                                                                            0.277803360    \n",
       "3,KEGG_PARKINSONS_DISEASE                                                                                                    -0.009511071    \n",
       "4,KEGG_PATHOGENIC_ESCHERICHIA_COLI_INFECTION                                                                                 -0.012695337    \n",
       "5,KEGG_NATURAL_KILLER_CELL_MEDIATED_CYTOTOXICITY                                                                              0.006227149    \n",
       "6,KEGG_RIBOSOME                                                                                                              -0.140717597    \n",
       "                                                                                                                             AAACCTGAGATAGTCA\n",
       "1,REACTOME_RESPIRATORY_ELECTRON_TRANSPORT_ATP_SYNTHESIS_BY_CHEMIOSMOTIC_COUPLING_AND_HEAT_PRODUCTION_BY_UNCOUPLING_PROTEINS_ -0.072351252    \n",
       "2,PID_IL6_7PATHWAY                                                                                                            0.120966270    \n",
       "3,KEGG_PARKINSONS_DISEASE                                                                                                     0.015007867    \n",
       "4,KEGG_PATHOGENIC_ESCHERICHIA_COLI_INFECTION                                                                                  0.006577871    \n",
       "5,KEGG_NATURAL_KILLER_CELL_MEDIATED_CYTOTOXICITY                                                                             -0.044132464    \n",
       "6,KEGG_RIBOSOME                                                                                                              -0.284247633    \n",
       "                                                                                                                             AAACCTGAGCGCCTCA\n",
       "1,REACTOME_RESPIRATORY_ELECTRON_TRANSPORT_ATP_SYNTHESIS_BY_CHEMIOSMOTIC_COUPLING_AND_HEAT_PRODUCTION_BY_UNCOUPLING_PROTEINS_ -0.12441948     \n",
       "2,PID_IL6_7PATHWAY                                                                                                           -0.10546711     \n",
       "3,KEGG_PARKINSONS_DISEASE                                                                                                     0.01135159     \n",
       "4,KEGG_PATHOGENIC_ESCHERICHIA_COLI_INFECTION                                                                                  0.02612853     \n",
       "5,KEGG_NATURAL_KILLER_CELL_MEDIATED_CYTOTOXICITY                                                                             -0.05190526     \n",
       "6,KEGG_RIBOSOME                                                                                                              -0.13855572     \n",
       "                                                                                                                             AAACCTGAGGCATGGT\n",
       "1,REACTOME_RESPIRATORY_ELECTRON_TRANSPORT_ATP_SYNTHESIS_BY_CHEMIOSMOTIC_COUPLING_AND_HEAT_PRODUCTION_BY_UNCOUPLING_PROTEINS_ -0.188746099    \n",
       "2,PID_IL6_7PATHWAY                                                                                                           -0.101628431    \n",
       "3,KEGG_PARKINSONS_DISEASE                                                                                                    -0.004982491    \n",
       "4,KEGG_PATHOGENIC_ESCHERICHIA_COLI_INFECTION                                                                                  0.006189635    \n",
       "5,KEGG_NATURAL_KILLER_CELL_MEDIATED_CYTOTOXICITY                                                                             -0.035878560    \n",
       "6,KEGG_RIBOSOME                                                                                                              -0.023604823    \n",
       "                                                                                                                             AAACCTGCAAGGTTCT\n",
       "1,REACTOME_RESPIRATORY_ELECTRON_TRANSPORT_ATP_SYNTHESIS_BY_CHEMIOSMOTIC_COUPLING_AND_HEAT_PRODUCTION_BY_UNCOUPLING_PROTEINS_ -0.0726506023   \n",
       "2,PID_IL6_7PATHWAY                                                                                                           -0.1262258575   \n",
       "3,KEGG_PARKINSONS_DISEASE                                                                                                     0.0115287237   \n",
       "4,KEGG_PATHOGENIC_ESCHERICHIA_COLI_INFECTION                                                                                 -0.0074906108   \n",
       "5,KEGG_NATURAL_KILLER_CELL_MEDIATED_CYTOTOXICITY                                                                              0.0009282842   \n",
       "6,KEGG_RIBOSOME                                                                                                               0.0677065392   \n",
       "                                                                                                                             AAACCTGCAGGATTGG\n",
       "1,REACTOME_RESPIRATORY_ELECTRON_TRANSPORT_ATP_SYNTHESIS_BY_CHEMIOSMOTIC_COUPLING_AND_HEAT_PRODUCTION_BY_UNCOUPLING_PROTEINS_ -0.106610116    \n",
       "2,PID_IL6_7PATHWAY                                                                                                           -0.111357255    \n",
       "3,KEGG_PARKINSONS_DISEASE                                                                                                     0.070999277    \n",
       "4,KEGG_PATHOGENIC_ESCHERICHIA_COLI_INFECTION                                                                                 -0.039547812    \n",
       "5,KEGG_NATURAL_KILLER_CELL_MEDIATED_CYTOTOXICITY                                                                             -0.002472858    \n",
       "6,KEGG_RIBOSOME                                                                                                              -0.302334303    \n",
       "                                                                                                                             AAACCTGCAGGCGATA\n",
       "1,REACTOME_RESPIRATORY_ELECTRON_TRANSPORT_ATP_SYNTHESIS_BY_CHEMIOSMOTIC_COUPLING_AND_HEAT_PRODUCTION_BY_UNCOUPLING_PROTEINS_  1.07204340     \n",
       "2,PID_IL6_7PATHWAY                                                                                                           -0.13368080     \n",
       "3,KEGG_PARKINSONS_DISEASE                                                                                                    -0.16350499     \n",
       "4,KEGG_PATHOGENIC_ESCHERICHIA_COLI_INFECTION                                                                                  0.04782498     \n",
       "5,KEGG_NATURAL_KILLER_CELL_MEDIATED_CYTOTOXICITY                                                                             -0.14291873     \n",
       "6,KEGG_RIBOSOME                                                                                                               0.47275810     \n",
       "                                                                                                                             AAACCTGCATCCCATC\n",
       "1,REACTOME_RESPIRATORY_ELECTRON_TRANSPORT_ATP_SYNTHESIS_BY_CHEMIOSMOTIC_COUPLING_AND_HEAT_PRODUCTION_BY_UNCOUPLING_PROTEINS_ -0.163930761    \n",
       "2,PID_IL6_7PATHWAY                                                                                                           -0.100612170    \n",
       "3,KEGG_PARKINSONS_DISEASE                                                                                                     0.006682694    \n",
       "4,KEGG_PATHOGENIC_ESCHERICHIA_COLI_INFECTION                                                                                 -0.004086115    \n",
       "5,KEGG_NATURAL_KILLER_CELL_MEDIATED_CYTOTOXICITY                                                                             -0.044994070    \n",
       "6,KEGG_RIBOSOME                                                                                                              -0.106681150    \n",
       "                                                                                                                             AAACCTGCATGAAGTA\n",
       "1,REACTOME_RESPIRATORY_ELECTRON_TRANSPORT_ATP_SYNTHESIS_BY_CHEMIOSMOTIC_COUPLING_AND_HEAT_PRODUCTION_BY_UNCOUPLING_PROTEINS_  0.47285977     \n",
       "2,PID_IL6_7PATHWAY                                                                                                            0.70119925     \n",
       "3,KEGG_PARKINSONS_DISEASE                                                                                                     0.01977064     \n",
       "4,KEGG_PATHOGENIC_ESCHERICHIA_COLI_INFECTION                                                                                 -0.01897834     \n",
       "5,KEGG_NATURAL_KILLER_CELL_MEDIATED_CYTOTOXICITY                                                                             -0.08778462     \n",
       "6,KEGG_RIBOSOME                                                                                                               0.08394256     \n",
       "                                                                                                                             ⋯\n",
       "1,REACTOME_RESPIRATORY_ELECTRON_TRANSPORT_ATP_SYNTHESIS_BY_CHEMIOSMOTIC_COUPLING_AND_HEAT_PRODUCTION_BY_UNCOUPLING_PROTEINS_ ⋯\n",
       "2,PID_IL6_7PATHWAY                                                                                                           ⋯\n",
       "3,KEGG_PARKINSONS_DISEASE                                                                                                    ⋯\n",
       "4,KEGG_PATHOGENIC_ESCHERICHIA_COLI_INFECTION                                                                                 ⋯\n",
       "5,KEGG_NATURAL_KILLER_CELL_MEDIATED_CYTOTOXICITY                                                                             ⋯\n",
       "6,KEGG_RIBOSOME                                                                                                              ⋯\n",
       "                                                                                                                             TTTGGTTCACTTAAGC\n",
       "1,REACTOME_RESPIRATORY_ELECTRON_TRANSPORT_ATP_SYNTHESIS_BY_CHEMIOSMOTIC_COUPLING_AND_HEAT_PRODUCTION_BY_UNCOUPLING_PROTEINS_ -0.1047481930   \n",
       "2,PID_IL6_7PATHWAY                                                                                                            0.2378427905   \n",
       "3,KEGG_PARKINSONS_DISEASE                                                                                                    -0.0002926929   \n",
       "4,KEGG_PATHOGENIC_ESCHERICHIA_COLI_INFECTION                                                                                 -0.0067904659   \n",
       "5,KEGG_NATURAL_KILLER_CELL_MEDIATED_CYTOTOXICITY                                                                             -0.0644967296   \n",
       "6,KEGG_RIBOSOME                                                                                                              -0.2477016588   \n",
       "                                                                                                                             TTTGGTTCAGGACGTA\n",
       "1,REACTOME_RESPIRATORY_ELECTRON_TRANSPORT_ATP_SYNTHESIS_BY_CHEMIOSMOTIC_COUPLING_AND_HEAT_PRODUCTION_BY_UNCOUPLING_PROTEINS_ -0.108844534    \n",
       "2,PID_IL6_7PATHWAY                                                                                                           -0.139088327    \n",
       "3,KEGG_PARKINSONS_DISEASE                                                                                                     0.114200216    \n",
       "4,KEGG_PATHOGENIC_ESCHERICHIA_COLI_INFECTION                                                                                 -0.008046914    \n",
       "5,KEGG_NATURAL_KILLER_CELL_MEDIATED_CYTOTOXICITY                                                                             -0.020605000    \n",
       "6,KEGG_RIBOSOME                                                                                                               0.166414938    \n",
       "                                                                                                                             TTTGGTTCATGCCTAA\n",
       "1,REACTOME_RESPIRATORY_ELECTRON_TRANSPORT_ATP_SYNTHESIS_BY_CHEMIOSMOTIC_COUPLING_AND_HEAT_PRODUCTION_BY_UNCOUPLING_PROTEINS_ -0.06837793     \n",
       "2,PID_IL6_7PATHWAY                                                                                                           -0.12415270     \n",
       "3,KEGG_PARKINSONS_DISEASE                                                                                                     0.02120270     \n",
       "4,KEGG_PATHOGENIC_ESCHERICHIA_COLI_INFECTION                                                                                  0.05389677     \n",
       "5,KEGG_NATURAL_KILLER_CELL_MEDIATED_CYTOTOXICITY                                                                              0.11562466     \n",
       "6,KEGG_RIBOSOME                                                                                                              -0.04910606     \n",
       "                                                                                                                             TTTGGTTCATTGGCGC\n",
       "1,REACTOME_RESPIRATORY_ELECTRON_TRANSPORT_ATP_SYNTHESIS_BY_CHEMIOSMOTIC_COUPLING_AND_HEAT_PRODUCTION_BY_UNCOUPLING_PROTEINS_ -0.037045499    \n",
       "2,PID_IL6_7PATHWAY                                                                                                           -0.123831549    \n",
       "3,KEGG_PARKINSONS_DISEASE                                                                                                    -0.032938852    \n",
       "4,KEGG_PATHOGENIC_ESCHERICHIA_COLI_INFECTION                                                                                 -0.005811486    \n",
       "5,KEGG_NATURAL_KILLER_CELL_MEDIATED_CYTOTOXICITY                                                                              0.150436850    \n",
       "6,KEGG_RIBOSOME                                                                                                              -0.102250412    \n",
       "                                                                                                                             TTTGGTTGTTATCACG\n",
       "1,REACTOME_RESPIRATORY_ELECTRON_TRANSPORT_ATP_SYNTHESIS_BY_CHEMIOSMOTIC_COUPLING_AND_HEAT_PRODUCTION_BY_UNCOUPLING_PROTEINS_ -0.229603322    \n",
       "2,PID_IL6_7PATHWAY                                                                                                           -0.054084155    \n",
       "3,KEGG_PARKINSONS_DISEASE                                                                                                    -0.021550755    \n",
       "4,KEGG_PATHOGENIC_ESCHERICHIA_COLI_INFECTION                                                                                  0.002361694    \n",
       "5,KEGG_NATURAL_KILLER_CELL_MEDIATED_CYTOTOXICITY                                                                             -0.026714169    \n",
       "6,KEGG_RIBOSOME                                                                                                              -0.074323910    \n",
       "                                                                                                                             TTTGGTTTCGCTAGCG\n",
       "1,REACTOME_RESPIRATORY_ELECTRON_TRANSPORT_ATP_SYNTHESIS_BY_CHEMIOSMOTIC_COUPLING_AND_HEAT_PRODUCTION_BY_UNCOUPLING_PROTEINS_  0.307604908    \n",
       "2,PID_IL6_7PATHWAY                                                                                                            0.488537192    \n",
       "3,KEGG_PARKINSONS_DISEASE                                                                                                    -0.035838412    \n",
       "4,KEGG_PATHOGENIC_ESCHERICHIA_COLI_INFECTION                                                                                  0.022648748    \n",
       "5,KEGG_NATURAL_KILLER_CELL_MEDIATED_CYTOTOXICITY                                                                             -0.133844277    \n",
       "6,KEGG_RIBOSOME                                                                                                              -0.001567941    \n",
       "                                                                                                                             TTTGTCACACTTAACG\n",
       "1,REACTOME_RESPIRATORY_ELECTRON_TRANSPORT_ATP_SYNTHESIS_BY_CHEMIOSMOTIC_COUPLING_AND_HEAT_PRODUCTION_BY_UNCOUPLING_PROTEINS_ -0.04422958     \n",
       "2,PID_IL6_7PATHWAY                                                                                                           -0.06286200     \n",
       "3,KEGG_PARKINSONS_DISEASE                                                                                                     0.00398529     \n",
       "4,KEGG_PATHOGENIC_ESCHERICHIA_COLI_INFECTION                                                                                  0.04184630     \n",
       "5,KEGG_NATURAL_KILLER_CELL_MEDIATED_CYTOTOXICITY                                                                              0.19659264     \n",
       "6,KEGG_RIBOSOME                                                                                                              -0.12168342     \n",
       "                                                                                                                             TTTGTCACAGGTCCAC\n",
       "1,REACTOME_RESPIRATORY_ELECTRON_TRANSPORT_ATP_SYNTHESIS_BY_CHEMIOSMOTIC_COUPLING_AND_HEAT_PRODUCTION_BY_UNCOUPLING_PROTEINS_  0.145899384    \n",
       "2,PID_IL6_7PATHWAY                                                                                                           -0.054330202    \n",
       "3,KEGG_PARKINSONS_DISEASE                                                                                                    -0.056236183    \n",
       "4,KEGG_PATHOGENIC_ESCHERICHIA_COLI_INFECTION                                                                                 -0.003403966    \n",
       "5,KEGG_NATURAL_KILLER_CELL_MEDIATED_CYTOTOXICITY                                                                              0.378261727    \n",
       "6,KEGG_RIBOSOME                                                                                                               0.371179489    \n",
       "                                                                                                                             TTTGTCAGTTAAGACA\n",
       "1,REACTOME_RESPIRATORY_ELECTRON_TRANSPORT_ATP_SYNTHESIS_BY_CHEMIOSMOTIC_COUPLING_AND_HEAT_PRODUCTION_BY_UNCOUPLING_PROTEINS_ -0.13296022     \n",
       "2,PID_IL6_7PATHWAY                                                                                                           -0.09139508     \n",
       "3,KEGG_PARKINSONS_DISEASE                                                                                                    -0.03048336     \n",
       "4,KEGG_PATHOGENIC_ESCHERICHIA_COLI_INFECTION                                                                                  0.02205100     \n",
       "5,KEGG_NATURAL_KILLER_CELL_MEDIATED_CYTOTOXICITY                                                                             -0.04123632     \n",
       "6,KEGG_RIBOSOME                                                                                                              -0.07073071     \n",
       "                                                                                                                             TTTGTCATCCCAAGAT\n",
       "1,REACTOME_RESPIRATORY_ELECTRON_TRANSPORT_ATP_SYNTHESIS_BY_CHEMIOSMOTIC_COUPLING_AND_HEAT_PRODUCTION_BY_UNCOUPLING_PROTEINS_ -0.01949230     \n",
       "2,PID_IL6_7PATHWAY                                                                                                            0.21628777     \n",
       "3,KEGG_PARKINSONS_DISEASE                                                                                                    -0.03108530     \n",
       "4,KEGG_PATHOGENIC_ESCHERICHIA_COLI_INFECTION                                                                                 -0.01408123     \n",
       "5,KEGG_NATURAL_KILLER_CELL_MEDIATED_CYTOTOXICITY                                                                             -0.01759173     \n",
       "6,KEGG_RIBOSOME                                                                                                              -0.16114526     "
      ]
     },
     "metadata": {},
     "output_type": "display_data"
    }
   ],
   "source": [
    "head(data.frame(PLIER.res$B))"
   ]
  },
  {
   "cell_type": "code",
   "execution_count": 15,
   "id": "d4e8846a-318f-4363-9b93-8b6735542ff9",
   "metadata": {
    "vscode": {
     "languageId": "r"
    }
   },
   "outputs": [
    {
     "data": {
      "text/html": [
       "<table class=\"dataframe\">\n",
       "<caption>A data.frame: 6 × 260</caption>\n",
       "<thead>\n",
       "\t<tr><th></th><th scope=col>X1</th><th scope=col>X2</th><th scope=col>X3</th><th scope=col>X4</th><th scope=col>X5</th><th scope=col>X6</th><th scope=col>X7</th><th scope=col>X8</th><th scope=col>X9</th><th scope=col>X10</th><th scope=col>⋯</th><th scope=col>X251</th><th scope=col>X252</th><th scope=col>X253</th><th scope=col>X254</th><th scope=col>X255</th><th scope=col>X256</th><th scope=col>X257</th><th scope=col>X258</th><th scope=col>X259</th><th scope=col>X260</th></tr>\n",
       "\t<tr><th></th><th scope=col>&lt;dbl&gt;</th><th scope=col>&lt;dbl&gt;</th><th scope=col>&lt;dbl&gt;</th><th scope=col>&lt;dbl&gt;</th><th scope=col>&lt;dbl&gt;</th><th scope=col>&lt;dbl&gt;</th><th scope=col>&lt;dbl&gt;</th><th scope=col>&lt;dbl&gt;</th><th scope=col>&lt;dbl&gt;</th><th scope=col>&lt;dbl&gt;</th><th scope=col>⋯</th><th scope=col>&lt;dbl&gt;</th><th scope=col>&lt;dbl&gt;</th><th scope=col>&lt;dbl&gt;</th><th scope=col>&lt;dbl&gt;</th><th scope=col>&lt;dbl&gt;</th><th scope=col>&lt;dbl&gt;</th><th scope=col>&lt;dbl&gt;</th><th scope=col>&lt;dbl&gt;</th><th scope=col>&lt;dbl&gt;</th><th scope=col>&lt;dbl&gt;</th></tr>\n",
       "</thead>\n",
       "<tbody>\n",
       "\t<tr><th scope=row>ENSG00000188976</th><td>0.4401267</td><td>0.00000000</td><td>0.38593902</td><td>0</td><td>0.22428107</td><td>0.3899243</td><td>0.1131225</td><td>0.032544420</td><td>0.008252552</td><td>0.09688409</td><td>⋯</td><td>0.000000000</td><td>0.00000000</td><td>0.0000000</td><td>0.13343190</td><td>0.167646177</td><td>0.000000000</td><td>0.12013283</td><td>0.00000000</td><td>0.2219445</td><td>0.0000000</td></tr>\n",
       "\t<tr><th scope=row>ENSG00000187608</th><td>0.7695049</td><td>0.08066534</td><td>0.00000000</td><td>0</td><td>0.00000000</td><td>0.1364358</td><td>0.1733883</td><td>0.000000000</td><td>0.293900173</td><td>0.00000000</td><td>⋯</td><td>0.000000000</td><td>0.00000000</td><td>0.0000000</td><td>0.00000000</td><td>0.008520085</td><td>0.064317960</td><td>0.04820271</td><td>0.00000000</td><td>0.0000000</td><td>0.1316259</td></tr>\n",
       "\t<tr><th scope=row>ENSG00000188157</th><td>0.0000000</td><td>0.00000000</td><td>0.01860792</td><td>0</td><td>0.01598517</td><td>0.0306839</td><td>0.3066066</td><td>0.000000000</td><td>0.026154962</td><td>0.00000000</td><td>⋯</td><td>0.008960603</td><td>0.02151207</td><td>0.0000000</td><td>0.00000000</td><td>0.000000000</td><td>0.000000000</td><td>0.00000000</td><td>0.05981510</td><td>0.0000000</td><td>0.0000000</td></tr>\n",
       "\t<tr><th scope=row>ENSG00000186891</th><td>0.2234135</td><td>0.00000000</td><td>0.00000000</td><td>0</td><td>0.55222808</td><td>0.1307112</td><td>0.0000000</td><td>0.000000000</td><td>0.000000000</td><td>0.00000000</td><td>⋯</td><td>0.000000000</td><td>0.00000000</td><td>0.1546808</td><td>0.01556843</td><td>0.065389959</td><td>0.000000000</td><td>0.04151722</td><td>0.00000000</td><td>0.0000000</td><td>0.0000000</td></tr>\n",
       "\t<tr><th scope=row>ENSG00000186827</th><td>0.1873396</td><td>0.00000000</td><td>0.00000000</td><td>0</td><td>0.02200332</td><td>0.2230046</td><td>0.0000000</td><td>0.009007762</td><td>0.000000000</td><td>0.00000000</td><td>⋯</td><td>0.066299523</td><td>0.00000000</td><td>0.0000000</td><td>0.00000000</td><td>0.000000000</td><td>0.000000000</td><td>0.00000000</td><td>0.25957265</td><td>0.0000000</td><td>0.0000000</td></tr>\n",
       "\t<tr><th scope=row>ENSG00000176022</th><td>0.1864918</td><td>0.00000000</td><td>0.00000000</td><td>0</td><td>0.00000000</td><td>0.3681502</td><td>0.0000000</td><td>0.044742929</td><td>0.000000000</td><td>0.00000000</td><td>⋯</td><td>0.000000000</td><td>0.00000000</td><td>0.0000000</td><td>0.00000000</td><td>0.000000000</td><td>0.009643393</td><td>0.28613783</td><td>0.04905919</td><td>0.0000000</td><td>0.0000000</td></tr>\n",
       "</tbody>\n",
       "</table>\n"
      ],
      "text/latex": [
       "A data.frame: 6 × 260\n",
       "\\begin{tabular}{r|lllllllllllllllllllll}\n",
       "  & X1 & X2 & X3 & X4 & X5 & X6 & X7 & X8 & X9 & X10 & ⋯ & X251 & X252 & X253 & X254 & X255 & X256 & X257 & X258 & X259 & X260\\\\\n",
       "  & <dbl> & <dbl> & <dbl> & <dbl> & <dbl> & <dbl> & <dbl> & <dbl> & <dbl> & <dbl> & ⋯ & <dbl> & <dbl> & <dbl> & <dbl> & <dbl> & <dbl> & <dbl> & <dbl> & <dbl> & <dbl>\\\\\n",
       "\\hline\n",
       "\tENSG00000188976 & 0.4401267 & 0.00000000 & 0.38593902 & 0 & 0.22428107 & 0.3899243 & 0.1131225 & 0.032544420 & 0.008252552 & 0.09688409 & ⋯ & 0.000000000 & 0.00000000 & 0.0000000 & 0.13343190 & 0.167646177 & 0.000000000 & 0.12013283 & 0.00000000 & 0.2219445 & 0.0000000\\\\\n",
       "\tENSG00000187608 & 0.7695049 & 0.08066534 & 0.00000000 & 0 & 0.00000000 & 0.1364358 & 0.1733883 & 0.000000000 & 0.293900173 & 0.00000000 & ⋯ & 0.000000000 & 0.00000000 & 0.0000000 & 0.00000000 & 0.008520085 & 0.064317960 & 0.04820271 & 0.00000000 & 0.0000000 & 0.1316259\\\\\n",
       "\tENSG00000188157 & 0.0000000 & 0.00000000 & 0.01860792 & 0 & 0.01598517 & 0.0306839 & 0.3066066 & 0.000000000 & 0.026154962 & 0.00000000 & ⋯ & 0.008960603 & 0.02151207 & 0.0000000 & 0.00000000 & 0.000000000 & 0.000000000 & 0.00000000 & 0.05981510 & 0.0000000 & 0.0000000\\\\\n",
       "\tENSG00000186891 & 0.2234135 & 0.00000000 & 0.00000000 & 0 & 0.55222808 & 0.1307112 & 0.0000000 & 0.000000000 & 0.000000000 & 0.00000000 & ⋯ & 0.000000000 & 0.00000000 & 0.1546808 & 0.01556843 & 0.065389959 & 0.000000000 & 0.04151722 & 0.00000000 & 0.0000000 & 0.0000000\\\\\n",
       "\tENSG00000186827 & 0.1873396 & 0.00000000 & 0.00000000 & 0 & 0.02200332 & 0.2230046 & 0.0000000 & 0.009007762 & 0.000000000 & 0.00000000 & ⋯ & 0.066299523 & 0.00000000 & 0.0000000 & 0.00000000 & 0.000000000 & 0.000000000 & 0.00000000 & 0.25957265 & 0.0000000 & 0.0000000\\\\\n",
       "\tENSG00000176022 & 0.1864918 & 0.00000000 & 0.00000000 & 0 & 0.00000000 & 0.3681502 & 0.0000000 & 0.044742929 & 0.000000000 & 0.00000000 & ⋯ & 0.000000000 & 0.00000000 & 0.0000000 & 0.00000000 & 0.000000000 & 0.009643393 & 0.28613783 & 0.04905919 & 0.0000000 & 0.0000000\\\\\n",
       "\\end{tabular}\n"
      ],
      "text/markdown": [
       "\n",
       "A data.frame: 6 × 260\n",
       "\n",
       "| <!--/--> | X1 &lt;dbl&gt; | X2 &lt;dbl&gt; | X3 &lt;dbl&gt; | X4 &lt;dbl&gt; | X5 &lt;dbl&gt; | X6 &lt;dbl&gt; | X7 &lt;dbl&gt; | X8 &lt;dbl&gt; | X9 &lt;dbl&gt; | X10 &lt;dbl&gt; | ⋯ ⋯ | X251 &lt;dbl&gt; | X252 &lt;dbl&gt; | X253 &lt;dbl&gt; | X254 &lt;dbl&gt; | X255 &lt;dbl&gt; | X256 &lt;dbl&gt; | X257 &lt;dbl&gt; | X258 &lt;dbl&gt; | X259 &lt;dbl&gt; | X260 &lt;dbl&gt; |\n",
       "|---|---|---|---|---|---|---|---|---|---|---|---|---|---|---|---|---|---|---|---|---|---|\n",
       "| ENSG00000188976 | 0.4401267 | 0.00000000 | 0.38593902 | 0 | 0.22428107 | 0.3899243 | 0.1131225 | 0.032544420 | 0.008252552 | 0.09688409 | ⋯ | 0.000000000 | 0.00000000 | 0.0000000 | 0.13343190 | 0.167646177 | 0.000000000 | 0.12013283 | 0.00000000 | 0.2219445 | 0.0000000 |\n",
       "| ENSG00000187608 | 0.7695049 | 0.08066534 | 0.00000000 | 0 | 0.00000000 | 0.1364358 | 0.1733883 | 0.000000000 | 0.293900173 | 0.00000000 | ⋯ | 0.000000000 | 0.00000000 | 0.0000000 | 0.00000000 | 0.008520085 | 0.064317960 | 0.04820271 | 0.00000000 | 0.0000000 | 0.1316259 |\n",
       "| ENSG00000188157 | 0.0000000 | 0.00000000 | 0.01860792 | 0 | 0.01598517 | 0.0306839 | 0.3066066 | 0.000000000 | 0.026154962 | 0.00000000 | ⋯ | 0.008960603 | 0.02151207 | 0.0000000 | 0.00000000 | 0.000000000 | 0.000000000 | 0.00000000 | 0.05981510 | 0.0000000 | 0.0000000 |\n",
       "| ENSG00000186891 | 0.2234135 | 0.00000000 | 0.00000000 | 0 | 0.55222808 | 0.1307112 | 0.0000000 | 0.000000000 | 0.000000000 | 0.00000000 | ⋯ | 0.000000000 | 0.00000000 | 0.1546808 | 0.01556843 | 0.065389959 | 0.000000000 | 0.04151722 | 0.00000000 | 0.0000000 | 0.0000000 |\n",
       "| ENSG00000186827 | 0.1873396 | 0.00000000 | 0.00000000 | 0 | 0.02200332 | 0.2230046 | 0.0000000 | 0.009007762 | 0.000000000 | 0.00000000 | ⋯ | 0.066299523 | 0.00000000 | 0.0000000 | 0.00000000 | 0.000000000 | 0.000000000 | 0.00000000 | 0.25957265 | 0.0000000 | 0.0000000 |\n",
       "| ENSG00000176022 | 0.1864918 | 0.00000000 | 0.00000000 | 0 | 0.00000000 | 0.3681502 | 0.0000000 | 0.044742929 | 0.000000000 | 0.00000000 | ⋯ | 0.000000000 | 0.00000000 | 0.0000000 | 0.00000000 | 0.000000000 | 0.009643393 | 0.28613783 | 0.04905919 | 0.0000000 | 0.0000000 |\n",
       "\n"
      ],
      "text/plain": [
       "                X1        X2         X3         X4 X5         X6       \n",
       "ENSG00000188976 0.4401267 0.00000000 0.38593902 0  0.22428107 0.3899243\n",
       "ENSG00000187608 0.7695049 0.08066534 0.00000000 0  0.00000000 0.1364358\n",
       "ENSG00000188157 0.0000000 0.00000000 0.01860792 0  0.01598517 0.0306839\n",
       "ENSG00000186891 0.2234135 0.00000000 0.00000000 0  0.55222808 0.1307112\n",
       "ENSG00000186827 0.1873396 0.00000000 0.00000000 0  0.02200332 0.2230046\n",
       "ENSG00000176022 0.1864918 0.00000000 0.00000000 0  0.00000000 0.3681502\n",
       "                X7        X8          X9          X10        ⋯ X251       \n",
       "ENSG00000188976 0.1131225 0.032544420 0.008252552 0.09688409 ⋯ 0.000000000\n",
       "ENSG00000187608 0.1733883 0.000000000 0.293900173 0.00000000 ⋯ 0.000000000\n",
       "ENSG00000188157 0.3066066 0.000000000 0.026154962 0.00000000 ⋯ 0.008960603\n",
       "ENSG00000186891 0.0000000 0.000000000 0.000000000 0.00000000 ⋯ 0.000000000\n",
       "ENSG00000186827 0.0000000 0.009007762 0.000000000 0.00000000 ⋯ 0.066299523\n",
       "ENSG00000176022 0.0000000 0.044742929 0.000000000 0.00000000 ⋯ 0.000000000\n",
       "                X252       X253      X254       X255        X256       \n",
       "ENSG00000188976 0.00000000 0.0000000 0.13343190 0.167646177 0.000000000\n",
       "ENSG00000187608 0.00000000 0.0000000 0.00000000 0.008520085 0.064317960\n",
       "ENSG00000188157 0.02151207 0.0000000 0.00000000 0.000000000 0.000000000\n",
       "ENSG00000186891 0.00000000 0.1546808 0.01556843 0.065389959 0.000000000\n",
       "ENSG00000186827 0.00000000 0.0000000 0.00000000 0.000000000 0.000000000\n",
       "ENSG00000176022 0.00000000 0.0000000 0.00000000 0.000000000 0.009643393\n",
       "                X257       X258       X259      X260     \n",
       "ENSG00000188976 0.12013283 0.00000000 0.2219445 0.0000000\n",
       "ENSG00000187608 0.04820271 0.00000000 0.0000000 0.1316259\n",
       "ENSG00000188157 0.00000000 0.05981510 0.0000000 0.0000000\n",
       "ENSG00000186891 0.04151722 0.00000000 0.0000000 0.0000000\n",
       "ENSG00000186827 0.00000000 0.25957265 0.0000000 0.0000000\n",
       "ENSG00000176022 0.28613783 0.04905919 0.0000000 0.0000000"
      ]
     },
     "metadata": {},
     "output_type": "display_data"
    }
   ],
   "source": [
    "head(data.frame(PLIER.res$Z))"
   ]
  },
  {
   "cell_type": "code",
   "execution_count": 16,
   "id": "5c9fc449-6ca8-492f-8951-615ee0414d22",
   "metadata": {
    "vscode": {
     "languageId": "r"
    }
   },
   "outputs": [
    {
     "data": {
      "text/html": [
       "<table class=\"dataframe\">\n",
       "<caption>A data.frame: 6 × 260</caption>\n",
       "<thead>\n",
       "\t<tr><th></th><th scope=col>LV1</th><th scope=col>LV2</th><th scope=col>LV3</th><th scope=col>LV4</th><th scope=col>LV5</th><th scope=col>LV6</th><th scope=col>LV7</th><th scope=col>LV8</th><th scope=col>LV9</th><th scope=col>LV10</th><th scope=col>⋯</th><th scope=col>LV251</th><th scope=col>LV252</th><th scope=col>LV253</th><th scope=col>LV254</th><th scope=col>LV255</th><th scope=col>LV256</th><th scope=col>LV257</th><th scope=col>LV258</th><th scope=col>LV259</th><th scope=col>LV260</th></tr>\n",
       "\t<tr><th></th><th scope=col>&lt;dbl&gt;</th><th scope=col>&lt;dbl&gt;</th><th scope=col>&lt;dbl&gt;</th><th scope=col>&lt;dbl&gt;</th><th scope=col>&lt;dbl&gt;</th><th scope=col>&lt;dbl&gt;</th><th scope=col>&lt;dbl&gt;</th><th scope=col>&lt;dbl&gt;</th><th scope=col>&lt;dbl&gt;</th><th scope=col>&lt;dbl&gt;</th><th scope=col>⋯</th><th scope=col>&lt;dbl&gt;</th><th scope=col>&lt;dbl&gt;</th><th scope=col>&lt;dbl&gt;</th><th scope=col>&lt;dbl&gt;</th><th scope=col>&lt;dbl&gt;</th><th scope=col>&lt;dbl&gt;</th><th scope=col>&lt;dbl&gt;</th><th scope=col>&lt;dbl&gt;</th><th scope=col>&lt;dbl&gt;</th><th scope=col>&lt;dbl&gt;</th></tr>\n",
       "</thead>\n",
       "<tbody>\n",
       "\t<tr><th scope=row>PID_CASPASE_PATHWAY</th><td>0.08987428</td><td>0.0000000</td><td>0.000000000</td><td>0</td><td>0</td><td>0.00000000</td><td>0.0000000</td><td>0</td><td>0</td><td>0</td><td>⋯</td><td>0</td><td>0</td><td>0</td><td>0</td><td>0</td><td>0</td><td>0</td><td>0</td><td>0</td><td>0</td></tr>\n",
       "\t<tr><th scope=row>PID_P38ALPHABETADOWNSTREAMPATHWAY</th><td>0.00000000</td><td>0.0000000</td><td>0.000000000</td><td>0</td><td>0</td><td>0.00000000</td><td>0.0000000</td><td>0</td><td>0</td><td>0</td><td>⋯</td><td>0</td><td>0</td><td>0</td><td>0</td><td>0</td><td>0</td><td>0</td><td>0</td><td>0</td><td>0</td></tr>\n",
       "\t<tr><th scope=row>REACTOME_APC_C_CDC20_MEDIATED_DEGRADATION_OF_MITOTIC_PROTEINS</th><td>0.00000000</td><td>0.0000000</td><td>0.000000000</td><td>0</td><td>0</td><td>0.00000000</td><td>0.0000000</td><td>0</td><td>0</td><td>0</td><td>⋯</td><td>0</td><td>0</td><td>0</td><td>0</td><td>0</td><td>0</td><td>0</td><td>0</td><td>0</td><td>0</td></tr>\n",
       "\t<tr><th scope=row>REACTOME_REGULATION_OF_APOPTOSIS</th><td>0.00000000</td><td>0.0000000</td><td>0.000000000</td><td>0</td><td>0</td><td>0.00000000</td><td>0.0000000</td><td>0</td><td>0</td><td>0</td><td>⋯</td><td>0</td><td>0</td><td>0</td><td>0</td><td>0</td><td>0</td><td>0</td><td>0</td><td>0</td><td>0</td></tr>\n",
       "\t<tr><th scope=row>REACTOME_IRON_UPTAKE_AND_TRANSPORT</th><td>0.14376437</td><td>0.0734511</td><td>0.000000000</td><td>0</td><td>0</td><td>0.00000000</td><td>0.1246435</td><td>0</td><td>0</td><td>0</td><td>⋯</td><td>0</td><td>0</td><td>0</td><td>0</td><td>0</td><td>0</td><td>0</td><td>0</td><td>0</td><td>0</td></tr>\n",
       "\t<tr><th scope=row>PID_ERBB1_DOWNSTREAM_PATHWAY</th><td>0.01499952</td><td>0.0000000</td><td>0.002337958</td><td>0</td><td>0</td><td>0.02216941</td><td>0.0000000</td><td>0</td><td>0</td><td>0</td><td>⋯</td><td>0</td><td>0</td><td>0</td><td>0</td><td>0</td><td>0</td><td>0</td><td>0</td><td>0</td><td>0</td></tr>\n",
       "</tbody>\n",
       "</table>\n"
      ],
      "text/latex": [
       "A data.frame: 6 × 260\n",
       "\\begin{tabular}{r|lllllllllllllllllllll}\n",
       "  & LV1 & LV2 & LV3 & LV4 & LV5 & LV6 & LV7 & LV8 & LV9 & LV10 & ⋯ & LV251 & LV252 & LV253 & LV254 & LV255 & LV256 & LV257 & LV258 & LV259 & LV260\\\\\n",
       "  & <dbl> & <dbl> & <dbl> & <dbl> & <dbl> & <dbl> & <dbl> & <dbl> & <dbl> & <dbl> & ⋯ & <dbl> & <dbl> & <dbl> & <dbl> & <dbl> & <dbl> & <dbl> & <dbl> & <dbl> & <dbl>\\\\\n",
       "\\hline\n",
       "\tPID\\_CASPASE\\_PATHWAY & 0.08987428 & 0.0000000 & 0.000000000 & 0 & 0 & 0.00000000 & 0.0000000 & 0 & 0 & 0 & ⋯ & 0 & 0 & 0 & 0 & 0 & 0 & 0 & 0 & 0 & 0\\\\\n",
       "\tPID\\_P38ALPHABETADOWNSTREAMPATHWAY & 0.00000000 & 0.0000000 & 0.000000000 & 0 & 0 & 0.00000000 & 0.0000000 & 0 & 0 & 0 & ⋯ & 0 & 0 & 0 & 0 & 0 & 0 & 0 & 0 & 0 & 0\\\\\n",
       "\tREACTOME\\_APC\\_C\\_CDC20\\_MEDIATED\\_DEGRADATION\\_OF\\_MITOTIC\\_PROTEINS & 0.00000000 & 0.0000000 & 0.000000000 & 0 & 0 & 0.00000000 & 0.0000000 & 0 & 0 & 0 & ⋯ & 0 & 0 & 0 & 0 & 0 & 0 & 0 & 0 & 0 & 0\\\\\n",
       "\tREACTOME\\_REGULATION\\_OF\\_APOPTOSIS & 0.00000000 & 0.0000000 & 0.000000000 & 0 & 0 & 0.00000000 & 0.0000000 & 0 & 0 & 0 & ⋯ & 0 & 0 & 0 & 0 & 0 & 0 & 0 & 0 & 0 & 0\\\\\n",
       "\tREACTOME\\_IRON\\_UPTAKE\\_AND\\_TRANSPORT & 0.14376437 & 0.0734511 & 0.000000000 & 0 & 0 & 0.00000000 & 0.1246435 & 0 & 0 & 0 & ⋯ & 0 & 0 & 0 & 0 & 0 & 0 & 0 & 0 & 0 & 0\\\\\n",
       "\tPID\\_ERBB1\\_DOWNSTREAM\\_PATHWAY & 0.01499952 & 0.0000000 & 0.002337958 & 0 & 0 & 0.02216941 & 0.0000000 & 0 & 0 & 0 & ⋯ & 0 & 0 & 0 & 0 & 0 & 0 & 0 & 0 & 0 & 0\\\\\n",
       "\\end{tabular}\n"
      ],
      "text/markdown": [
       "\n",
       "A data.frame: 6 × 260\n",
       "\n",
       "| <!--/--> | LV1 &lt;dbl&gt; | LV2 &lt;dbl&gt; | LV3 &lt;dbl&gt; | LV4 &lt;dbl&gt; | LV5 &lt;dbl&gt; | LV6 &lt;dbl&gt; | LV7 &lt;dbl&gt; | LV8 &lt;dbl&gt; | LV9 &lt;dbl&gt; | LV10 &lt;dbl&gt; | ⋯ ⋯ | LV251 &lt;dbl&gt; | LV252 &lt;dbl&gt; | LV253 &lt;dbl&gt; | LV254 &lt;dbl&gt; | LV255 &lt;dbl&gt; | LV256 &lt;dbl&gt; | LV257 &lt;dbl&gt; | LV258 &lt;dbl&gt; | LV259 &lt;dbl&gt; | LV260 &lt;dbl&gt; |\n",
       "|---|---|---|---|---|---|---|---|---|---|---|---|---|---|---|---|---|---|---|---|---|---|\n",
       "| PID_CASPASE_PATHWAY | 0.08987428 | 0.0000000 | 0.000000000 | 0 | 0 | 0.00000000 | 0.0000000 | 0 | 0 | 0 | ⋯ | 0 | 0 | 0 | 0 | 0 | 0 | 0 | 0 | 0 | 0 |\n",
       "| PID_P38ALPHABETADOWNSTREAMPATHWAY | 0.00000000 | 0.0000000 | 0.000000000 | 0 | 0 | 0.00000000 | 0.0000000 | 0 | 0 | 0 | ⋯ | 0 | 0 | 0 | 0 | 0 | 0 | 0 | 0 | 0 | 0 |\n",
       "| REACTOME_APC_C_CDC20_MEDIATED_DEGRADATION_OF_MITOTIC_PROTEINS | 0.00000000 | 0.0000000 | 0.000000000 | 0 | 0 | 0.00000000 | 0.0000000 | 0 | 0 | 0 | ⋯ | 0 | 0 | 0 | 0 | 0 | 0 | 0 | 0 | 0 | 0 |\n",
       "| REACTOME_REGULATION_OF_APOPTOSIS | 0.00000000 | 0.0000000 | 0.000000000 | 0 | 0 | 0.00000000 | 0.0000000 | 0 | 0 | 0 | ⋯ | 0 | 0 | 0 | 0 | 0 | 0 | 0 | 0 | 0 | 0 |\n",
       "| REACTOME_IRON_UPTAKE_AND_TRANSPORT | 0.14376437 | 0.0734511 | 0.000000000 | 0 | 0 | 0.00000000 | 0.1246435 | 0 | 0 | 0 | ⋯ | 0 | 0 | 0 | 0 | 0 | 0 | 0 | 0 | 0 | 0 |\n",
       "| PID_ERBB1_DOWNSTREAM_PATHWAY | 0.01499952 | 0.0000000 | 0.002337958 | 0 | 0 | 0.02216941 | 0.0000000 | 0 | 0 | 0 | ⋯ | 0 | 0 | 0 | 0 | 0 | 0 | 0 | 0 | 0 | 0 |\n",
       "\n"
      ],
      "text/plain": [
       "                                                              LV1       \n",
       "PID_CASPASE_PATHWAY                                           0.08987428\n",
       "PID_P38ALPHABETADOWNSTREAMPATHWAY                             0.00000000\n",
       "REACTOME_APC_C_CDC20_MEDIATED_DEGRADATION_OF_MITOTIC_PROTEINS 0.00000000\n",
       "REACTOME_REGULATION_OF_APOPTOSIS                              0.00000000\n",
       "REACTOME_IRON_UPTAKE_AND_TRANSPORT                            0.14376437\n",
       "PID_ERBB1_DOWNSTREAM_PATHWAY                                  0.01499952\n",
       "                                                              LV2      \n",
       "PID_CASPASE_PATHWAY                                           0.0000000\n",
       "PID_P38ALPHABETADOWNSTREAMPATHWAY                             0.0000000\n",
       "REACTOME_APC_C_CDC20_MEDIATED_DEGRADATION_OF_MITOTIC_PROTEINS 0.0000000\n",
       "REACTOME_REGULATION_OF_APOPTOSIS                              0.0000000\n",
       "REACTOME_IRON_UPTAKE_AND_TRANSPORT                            0.0734511\n",
       "PID_ERBB1_DOWNSTREAM_PATHWAY                                  0.0000000\n",
       "                                                              LV3         LV4\n",
       "PID_CASPASE_PATHWAY                                           0.000000000 0  \n",
       "PID_P38ALPHABETADOWNSTREAMPATHWAY                             0.000000000 0  \n",
       "REACTOME_APC_C_CDC20_MEDIATED_DEGRADATION_OF_MITOTIC_PROTEINS 0.000000000 0  \n",
       "REACTOME_REGULATION_OF_APOPTOSIS                              0.000000000 0  \n",
       "REACTOME_IRON_UPTAKE_AND_TRANSPORT                            0.000000000 0  \n",
       "PID_ERBB1_DOWNSTREAM_PATHWAY                                  0.002337958 0  \n",
       "                                                              LV5 LV6       \n",
       "PID_CASPASE_PATHWAY                                           0   0.00000000\n",
       "PID_P38ALPHABETADOWNSTREAMPATHWAY                             0   0.00000000\n",
       "REACTOME_APC_C_CDC20_MEDIATED_DEGRADATION_OF_MITOTIC_PROTEINS 0   0.00000000\n",
       "REACTOME_REGULATION_OF_APOPTOSIS                              0   0.00000000\n",
       "REACTOME_IRON_UPTAKE_AND_TRANSPORT                            0   0.00000000\n",
       "PID_ERBB1_DOWNSTREAM_PATHWAY                                  0   0.02216941\n",
       "                                                              LV7       LV8 LV9\n",
       "PID_CASPASE_PATHWAY                                           0.0000000 0   0  \n",
       "PID_P38ALPHABETADOWNSTREAMPATHWAY                             0.0000000 0   0  \n",
       "REACTOME_APC_C_CDC20_MEDIATED_DEGRADATION_OF_MITOTIC_PROTEINS 0.0000000 0   0  \n",
       "REACTOME_REGULATION_OF_APOPTOSIS                              0.0000000 0   0  \n",
       "REACTOME_IRON_UPTAKE_AND_TRANSPORT                            0.1246435 0   0  \n",
       "PID_ERBB1_DOWNSTREAM_PATHWAY                                  0.0000000 0   0  \n",
       "                                                              LV10 ⋯ LV251\n",
       "PID_CASPASE_PATHWAY                                           0    ⋯ 0    \n",
       "PID_P38ALPHABETADOWNSTREAMPATHWAY                             0    ⋯ 0    \n",
       "REACTOME_APC_C_CDC20_MEDIATED_DEGRADATION_OF_MITOTIC_PROTEINS 0    ⋯ 0    \n",
       "REACTOME_REGULATION_OF_APOPTOSIS                              0    ⋯ 0    \n",
       "REACTOME_IRON_UPTAKE_AND_TRANSPORT                            0    ⋯ 0    \n",
       "PID_ERBB1_DOWNSTREAM_PATHWAY                                  0    ⋯ 0    \n",
       "                                                              LV252 LV253 LV254\n",
       "PID_CASPASE_PATHWAY                                           0     0     0    \n",
       "PID_P38ALPHABETADOWNSTREAMPATHWAY                             0     0     0    \n",
       "REACTOME_APC_C_CDC20_MEDIATED_DEGRADATION_OF_MITOTIC_PROTEINS 0     0     0    \n",
       "REACTOME_REGULATION_OF_APOPTOSIS                              0     0     0    \n",
       "REACTOME_IRON_UPTAKE_AND_TRANSPORT                            0     0     0    \n",
       "PID_ERBB1_DOWNSTREAM_PATHWAY                                  0     0     0    \n",
       "                                                              LV255 LV256 LV257\n",
       "PID_CASPASE_PATHWAY                                           0     0     0    \n",
       "PID_P38ALPHABETADOWNSTREAMPATHWAY                             0     0     0    \n",
       "REACTOME_APC_C_CDC20_MEDIATED_DEGRADATION_OF_MITOTIC_PROTEINS 0     0     0    \n",
       "REACTOME_REGULATION_OF_APOPTOSIS                              0     0     0    \n",
       "REACTOME_IRON_UPTAKE_AND_TRANSPORT                            0     0     0    \n",
       "PID_ERBB1_DOWNSTREAM_PATHWAY                                  0     0     0    \n",
       "                                                              LV258 LV259 LV260\n",
       "PID_CASPASE_PATHWAY                                           0     0     0    \n",
       "PID_P38ALPHABETADOWNSTREAMPATHWAY                             0     0     0    \n",
       "REACTOME_APC_C_CDC20_MEDIATED_DEGRADATION_OF_MITOTIC_PROTEINS 0     0     0    \n",
       "REACTOME_REGULATION_OF_APOPTOSIS                              0     0     0    \n",
       "REACTOME_IRON_UPTAKE_AND_TRANSPORT                            0     0     0    \n",
       "PID_ERBB1_DOWNSTREAM_PATHWAY                                  0     0     0    "
      ]
     },
     "metadata": {},
     "output_type": "display_data"
    }
   ],
   "source": [
    "head(data.frame(PLIER.res$U))"
   ]
  }
 ],
 "metadata": {
  "kernelspec": {
   "display_name": "R",
   "language": "R",
   "name": "ir"
  },
  "language_info": {
   "codemirror_mode": "r",
   "file_extension": ".r",
   "mimetype": "text/x-r-source",
   "name": "R",
   "pygments_lexer": "r",
   "version": "4.3.3"
  }
 },
 "nbformat": 4,
 "nbformat_minor": 5
}
