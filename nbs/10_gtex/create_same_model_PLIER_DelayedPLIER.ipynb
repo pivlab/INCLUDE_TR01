{
 "cells": [
  {
   "cell_type": "markdown",
   "id": "89e8219d-bced-496e-86b7-358e6b7415d7",
   "metadata": {},
   "source": [
    "# Create same model PLIER DelayedPLIER"
   ]
  },
  {
   "cell_type": "markdown",
   "id": "c84f160a-9642-4fcb-ba0f-64bbea4cb27e",
   "metadata": {
    "editable": true,
    "slideshow": {
     "slide_type": ""
    },
    "tags": []
   },
   "source": [
    "Marc Subirana-Granés (2024)\n",
    "\n",
    "Create a basic PLIER model to compare between the results between PLIER and DelayedPLIER"
   ]
  },
  {
   "cell_type": "markdown",
   "id": "0b4737e3-147b-4c7e-bba3-0eea377ea36a",
   "metadata": {},
   "source": [
    "# Load libraries/modules"
   ]
  },
  {
   "cell_type": "code",
   "execution_count": 2,
   "id": "db0f2cda-247b-4fd4-ac26-f2441bd33055",
   "metadata": {},
   "outputs": [
    {
     "name": "stderr",
     "output_type": "stream",
     "text": [
      "Loading required package: RColorBrewer\n",
      "\n",
      "Loading required package: gplots\n",
      "\n",
      "\n",
      "Attaching package: ‘gplots’\n",
      "\n",
      "\n",
      "The following object is masked from ‘package:stats’:\n",
      "\n",
      "    lowess\n",
      "\n",
      "\n",
      "Loading required package: pheatmap\n",
      "\n",
      "Loading required package: glmnet\n",
      "\n",
      "Loading required package: Matrix\n",
      "\n",
      "Loaded glmnet 4.1-8\n",
      "\n",
      "Loading required package: knitr\n",
      "\n",
      "Loading required package: rsvd\n",
      "\n",
      "Loading required package: qvalue\n",
      "\n",
      "\n",
      "Attaching package: ‘dplyr’\n",
      "\n",
      "\n",
      "The following objects are masked from ‘package:stats’:\n",
      "\n",
      "    filter, lag\n",
      "\n",
      "\n",
      "The following objects are masked from ‘package:base’:\n",
      "\n",
      "    intersect, setdiff, setequal, union\n",
      "\n",
      "\n",
      "here() starts at /home/msubirana/Documents/pivlab/plier_recount3\n",
      "\n",
      "Loading required package: DelayedArray\n",
      "\n",
      "Loading required package: stats4\n",
      "\n",
      "Loading required package: BiocGenerics\n",
      "\n",
      "\n",
      "Attaching package: ‘BiocGenerics’\n",
      "\n",
      "\n",
      "The following objects are masked from ‘package:dplyr’:\n",
      "\n",
      "    combine, intersect, setdiff, union\n",
      "\n",
      "\n",
      "The following objects are masked from ‘package:stats’:\n",
      "\n",
      "    IQR, mad, sd, var, xtabs\n",
      "\n",
      "\n",
      "The following objects are masked from ‘package:base’:\n",
      "\n",
      "    anyDuplicated, aperm, append, as.data.frame, basename, cbind,\n",
      "    colnames, dirname, do.call, duplicated, eval, evalq, Filter, Find,\n",
      "    get, grep, grepl, intersect, is.unsorted, lapply, Map, mapply,\n",
      "    match, mget, order, paste, pmax, pmax.int, pmin, pmin.int,\n",
      "    Position, rank, rbind, Reduce, rownames, sapply, setdiff, sort,\n",
      "    table, tapply, union, unique, unsplit, which.max, which.min\n",
      "\n",
      "\n",
      "Loading required package: MatrixGenerics\n",
      "\n",
      "Loading required package: matrixStats\n",
      "\n",
      "\n",
      "Attaching package: ‘matrixStats’\n",
      "\n",
      "\n",
      "The following object is masked from ‘package:dplyr’:\n",
      "\n",
      "    count\n",
      "\n",
      "\n",
      "\n",
      "Attaching package: ‘MatrixGenerics’\n",
      "\n",
      "\n",
      "The following objects are masked from ‘package:matrixStats’:\n",
      "\n",
      "    colAlls, colAnyNAs, colAnys, colAvgsPerRowSet, colCollapse,\n",
      "    colCounts, colCummaxs, colCummins, colCumprods, colCumsums,\n",
      "    colDiffs, colIQRDiffs, colIQRs, colLogSumExps, colMadDiffs,\n",
      "    colMads, colMaxs, colMeans2, colMedians, colMins, colOrderStats,\n",
      "    colProds, colQuantiles, colRanges, colRanks, colSdDiffs, colSds,\n",
      "    colSums2, colTabulates, colVarDiffs, colVars, colWeightedMads,\n",
      "    colWeightedMeans, colWeightedMedians, colWeightedSds,\n",
      "    colWeightedVars, rowAlls, rowAnyNAs, rowAnys, rowAvgsPerColSet,\n",
      "    rowCollapse, rowCounts, rowCummaxs, rowCummins, rowCumprods,\n",
      "    rowCumsums, rowDiffs, rowIQRDiffs, rowIQRs, rowLogSumExps,\n",
      "    rowMadDiffs, rowMads, rowMaxs, rowMeans2, rowMedians, rowMins,\n",
      "    rowOrderStats, rowProds, rowQuantiles, rowRanges, rowRanks,\n",
      "    rowSdDiffs, rowSds, rowSums2, rowTabulates, rowVarDiffs, rowVars,\n",
      "    rowWeightedMads, rowWeightedMeans, rowWeightedMedians,\n",
      "    rowWeightedSds, rowWeightedVars\n",
      "\n",
      "\n",
      "Loading required package: S4Vectors\n",
      "\n",
      "\n",
      "Attaching package: ‘S4Vectors’\n",
      "\n",
      "\n",
      "The following objects are masked from ‘package:dplyr’:\n",
      "\n",
      "    first, rename\n",
      "\n",
      "\n",
      "The following objects are masked from ‘package:Matrix’:\n",
      "\n",
      "    expand, unname\n",
      "\n",
      "\n",
      "The following object is masked from ‘package:gplots’:\n",
      "\n",
      "    space\n",
      "\n",
      "\n",
      "The following object is masked from ‘package:utils’:\n",
      "\n",
      "    findMatches\n",
      "\n",
      "\n",
      "The following objects are masked from ‘package:base’:\n",
      "\n",
      "    expand.grid, I, unname\n",
      "\n",
      "\n",
      "Loading required package: IRanges\n",
      "\n",
      "\n",
      "Attaching package: ‘IRanges’\n",
      "\n",
      "\n",
      "The following objects are masked from ‘package:dplyr’:\n",
      "\n",
      "    collapse, desc, slice\n",
      "\n",
      "\n",
      "Loading required package: S4Arrays\n",
      "\n",
      "Loading required package: abind\n",
      "\n",
      "\n",
      "Attaching package: ‘S4Arrays’\n",
      "\n",
      "\n",
      "The following object is masked from ‘package:abind’:\n",
      "\n",
      "    abind\n",
      "\n",
      "\n",
      "The following object is masked from ‘package:base’:\n",
      "\n",
      "    rowsum\n",
      "\n",
      "\n",
      "Loading required package: SparseArray\n",
      "\n",
      "\n",
      "Attaching package: ‘DelayedArray’\n",
      "\n",
      "\n",
      "The following objects are masked from ‘package:base’:\n",
      "\n",
      "    apply, scale, sweep\n",
      "\n",
      "\n",
      "Loading required package: rhdf5\n",
      "\n",
      "\n",
      "Attaching package: ‘HDF5Array’\n",
      "\n",
      "\n",
      "The following object is masked from ‘package:rhdf5’:\n",
      "\n",
      "    h5ls\n",
      "\n",
      "\n"
     ]
    }
   ],
   "source": [
    "`%>%` <- dplyr::`%>%`\n",
    "library(PLIER)\n",
    "library(dplyr)\n",
    "library(reticulate)\n",
    "library(here)\n",
    "\n",
    "# PLIER utils\n",
    "source(here::here('scripts/plier_util.R'))\n",
    "\n",
    "#delayedPLIER functions from repo\n",
    "path_script_funcs = '/home/msubirana/Documents/pivlab/DelayedPLIER/funcs.R'\n",
    "source(path_script_funcs)\n",
    "\n",
    "# Load PLIER pathway and cell type data\n",
    "data(bloodCellMarkersIRISDMAP)\n",
    "data(svmMarkers)\n",
    "data(canonicalPathways)"
   ]
  },
  {
   "cell_type": "markdown",
   "id": "1d2c7694-f71c-4421-bb58-5b347a6fd930",
   "metadata": {},
   "source": [
    "# Load data"
   ]
  },
  {
   "cell_type": "code",
   "execution_count": 3,
   "id": "b5f2dca3-43bc-4d2a-b044-8de7e7ef3b71",
   "metadata": {},
   "outputs": [],
   "source": [
    "# define output nb\n",
    "output_nb_path = here('output/nbs/create_same_model_PLIER_DelayedPLIER')\n",
    "dir.create(output_nb_path, showWarnings = FALSE)\n",
    "expression_dataset_path <- here::here('output/gtex/GTEx_v8_gene_median_tpm.rds')"
   ]
  },
  {
   "cell_type": "markdown",
   "id": "11751733-f4a9-40bd-a93a-8be5d8d0627f",
   "metadata": {},
   "source": [
    "# Prepare data for all the models"
   ]
  },
  {
   "cell_type": "code",
   "execution_count": 5,
   "id": "278d37cd-233b-4505-8596-d4cc0f3a71de",
   "metadata": {
    "editable": true,
    "slideshow": {
     "slide_type": ""
    },
    "tags": []
   },
   "outputs": [],
   "source": [
    "# Load data\n",
    "expression_dataset <- readRDS(expression_dataset_path)\n",
    "\n",
    "# Remove gene ens id column and duplicate genes\n",
    "expression_dataset <- subset(expression_dataset, select = -c(gene_ens_id))\n",
    "expression_dataset <- expression_dataset[!duplicated(expression_dataset[\"gene_symbol\"]),]\n",
    "\n",
    "# Rename rows with gene symbols\n",
    "rownames(expression_dataset) <- expression_dataset[,\"gene_symbol\"]\n",
    "\n",
    "# Remove gene symbol column\n",
    "expression_dataset <- subset(expression_dataset, select = -c(gene_symbol))\n",
    "\n",
    "# Remove NA\n",
    "expression_dataset = na.omit(expression_dataset)\n",
    "\n",
    "# Convert to matrix\n",
    "expression_matrix <- as.matrix(expression_dataset)\n",
    "\n",
    "# Combine the pathway data from PLIER\n",
    "all_paths <- PLIER::combinePaths(bloodCellMarkersIRISDMAP, svmMarkers, canonicalPathways)\n",
    "\n",
    "# What genes are common to the pathway data and the expression matrix\n",
    "cm_genes <- PLIER::commonRows(all_paths, expression_matrix)\n",
    "\n",
    "# filter to common genes before row normalization to save on computation\n",
    "expression_matrix_cm <- expression_matrix[cm_genes, ]\n",
    "\n",
    "# Z-score normalization\n",
    "expression_matrix_cm <- PLIER::rowNorm(expression_matrix_cm) \n",
    "\n",
    "# Remove NA\n",
    "expression_matrix_cm=na.omit(expression_matrix_cm)\n",
    "\n",
    "# What genes are common to the pathway data and the expression matrix\n",
    "cm_genes <- PLIER::commonRows(all_paths, expression_matrix_cm)\n",
    "\n",
    "# filter to common genes before row normalization to save on computation\n",
    "expression_matrix_cm <- expression_matrix_cm[cm_genes, ]\n",
    "all_paths_cm <- all_paths[cm_genes, ]"
   ]
  },
  {
   "cell_type": "markdown",
   "id": "90fc2331-3d07-4bb7-973a-2c46e89dce9f",
   "metadata": {},
   "source": [
    "# PLIER preparation"
   ]
  },
  {
   "cell_type": "code",
   "execution_count": 29,
   "id": "dbce0a64-be56-4b99-914b-293ecb682288",
   "metadata": {},
   "outputs": [
    {
     "name": "stderr",
     "output_type": "stream",
     "text": [
      "Computing SVD\n",
      "\n",
      "Using rsvd\n",
      "\n",
      "Done\n",
      "\n"
     ]
    }
   ],
   "source": [
    "# compute rsvd/svd\n",
    "set.seed(123456)\n",
    "ns=ncol(expression_matrix_cm)\n",
    "message(\"Computing SVD\")\n",
    "if(ns>500){\n",
    "  message(\"Using rsvd\")\n",
    "  set.seed(123456);svdres=rsvd(expression_matrix_cm, k=min(ns, max(200, ns/4)), q=3)\n",
    "}else{\n",
    "  svdres=svd(expression_matrix_cm)\n",
    "}\n",
    "message(\"Done\")\n",
    "\n",
    "# save z-scored expression data, the prior information matrix and svdres to be supplied to PLIER::PLIER and the number of PCs\n",
    "\n",
    "output_file_preplier <- file.path(output_nb_path, 'preplier_comparison_dp_p.rds')\n",
    "\n",
    "\n",
    "plier_data_list <- list(\"expression_matrix_cm\" = expression_matrix_cm,\n",
    "                        \"all_paths_cm\" = all_paths[cm_genes, ],\n",
    "                        \"svdres\" = svdres)\n",
    "\n",
    "saveRDS(plier_data_list, file = output_file_preplier)"
   ]
  },
  {
   "cell_type": "markdown",
   "id": "805213c1-e5b0-4878-a216-a1939319ca8b",
   "metadata": {},
   "source": [
    "# PLIER "
   ]
  },
  {
   "cell_type": "code",
   "execution_count": 28,
   "id": "5ec74034-2bdd-4836-974c-f44b045decfd",
   "metadata": {
    "collapsed": true,
    "jupyter": {
     "outputs_hidden": true
    },
    "scrolled": true
   },
   "outputs": [
    {
     "name": "stderr",
     "output_type": "stream",
     "text": [
      "k is set to 1042\n",
      "\n",
      "Removing 4 pathways with too few genes\n",
      "\n"
     ]
    },
    {
     "name": "stdout",
     "output_type": "stream",
     "text": [
      "[1] 55.53997\n",
      "[1] \"L2 is set to 55.5399692443312\"\n",
      "[1] \"L1 is set to 27.7699846221656\"\n"
     ]
    },
    {
     "name": "stderr",
     "output_type": "stream",
     "text": [
      "errorY (SVD based:best possible) = 0.6328\n",
      "\n",
      "New L3 is 0.000804733010124613\n",
      "\n",
      "New L3 is 0.000710174388842549\n",
      "\n",
      "New L3 is 0.000710174388842549\n",
      "\n",
      "New L3 is 0.000804733010124613\n",
      "\n",
      "New L3 is 0.000804733010124613\n",
      "\n",
      "New L3 is 0.000804733010124613\n",
      "\n",
      "New L3 is 0.000911881965554516\n",
      "\n",
      "New L3 is 0.000911881965554516\n",
      "\n",
      "New L3 is 0.000911881965554516\n",
      "\n",
      "New L3 is 0.000911881965554516\n",
      "\n",
      "New L3 is 0.000911881965554516\n",
      "\n",
      "New L3 is 0.000911881965554516\n",
      "\n",
      "New L3 is 0.000911881965554516\n",
      "\n",
      "New L3 is 0.000911881965554516\n",
      "\n",
      "New L3 is 0.00103329763864764\n",
      "\n",
      "New L3 is 0.000911881965554516\n",
      "\n",
      "Bdiff is not decreasing\n",
      "\n",
      "Bdiff is not decreasing\n",
      "\n",
      "Bdiff is not decreasing\n",
      "\n",
      "Bdiff is not decreasing\n",
      "\n",
      "Bdiff is not decreasing\n",
      "\n",
      "Bdiff is not decreasing\n",
      "\n",
      "converged at  iteration 334 Bdiff is not decreasing\n",
      "\n",
      "There are 216  LVs with AUC>0.70\n",
      "\n"
     ]
    }
   ],
   "source": [
    "# Assign arguments to variables \n",
    "output_file_plier <- file.path(output_nb_path, 'PLIER_comparison_dp_p.rds')\n",
    "parameter_k <- 1\n",
    "frac <- 0.7\n",
    "\n",
    "# Load data\n",
    "expression_matrix_cm=plier_data_list$expression_matrix_cm\n",
    "all_paths_cm=plier_data_list$all_paths_cm\n",
    "svdres=plier_data_list$svdres\n",
    "\n",
    "# compute k\n",
    "k=num.pc(svdres)*2\n",
    "k <- min(k, floor(ncol(expression_matrix_cm)*0.9))\n",
    "k = k * parameter_k\n",
    "k = round(k, 0)\n",
    "message(\"k is set to \", k)\n",
    "\n",
    "# Run PLIER (with common genes)\n",
    "plier_result=PLIER::PLIER(data=expression_matrix_cm, priorMat=all_paths_cm , svdres=svdres, k=k, frac=frac, scale=FALSE)\n",
    "\n",
    "# Prepare output directory\n",
    "output_file_path=dirname(output_file)\n",
    "dir.create(dirname(output_file_path), showWarnings = FALSE, recursive = TRUE)\n",
    "\n",
    "# Save results\n",
    "saveRDS(plier_result, file = output_file_plier)"
   ]
  },
  {
   "cell_type": "markdown",
   "id": "9b12e706-22c3-407e-aabe-b855bb3440e7",
   "metadata": {},
   "source": [
    "# DelayedPLIER"
   ]
  },
  {
   "cell_type": "code",
   "execution_count": 6,
   "id": "bf138d73-e9b8-4880-a449-4e462cafb4a8",
   "metadata": {},
   "outputs": [],
   "source": [
    "output_file_preplier <- file.path(output_nb_path, 'preplier_comparison_dp_p.rds')\n",
    "rds_preplier <- readRDS(output_file_preplier)\n",
    "expression_matrix_cm <- rds_preplier$expression_matrix_cm\n",
    "all_paths_cm <- rds_preplier$all_paths_cm\n",
    "svdres <- rds_preplier$svdres"
   ]
  },
  {
   "cell_type": "code",
   "execution_count": 11,
   "id": "69eabdd4-0c1f-4dd2-a735-004b3af3bebf",
   "metadata": {},
   "outputs": [
    {
     "name": "stdout",
     "output_type": "stream",
     "text": [
      "List of 3\n",
      " $ d: num [1:4345] 5017 3058 2698 2573 2253 ...\n",
      " $ u: num [1:6683, 1:4345] -0.01033 -0.01441 -0.00257 -0.01231 -0.0053 ...\n",
      " $ v: num [1:17382, 1:4345] -0.00908 0.00523 -0.00754 -0.00811 0.00894 ...\n",
      " - attr(*, \"class\")= chr \"rsvd\"\n"
     ]
    }
   ],
   "source": [
    "str(svdres)"
   ]
  },
  {
   "cell_type": "code",
   "execution_count": 12,
   "id": "ec27dadf-bb5e-4362-bff5-cbfe79c2e83a",
   "metadata": {},
   "outputs": [
    {
     "data": {
      "text/html": [
       "<table class=\"dataframe\">\n",
       "<caption>A matrix: 6 × 628 of type dbl</caption>\n",
       "<thead>\n",
       "\t<tr><th></th><th scope=col>IRIS_Bcell-Memory_IgG_IgA</th><th scope=col>IRIS_Bcell-Memory_IgM</th><th scope=col>IRIS_Bcell-naive</th><th scope=col>IRIS_CD4Tcell-N0</th><th scope=col>IRIS_CD4Tcell-Th1-restimulated12hour</th><th scope=col>IRIS_CD4Tcell-Th1-restimulated48hour</th><th scope=col>IRIS_CD4Tcell-Th2-restimulated12hour</th><th scope=col>IRIS_CD4Tcell-Th2-restimulated48hour</th><th scope=col>IRIS_CD8Tcell-N0</th><th scope=col>IRIS_DendriticCell-Control</th><th scope=col>⋯</th><th scope=col>KEGG_GNRH_SIGNALING_PATHWAY</th><th scope=col>KEGG_BASAL_TRANSCRIPTION_FACTORS</th><th scope=col>REACTOME_SYNTHESIS_OF_DNA</th><th scope=col>KEGG_HEMATOPOIETIC_CELL_LINEAGE</th><th scope=col>KEGG_T_CELL_RECEPTOR_SIGNALING_PATHWAY</th><th scope=col>PID_IL4_2PATHWAY</th><th scope=col>REACTOME_SIGNALING_BY_THE_B_CELL_RECEPTOR_BCR</th><th scope=col>PID_BCR_5PATHWAY</th><th scope=col>PID_TELOMERASEPATHWAY</th><th scope=col>PID_PI3KPLCTRKPATHWAY</th></tr>\n",
       "</thead>\n",
       "<tbody>\n",
       "\t<tr><th scope=row>GAS6</th><td>0</td><td>0</td><td>0</td><td>0</td><td>0</td><td>0</td><td>0</td><td>0</td><td>0</td><td>1</td><td>⋯</td><td>0</td><td>0</td><td>0</td><td>0</td><td>0</td><td>0</td><td>0</td><td>0</td><td>0</td><td>0</td></tr>\n",
       "\t<tr><th scope=row>MMP14</th><td>0</td><td>0</td><td>0</td><td>0</td><td>0</td><td>0</td><td>0</td><td>0</td><td>0</td><td>0</td><td>⋯</td><td>1</td><td>0</td><td>0</td><td>0</td><td>0</td><td>0</td><td>0</td><td>0</td><td>0</td><td>0</td></tr>\n",
       "\t<tr><th scope=row>MARCKSL1</th><td>0</td><td>0</td><td>0</td><td>0</td><td>0</td><td>0</td><td>0</td><td>0</td><td>0</td><td>0</td><td>⋯</td><td>0</td><td>0</td><td>0</td><td>0</td><td>0</td><td>0</td><td>0</td><td>0</td><td>0</td><td>0</td></tr>\n",
       "\t<tr><th scope=row>SPARC</th><td>0</td><td>0</td><td>0</td><td>0</td><td>0</td><td>0</td><td>0</td><td>0</td><td>0</td><td>0</td><td>⋯</td><td>0</td><td>0</td><td>0</td><td>0</td><td>0</td><td>0</td><td>0</td><td>0</td><td>0</td><td>0</td></tr>\n",
       "\t<tr><th scope=row>CTSD</th><td>0</td><td>0</td><td>0</td><td>0</td><td>0</td><td>0</td><td>0</td><td>0</td><td>0</td><td>0</td><td>⋯</td><td>0</td><td>0</td><td>0</td><td>0</td><td>0</td><td>0</td><td>0</td><td>0</td><td>0</td><td>0</td></tr>\n",
       "\t<tr><th scope=row>EPAS1</th><td>0</td><td>0</td><td>0</td><td>0</td><td>0</td><td>0</td><td>0</td><td>0</td><td>0</td><td>1</td><td>⋯</td><td>0</td><td>0</td><td>0</td><td>0</td><td>0</td><td>0</td><td>0</td><td>0</td><td>0</td><td>0</td></tr>\n",
       "</tbody>\n",
       "</table>\n"
      ],
      "text/latex": [
       "A matrix: 6 × 628 of type dbl\n",
       "\\begin{tabular}{r|lllllllllllllllllllll}\n",
       "  & IRIS\\_Bcell-Memory\\_IgG\\_IgA & IRIS\\_Bcell-Memory\\_IgM & IRIS\\_Bcell-naive & IRIS\\_CD4Tcell-N0 & IRIS\\_CD4Tcell-Th1-restimulated12hour & IRIS\\_CD4Tcell-Th1-restimulated48hour & IRIS\\_CD4Tcell-Th2-restimulated12hour & IRIS\\_CD4Tcell-Th2-restimulated48hour & IRIS\\_CD8Tcell-N0 & IRIS\\_DendriticCell-Control & ⋯ & KEGG\\_GNRH\\_SIGNALING\\_PATHWAY & KEGG\\_BASAL\\_TRANSCRIPTION\\_FACTORS & REACTOME\\_SYNTHESIS\\_OF\\_DNA & KEGG\\_HEMATOPOIETIC\\_CELL\\_LINEAGE & KEGG\\_T\\_CELL\\_RECEPTOR\\_SIGNALING\\_PATHWAY & PID\\_IL4\\_2PATHWAY & REACTOME\\_SIGNALING\\_BY\\_THE\\_B\\_CELL\\_RECEPTOR\\_BCR & PID\\_BCR\\_5PATHWAY & PID\\_TELOMERASEPATHWAY & PID\\_PI3KPLCTRKPATHWAY\\\\\n",
       "\\hline\n",
       "\tGAS6 & 0 & 0 & 0 & 0 & 0 & 0 & 0 & 0 & 0 & 1 & ⋯ & 0 & 0 & 0 & 0 & 0 & 0 & 0 & 0 & 0 & 0\\\\\n",
       "\tMMP14 & 0 & 0 & 0 & 0 & 0 & 0 & 0 & 0 & 0 & 0 & ⋯ & 1 & 0 & 0 & 0 & 0 & 0 & 0 & 0 & 0 & 0\\\\\n",
       "\tMARCKSL1 & 0 & 0 & 0 & 0 & 0 & 0 & 0 & 0 & 0 & 0 & ⋯ & 0 & 0 & 0 & 0 & 0 & 0 & 0 & 0 & 0 & 0\\\\\n",
       "\tSPARC & 0 & 0 & 0 & 0 & 0 & 0 & 0 & 0 & 0 & 0 & ⋯ & 0 & 0 & 0 & 0 & 0 & 0 & 0 & 0 & 0 & 0\\\\\n",
       "\tCTSD & 0 & 0 & 0 & 0 & 0 & 0 & 0 & 0 & 0 & 0 & ⋯ & 0 & 0 & 0 & 0 & 0 & 0 & 0 & 0 & 0 & 0\\\\\n",
       "\tEPAS1 & 0 & 0 & 0 & 0 & 0 & 0 & 0 & 0 & 0 & 1 & ⋯ & 0 & 0 & 0 & 0 & 0 & 0 & 0 & 0 & 0 & 0\\\\\n",
       "\\end{tabular}\n"
      ],
      "text/markdown": [
       "\n",
       "A matrix: 6 × 628 of type dbl\n",
       "\n",
       "| <!--/--> | IRIS_Bcell-Memory_IgG_IgA | IRIS_Bcell-Memory_IgM | IRIS_Bcell-naive | IRIS_CD4Tcell-N0 | IRIS_CD4Tcell-Th1-restimulated12hour | IRIS_CD4Tcell-Th1-restimulated48hour | IRIS_CD4Tcell-Th2-restimulated12hour | IRIS_CD4Tcell-Th2-restimulated48hour | IRIS_CD8Tcell-N0 | IRIS_DendriticCell-Control | ⋯ | KEGG_GNRH_SIGNALING_PATHWAY | KEGG_BASAL_TRANSCRIPTION_FACTORS | REACTOME_SYNTHESIS_OF_DNA | KEGG_HEMATOPOIETIC_CELL_LINEAGE | KEGG_T_CELL_RECEPTOR_SIGNALING_PATHWAY | PID_IL4_2PATHWAY | REACTOME_SIGNALING_BY_THE_B_CELL_RECEPTOR_BCR | PID_BCR_5PATHWAY | PID_TELOMERASEPATHWAY | PID_PI3KPLCTRKPATHWAY |\n",
       "|---|---|---|---|---|---|---|---|---|---|---|---|---|---|---|---|---|---|---|---|---|---|\n",
       "| GAS6 | 0 | 0 | 0 | 0 | 0 | 0 | 0 | 0 | 0 | 1 | ⋯ | 0 | 0 | 0 | 0 | 0 | 0 | 0 | 0 | 0 | 0 |\n",
       "| MMP14 | 0 | 0 | 0 | 0 | 0 | 0 | 0 | 0 | 0 | 0 | ⋯ | 1 | 0 | 0 | 0 | 0 | 0 | 0 | 0 | 0 | 0 |\n",
       "| MARCKSL1 | 0 | 0 | 0 | 0 | 0 | 0 | 0 | 0 | 0 | 0 | ⋯ | 0 | 0 | 0 | 0 | 0 | 0 | 0 | 0 | 0 | 0 |\n",
       "| SPARC | 0 | 0 | 0 | 0 | 0 | 0 | 0 | 0 | 0 | 0 | ⋯ | 0 | 0 | 0 | 0 | 0 | 0 | 0 | 0 | 0 | 0 |\n",
       "| CTSD | 0 | 0 | 0 | 0 | 0 | 0 | 0 | 0 | 0 | 0 | ⋯ | 0 | 0 | 0 | 0 | 0 | 0 | 0 | 0 | 0 | 0 |\n",
       "| EPAS1 | 0 | 0 | 0 | 0 | 0 | 0 | 0 | 0 | 0 | 1 | ⋯ | 0 | 0 | 0 | 0 | 0 | 0 | 0 | 0 | 0 | 0 |\n",
       "\n"
      ],
      "text/plain": [
       "         IRIS_Bcell-Memory_IgG_IgA IRIS_Bcell-Memory_IgM IRIS_Bcell-naive\n",
       "GAS6     0                         0                     0               \n",
       "MMP14    0                         0                     0               \n",
       "MARCKSL1 0                         0                     0               \n",
       "SPARC    0                         0                     0               \n",
       "CTSD     0                         0                     0               \n",
       "EPAS1    0                         0                     0               \n",
       "         IRIS_CD4Tcell-N0 IRIS_CD4Tcell-Th1-restimulated12hour\n",
       "GAS6     0                0                                   \n",
       "MMP14    0                0                                   \n",
       "MARCKSL1 0                0                                   \n",
       "SPARC    0                0                                   \n",
       "CTSD     0                0                                   \n",
       "EPAS1    0                0                                   \n",
       "         IRIS_CD4Tcell-Th1-restimulated48hour\n",
       "GAS6     0                                   \n",
       "MMP14    0                                   \n",
       "MARCKSL1 0                                   \n",
       "SPARC    0                                   \n",
       "CTSD     0                                   \n",
       "EPAS1    0                                   \n",
       "         IRIS_CD4Tcell-Th2-restimulated12hour\n",
       "GAS6     0                                   \n",
       "MMP14    0                                   \n",
       "MARCKSL1 0                                   \n",
       "SPARC    0                                   \n",
       "CTSD     0                                   \n",
       "EPAS1    0                                   \n",
       "         IRIS_CD4Tcell-Th2-restimulated48hour IRIS_CD8Tcell-N0\n",
       "GAS6     0                                    0               \n",
       "MMP14    0                                    0               \n",
       "MARCKSL1 0                                    0               \n",
       "SPARC    0                                    0               \n",
       "CTSD     0                                    0               \n",
       "EPAS1    0                                    0               \n",
       "         IRIS_DendriticCell-Control ⋯ KEGG_GNRH_SIGNALING_PATHWAY\n",
       "GAS6     1                          ⋯ 0                          \n",
       "MMP14    0                          ⋯ 1                          \n",
       "MARCKSL1 0                          ⋯ 0                          \n",
       "SPARC    0                          ⋯ 0                          \n",
       "CTSD     0                          ⋯ 0                          \n",
       "EPAS1    1                          ⋯ 0                          \n",
       "         KEGG_BASAL_TRANSCRIPTION_FACTORS REACTOME_SYNTHESIS_OF_DNA\n",
       "GAS6     0                                0                        \n",
       "MMP14    0                                0                        \n",
       "MARCKSL1 0                                0                        \n",
       "SPARC    0                                0                        \n",
       "CTSD     0                                0                        \n",
       "EPAS1    0                                0                        \n",
       "         KEGG_HEMATOPOIETIC_CELL_LINEAGE KEGG_T_CELL_RECEPTOR_SIGNALING_PATHWAY\n",
       "GAS6     0                               0                                     \n",
       "MMP14    0                               0                                     \n",
       "MARCKSL1 0                               0                                     \n",
       "SPARC    0                               0                                     \n",
       "CTSD     0                               0                                     \n",
       "EPAS1    0                               0                                     \n",
       "         PID_IL4_2PATHWAY REACTOME_SIGNALING_BY_THE_B_CELL_RECEPTOR_BCR\n",
       "GAS6     0                0                                            \n",
       "MMP14    0                0                                            \n",
       "MARCKSL1 0                0                                            \n",
       "SPARC    0                0                                            \n",
       "CTSD     0                0                                            \n",
       "EPAS1    0                0                                            \n",
       "         PID_BCR_5PATHWAY PID_TELOMERASEPATHWAY PID_PI3KPLCTRKPATHWAY\n",
       "GAS6     0                0                     0                    \n",
       "MMP14    0                0                     0                    \n",
       "MARCKSL1 0                0                     0                    \n",
       "SPARC    0                0                     0                    \n",
       "CTSD     0                0                     0                    \n",
       "EPAS1    0                0                     0                    "
      ]
     },
     "metadata": {},
     "output_type": "display_data"
    }
   ],
   "source": [
    "head(all_paths_cm)"
   ]
  },
  {
   "cell_type": "code",
   "execution_count": 13,
   "id": "ec6d10b5-e5e7-4f2d-bc8f-69f18ad859b0",
   "metadata": {},
   "outputs": [
    {
     "data": {
      "text/html": [
       "<table class=\"dataframe\">\n",
       "<caption>A matrix: 6 × 17382 of type dbl</caption>\n",
       "<thead>\n",
       "\t<tr><th></th><th scope=col>GTEX-1117F-0226-SM-5GZZ7</th><th scope=col>GTEX-1117F-0426-SM-5EGHI</th><th scope=col>GTEX-1117F-0526-SM-5EGHJ</th><th scope=col>GTEX-1117F-0626-SM-5N9CS</th><th scope=col>GTEX-1117F-0726-SM-5GIEN</th><th scope=col>GTEX-1117F-1326-SM-5EGHH</th><th scope=col>GTEX-1117F-2426-SM-5EGGH</th><th scope=col>GTEX-1117F-2526-SM-5GZY6</th><th scope=col>GTEX-1117F-2826-SM-5GZXL</th><th scope=col>GTEX-1117F-2926-SM-5GZYI</th><th scope=col>⋯</th><th scope=col>GTEX-ZZPU-1126-SM-5N9CW</th><th scope=col>GTEX-ZZPU-1226-SM-5N9CK</th><th scope=col>GTEX-ZZPU-1326-SM-5GZWS</th><th scope=col>GTEX-ZZPU-1426-SM-5GZZ6</th><th scope=col>GTEX-ZZPU-1826-SM-5E43L</th><th scope=col>GTEX-ZZPU-2126-SM-5EGIU</th><th scope=col>GTEX-ZZPU-2226-SM-5EGIV</th><th scope=col>GTEX-ZZPU-2426-SM-5E44I</th><th scope=col>GTEX-ZZPU-2626-SM-5E45Y</th><th scope=col>GTEX-ZZPU-2726-SM-5NQ8O</th></tr>\n",
       "</thead>\n",
       "<tbody>\n",
       "\t<tr><th scope=row>GAS6</th><td> 1.41132283</td><td>-0.4424523</td><td> 0.3365641</td><td>0.5197589</td><td>-0.2412224</td><td>-0.36208833</td><td> 0.64394272</td><td>-0.08622964</td><td>-0.3407591</td><td> 0.04861881</td><td>⋯</td><td>-0.25188705</td><td>-0.4970079</td><td> 0.02491961</td><td>-0.3627993</td><td> 0.2116693</td><td> 0.09815014</td><td>-0.5073644</td><td> 0.28940268</td><td>-0.4370963</td><td>-0.09997518</td></tr>\n",
       "\t<tr><th scope=row>MMP14</th><td> 5.84234639</td><td>-0.7106564</td><td> 0.7796052</td><td>0.4416584</td><td>-0.3322593</td><td> 0.99025660</td><td> 2.44930824</td><td> 0.14829722</td><td> 0.8254833</td><td> 2.93587417</td><td>⋯</td><td>-0.48824475</td><td>-0.3727742</td><td>-0.22932447</td><td>-0.3190775</td><td>-0.2026377</td><td> 0.29627013</td><td>-0.1134016</td><td> 0.50304449</td><td>-0.6462979</td><td> 1.35986578</td></tr>\n",
       "\t<tr><th scope=row>MARCKSL1</th><td>-0.22726833</td><td>-0.5812718</td><td>-0.5171569</td><td>0.0883272</td><td>-0.3056592</td><td>-0.04935212</td><td> 0.02888631</td><td>-0.44171275</td><td>-0.2897575</td><td>-0.41397367</td><td>⋯</td><td>-0.41722514</td><td>-0.2556679</td><td> 0.04412756</td><td>-0.3047447</td><td>-0.5572414</td><td> 3.34690689</td><td>-0.5867993</td><td>-0.55414238</td><td>-0.5909348</td><td>-0.49703849</td></tr>\n",
       "\t<tr><th scope=row>SPARC</th><td> 1.63786217</td><td>-0.5300667</td><td> 0.1609265</td><td>1.2996054</td><td>-0.2172089</td><td> 0.94117200</td><td> 0.54119827</td><td>-0.67367746</td><td> 0.1383761</td><td>-0.39037262</td><td>⋯</td><td> 0.01043193</td><td>-0.1437419</td><td> 0.08567921</td><td>-0.6826976</td><td>-0.5610439</td><td> 0.03725509</td><td>-0.7826080</td><td> 0.57917797</td><td>-0.7380056</td><td> 1.53935231</td></tr>\n",
       "\t<tr><th scope=row>CTSD</th><td> 0.63014415</td><td> 0.6176855</td><td>-0.4076144</td><td>0.3904307</td><td> 0.2229312</td><td> 0.09488407</td><td>-0.40715297</td><td> 0.24900206</td><td> 0.2787644</td><td> 0.74642478</td><td>⋯</td><td> 0.14587220</td><td> 4.2712970</td><td>-0.30010096</td><td>-0.2032004</td><td>-0.7140047</td><td>-0.73569192</td><td> 0.6428335</td><td> 0.03535945</td><td> 0.1989368</td><td> 0.28222509</td></tr>\n",
       "\t<tr><th scope=row>EPAS1</th><td>-0.07935625</td><td>-0.5188999</td><td> 0.3340869</td><td>0.9338027</td><td>-0.3057833</td><td> 0.40919083</td><td> 0.09018520</td><td>-0.47919152</td><td> 0.8847249</td><td>-0.45022819</td><td>⋯</td><td>-0.19275569</td><td>-0.3906284</td><td> 1.04794570</td><td>-0.4974098</td><td>-0.4316753</td><td>-0.55871985</td><td>-0.5876088</td><td> 1.50079985</td><td>-0.6065335</td><td> 0.68432390</td></tr>\n",
       "</tbody>\n",
       "</table>\n"
      ],
      "text/latex": [
       "A matrix: 6 × 17382 of type dbl\n",
       "\\begin{tabular}{r|lllllllllllllllllllll}\n",
       "  & GTEX-1117F-0226-SM-5GZZ7 & GTEX-1117F-0426-SM-5EGHI & GTEX-1117F-0526-SM-5EGHJ & GTEX-1117F-0626-SM-5N9CS & GTEX-1117F-0726-SM-5GIEN & GTEX-1117F-1326-SM-5EGHH & GTEX-1117F-2426-SM-5EGGH & GTEX-1117F-2526-SM-5GZY6 & GTEX-1117F-2826-SM-5GZXL & GTEX-1117F-2926-SM-5GZYI & ⋯ & GTEX-ZZPU-1126-SM-5N9CW & GTEX-ZZPU-1226-SM-5N9CK & GTEX-ZZPU-1326-SM-5GZWS & GTEX-ZZPU-1426-SM-5GZZ6 & GTEX-ZZPU-1826-SM-5E43L & GTEX-ZZPU-2126-SM-5EGIU & GTEX-ZZPU-2226-SM-5EGIV & GTEX-ZZPU-2426-SM-5E44I & GTEX-ZZPU-2626-SM-5E45Y & GTEX-ZZPU-2726-SM-5NQ8O\\\\\n",
       "\\hline\n",
       "\tGAS6 &  1.41132283 & -0.4424523 &  0.3365641 & 0.5197589 & -0.2412224 & -0.36208833 &  0.64394272 & -0.08622964 & -0.3407591 &  0.04861881 & ⋯ & -0.25188705 & -0.4970079 &  0.02491961 & -0.3627993 &  0.2116693 &  0.09815014 & -0.5073644 &  0.28940268 & -0.4370963 & -0.09997518\\\\\n",
       "\tMMP14 &  5.84234639 & -0.7106564 &  0.7796052 & 0.4416584 & -0.3322593 &  0.99025660 &  2.44930824 &  0.14829722 &  0.8254833 &  2.93587417 & ⋯ & -0.48824475 & -0.3727742 & -0.22932447 & -0.3190775 & -0.2026377 &  0.29627013 & -0.1134016 &  0.50304449 & -0.6462979 &  1.35986578\\\\\n",
       "\tMARCKSL1 & -0.22726833 & -0.5812718 & -0.5171569 & 0.0883272 & -0.3056592 & -0.04935212 &  0.02888631 & -0.44171275 & -0.2897575 & -0.41397367 & ⋯ & -0.41722514 & -0.2556679 &  0.04412756 & -0.3047447 & -0.5572414 &  3.34690689 & -0.5867993 & -0.55414238 & -0.5909348 & -0.49703849\\\\\n",
       "\tSPARC &  1.63786217 & -0.5300667 &  0.1609265 & 1.2996054 & -0.2172089 &  0.94117200 &  0.54119827 & -0.67367746 &  0.1383761 & -0.39037262 & ⋯ &  0.01043193 & -0.1437419 &  0.08567921 & -0.6826976 & -0.5610439 &  0.03725509 & -0.7826080 &  0.57917797 & -0.7380056 &  1.53935231\\\\\n",
       "\tCTSD &  0.63014415 &  0.6176855 & -0.4076144 & 0.3904307 &  0.2229312 &  0.09488407 & -0.40715297 &  0.24900206 &  0.2787644 &  0.74642478 & ⋯ &  0.14587220 &  4.2712970 & -0.30010096 & -0.2032004 & -0.7140047 & -0.73569192 &  0.6428335 &  0.03535945 &  0.1989368 &  0.28222509\\\\\n",
       "\tEPAS1 & -0.07935625 & -0.5188999 &  0.3340869 & 0.9338027 & -0.3057833 &  0.40919083 &  0.09018520 & -0.47919152 &  0.8847249 & -0.45022819 & ⋯ & -0.19275569 & -0.3906284 &  1.04794570 & -0.4974098 & -0.4316753 & -0.55871985 & -0.5876088 &  1.50079985 & -0.6065335 &  0.68432390\\\\\n",
       "\\end{tabular}\n"
      ],
      "text/markdown": [
       "\n",
       "A matrix: 6 × 17382 of type dbl\n",
       "\n",
       "| <!--/--> | GTEX-1117F-0226-SM-5GZZ7 | GTEX-1117F-0426-SM-5EGHI | GTEX-1117F-0526-SM-5EGHJ | GTEX-1117F-0626-SM-5N9CS | GTEX-1117F-0726-SM-5GIEN | GTEX-1117F-1326-SM-5EGHH | GTEX-1117F-2426-SM-5EGGH | GTEX-1117F-2526-SM-5GZY6 | GTEX-1117F-2826-SM-5GZXL | GTEX-1117F-2926-SM-5GZYI | ⋯ | GTEX-ZZPU-1126-SM-5N9CW | GTEX-ZZPU-1226-SM-5N9CK | GTEX-ZZPU-1326-SM-5GZWS | GTEX-ZZPU-1426-SM-5GZZ6 | GTEX-ZZPU-1826-SM-5E43L | GTEX-ZZPU-2126-SM-5EGIU | GTEX-ZZPU-2226-SM-5EGIV | GTEX-ZZPU-2426-SM-5E44I | GTEX-ZZPU-2626-SM-5E45Y | GTEX-ZZPU-2726-SM-5NQ8O |\n",
       "|---|---|---|---|---|---|---|---|---|---|---|---|---|---|---|---|---|---|---|---|---|---|\n",
       "| GAS6 |  1.41132283 | -0.4424523 |  0.3365641 | 0.5197589 | -0.2412224 | -0.36208833 |  0.64394272 | -0.08622964 | -0.3407591 |  0.04861881 | ⋯ | -0.25188705 | -0.4970079 |  0.02491961 | -0.3627993 |  0.2116693 |  0.09815014 | -0.5073644 |  0.28940268 | -0.4370963 | -0.09997518 |\n",
       "| MMP14 |  5.84234639 | -0.7106564 |  0.7796052 | 0.4416584 | -0.3322593 |  0.99025660 |  2.44930824 |  0.14829722 |  0.8254833 |  2.93587417 | ⋯ | -0.48824475 | -0.3727742 | -0.22932447 | -0.3190775 | -0.2026377 |  0.29627013 | -0.1134016 |  0.50304449 | -0.6462979 |  1.35986578 |\n",
       "| MARCKSL1 | -0.22726833 | -0.5812718 | -0.5171569 | 0.0883272 | -0.3056592 | -0.04935212 |  0.02888631 | -0.44171275 | -0.2897575 | -0.41397367 | ⋯ | -0.41722514 | -0.2556679 |  0.04412756 | -0.3047447 | -0.5572414 |  3.34690689 | -0.5867993 | -0.55414238 | -0.5909348 | -0.49703849 |\n",
       "| SPARC |  1.63786217 | -0.5300667 |  0.1609265 | 1.2996054 | -0.2172089 |  0.94117200 |  0.54119827 | -0.67367746 |  0.1383761 | -0.39037262 | ⋯ |  0.01043193 | -0.1437419 |  0.08567921 | -0.6826976 | -0.5610439 |  0.03725509 | -0.7826080 |  0.57917797 | -0.7380056 |  1.53935231 |\n",
       "| CTSD |  0.63014415 |  0.6176855 | -0.4076144 | 0.3904307 |  0.2229312 |  0.09488407 | -0.40715297 |  0.24900206 |  0.2787644 |  0.74642478 | ⋯ |  0.14587220 |  4.2712970 | -0.30010096 | -0.2032004 | -0.7140047 | -0.73569192 |  0.6428335 |  0.03535945 |  0.1989368 |  0.28222509 |\n",
       "| EPAS1 | -0.07935625 | -0.5188999 |  0.3340869 | 0.9338027 | -0.3057833 |  0.40919083 |  0.09018520 | -0.47919152 |  0.8847249 | -0.45022819 | ⋯ | -0.19275569 | -0.3906284 |  1.04794570 | -0.4974098 | -0.4316753 | -0.55871985 | -0.5876088 |  1.50079985 | -0.6065335 |  0.68432390 |\n",
       "\n"
      ],
      "text/plain": [
       "         GTEX-1117F-0226-SM-5GZZ7 GTEX-1117F-0426-SM-5EGHI\n",
       "GAS6      1.41132283              -0.4424523              \n",
       "MMP14     5.84234639              -0.7106564              \n",
       "MARCKSL1 -0.22726833              -0.5812718              \n",
       "SPARC     1.63786217              -0.5300667              \n",
       "CTSD      0.63014415               0.6176855              \n",
       "EPAS1    -0.07935625              -0.5188999              \n",
       "         GTEX-1117F-0526-SM-5EGHJ GTEX-1117F-0626-SM-5N9CS\n",
       "GAS6      0.3365641               0.5197589               \n",
       "MMP14     0.7796052               0.4416584               \n",
       "MARCKSL1 -0.5171569               0.0883272               \n",
       "SPARC     0.1609265               1.2996054               \n",
       "CTSD     -0.4076144               0.3904307               \n",
       "EPAS1     0.3340869               0.9338027               \n",
       "         GTEX-1117F-0726-SM-5GIEN GTEX-1117F-1326-SM-5EGHH\n",
       "GAS6     -0.2412224               -0.36208833             \n",
       "MMP14    -0.3322593                0.99025660             \n",
       "MARCKSL1 -0.3056592               -0.04935212             \n",
       "SPARC    -0.2172089                0.94117200             \n",
       "CTSD      0.2229312                0.09488407             \n",
       "EPAS1    -0.3057833                0.40919083             \n",
       "         GTEX-1117F-2426-SM-5EGGH GTEX-1117F-2526-SM-5GZY6\n",
       "GAS6      0.64394272              -0.08622964             \n",
       "MMP14     2.44930824               0.14829722             \n",
       "MARCKSL1  0.02888631              -0.44171275             \n",
       "SPARC     0.54119827              -0.67367746             \n",
       "CTSD     -0.40715297               0.24900206             \n",
       "EPAS1     0.09018520              -0.47919152             \n",
       "         GTEX-1117F-2826-SM-5GZXL GTEX-1117F-2926-SM-5GZYI ⋯\n",
       "GAS6     -0.3407591                0.04861881              ⋯\n",
       "MMP14     0.8254833                2.93587417              ⋯\n",
       "MARCKSL1 -0.2897575               -0.41397367              ⋯\n",
       "SPARC     0.1383761               -0.39037262              ⋯\n",
       "CTSD      0.2787644                0.74642478              ⋯\n",
       "EPAS1     0.8847249               -0.45022819              ⋯\n",
       "         GTEX-ZZPU-1126-SM-5N9CW GTEX-ZZPU-1226-SM-5N9CK\n",
       "GAS6     -0.25188705             -0.4970079             \n",
       "MMP14    -0.48824475             -0.3727742             \n",
       "MARCKSL1 -0.41722514             -0.2556679             \n",
       "SPARC     0.01043193             -0.1437419             \n",
       "CTSD      0.14587220              4.2712970             \n",
       "EPAS1    -0.19275569             -0.3906284             \n",
       "         GTEX-ZZPU-1326-SM-5GZWS GTEX-ZZPU-1426-SM-5GZZ6\n",
       "GAS6      0.02491961             -0.3627993             \n",
       "MMP14    -0.22932447             -0.3190775             \n",
       "MARCKSL1  0.04412756             -0.3047447             \n",
       "SPARC     0.08567921             -0.6826976             \n",
       "CTSD     -0.30010096             -0.2032004             \n",
       "EPAS1     1.04794570             -0.4974098             \n",
       "         GTEX-ZZPU-1826-SM-5E43L GTEX-ZZPU-2126-SM-5EGIU\n",
       "GAS6      0.2116693               0.09815014            \n",
       "MMP14    -0.2026377               0.29627013            \n",
       "MARCKSL1 -0.5572414               3.34690689            \n",
       "SPARC    -0.5610439               0.03725509            \n",
       "CTSD     -0.7140047              -0.73569192            \n",
       "EPAS1    -0.4316753              -0.55871985            \n",
       "         GTEX-ZZPU-2226-SM-5EGIV GTEX-ZZPU-2426-SM-5E44I\n",
       "GAS6     -0.5073644               0.28940268            \n",
       "MMP14    -0.1134016               0.50304449            \n",
       "MARCKSL1 -0.5867993              -0.55414238            \n",
       "SPARC    -0.7826080               0.57917797            \n",
       "CTSD      0.6428335               0.03535945            \n",
       "EPAS1    -0.5876088               1.50079985            \n",
       "         GTEX-ZZPU-2626-SM-5E45Y GTEX-ZZPU-2726-SM-5NQ8O\n",
       "GAS6     -0.4370963              -0.09997518            \n",
       "MMP14    -0.6462979               1.35986578            \n",
       "MARCKSL1 -0.5909348              -0.49703849            \n",
       "SPARC    -0.7380056               1.53935231            \n",
       "CTSD      0.1989368               0.28222509            \n",
       "EPAS1    -0.6065335               0.68432390            "
      ]
     },
     "metadata": {},
     "output_type": "display_data"
    }
   ],
   "source": [
    "head(expression_matrix_cm)"
   ]
  },
  {
   "cell_type": "code",
   "execution_count": 22,
   "id": "420ebd41-06ee-4211-88a6-4989a6a29e63",
   "metadata": {},
   "outputs": [
    {
     "data": {
      "text/html": [
       "<style>\n",
       ".list-inline {list-style: none; margin:0; padding: 0}\n",
       ".list-inline>li {display: inline-block}\n",
       ".list-inline>li:not(:last-child)::after {content: \"\\00b7\"; padding: 0 .5ex}\n",
       "</style>\n",
       "<ol class=list-inline><li>5017.04257851978</li><li>3058.12029416898</li><li>2697.5938093849</li><li>2573.17082035391</li><li>2253.00127689373</li><li>2103.69313608533</li></ol>\n"
      ],
      "text/latex": [
       "\\begin{enumerate*}\n",
       "\\item 5017.04257851978\n",
       "\\item 3058.12029416898\n",
       "\\item 2697.5938093849\n",
       "\\item 2573.17082035391\n",
       "\\item 2253.00127689373\n",
       "\\item 2103.69313608533\n",
       "\\end{enumerate*}\n"
      ],
      "text/markdown": [
       "1. 5017.04257851978\n",
       "2. 3058.12029416898\n",
       "3. 2697.5938093849\n",
       "4. 2573.17082035391\n",
       "5. 2253.00127689373\n",
       "6. 2103.69313608533\n",
       "\n",
       "\n"
      ],
      "text/plain": [
       "[1] 5017.043 3058.120 2697.594 2573.171 2253.001 2103.693"
      ]
     },
     "metadata": {},
     "output_type": "display_data"
    }
   ],
   "source": [
    "head(svdres$d)"
   ]
  },
  {
   "cell_type": "code",
   "execution_count": 14,
   "id": "23d535fc-3020-47df-ae2c-4875d5dcfbe2",
   "metadata": {
    "editable": true,
    "slideshow": {
     "slide_type": ""
    },
    "tags": []
   },
   "outputs": [
    {
     "data": {
      "text/plain": [
       "<6683 x 17382> HDF5Matrix object of type \"double\":\n",
       "              [,1]       [,2]       [,3] ...    [,17381]    [,17382]\n",
       "   [1,]  1.4113228 -0.4424523  0.3365641   . -0.43709630 -0.09997518\n",
       "   [2,]  5.8423464 -0.7106564  0.7796052   . -0.64629791  1.35986578\n",
       "   [3,] -0.2272683 -0.5812718 -0.5171569   . -0.59093477 -0.49703849\n",
       "   [4,]  1.6378622 -0.5300667  0.1609265   . -0.73800558  1.53935231\n",
       "   [5,]  0.6301441  0.6176855 -0.4076144   .  0.19893678  0.28222509\n",
       "    ...          .          .          .   .           .           .\n",
       "[6679,] -0.2462670 -0.7701677 -0.5296683   .  -0.7600938  -0.2738677\n",
       "[6680,] -0.1980982 -0.2400479 -0.1990823   .  -0.2451261  -0.2109961\n",
       "[6681,]  2.1421737 -0.7290364  1.5123376   .  -0.9276022   0.7712268\n",
       "[6682,] -0.6538122 -0.9657483 -0.6224588   .  -1.0976921  -0.7310973\n",
       "[6683,] -0.7506101 -0.9781575 -0.6702703   .  -0.8675906  -0.6017146"
      ]
     },
     "metadata": {},
     "output_type": "display_data"
    }
   ],
   "source": [
    "output_file_delayedPLIER_hdf5 <- file.path(output_nb_path, 'counts.hdf5')  \n",
    "output_file_delayedPLIER_dim <- file.path(output_nb_path, 'dimnames.RDS') \n",
    "\n",
    "writeHDF5Array(expression_matrix_cm, filepath = output_file_delayedPLIER_hdf5, name = \"count\")\n",
    "saveRDS(list(row.names = rownames(expression_matrix_cm) , col.names = colnames(expression_matrix_cm)), file = output_file_delayedPLIER_dim)"
   ]
  },
  {
   "cell_type": "code",
   "execution_count": 27,
   "id": "d7541f0e-2404-4390-98d3-80fe7df4acaf",
   "metadata": {},
   "outputs": [
    {
     "name": "stderr",
     "output_type": "stream",
     "text": [
      "file '/home/msubirana/Documents/pivlab/plier_recount3/output/nbs/create_same_model_PLIER_DelayedPLIER/svd.hdf5' already exists.\n",
      "\n",
      "Can not create group. Object with name 'svd' already exists.\n",
      "\n"
     ]
    },
    {
     "ename": "ERROR",
     "evalue": "Error in UseMethod(\"h5writeDataset\"): no applicable method for 'h5writeDataset' applied to an object of class \"c('HDF5Matrix', 'HDF5Array', 'DelayedMatrix', 'DelayedArray', 'DelayedUnaryIsoOp', 'DelayedUnaryOp', 'DelayedOp', 'Array', 'RectangularData')\"\n",
     "output_type": "error",
     "traceback": [
      "Error in UseMethod(\"h5writeDataset\"): no applicable method for 'h5writeDataset' applied to an object of class \"c('HDF5Matrix', 'HDF5Array', 'DelayedMatrix', 'DelayedArray', 'DelayedUnaryIsoOp', 'DelayedUnaryOp', 'DelayedOp', 'Array', 'RectangularData')\"\nTraceback:\n",
      "1. h5write(svdres$u, output_file_svdres_hdf5, \"svd/u\")",
      "2. h5write.default(svdres$u, output_file_svdres_hdf5, \"svd/u\")",
      "3. h5writeDataset(obj, loc$H5Identifier, name, ...)"
     ]
    }
   ],
   "source": [
    "output_file_svdres_hdf5 <- file.path(output_nb_path, 'svd.hdf5')  \n",
    "h5createFile(output_file_svdres_hdf5)\n",
    "h5createGroup(output_file_svdres_hdf5, \"svd\")\n",
    "h5write(svdres$d, output_file_svdres_hdf5, \"svd/d\")\n",
    "h5write(svdres$u, output_file_svdres_hdf5, \"svd/u\")\n",
    "h5write(svdres$v, output_file_svdres_hdf5, \"svd/v\")"
   ]
  },
  {
   "cell_type": "markdown",
   "id": "e2e573d7-d92c-42b2-b004-a49f4c22e661",
   "metadata": {},
   "source": [
    "## Check for correct PLIER (delayedPLIER repo)function"
   ]
  },
  {
   "cell_type": "code",
   "execution_count": 35,
   "id": "8cef0927-354d-40e4-8a3d-499d92b5a09a",
   "metadata": {},
   "outputs": [
    {
     "name": "stdout",
     "output_type": "stream",
     "text": [
      "function (data, priorMat, svdres = NULL, k = NULL, L1 = NULL, L2 = NULL, \n",
      "    L3 = NULL, frac = 0.7, max.iter = 350, trace = F, scale = T, Chat = NULL, \n",
      "    maxPath = 10, doCrossval = T, penalty.factor = rep(1, ncol(priorMat)), \n",
      "    glm_alpha = 0.9, minGenes = 10, tol = 1e-06, seed = 123456, allGenes = F, \n",
      "    rseed = NULL, pathwaySelection = c(\"complete\", \"fast\"), output_path = \"output/\")  \n"
     ]
    }
   ],
   "source": [
    "str(PLIER)"
   ]
  },
  {
   "cell_type": "code",
   "execution_count": 28,
   "id": "7cedab64-30dd-49fa-9686-51bbcdb0c3ad",
   "metadata": {
    "editable": true,
    "slideshow": {
     "slide_type": ""
    },
    "tags": []
   },
   "outputs": [
    {
     "name": "stderr",
     "output_type": "stream",
     "text": [
      "k is set to 1042\n",
      "\n",
      "Removing 4 pathways with too few genes\n",
      "\n"
     ]
    },
    {
     "name": "stdout",
     "output_type": "stream",
     "text": [
      "[1] 55.53997\n",
      "[1] \"L2 is set to 55.5399692443312\"\n",
      "[1] \"L1 is set to 27.7699846221656\"\n"
     ]
    },
    {
     "ename": "ERROR",
     "evalue": "Error in h(simpleError(msg, call)): error in evaluating the argument 'a' in selecting a method for function 'solve': when the right operand is not a DelayedArray object (or derivative),\n  its length (1085764) cannot be greater than the first dimension of the\n  left operand (1042)\n",
     "output_type": "error",
     "traceback": [
      "Error in h(simpleError(msg, call)): error in evaluating the argument 'a' in selecting a method for function 'solve': when the right operand is not a DelayedArray object (or derivative),\n  its length (1085764) cannot be greater than the first dimension of the\n  left operand (1042)\nTraceback:\n",
      "1. PLIER(data = expression_matrix_dp, priorMat = all_paths_cm, svdres = svdres, \n .     k = k, frac = frac, scale = FALSE)",
      "2. solve(tcrossprod(B) + L1 * diag(k))",
      "3. tcrossprod(B) + L1 * diag(k)",
      "4. tcrossprod(B) + L1 * diag(k)",
      "5. .DelayedArray_Ops_with_right_vector(.Generic, e1, e2)",
      "6. .normarg_Ops_vector_arg(e2, nrow(e1), e_what = \"the right operand\", \n .     x_what = \"the first dimension of the left operand\")",
      "7. .check_Ops_vector_arg_length(e, x_nrow, e_what = e_what, x_what = x_what)",
      "8. stop(wmsg(e_what, \" (\", e_len, \") cannot be greater \", \"than \", \n .     x_what, \" (\", x_nrow, \")\"))",
      "9. .handleSimpleError(function (cond) \n . .Internal(C_tryCatchHelper(addr, 1L, cond)), \"when the right operand is not a DelayedArray object (or derivative),\\n  its length (1085764) cannot be greater than the first dimension of the\\n  left operand (1042)\", \n .     base::quote(.check_Ops_vector_arg_length(e, x_nrow, e_what = e_what, \n .         x_what = x_what)))",
      "10. h(simpleError(msg, call))"
     ]
    }
   ],
   "source": [
    "setAutoRealizationBackend(\"HDF5Array\") #supportedRealizationBackends(), getRealizationBackend()\n",
    "\n",
    "# Load each component of the SVD results\n",
    "d <- HDF5Array(filepath = output_file_svdres_hdf5, name = \"svd/d\")\n",
    "u <- HDF5Array(filepath = output_file_svdres_hdf5, name = \"svd/u\")\n",
    "v <- HDF5Array(filepath = output_file_svdres_hdf5, name = \"svd/v\")\n",
    "\n",
    "# Reassemble the SVD results into a list\n",
    "svdres <- list(d = as.numeric(d), u = DelayedArray(u), v = DelayedArray(v))\n",
    "class(svdres) <- \"rsvd\"\n",
    "\n",
    "sce <- DelayedArray(seed = HDF5ArraySeed(filepath = output_file_delayedPLIER_hdf5, name = \"count\"))\n",
    "dimnamaes <- readRDS(output_file_delayedPLIER_dim)\n",
    "rownames(sce) <- dimnamaes$row.names\n",
    "colnames(sce) <- dimnamaes$col.names\n",
    "\n",
    "sce[is.na(sce)] <- 0\n",
    "expression_matrix_dp <- sce[which(DelayedMatrixStats::rowSds(sce) >0),]\n",
    "\n",
    "# Assign arguments to variables \n",
    "output_file_delayedPlier <- file.path(output_nb_path, 'delayedPlier_comparison_dp_p.rds')\n",
    "parameter_k <- 1\n",
    "frac <- 0.7\n",
    "\n",
    "# compute k\n",
    "k=num.pc(svdres)*2\n",
    "k <- min(k, floor(ncol(expression_matrix_cm)*0.9))\n",
    "k = k * parameter_k\n",
    "k = round(k, 0)\n",
    "message(\"k is set to \", k)\n",
    "\n",
    "# Run PLIER (with common genes)\n",
    "delayedPlier_result=PLIER(data=expression_matrix_dp, priorMat=all_paths_cm , svdres=svdres, k=k, frac=frac, scale=FALSE)\n",
    "\n",
    "# Prepare output directory\n",
    "output_file_path=dirname(output_file_delayedPlier)\n",
    "dir.create(dirname(output_file_delayedPlier), showWarnings = FALSE, recursive = TRUE)\n",
    "\n",
    "# Save results\n",
    "saveRDS(delayedPlier_result, file = output_file_delayedPlier)"
   ]
  },
  {
   "cell_type": "code",
   "execution_count": 112,
   "id": "6e0a990a-6cdb-450e-b5e0-a03c22f0e630",
   "metadata": {},
   "outputs": [
    {
     "data": {
      "text/html": [
       "<style>\n",
       ".list-inline {list-style: none; margin:0; padding: 0}\n",
       ".list-inline>li {display: inline-block}\n",
       ".list-inline>li:not(:last-child)::after {content: \"\\00b7\"; padding: 0 .5ex}\n",
       "</style>\n",
       "<ol class=list-inline><li>6683</li><li>17382</li></ol>\n"
      ],
      "text/latex": [
       "\\begin{enumerate*}\n",
       "\\item 6683\n",
       "\\item 17382\n",
       "\\end{enumerate*}\n"
      ],
      "text/markdown": [
       "1. 6683\n",
       "2. 17382\n",
       "\n",
       "\n"
      ],
      "text/plain": [
       "[1]  6683 17382"
      ]
     },
     "metadata": {},
     "output_type": "display_data"
    },
    {
     "data": {
      "text/html": [
       "<style>\n",
       ".list-inline {list-style: none; margin:0; padding: 0}\n",
       ".list-inline>li {display: inline-block}\n",
       ".list-inline>li:not(:last-child)::after {content: \"\\00b7\"; padding: 0 .5ex}\n",
       "</style>\n",
       "<ol class=list-inline><li>6683</li><li>628</li></ol>\n"
      ],
      "text/latex": [
       "\\begin{enumerate*}\n",
       "\\item 6683\n",
       "\\item 628\n",
       "\\end{enumerate*}\n"
      ],
      "text/markdown": [
       "1. 6683\n",
       "2. 628\n",
       "\n",
       "\n"
      ],
      "text/plain": [
       "[1] 6683  628"
      ]
     },
     "metadata": {},
     "output_type": "display_data"
    },
    {
     "name": "stdout",
     "output_type": "stream",
     "text": [
      "List of 3\n",
      " $ d: num [1:4345] 5017 3058 2698 2573 2253 ...\n",
      " $ u: num [1:6683, 1:4345] -0.01033 -0.01441 -0.00257 -0.01231 -0.0053 ...\n",
      " $ v: num [1:17382, 1:4345] -0.00908 0.00523 -0.00754 -0.00811 0.00894 ...\n",
      " - attr(*, \"class\")= chr \"rsvd\"\n"
     ]
    },
    {
     "data": {
      "text/html": [
       "<table class=\"dataframe\">\n",
       "<caption>A matrix: 6 × 4345 of type dbl</caption>\n",
       "<tbody>\n",
       "\t<tr><td>-0.009084249</td><td> 0.0048984083</td><td>0.003729253</td><td>-5.068619e-03</td><td>-0.001676492</td><td>0.0012167764</td><td> 0.0004521597</td><td>-1.731784e-03</td><td> 0.0028415248</td><td>-0.0108770568</td><td>⋯</td><td> 0.010316521</td><td>-0.0018216236</td><td> 0.009547465</td><td> 0.0007294641</td><td>-0.0107351040</td><td>-0.003858802</td><td>-0.001301917</td><td>-0.0065631243</td><td> 0.015982440</td><td> 0.0059481690</td></tr>\n",
       "\t<tr><td> 0.005227597</td><td>-0.0006597834</td><td>0.007296205</td><td> 5.113093e-03</td><td> 0.004106840</td><td>0.0058876053</td><td>-0.0220267426</td><td> 1.199124e-02</td><td> 0.0042095739</td><td>-0.0094073135</td><td>⋯</td><td> 0.005766039</td><td> 0.0031255668</td><td>-0.017016444</td><td> 0.0020608788</td><td> 0.0178844464</td><td> 0.010818435</td><td> 0.008424042</td><td>-0.0046739341</td><td>-0.006138034</td><td>-0.0042348002</td></tr>\n",
       "\t<tr><td>-0.007538556</td><td> 0.0024068316</td><td>0.006820188</td><td>-6.764531e-03</td><td> 0.001602638</td><td>0.0026827639</td><td>-0.0056995087</td><td>-3.174828e-03</td><td>-0.0118093426</td><td>-0.0031382752</td><td>⋯</td><td> 0.008278355</td><td> 0.0001931016</td><td>-0.005094602</td><td> 0.0028290347</td><td> 0.0009537677</td><td> 0.002132480</td><td> 0.012981176</td><td>-0.0209944783</td><td>-0.001496447</td><td>-0.0032482439</td></tr>\n",
       "\t<tr><td>-0.008108760</td><td> 0.0015281041</td><td>0.004592110</td><td>-7.836804e-03</td><td> 0.002823339</td><td>0.0022566112</td><td> 0.0031078898</td><td>-1.156762e-04</td><td> 0.0001972283</td><td>-0.0040141988</td><td>⋯</td><td>-0.012390217</td><td>-0.0031648826</td><td> 0.009541483</td><td> 0.0027030098</td><td>-0.0007984402</td><td>-0.012082119</td><td> 0.010887267</td><td>-0.0022341602</td><td>-0.004085697</td><td>-0.0060873099</td></tr>\n",
       "\t<tr><td> 0.008938876</td><td> 0.0006916050</td><td>0.004663470</td><td> 8.402255e-05</td><td> 0.001085982</td><td>0.0026497992</td><td> 0.0033395725</td><td> 2.563578e-03</td><td>-0.0026726362</td><td>-0.0002996245</td><td>⋯</td><td>-0.006185586</td><td>-0.0048198469</td><td> 0.003343766</td><td>-0.0021676098</td><td> 0.0022386804</td><td> 0.003489230</td><td> 0.007948025</td><td>-0.0008856395</td><td> 0.002323073</td><td>-0.0007892155</td></tr>\n",
       "\t<tr><td> 0.002806485</td><td> 0.0052999336</td><td>0.003398989</td><td>-3.305127e-03</td><td> 0.000603851</td><td>0.0004749406</td><td> 0.0070639287</td><td>-2.017282e-05</td><td>-0.0012545485</td><td>-0.0106848200</td><td>⋯</td><td> 0.012219089</td><td> 0.0194636303</td><td> 0.011813677</td><td> 0.0098170893</td><td>-0.0210587766</td><td>-0.002653762</td><td> 0.006859786</td><td>-0.0036161516</td><td>-0.004182263</td><td> 0.0163174848</td></tr>\n",
       "</tbody>\n",
       "</table>\n"
      ],
      "text/latex": [
       "A matrix: 6 × 4345 of type dbl\n",
       "\\begin{tabular}{lllllllllllllllllllll}\n",
       "\t -0.009084249 &  0.0048984083 & 0.003729253 & -5.068619e-03 & -0.001676492 & 0.0012167764 &  0.0004521597 & -1.731784e-03 &  0.0028415248 & -0.0108770568 & ⋯ &  0.010316521 & -0.0018216236 &  0.009547465 &  0.0007294641 & -0.0107351040 & -0.003858802 & -0.001301917 & -0.0065631243 &  0.015982440 &  0.0059481690\\\\\n",
       "\t  0.005227597 & -0.0006597834 & 0.007296205 &  5.113093e-03 &  0.004106840 & 0.0058876053 & -0.0220267426 &  1.199124e-02 &  0.0042095739 & -0.0094073135 & ⋯ &  0.005766039 &  0.0031255668 & -0.017016444 &  0.0020608788 &  0.0178844464 &  0.010818435 &  0.008424042 & -0.0046739341 & -0.006138034 & -0.0042348002\\\\\n",
       "\t -0.007538556 &  0.0024068316 & 0.006820188 & -6.764531e-03 &  0.001602638 & 0.0026827639 & -0.0056995087 & -3.174828e-03 & -0.0118093426 & -0.0031382752 & ⋯ &  0.008278355 &  0.0001931016 & -0.005094602 &  0.0028290347 &  0.0009537677 &  0.002132480 &  0.012981176 & -0.0209944783 & -0.001496447 & -0.0032482439\\\\\n",
       "\t -0.008108760 &  0.0015281041 & 0.004592110 & -7.836804e-03 &  0.002823339 & 0.0022566112 &  0.0031078898 & -1.156762e-04 &  0.0001972283 & -0.0040141988 & ⋯ & -0.012390217 & -0.0031648826 &  0.009541483 &  0.0027030098 & -0.0007984402 & -0.012082119 &  0.010887267 & -0.0022341602 & -0.004085697 & -0.0060873099\\\\\n",
       "\t  0.008938876 &  0.0006916050 & 0.004663470 &  8.402255e-05 &  0.001085982 & 0.0026497992 &  0.0033395725 &  2.563578e-03 & -0.0026726362 & -0.0002996245 & ⋯ & -0.006185586 & -0.0048198469 &  0.003343766 & -0.0021676098 &  0.0022386804 &  0.003489230 &  0.007948025 & -0.0008856395 &  0.002323073 & -0.0007892155\\\\\n",
       "\t  0.002806485 &  0.0052999336 & 0.003398989 & -3.305127e-03 &  0.000603851 & 0.0004749406 &  0.0070639287 & -2.017282e-05 & -0.0012545485 & -0.0106848200 & ⋯ &  0.012219089 &  0.0194636303 &  0.011813677 &  0.0098170893 & -0.0210587766 & -0.002653762 &  0.006859786 & -0.0036161516 & -0.004182263 &  0.0163174848\\\\\n",
       "\\end{tabular}\n"
      ],
      "text/markdown": [
       "\n",
       "A matrix: 6 × 4345 of type dbl\n",
       "\n",
       "| -0.009084249 |  0.0048984083 | 0.003729253 | -5.068619e-03 | -0.001676492 | 0.0012167764 |  0.0004521597 | -1.731784e-03 |  0.0028415248 | -0.0108770568 | ⋯ |  0.010316521 | -0.0018216236 |  0.009547465 |  0.0007294641 | -0.0107351040 | -0.003858802 | -0.001301917 | -0.0065631243 |  0.015982440 |  0.0059481690 |\n",
       "|  0.005227597 | -0.0006597834 | 0.007296205 |  5.113093e-03 |  0.004106840 | 0.0058876053 | -0.0220267426 |  1.199124e-02 |  0.0042095739 | -0.0094073135 | ⋯ |  0.005766039 |  0.0031255668 | -0.017016444 |  0.0020608788 |  0.0178844464 |  0.010818435 |  0.008424042 | -0.0046739341 | -0.006138034 | -0.0042348002 |\n",
       "| -0.007538556 |  0.0024068316 | 0.006820188 | -6.764531e-03 |  0.001602638 | 0.0026827639 | -0.0056995087 | -3.174828e-03 | -0.0118093426 | -0.0031382752 | ⋯ |  0.008278355 |  0.0001931016 | -0.005094602 |  0.0028290347 |  0.0009537677 |  0.002132480 |  0.012981176 | -0.0209944783 | -0.001496447 | -0.0032482439 |\n",
       "| -0.008108760 |  0.0015281041 | 0.004592110 | -7.836804e-03 |  0.002823339 | 0.0022566112 |  0.0031078898 | -1.156762e-04 |  0.0001972283 | -0.0040141988 | ⋯ | -0.012390217 | -0.0031648826 |  0.009541483 |  0.0027030098 | -0.0007984402 | -0.012082119 |  0.010887267 | -0.0022341602 | -0.004085697 | -0.0060873099 |\n",
       "|  0.008938876 |  0.0006916050 | 0.004663470 |  8.402255e-05 |  0.001085982 | 0.0026497992 |  0.0033395725 |  2.563578e-03 | -0.0026726362 | -0.0002996245 | ⋯ | -0.006185586 | -0.0048198469 |  0.003343766 | -0.0021676098 |  0.0022386804 |  0.003489230 |  0.007948025 | -0.0008856395 |  0.002323073 | -0.0007892155 |\n",
       "|  0.002806485 |  0.0052999336 | 0.003398989 | -3.305127e-03 |  0.000603851 | 0.0004749406 |  0.0070639287 | -2.017282e-05 | -0.0012545485 | -0.0106848200 | ⋯ |  0.012219089 |  0.0194636303 |  0.011813677 |  0.0098170893 | -0.0210587766 | -0.002653762 |  0.006859786 | -0.0036161516 | -0.004182263 |  0.0163174848 |\n",
       "\n"
      ],
      "text/plain": [
       "     [,1]         [,2]          [,3]        [,4]          [,5]        \n",
       "[1,] -0.009084249  0.0048984083 0.003729253 -5.068619e-03 -0.001676492\n",
       "[2,]  0.005227597 -0.0006597834 0.007296205  5.113093e-03  0.004106840\n",
       "[3,] -0.007538556  0.0024068316 0.006820188 -6.764531e-03  0.001602638\n",
       "[4,] -0.008108760  0.0015281041 0.004592110 -7.836804e-03  0.002823339\n",
       "[5,]  0.008938876  0.0006916050 0.004663470  8.402255e-05  0.001085982\n",
       "[6,]  0.002806485  0.0052999336 0.003398989 -3.305127e-03  0.000603851\n",
       "     [,6]         [,7]          [,8]          [,9]          [,10]         [,11]\n",
       "[1,] 0.0012167764  0.0004521597 -1.731784e-03  0.0028415248 -0.0108770568 ⋯    \n",
       "[2,] 0.0058876053 -0.0220267426  1.199124e-02  0.0042095739 -0.0094073135 ⋯    \n",
       "[3,] 0.0026827639 -0.0056995087 -3.174828e-03 -0.0118093426 -0.0031382752 ⋯    \n",
       "[4,] 0.0022566112  0.0031078898 -1.156762e-04  0.0001972283 -0.0040141988 ⋯    \n",
       "[5,] 0.0026497992  0.0033395725  2.563578e-03 -0.0026726362 -0.0002996245 ⋯    \n",
       "[6,] 0.0004749406  0.0070639287 -2.017282e-05 -0.0012545485 -0.0106848200 ⋯    \n",
       "     [,12]        [,13]         [,14]        [,15]         [,16]        \n",
       "[1,]  0.010316521 -0.0018216236  0.009547465  0.0007294641 -0.0107351040\n",
       "[2,]  0.005766039  0.0031255668 -0.017016444  0.0020608788  0.0178844464\n",
       "[3,]  0.008278355  0.0001931016 -0.005094602  0.0028290347  0.0009537677\n",
       "[4,] -0.012390217 -0.0031648826  0.009541483  0.0027030098 -0.0007984402\n",
       "[5,] -0.006185586 -0.0048198469  0.003343766 -0.0021676098  0.0022386804\n",
       "[6,]  0.012219089  0.0194636303  0.011813677  0.0098170893 -0.0210587766\n",
       "     [,17]        [,18]        [,19]         [,20]        [,21]        \n",
       "[1,] -0.003858802 -0.001301917 -0.0065631243  0.015982440  0.0059481690\n",
       "[2,]  0.010818435  0.008424042 -0.0046739341 -0.006138034 -0.0042348002\n",
       "[3,]  0.002132480  0.012981176 -0.0209944783 -0.001496447 -0.0032482439\n",
       "[4,] -0.012082119  0.010887267 -0.0022341602 -0.004085697 -0.0060873099\n",
       "[5,]  0.003489230  0.007948025 -0.0008856395  0.002323073 -0.0007892155\n",
       "[6,] -0.002653762  0.006859786 -0.0036161516 -0.004182263  0.0163174848"
      ]
     },
     "metadata": {},
     "output_type": "display_data"
    }
   ],
   "source": [
    "# Check the dimensions of your matrices\n",
    "dim(expression_matrix_dp)\n",
    "dim(all_paths_cm)\n",
    "\n",
    "# Check the dimensions of svdres\n",
    "str(svdres)"
   ]
  },
  {
   "cell_type": "code",
   "execution_count": null,
   "id": "90394f76-c107-461c-aa86-5b043ffaa696",
   "metadata": {
    "editable": true,
    "slideshow": {
     "slide_type": ""
    },
    "tags": []
   },
   "outputs": [],
   "source": [
    "head(delayedPlier_result$Z)"
   ]
  },
  {
   "cell_type": "code",
   "execution_count": null,
   "id": "561e7b36-a8d6-44bd-a6e9-ff6bb9a053ab",
   "metadata": {},
   "outputs": [],
   "source": [
    "head(delayedPlier_result$B)"
   ]
  },
  {
   "cell_type": "markdown",
   "id": "8455fd89-8cf1-46b2-bbf8-8c3482932bdd",
   "metadata": {},
   "source": [
    "# run delayedPLIER step by step"
   ]
  },
  {
   "cell_type": "code",
   "execution_count": 30,
   "id": "95a1ac52-0155-4572-8034-37c944a86224",
   "metadata": {},
   "outputs": [],
   "source": [
    "data=expression_matrix_dp\n",
    "priorMat=all_paths_cm\n",
    "svdres=NULL\n",
    "k=k\n",
    "L1=NULL\n",
    "L2=NULL\n",
    "L3=NULL\n",
    "frac=frac\n",
    "max.iter=350\n",
    "trace=F\n",
    "scale=FALSE\n",
    "Chat=NULL\n",
    "maxPath=10\n",
    "doCrossval=T\n",
    "penalty.factor=rep(1,ncol(priorMat))\n",
    "glm_alpha=0.9\n",
    "minGenes=10\n",
    "tol=1e-6\n",
    "seed=123456\n",
    "allGenes=F\n",
    "rseed=NULL\n",
    "pathwaySelection=c(\"complete\", \"fast\")\n",
    "output_path = \"output/\""
   ]
  },
  {
   "cell_type": "code",
   "execution_count": 32,
   "id": "94991798-c394-483d-96fa-f3b8c58b14b1",
   "metadata": {},
   "outputs": [
    {
     "name": "stderr",
     "output_type": "stream",
     "text": [
      "Removing 4 pathways with too few genes\n",
      "\n"
     ]
    }
   ],
   "source": [
    "pathwaySelection=match.arg(pathwaySelection, c(\"complete\", \"fast\"))\n",
    "\n",
    "if(scale){\n",
    "Y=rowNorm(data)\n",
    "} else{\n",
    "Y=data\n",
    "}\n",
    "\n",
    "if(nrow(priorMat)!=nrow(data) || !all(rownames(priorMat)==rownames(data))){\n",
    "if(!allGenes){\n",
    "  cm=commonRows(data, priorMat)\n",
    "  message(paste(\"Selecting common genes:\", length(cm)))\n",
    "  priorMat=priorMat[cm,]\n",
    "  Y=Y[cm,]\n",
    "} else{\n",
    "  extra.genes=setdiff(rownames(data), rownames(priorMat))\n",
    "  eMat=matrix(0, nrow=length(extra.genes), ncol=ncol(priorMat))\n",
    "  rownames(eMat)=extra.genes\n",
    "  priorMat=rbind(priorMat, eMat)\n",
    "  priorMat=priorMat[rownames(data),]\n",
    "}\n",
    "\n",
    "}\n",
    "numGenes=colSums(priorMat)\n",
    "\n",
    "heldOutGenes=list()\n",
    "iibad=which(numGenes<minGenes)\n",
    "priorMat[, iibad]=0\n",
    "message(paste(\"Removing\", length(iibad), \"pathways with too few genes\"))\n",
    "if(doCrossval){\n",
    "\n",
    "\n",
    "priorMatCV=priorMat\n",
    "if(!is.null(seed))\n",
    "  set.seed(seed)\n",
    "for(j in 1:ncol(priorMatCV)){\n",
    "  \n",
    "  iipos=which(priorMatCV[,j]>0)\n",
    "  iiposs=sample(iipos, length(iipos)/5)\n",
    "  priorMatCV[iiposs,j]=0\n",
    "  heldOutGenes[[colnames(priorMat)[j]]]=rownames(priorMat)[iiposs]\n",
    "  \n",
    "}#for j\n",
    "C = priorMatCV\n",
    "}else{\n",
    "C=priorMat\n",
    "}#else\n",
    "\n",
    "nc=ncol(priorMat)\n",
    "ng=nrow(data)\n",
    "ns=ncol(data)\n",
    "\n",
    "Bdiff=-1\n",
    "BdiffTrace=double()\n",
    "BdiffCount=0\n",
    "if(is.null(Chat)){\n",
    "Cp=crossprod(C)\n",
    "Chat=pinv.ridge(crossprod(C), 5)%*%(t(C))\n",
    "}\n",
    "\n",
    "Yseq = Y^2\n",
    "YsqSum=sum(DelayedMatrixStats::rowSums2(Yseq))"
   ]
  },
  {
   "cell_type": "code",
   "execution_count": 33,
   "id": "b8cead56-b9be-4b8a-94ca-ab5704458c18",
   "metadata": {},
   "outputs": [
    {
     "name": "stderr",
     "output_type": "stream",
     "text": [
      "Computing SVD\n",
      "\n",
      "Using rsvd\n",
      "\n",
      "Done\n",
      "\n"
     ]
    },
    {
     "name": "stdout",
     "output_type": "stream",
     "text": [
      "[1] 55.53993\n",
      "[1] \"L2 is set to 55.5399316449024\"\n",
      "[1] \"L1 is set to 27.7699658224512\"\n"
     ]
    }
   ],
   "source": [
    "#compute svd and use that as the starting point\n",
    "if(!is.null(svdres) && nrow(svdres$v)!=ncol(Y)){\n",
    "message(\"SVD V has the wrong number of columns\")\n",
    "svdres=NULL\n",
    "}\n",
    "\n",
    "if(is.null(svdres)){\n",
    "message(\"Computing SVD\")\n",
    "if(ns>500){\n",
    "  message(\"Using rsvd\")\n",
    "  set.seed(123456);\n",
    "  #svdres=rsvd(Y, k=min(ns, max(200, ns/4)), q=3)\n",
    "  svdres = BiocSingular::runRandomSVD(Y, k = min(ns, max(200, ns/4)), center = F, scale = F)\n",
    "} else{\n",
    "  svdres=BiocSingular::runRandomSVD(Y, k = min(ng, ns))\n",
    "}\n",
    "message(\"Done\")\n",
    "}\n",
    "\n",
    "if(is.null(k)){\n",
    "k=num.pc(svdres)*2\n",
    "k <- min(k, floor(ncol(Y)*0.9))\n",
    "message(\"k is set to \", k)\n",
    "}\n",
    "\n",
    "if(is.null(L2)){\n",
    "show(svdres$d[k])\n",
    "L2=svdres$d[k]\n",
    "print(paste0(\"L2 is set to \",L2))\n",
    "}\n",
    "\n",
    "if(is.null(L1)){\n",
    "L1=L2/2\n",
    "print(paste0(\"L1 is set to \",L1))\n",
    "}"
   ]
  },
  {
   "cell_type": "code",
   "execution_count": null,
   "id": "10575e88-3e8d-4da3-95f1-efdfe116f8bf",
   "metadata": {},
   "outputs": [],
   "source": [
    "B=t(svdres$v[1:ncol(Y), 1:k]%*%diag(svdres$d[1:k]))\n",
    "Z=(Y%*%t(B))%*%solve(tcrossprod(B)+L1*diag(k))\n",
    "Z[Z<0]=0\n",
    "if(!is.null(rseed)){\n",
    "message(\"using random start\")\n",
    "set.seed(rseed)\n",
    "B=t(apply(B, 1, sample))\n",
    "Z=apply(Z,2,sample)\n",
    "}\n",
    "\n",
    "B <- DelayedArray(B)\n",
    "U=matrix(0,nrow=ncol(C), ncol=k)\n",
    "\n",
    "round2=function(x){signif(x,4)}\n",
    "message(paste0(\"errorY (SVD based:best possible) = \", round2(mean((Y-Z%*%B)^2))))\n",
    "\n",
    "\n",
    "iter.full.start=iter.full=20\n",
    "\n",
    "curfrac=0\n",
    "nposlast=Inf\n",
    "npos=-Inf\n",
    "if(!is.null(L3)){\n",
    "L3.given=T\n",
    "}else{\n",
    "L3.given=F\n",
    "}#else"
   ]
  }
 ],
 "metadata": {
  "kernelspec": {
   "display_name": "R",
   "language": "R",
   "name": "ir"
  },
  "language_info": {
   "codemirror_mode": "r",
   "file_extension": ".r",
   "mimetype": "text/x-r-source",
   "name": "R",
   "pygments_lexer": "r",
   "version": "4.3.3"
  }
 },
 "nbformat": 4,
 "nbformat_minor": 5
}
