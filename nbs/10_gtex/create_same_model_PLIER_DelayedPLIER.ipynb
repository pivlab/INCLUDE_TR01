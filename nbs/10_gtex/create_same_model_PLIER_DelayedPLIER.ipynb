{
 "cells": [
  {
   "cell_type": "markdown",
   "id": "89e8219d-bced-496e-86b7-358e6b7415d7",
   "metadata": {},
   "source": [
    "# Create same model PLIER DelayedPLIER"
   ]
  },
  {
   "cell_type": "markdown",
   "id": "c84f160a-9642-4fcb-ba0f-64bbea4cb27e",
   "metadata": {
    "editable": true,
    "slideshow": {
     "slide_type": ""
    },
    "tags": []
   },
   "source": [
    "Marc Subirana-Granés (2024)\n",
    "\n",
    "Create a basic PLIER model to compare between the results between PLIER and DelayedPLIER"
   ]
  },
  {
   "cell_type": "markdown",
   "id": "0b4737e3-147b-4c7e-bba3-0eea377ea36a",
   "metadata": {},
   "source": [
    "# Load libraries/modules"
   ]
  },
  {
   "cell_type": "code",
   "execution_count": 4,
   "id": "db0f2cda-247b-4fd4-ac26-f2441bd33055",
   "metadata": {},
   "outputs": [
    {
     "name": "stderr",
     "output_type": "stream",
     "text": [
      "Loading required package: RColorBrewer\n",
      "\n",
      "Loading required package: gplots\n",
      "\n",
      "\n",
      "Attaching package: ‘gplots’\n",
      "\n",
      "\n",
      "The following object is masked from ‘package:stats’:\n",
      "\n",
      "    lowess\n",
      "\n",
      "\n",
      "Loading required package: pheatmap\n",
      "\n",
      "Loading required package: glmnet\n",
      "\n",
      "Loading required package: Matrix\n",
      "\n",
      "Loaded glmnet 4.1-8\n",
      "\n",
      "Loading required package: knitr\n",
      "\n",
      "Loading required package: rsvd\n",
      "\n",
      "Loading required package: qvalue\n",
      "\n",
      "\n",
      "Attaching package: ‘dplyr’\n",
      "\n",
      "\n",
      "The following objects are masked from ‘package:stats’:\n",
      "\n",
      "    filter, lag\n",
      "\n",
      "\n",
      "The following objects are masked from ‘package:base’:\n",
      "\n",
      "    intersect, setdiff, setequal, union\n",
      "\n",
      "\n",
      "here() starts at /home/msubirana/Documents/pivlab/plier_recount3\n",
      "\n",
      "Loading required package: DelayedArray\n",
      "\n",
      "Loading required package: stats4\n",
      "\n",
      "Loading required package: BiocGenerics\n",
      "\n",
      "\n",
      "Attaching package: ‘BiocGenerics’\n",
      "\n",
      "\n",
      "The following objects are masked from ‘package:dplyr’:\n",
      "\n",
      "    combine, intersect, setdiff, union\n",
      "\n",
      "\n",
      "The following objects are masked from ‘package:stats’:\n",
      "\n",
      "    IQR, mad, sd, var, xtabs\n",
      "\n",
      "\n",
      "The following objects are masked from ‘package:base’:\n",
      "\n",
      "    anyDuplicated, aperm, append, as.data.frame, basename, cbind,\n",
      "    colnames, dirname, do.call, duplicated, eval, evalq, Filter, Find,\n",
      "    get, grep, grepl, intersect, is.unsorted, lapply, Map, mapply,\n",
      "    match, mget, order, paste, pmax, pmax.int, pmin, pmin.int,\n",
      "    Position, rank, rbind, Reduce, rownames, sapply, setdiff, sort,\n",
      "    table, tapply, union, unique, unsplit, which.max, which.min\n",
      "\n",
      "\n",
      "Loading required package: MatrixGenerics\n",
      "\n",
      "Loading required package: matrixStats\n",
      "\n",
      "\n",
      "Attaching package: ‘matrixStats’\n",
      "\n",
      "\n",
      "The following object is masked from ‘package:dplyr’:\n",
      "\n",
      "    count\n",
      "\n",
      "\n",
      "\n",
      "Attaching package: ‘MatrixGenerics’\n",
      "\n",
      "\n",
      "The following objects are masked from ‘package:matrixStats’:\n",
      "\n",
      "    colAlls, colAnyNAs, colAnys, colAvgsPerRowSet, colCollapse,\n",
      "    colCounts, colCummaxs, colCummins, colCumprods, colCumsums,\n",
      "    colDiffs, colIQRDiffs, colIQRs, colLogSumExps, colMadDiffs,\n",
      "    colMads, colMaxs, colMeans2, colMedians, colMins, colOrderStats,\n",
      "    colProds, colQuantiles, colRanges, colRanks, colSdDiffs, colSds,\n",
      "    colSums2, colTabulates, colVarDiffs, colVars, colWeightedMads,\n",
      "    colWeightedMeans, colWeightedMedians, colWeightedSds,\n",
      "    colWeightedVars, rowAlls, rowAnyNAs, rowAnys, rowAvgsPerColSet,\n",
      "    rowCollapse, rowCounts, rowCummaxs, rowCummins, rowCumprods,\n",
      "    rowCumsums, rowDiffs, rowIQRDiffs, rowIQRs, rowLogSumExps,\n",
      "    rowMadDiffs, rowMads, rowMaxs, rowMeans2, rowMedians, rowMins,\n",
      "    rowOrderStats, rowProds, rowQuantiles, rowRanges, rowRanks,\n",
      "    rowSdDiffs, rowSds, rowSums2, rowTabulates, rowVarDiffs, rowVars,\n",
      "    rowWeightedMads, rowWeightedMeans, rowWeightedMedians,\n",
      "    rowWeightedSds, rowWeightedVars\n",
      "\n",
      "\n",
      "Loading required package: S4Vectors\n",
      "\n",
      "\n",
      "Attaching package: ‘S4Vectors’\n",
      "\n",
      "\n",
      "The following objects are masked from ‘package:dplyr’:\n",
      "\n",
      "    first, rename\n",
      "\n",
      "\n",
      "The following objects are masked from ‘package:Matrix’:\n",
      "\n",
      "    expand, unname\n",
      "\n",
      "\n",
      "The following object is masked from ‘package:gplots’:\n",
      "\n",
      "    space\n",
      "\n",
      "\n",
      "The following object is masked from ‘package:utils’:\n",
      "\n",
      "    findMatches\n",
      "\n",
      "\n",
      "The following objects are masked from ‘package:base’:\n",
      "\n",
      "    expand.grid, I, unname\n",
      "\n",
      "\n",
      "Loading required package: IRanges\n",
      "\n",
      "\n",
      "Attaching package: ‘IRanges’\n",
      "\n",
      "\n",
      "The following objects are masked from ‘package:dplyr’:\n",
      "\n",
      "    collapse, desc, slice\n",
      "\n",
      "\n",
      "Loading required package: S4Arrays\n",
      "\n",
      "Loading required package: abind\n",
      "\n",
      "\n",
      "Attaching package: ‘S4Arrays’\n",
      "\n",
      "\n",
      "The following object is masked from ‘package:abind’:\n",
      "\n",
      "    abind\n",
      "\n",
      "\n",
      "The following object is masked from ‘package:base’:\n",
      "\n",
      "    rowsum\n",
      "\n",
      "\n",
      "Loading required package: SparseArray\n",
      "\n",
      "\n",
      "Attaching package: ‘DelayedArray’\n",
      "\n",
      "\n",
      "The following objects are masked from ‘package:base’:\n",
      "\n",
      "    apply, scale, sweep\n",
      "\n",
      "\n",
      "Loading required package: rhdf5\n",
      "\n",
      "\n",
      "Attaching package: ‘HDF5Array’\n",
      "\n",
      "\n",
      "The following object is masked from ‘package:rhdf5’:\n",
      "\n",
      "    h5ls\n",
      "\n",
      "\n"
     ]
    }
   ],
   "source": [
    "`%>%` <- dplyr::`%>%`\n",
    "library(PLIER)\n",
    "library(dplyr)\n",
    "library(reticulate)\n",
    "library(here)\n",
    "\n",
    "# PLIER utils\n",
    "source(here::here('scripts/plier_util.R'))\n",
    "\n",
    "#delayedPLIER functions from repo\n",
    "path_script_funcs = '/home/msubirana/Documents/pivlab/DelayedPLIER/funcs.R'\n",
    "source(path_script_funcs)\n",
    "\n",
    "# Load PLIER pathway and cell type data\n",
    "data(bloodCellMarkersIRISDMAP)\n",
    "data(svmMarkers)\n",
    "data(canonicalPathways)"
   ]
  },
  {
   "cell_type": "markdown",
   "id": "1d2c7694-f71c-4421-bb58-5b347a6fd930",
   "metadata": {},
   "source": [
    "# Load data"
   ]
  },
  {
   "cell_type": "code",
   "execution_count": 5,
   "id": "b5f2dca3-43bc-4d2a-b044-8de7e7ef3b71",
   "metadata": {},
   "outputs": [],
   "source": [
    "# define output nb\n",
    "output_nb_path = here('output/nbs/create_same_model_PLIER_DelayedPLIER')\n",
    "dir.create(output_nb_path, showWarnings = FALSE)\n",
    "expression_dataset_path <- here::here('output/gtex/GTEx_v8_gene_median_tpm.rds')"
   ]
  },
  {
   "cell_type": "markdown",
   "id": "11751733-f4a9-40bd-a93a-8be5d8d0627f",
   "metadata": {},
   "source": [
    "# Prepare data for all the models"
   ]
  },
  {
   "cell_type": "code",
   "execution_count": 7,
   "id": "278d37cd-233b-4505-8596-d4cc0f3a71de",
   "metadata": {
    "editable": true,
    "slideshow": {
     "slide_type": ""
    },
    "tags": []
   },
   "outputs": [],
   "source": [
    "# Load data\n",
    "expression_dataset <- readRDS(expression_dataset_path)\n",
    "\n",
    "# Remove gene ens id column and duplicate genes\n",
    "expression_dataset <- subset(expression_dataset, select = -c(gene_ens_id))\n",
    "expression_dataset <- expression_dataset[!duplicated(expression_dataset[\"gene_symbol\"]),]\n",
    "\n",
    "# Rename rows with gene symbols\n",
    "rownames(expression_dataset) <- expression_dataset[,\"gene_symbol\"]\n",
    "\n",
    "# Remove gene symbol column\n",
    "expression_dataset <- subset(expression_dataset, select = -c(gene_symbol))\n",
    "\n",
    "# Remove NA\n",
    "expression_dataset = na.omit(expression_dataset)\n",
    "\n",
    "# Convert to matrix\n",
    "expression_matrix <- as.matrix(expression_dataset)\n",
    "\n",
    "# Combine the pathway data from PLIER\n",
    "all_paths <- PLIER::combinePaths(bloodCellMarkersIRISDMAP, svmMarkers, canonicalPathways)\n",
    "\n",
    "# What genes are common to the pathway data and the expression matrix\n",
    "cm_genes <- PLIER::commonRows(all_paths, expression_matrix)\n",
    "\n",
    "# filter to common genes before row normalization to save on computation\n",
    "expression_matrix_cm <- expression_matrix[cm_genes, ]\n",
    "\n",
    "# Z-score normalization\n",
    "expression_matrix_cm <- PLIER::rowNorm(expression_matrix_cm) \n",
    "\n",
    "# Remove NA\n",
    "expression_matrix_cm=na.omit(expression_matrix_cm)\n",
    "\n",
    "# What genes are common to the pathway data and the expression matrix\n",
    "cm_genes <- PLIER::commonRows(all_paths, expression_matrix_cm)\n",
    "\n",
    "# filter to common genes before row normalization to save on computation\n",
    "expression_matrix_cm <- expression_matrix_cm[cm_genes, ]\n",
    "all_paths_cm <- all_paths[cm_genes, ]"
   ]
  },
  {
   "cell_type": "markdown",
   "id": "90fc2331-3d07-4bb7-973a-2c46e89dce9f",
   "metadata": {},
   "source": [
    "# PLIER preparation"
   ]
  },
  {
   "cell_type": "code",
   "execution_count": 8,
   "id": "ece492c2-7a94-4ce7-be64-b382bb54da2b",
   "metadata": {},
   "outputs": [
    {
     "name": "stderr",
     "output_type": "stream",
     "text": [
      "Computing SVD\n",
      "\n",
      "Using rsvd\n",
      "\n",
      "Done\n",
      "\n"
     ]
    }
   ],
   "source": [
    "ns=ncol(expression_matrix_cm)\n",
    "\n",
    "message(\"Computing SVD\")\n",
    "if(ns>500){\n",
    "    message(\"Using rsvd\")\n",
    "    set.seed(123456);\n",
    "    svdres = BiocSingular::runRandomSVD(expression_matrix_cm, k = min(ns, max(200, ns/4)), center = F, scale = F)\n",
    "} else {\n",
    "    svdres=BiocSingular::runRandomSVD(expression_matrix_cm, k = min(ng, ns))\n",
    "}\n",
    "\n",
    "message(\"Done\")\n",
    "\n",
    "output_file_preplier <- file.path(output_nb_path, 'preplier_comparison_dp_p.rds')\n",
    "plier_data_list <- list(\"expression_matrix_cm\" = expression_matrix_cm,\n",
    "                        \"all_paths_cm\" = all_paths[cm_genes, ],\n",
    "                        \"svdres\" = svdres)\n",
    "\n",
    "saveRDS(plier_data_list, file = output_file_preplier)"
   ]
  },
  {
   "cell_type": "markdown",
   "id": "805213c1-e5b0-4878-a216-a1939319ca8b",
   "metadata": {},
   "source": [
    "# PLIER "
   ]
  },
  {
   "cell_type": "code",
   "execution_count": 9,
   "id": "5ec74034-2bdd-4836-974c-f44b045decfd",
   "metadata": {
    "scrolled": true
   },
   "outputs": [
    {
     "name": "stderr",
     "output_type": "stream",
     "text": [
      "k is set to 1042\n",
      "\n",
      "Removing 4 pathways with too few genes\n",
      "\n"
     ]
    },
    {
     "name": "stdout",
     "output_type": "stream",
     "text": [
      "[1] 55.53993\n",
      "[1] \"L2 is set to 55.5399316449024\"\n",
      "[1] \"L1 is set to 27.7699658224512\"\n"
     ]
    },
    {
     "name": "stderr",
     "output_type": "stream",
     "text": [
      "errorY (SVD based:best possible) = 0.6327\n",
      "\n",
      "New L3 is 0.000911881965554516\n",
      "\n",
      "New L3 is 0.000804733010124613\n",
      "\n",
      "New L3 is 0.000710174388842549\n",
      "\n",
      "New L3 is 0.000804733010124613\n",
      "\n",
      "New L3 is 0.000804733010124613\n",
      "\n",
      "New L3 is 0.000911881965554516\n",
      "\n",
      "New L3 is 0.000911881965554516\n",
      "\n",
      "New L3 is 0.000911881965554516\n",
      "\n",
      "New L3 is 0.000911881965554516\n",
      "\n",
      "New L3 is 0.000911881965554516\n",
      "\n",
      "New L3 is 0.000911881965554516\n",
      "\n",
      "New L3 is 0.00103329763864764\n",
      "\n",
      "New L3 is 0.000911881965554516\n",
      "\n",
      "New L3 is 0.00103329763864764\n",
      "\n",
      "Bdiff is not decreasing\n",
      "\n",
      "Bdiff is not decreasing\n",
      "\n",
      "Bdiff is not decreasing\n",
      "\n",
      "New L3 is 0.000911881965554516\n",
      "\n",
      "Bdiff is not decreasing\n",
      "\n",
      "Bdiff is not decreasing\n",
      "\n",
      "Bdiff is not decreasing\n",
      "\n",
      "converged at  iteration 302 Bdiff is not decreasing\n",
      "\n",
      "There are 216  LVs with AUC>0.70\n",
      "\n"
     ]
    },
    {
     "ename": "ERROR",
     "evalue": "Error in h(simpleError(msg, call)): error in evaluating the argument 'path' in selecting a method for function 'dirname': object 'output_file' not found\n",
     "output_type": "error",
     "traceback": [
      "Error in h(simpleError(msg, call)): error in evaluating the argument 'path' in selecting a method for function 'dirname': object 'output_file' not found\nTraceback:\n",
      "1. dirname(output_file)",
      "2. .handleSimpleError(function (cond) \n . .Internal(C_tryCatchHelper(addr, 1L, cond)), \"object 'output_file' not found\", \n .     base::quote(eval(expr, envir, enclos)))",
      "3. h(simpleError(msg, call))"
     ]
    }
   ],
   "source": [
    "# Assign arguments to variables \n",
    "output_file_plier <- file.path(output_nb_path, 'PLIER_comparison_dp_p.rds')\n",
    "parameter_k <- 1\n",
    "frac <- 0.7\n",
    "\n",
    "# Load data\n",
    "expression_matrix_cm=plier_data_list$expression_matrix_cm\n",
    "all_paths_cm=plier_data_list$all_paths_cm\n",
    "svdres=plier_data_list$svdres\n",
    "\n",
    "# compute k\n",
    "k=num.pc(svdres)*2\n",
    "k <- min(k, floor(ncol(expression_matrix_cm)*0.9))\n",
    "k = k * parameter_k\n",
    "k = round(k, 0)\n",
    "message(\"k is set to \", k)\n",
    "\n",
    "# Run PLIER (with common genes)\n",
    "plier_result=PLIER::PLIER(data=expression_matrix_cm, priorMat=all_paths_cm , svdres=svdres, k=k, frac=frac, scale=FALSE)\n",
    "\n",
    "# Prepare output directory\n",
    "output_file_path=dirname(output_file)\n",
    "dir.create(dirname(output_file_path), showWarnings = FALSE, recursive = TRUE)\n",
    "\n",
    "# Save results\n",
    "saveRDS(plier_result, file = output_file_plier)"
   ]
  },
  {
   "cell_type": "markdown",
   "id": "9b12e706-22c3-407e-aabe-b855bb3440e7",
   "metadata": {},
   "source": [
    "# DelayedPLIER"
   ]
  },
  {
   "cell_type": "code",
   "execution_count": 10,
   "id": "bf138d73-e9b8-4880-a449-4e462cafb4a8",
   "metadata": {},
   "outputs": [],
   "source": [
    "output_file_preplier <- file.path(output_nb_path, 'preplier_comparison_dp_p.rds')\n",
    "rds_preplier <- readRDS(output_file_preplier)\n",
    "expression_matrix_cm <- rds_preplier$expression_matrix_cm\n",
    "all_paths_cm <- rds_preplier$all_paths_cm\n",
    "svdres <- rds_preplier$svdres"
   ]
  },
  {
   "cell_type": "code",
   "execution_count": 11,
   "id": "23d535fc-3020-47df-ae2c-4875d5dcfbe2",
   "metadata": {
    "editable": true,
    "slideshow": {
     "slide_type": ""
    },
    "tags": []
   },
   "outputs": [
    {
     "name": "stderr",
     "output_type": "stream",
     "text": [
      "Can not create dataset. Object with name 'count' already exists.\n",
      "\n"
     ]
    },
    {
     "ename": "ERROR",
     "evalue": "Error in H5Dcreate(loc$H5Identifier, dataset, tid, sid, dcpl = dcpl): HDF5. Dataset. Unable to initialize object.\n",
     "output_type": "error",
     "traceback": [
      "Error in H5Dcreate(loc$H5Identifier, dataset, tid, sid, dcpl = dcpl): HDF5. Dataset. Unable to initialize object.\nTraceback:\n",
      "1. writeHDF5Array(expression_matrix_cm, filepath = output_file_delayedPLIER_hdf5, \n .     name = \"count\")",
      "2. HDF5RealizationSink(dim(x), sink_dimnames, type(x), as.sparse, \n .     filepath = filepath, name = name, H5type = H5type, size = size, \n .     chunkdim = chunkdim, level = level)",
      "3. create_and_log_HDF5_dataset(filepath, name, dim, type = type, \n .     H5type = H5type, size = size, chunkdim = chunkdim, level = level)",
      "4. h5createDataset2(filepath, name, dim, maxdim = maxdim, type = type, \n .     H5type = H5type, size = size, chunkdim = chunkdim, level = level)",
      "5. h5createDataset(filepath, name, dim, maxdims = maxdim, storage.mode = type, \n .     H5type = H5type, size = size, chunk = chunkdim, level = level)",
      "6. H5Dcreate(loc$H5Identifier, dataset, tid, sid, dcpl = dcpl)"
     ]
    }
   ],
   "source": [
    "output_file_delayedPLIER_hdf5 <- file.path(output_nb_path, 'counts.hdf5')  \n",
    "output_file_delayedPLIER_dim <- file.path(output_nb_path, 'dimnames.RDS') \n",
    "\n",
    "writeHDF5Array(expression_matrix_cm, filepath = output_file_delayedPLIER_hdf5, name = \"count\")\n",
    "saveRDS(list(row.names = rownames(expression_matrix_cm) , col.names = colnames(expression_matrix_cm)), file = output_file_delayedPLIER_dim)"
   ]
  },
  {
   "cell_type": "code",
   "execution_count": 18,
   "id": "8cef0927-354d-40e4-8a3d-499d92b5a09a",
   "metadata": {},
   "outputs": [
    {
     "data": {
      "text/html": [
       "'.GlobalEnv'"
      ],
      "text/latex": [
       "'.GlobalEnv'"
      ],
      "text/markdown": [
       "'.GlobalEnv'"
      ],
      "text/plain": [
       "[1] \".GlobalEnv\""
      ]
     },
     "metadata": {},
     "output_type": "display_data"
    },
    {
     "ename": "ERROR",
     "evalue": "Error in detach(\"package:PLIER\", unload = TRUE): invalid 'name' argument\n",
     "output_type": "error",
     "traceback": [
      "Error in detach(\"package:PLIER\", unload = TRUE): invalid 'name' argument\nTraceback:\n",
      "1. detach(\"package:PLIER\", unload = TRUE)",
      "2. stop(\"invalid 'name' argument\")"
     ]
    }
   ],
   "source": [
    "# Check for correct PLIER (delayedPLIER repo) function\n",
    "find(\"PLIER\")\n",
    "detach(\"package:PLIER\", unload=TRUE)\n",
    "message('detch PLIER')\n",
    "find(\"PLIER\")"
   ]
  },
  {
   "cell_type": "code",
   "execution_count": null,
   "id": "7cedab64-30dd-49fa-9686-51bbcdb0c3ad",
   "metadata": {
    "editable": true,
    "slideshow": {
     "slide_type": ""
    },
    "tags": []
   },
   "outputs": [
    {
     "name": "stderr",
     "output_type": "stream",
     "text": [
      "k is set to 1042\n",
      "\n",
      "Removing 4 pathways with too few genes\n",
      "\n"
     ]
    },
    {
     "name": "stdout",
     "output_type": "stream",
     "text": [
      "[1] 55.53993\n",
      "[1] \"L2 is set to 55.5399316449024\"\n",
      "[1] \"L1 is set to 27.7699658224512\"\n"
     ]
    },
    {
     "name": "stderr",
     "output_type": "stream",
     "text": [
      "errorY (SVD based:best possible) = 0.6327\n",
      "\n",
      "New L3 is 0.000911881965554516\n",
      "\n",
      "New L3 is 0.000804733010124613\n",
      "\n",
      "New L3 is 0.000710174388842549\n",
      "\n",
      "New L3 is 0.000804733010124613\n",
      "\n",
      "New L3 is 0.000804733010124613\n",
      "\n",
      "New L3 is 0.000911881965554516\n",
      "\n",
      "New L3 is 0.000911881965554516\n",
      "\n",
      "New L3 is 0.000911881965554516\n",
      "\n",
      "New L3 is 0.000911881965554516\n",
      "\n",
      "New L3 is 0.000911881965554516\n",
      "\n",
      "New L3 is 0.000911881965554516\n",
      "\n",
      "New L3 is 0.00103329763864764\n",
      "\n",
      "New L3 is 0.000911881965554516\n",
      "\n",
      "New L3 is 0.00103329763864764\n",
      "\n",
      "Bdiff is not decreasing\n",
      "\n",
      "Bdiff is not decreasing\n",
      "\n",
      "Bdiff is not decreasing\n",
      "\n"
     ]
    }
   ],
   "source": [
    "setAutoRealizationBackend(\"HDF5Array\") #supportedRealizationBackends(), getRealizationBackend()\n",
    "\n",
    "sce <- DelayedArray(seed = HDF5ArraySeed(filepath = output_file_delayedPLIER_hdf5, name = \"count\"))\n",
    "dimnamaes <- readRDS(output_file_delayedPLIER_dim)\n",
    "rownames(sce) <- dimnamaes$row.names\n",
    "colnames(sce) <- dimnamaes$col.names\n",
    "\n",
    "sce[is.na(sce)] <- 0\n",
    "expression_matrix_dp <- sce[which(DelayedMatrixStats::rowSds(sce) >0),]\n",
    "\n",
    "# Assign arguments to variables \n",
    "output_file_delayedPlier <- file.path(output_nb_path, 'delayedPlier_comparison_dp_p.rds')\n",
    "parameter_k <- 1\n",
    "frac <- 0.7\n",
    "\n",
    "# compute k\n",
    "k=num.pc(svdres)*2\n",
    "k <- min(k, floor(ncol(expression_matrix_cm)*0.9))\n",
    "k = k * parameter_k\n",
    "k = round(k, 0)\n",
    "message(\"k is set to \", k)\n",
    "\n",
    "# Run PLIER (with common genes)\n",
    "delayedPlier_result=PLIER(data=expression_matrix_dp, priorMat=all_paths_cm , svdres=svdres, k=k, frac=frac, scale=FALSE)\n",
    "\n",
    "# Prepare output directory\n",
    "output_file_path=dirname(output_file_delayedPlier)\n",
    "dir.create(dirname(output_file_delayedPlier), showWarnings = FALSE, recursive = TRUE)\n",
    "\n",
    "# Save results\n",
    "saveRDS(delayedPlier_result, file = output_file_delayedPlier)"
   ]
  },
  {
   "cell_type": "code",
   "execution_count": 22,
   "id": "5ca73676-9cb3-44fb-ab71-e673ccdf0567",
   "metadata": {},
   "outputs": [],
   "source": [
    "delayedPlier_result <- readRDS(output_file_delayedPlier)"
   ]
  },
  {
   "cell_type": "code",
   "execution_count": 23,
   "id": "90394f76-c107-461c-aa86-5b043ffaa696",
   "metadata": {
    "editable": true,
    "slideshow": {
     "slide_type": ""
    },
    "tags": []
   },
   "outputs": [
    {
     "data": {
      "text/plain": [
       "<6 x 1042> DelayedMatrix object of type \"double\":\n",
       "                [,1]        [,2]        [,3] ...    [,1041]    [,1042]\n",
       "GAS6     0.274305392 0.087087797 0.675887955   . 0.00000000 0.04389087\n",
       "MMP14    0.000000000 0.000000000 0.000000000   . 0.00000000 0.00000000\n",
       "MARCKSL1 0.000000000 0.000000000 0.063091941   . 0.00000000 0.00000000\n",
       "SPARC    0.000000000 0.000000000 0.633009784   . 0.00000000 0.00000000\n",
       "CTSD     0.026459878 0.000000000 0.011039844   . 0.00000000 0.00000000\n",
       "EPAS1    0.000000000 0.009669602 0.078999045   . 0.07326930 0.00000000"
      ]
     },
     "metadata": {},
     "output_type": "display_data"
    }
   ],
   "source": [
    "head(delayedPlier_result$Z)"
   ]
  },
  {
   "cell_type": "code",
   "execution_count": 24,
   "id": "561e7b36-a8d6-44bd-a6e9-ff6bb9a053ab",
   "metadata": {},
   "outputs": [
    {
     "data": {
      "text/plain": [
       "<6 x 17382> DelayedMatrix object of type \"double\":\n",
       "                                           GTEX-1117F-0226-SM-5GZZ7 ...\n",
       "LV 1                                                     0.03453201   .\n",
       "2,IRIS_Neutrophil-Resting                               -0.03266857   .\n",
       "3,KEGG_REGULATION_OF_ACTIN_CYTOSKELETON                 -0.01924855   .\n",
       "4,REACTOME_DNA_STRAND_ELONGATION                        -0.08761484   .\n",
       "5,REACTOME_NEURONAL_SYSTEM                              -0.03663372   .\n",
       "6,MIPS_39S_RIBOSOMAL_SUBUNIT_MITOCHONDRIAL              -0.10118090   .\n",
       "                                            GTEX-ZZPU-2726-SM-5NQ8O\n",
       "LV 1                                                    -0.02232031\n",
       "2,IRIS_Neutrophil-Resting                                0.04354584\n",
       "3,KEGG_REGULATION_OF_ACTIN_CYTOSKELETON                 -0.03377098\n",
       "4,REACTOME_DNA_STRAND_ELONGATION                        -0.04456839\n",
       "5,REACTOME_NEURONAL_SYSTEM                              -0.03198667\n",
       "6,MIPS_39S_RIBOSOMAL_SUBUNIT_MITOCHONDRIAL              -0.06155261"
      ]
     },
     "metadata": {},
     "output_type": "display_data"
    }
   ],
   "source": [
    "head(delayedPlier_result$B)"
   ]
  },
  {
   "cell_type": "code",
   "execution_count": 26,
   "id": "1f421ca0-5d5a-4e3b-9318-d5e1a3bf9813",
   "metadata": {},
   "outputs": [],
   "source": [
    "plier_result <- readRDS(output_file_plier)"
   ]
  },
  {
   "cell_type": "code",
   "execution_count": 28,
   "id": "dec5d914-7204-46a5-8a4c-6e1d5cdfee4c",
   "metadata": {},
   "outputs": [
    {
     "data": {
      "text/html": [
       "<table class=\"dataframe\">\n",
       "<caption>A matrix: 6 × 1042 of type dbl</caption>\n",
       "<tbody>\n",
       "\t<tr><th scope=row>GAS6</th><td>0.00000000</td><td>0</td><td>0.8088228</td><td>0.00000000</td><td>0.00000000</td><td>0.022475980</td><td>0.00000000</td><td>0</td><td>0.722732686</td><td>0.000000000</td><td>⋯</td><td>0.00000000</td><td>0.01289279</td><td>0.0000000</td><td>0.00000000</td><td>0.00000000</td><td>0.000000000</td><td>0</td><td>0.000000000</td><td>0.02679134</td><td>0.5149712</td></tr>\n",
       "\t<tr><th scope=row>MMP14</th><td>0.00000000</td><td>0</td><td>0.0000000</td><td>0.03365089</td><td>0.04630009</td><td>0.000000000</td><td>0.00000000</td><td>0</td><td>0.631639811</td><td>0.000000000</td><td>⋯</td><td>0.00000000</td><td>0.08506112</td><td>0.1338525</td><td>0.00000000</td><td>0.00000000</td><td>0.000000000</td><td>0</td><td>0.006647826</td><td>0.00000000</td><td>0.3673954</td></tr>\n",
       "\t<tr><th scope=row>MARCKSL1</th><td>0.01613378</td><td>0</td><td>0.0000000</td><td>0.00000000</td><td>0.06688880</td><td>0.066676153</td><td>0.00000000</td><td>0</td><td>0.007572313</td><td>0.000000000</td><td>⋯</td><td>0.09874767</td><td>0.00000000</td><td>0.0000000</td><td>0.00000000</td><td>0.00691434</td><td>0.008059198</td><td>0</td><td>0.000000000</td><td>0.08562033</td><td>0.2394095</td></tr>\n",
       "\t<tr><th scope=row>SPARC</th><td>0.00000000</td><td>0</td><td>0.2178293</td><td>0.05884839</td><td>0.00000000</td><td>0.000000000</td><td>0.00000000</td><td>0</td><td>0.307728319</td><td>0.000000000</td><td>⋯</td><td>0.00000000</td><td>0.00000000</td><td>0.0000000</td><td>0.02233023</td><td>0.00000000</td><td>0.000000000</td><td>0</td><td>0.094854111</td><td>0.00000000</td><td>0.2220075</td></tr>\n",
       "\t<tr><th scope=row>CTSD</th><td>0.36951508</td><td>0</td><td>0.4789879</td><td>0.11634386</td><td>0.00000000</td><td>0.004501709</td><td>0.00000000</td><td>0</td><td>1.338231068</td><td>0.006038829</td><td>⋯</td><td>0.00000000</td><td>0.02404874</td><td>0.0000000</td><td>0.00000000</td><td>0.03719229</td><td>0.000000000</td><td>0</td><td>0.000000000</td><td>0.00000000</td><td>0.3540167</td></tr>\n",
       "\t<tr><th scope=row>EPAS1</th><td>0.00000000</td><td>0</td><td>0.0000000</td><td>0.00000000</td><td>0.00000000</td><td>0.019567018</td><td>0.07301501</td><td>0</td><td>0.139432989</td><td>0.000000000</td><td>⋯</td><td>0.00000000</td><td>0.00000000</td><td>0.0000000</td><td>1.31723287</td><td>0.75172429</td><td>0.000000000</td><td>0</td><td>0.100465770</td><td>0.00000000</td><td>0.1011839</td></tr>\n",
       "</tbody>\n",
       "</table>\n"
      ],
      "text/latex": [
       "A matrix: 6 × 1042 of type dbl\n",
       "\\begin{tabular}{r|lllllllllllllllllllll}\n",
       "\tGAS6 & 0.00000000 & 0 & 0.8088228 & 0.00000000 & 0.00000000 & 0.022475980 & 0.00000000 & 0 & 0.722732686 & 0.000000000 & ⋯ & 0.00000000 & 0.01289279 & 0.0000000 & 0.00000000 & 0.00000000 & 0.000000000 & 0 & 0.000000000 & 0.02679134 & 0.5149712\\\\\n",
       "\tMMP14 & 0.00000000 & 0 & 0.0000000 & 0.03365089 & 0.04630009 & 0.000000000 & 0.00000000 & 0 & 0.631639811 & 0.000000000 & ⋯ & 0.00000000 & 0.08506112 & 0.1338525 & 0.00000000 & 0.00000000 & 0.000000000 & 0 & 0.006647826 & 0.00000000 & 0.3673954\\\\\n",
       "\tMARCKSL1 & 0.01613378 & 0 & 0.0000000 & 0.00000000 & 0.06688880 & 0.066676153 & 0.00000000 & 0 & 0.007572313 & 0.000000000 & ⋯ & 0.09874767 & 0.00000000 & 0.0000000 & 0.00000000 & 0.00691434 & 0.008059198 & 0 & 0.000000000 & 0.08562033 & 0.2394095\\\\\n",
       "\tSPARC & 0.00000000 & 0 & 0.2178293 & 0.05884839 & 0.00000000 & 0.000000000 & 0.00000000 & 0 & 0.307728319 & 0.000000000 & ⋯ & 0.00000000 & 0.00000000 & 0.0000000 & 0.02233023 & 0.00000000 & 0.000000000 & 0 & 0.094854111 & 0.00000000 & 0.2220075\\\\\n",
       "\tCTSD & 0.36951508 & 0 & 0.4789879 & 0.11634386 & 0.00000000 & 0.004501709 & 0.00000000 & 0 & 1.338231068 & 0.006038829 & ⋯ & 0.00000000 & 0.02404874 & 0.0000000 & 0.00000000 & 0.03719229 & 0.000000000 & 0 & 0.000000000 & 0.00000000 & 0.3540167\\\\\n",
       "\tEPAS1 & 0.00000000 & 0 & 0.0000000 & 0.00000000 & 0.00000000 & 0.019567018 & 0.07301501 & 0 & 0.139432989 & 0.000000000 & ⋯ & 0.00000000 & 0.00000000 & 0.0000000 & 1.31723287 & 0.75172429 & 0.000000000 & 0 & 0.100465770 & 0.00000000 & 0.1011839\\\\\n",
       "\\end{tabular}\n"
      ],
      "text/markdown": [
       "\n",
       "A matrix: 6 × 1042 of type dbl\n",
       "\n",
       "| GAS6 | 0.00000000 | 0 | 0.8088228 | 0.00000000 | 0.00000000 | 0.022475980 | 0.00000000 | 0 | 0.722732686 | 0.000000000 | ⋯ | 0.00000000 | 0.01289279 | 0.0000000 | 0.00000000 | 0.00000000 | 0.000000000 | 0 | 0.000000000 | 0.02679134 | 0.5149712 |\n",
       "| MMP14 | 0.00000000 | 0 | 0.0000000 | 0.03365089 | 0.04630009 | 0.000000000 | 0.00000000 | 0 | 0.631639811 | 0.000000000 | ⋯ | 0.00000000 | 0.08506112 | 0.1338525 | 0.00000000 | 0.00000000 | 0.000000000 | 0 | 0.006647826 | 0.00000000 | 0.3673954 |\n",
       "| MARCKSL1 | 0.01613378 | 0 | 0.0000000 | 0.00000000 | 0.06688880 | 0.066676153 | 0.00000000 | 0 | 0.007572313 | 0.000000000 | ⋯ | 0.09874767 | 0.00000000 | 0.0000000 | 0.00000000 | 0.00691434 | 0.008059198 | 0 | 0.000000000 | 0.08562033 | 0.2394095 |\n",
       "| SPARC | 0.00000000 | 0 | 0.2178293 | 0.05884839 | 0.00000000 | 0.000000000 | 0.00000000 | 0 | 0.307728319 | 0.000000000 | ⋯ | 0.00000000 | 0.00000000 | 0.0000000 | 0.02233023 | 0.00000000 | 0.000000000 | 0 | 0.094854111 | 0.00000000 | 0.2220075 |\n",
       "| CTSD | 0.36951508 | 0 | 0.4789879 | 0.11634386 | 0.00000000 | 0.004501709 | 0.00000000 | 0 | 1.338231068 | 0.006038829 | ⋯ | 0.00000000 | 0.02404874 | 0.0000000 | 0.00000000 | 0.03719229 | 0.000000000 | 0 | 0.000000000 | 0.00000000 | 0.3540167 |\n",
       "| EPAS1 | 0.00000000 | 0 | 0.0000000 | 0.00000000 | 0.00000000 | 0.019567018 | 0.07301501 | 0 | 0.139432989 | 0.000000000 | ⋯ | 0.00000000 | 0.00000000 | 0.0000000 | 1.31723287 | 0.75172429 | 0.000000000 | 0 | 0.100465770 | 0.00000000 | 0.1011839 |\n",
       "\n"
      ],
      "text/plain": [
       "         [,1]       [,2] [,3]      [,4]       [,5]       [,6]        [,7]      \n",
       "GAS6     0.00000000 0    0.8088228 0.00000000 0.00000000 0.022475980 0.00000000\n",
       "MMP14    0.00000000 0    0.0000000 0.03365089 0.04630009 0.000000000 0.00000000\n",
       "MARCKSL1 0.01613378 0    0.0000000 0.00000000 0.06688880 0.066676153 0.00000000\n",
       "SPARC    0.00000000 0    0.2178293 0.05884839 0.00000000 0.000000000 0.00000000\n",
       "CTSD     0.36951508 0    0.4789879 0.11634386 0.00000000 0.004501709 0.00000000\n",
       "EPAS1    0.00000000 0    0.0000000 0.00000000 0.00000000 0.019567018 0.07301501\n",
       "         [,8] [,9]        [,10]       [,11] [,12]      [,13]      [,14]    \n",
       "GAS6     0    0.722732686 0.000000000 ⋯     0.00000000 0.01289279 0.0000000\n",
       "MMP14    0    0.631639811 0.000000000 ⋯     0.00000000 0.08506112 0.1338525\n",
       "MARCKSL1 0    0.007572313 0.000000000 ⋯     0.09874767 0.00000000 0.0000000\n",
       "SPARC    0    0.307728319 0.000000000 ⋯     0.00000000 0.00000000 0.0000000\n",
       "CTSD     0    1.338231068 0.006038829 ⋯     0.00000000 0.02404874 0.0000000\n",
       "EPAS1    0    0.139432989 0.000000000 ⋯     0.00000000 0.00000000 0.0000000\n",
       "         [,15]      [,16]      [,17]       [,18] [,19]       [,20]     \n",
       "GAS6     0.00000000 0.00000000 0.000000000 0     0.000000000 0.02679134\n",
       "MMP14    0.00000000 0.00000000 0.000000000 0     0.006647826 0.00000000\n",
       "MARCKSL1 0.00000000 0.00691434 0.008059198 0     0.000000000 0.08562033\n",
       "SPARC    0.02233023 0.00000000 0.000000000 0     0.094854111 0.00000000\n",
       "CTSD     0.00000000 0.03719229 0.000000000 0     0.000000000 0.00000000\n",
       "EPAS1    1.31723287 0.75172429 0.000000000 0     0.100465770 0.00000000\n",
       "         [,21]    \n",
       "GAS6     0.5149712\n",
       "MMP14    0.3673954\n",
       "MARCKSL1 0.2394095\n",
       "SPARC    0.2220075\n",
       "CTSD     0.3540167\n",
       "EPAS1    0.1011839"
      ]
     },
     "metadata": {},
     "output_type": "display_data"
    }
   ],
   "source": [
    "head(plier_result$Z)"
   ]
  },
  {
   "cell_type": "code",
   "execution_count": 29,
   "id": "38b5fded-7fe1-46a9-b5a7-e489d08484ee",
   "metadata": {},
   "outputs": [
    {
     "data": {
      "text/html": [
       "<table class=\"dataframe\">\n",
       "<caption>A matrix: 6 × 17382 of type dbl</caption>\n",
       "<thead>\n",
       "\t<tr><th></th><th scope=col>GTEX-1117F-0226-SM-5GZZ7</th><th scope=col>GTEX-1117F-0426-SM-5EGHI</th><th scope=col>GTEX-1117F-0526-SM-5EGHJ</th><th scope=col>GTEX-1117F-0626-SM-5N9CS</th><th scope=col>GTEX-1117F-0726-SM-5GIEN</th><th scope=col>GTEX-1117F-1326-SM-5EGHH</th><th scope=col>GTEX-1117F-2426-SM-5EGGH</th><th scope=col>GTEX-1117F-2526-SM-5GZY6</th><th scope=col>GTEX-1117F-2826-SM-5GZXL</th><th scope=col>GTEX-1117F-2926-SM-5GZYI</th><th scope=col>⋯</th><th scope=col>GTEX-ZZPU-1126-SM-5N9CW</th><th scope=col>GTEX-ZZPU-1226-SM-5N9CK</th><th scope=col>GTEX-ZZPU-1326-SM-5GZWS</th><th scope=col>GTEX-ZZPU-1426-SM-5GZZ6</th><th scope=col>GTEX-ZZPU-1826-SM-5E43L</th><th scope=col>GTEX-ZZPU-2126-SM-5EGIU</th><th scope=col>GTEX-ZZPU-2226-SM-5EGIV</th><th scope=col>GTEX-ZZPU-2426-SM-5E44I</th><th scope=col>GTEX-ZZPU-2626-SM-5E45Y</th><th scope=col>GTEX-ZZPU-2726-SM-5NQ8O</th></tr>\n",
       "</thead>\n",
       "<tbody>\n",
       "\t<tr><th scope=row>1,IRIS_Neutrophil-Resting</th><td>-0.06466991</td><td>-0.05444442</td><td>-0.11487165</td><td>-0.035270359</td><td>-0.016221577</td><td>-0.08795147</td><td>-0.043152199</td><td>-0.02652864</td><td>-0.01357084</td><td>-0.06115114</td><td>⋯</td><td>-0.015111653</td><td>-0.0081364322</td><td> 0.01361394</td><td> 0.0091803918</td><td>-0.003859179</td><td>-0.01732336</td><td> 0.008987620</td><td>-0.027158754</td><td> 0.008166765</td><td>-0.067802356</td></tr>\n",
       "\t<tr><th scope=row>2,IRIS_Neutrophil-Resting</th><td>-0.05571578</td><td>-0.01590762</td><td> 0.01577313</td><td> 0.020790523</td><td>-0.008301199</td><td> 0.08083894</td><td>-0.017205464</td><td>-0.02094966</td><td> 0.01108145</td><td>-0.01793904</td><td>⋯</td><td> 0.004208666</td><td> 0.0250979196</td><td> 0.01624681</td><td> 0.0136984738</td><td> 0.025682792</td><td> 0.02891395</td><td> 0.033055040</td><td> 0.016822676</td><td>-0.011734695</td><td> 0.003665061</td></tr>\n",
       "\t<tr><th scope=row>LV 3</th><td>-0.03838166</td><td> 0.03482423</td><td>-0.02717656</td><td> 0.082874772</td><td> 0.014864420</td><td>-0.03795240</td><td> 0.067458966</td><td> 0.05625198</td><td> 0.02319226</td><td> 0.04187308</td><td>⋯</td><td> 0.039603366</td><td>-0.0131135798</td><td>-0.03702630</td><td> 0.0153230015</td><td>-0.048164293</td><td>-0.03551308</td><td> 0.023533739</td><td> 0.060811821</td><td> 0.014446735</td><td>-0.010462315</td></tr>\n",
       "\t<tr><th scope=row>4,REACTOME_DNA_STRAND_ELONGATION</th><td>-0.04186157</td><td>-0.05852824</td><td>-0.08404430</td><td>-0.093036016</td><td>-0.044522459</td><td>-0.10942290</td><td>-0.074321773</td><td> 0.07691609</td><td>-0.01977538</td><td>-0.05429195</td><td>⋯</td><td>-0.033256591</td><td>-0.0622496509</td><td>-0.08244244</td><td>-0.0331149318</td><td>-0.094837675</td><td>-0.01099475</td><td> 0.350614733</td><td>-0.114707087</td><td>-0.032924232</td><td>-0.059023543</td></tr>\n",
       "\t<tr><th scope=row>LV 5</th><td>-0.06491813</td><td>-0.02373363</td><td>-0.07026314</td><td>-0.002406268</td><td> 0.014472661</td><td>-0.02067548</td><td>-0.002451937</td><td>-0.01588877</td><td> 0.01729428</td><td> 0.01426269</td><td>⋯</td><td> 0.043720364</td><td> 0.0366697386</td><td> 0.02405436</td><td> 0.0005016018</td><td> 0.003232915</td><td> 0.02730512</td><td>-0.005763948</td><td> 0.001769326</td><td>-0.035416927</td><td>-0.016337502</td></tr>\n",
       "\t<tr><th scope=row>6,REACTOME_CELL_CYCLE</th><td>-0.05129524</td><td>-0.04315978</td><td>-0.09255232</td><td>-0.002334088</td><td>-0.055644603</td><td>-0.07307825</td><td>-0.013328589</td><td>-0.08143266</td><td>-0.04448419</td><td>-0.01763071</td><td>⋯</td><td>-0.035534652</td><td>-0.0002110482</td><td>-0.05467570</td><td>-0.0218612034</td><td>-0.013739038</td><td>-0.09074433</td><td>-0.033209628</td><td>-0.015577431</td><td>-0.039951759</td><td>-0.028047764</td></tr>\n",
       "</tbody>\n",
       "</table>\n"
      ],
      "text/latex": [
       "A matrix: 6 × 17382 of type dbl\n",
       "\\begin{tabular}{r|lllllllllllllllllllll}\n",
       "  & GTEX-1117F-0226-SM-5GZZ7 & GTEX-1117F-0426-SM-5EGHI & GTEX-1117F-0526-SM-5EGHJ & GTEX-1117F-0626-SM-5N9CS & GTEX-1117F-0726-SM-5GIEN & GTEX-1117F-1326-SM-5EGHH & GTEX-1117F-2426-SM-5EGGH & GTEX-1117F-2526-SM-5GZY6 & GTEX-1117F-2826-SM-5GZXL & GTEX-1117F-2926-SM-5GZYI & ⋯ & GTEX-ZZPU-1126-SM-5N9CW & GTEX-ZZPU-1226-SM-5N9CK & GTEX-ZZPU-1326-SM-5GZWS & GTEX-ZZPU-1426-SM-5GZZ6 & GTEX-ZZPU-1826-SM-5E43L & GTEX-ZZPU-2126-SM-5EGIU & GTEX-ZZPU-2226-SM-5EGIV & GTEX-ZZPU-2426-SM-5E44I & GTEX-ZZPU-2626-SM-5E45Y & GTEX-ZZPU-2726-SM-5NQ8O\\\\\n",
       "\\hline\n",
       "\t1,IRIS\\_Neutrophil-Resting & -0.06466991 & -0.05444442 & -0.11487165 & -0.035270359 & -0.016221577 & -0.08795147 & -0.043152199 & -0.02652864 & -0.01357084 & -0.06115114 & ⋯ & -0.015111653 & -0.0081364322 &  0.01361394 &  0.0091803918 & -0.003859179 & -0.01732336 &  0.008987620 & -0.027158754 &  0.008166765 & -0.067802356\\\\\n",
       "\t2,IRIS\\_Neutrophil-Resting & -0.05571578 & -0.01590762 &  0.01577313 &  0.020790523 & -0.008301199 &  0.08083894 & -0.017205464 & -0.02094966 &  0.01108145 & -0.01793904 & ⋯ &  0.004208666 &  0.0250979196 &  0.01624681 &  0.0136984738 &  0.025682792 &  0.02891395 &  0.033055040 &  0.016822676 & -0.011734695 &  0.003665061\\\\\n",
       "\tLV 3 & -0.03838166 &  0.03482423 & -0.02717656 &  0.082874772 &  0.014864420 & -0.03795240 &  0.067458966 &  0.05625198 &  0.02319226 &  0.04187308 & ⋯ &  0.039603366 & -0.0131135798 & -0.03702630 &  0.0153230015 & -0.048164293 & -0.03551308 &  0.023533739 &  0.060811821 &  0.014446735 & -0.010462315\\\\\n",
       "\t4,REACTOME\\_DNA\\_STRAND\\_ELONGATION & -0.04186157 & -0.05852824 & -0.08404430 & -0.093036016 & -0.044522459 & -0.10942290 & -0.074321773 &  0.07691609 & -0.01977538 & -0.05429195 & ⋯ & -0.033256591 & -0.0622496509 & -0.08244244 & -0.0331149318 & -0.094837675 & -0.01099475 &  0.350614733 & -0.114707087 & -0.032924232 & -0.059023543\\\\\n",
       "\tLV 5 & -0.06491813 & -0.02373363 & -0.07026314 & -0.002406268 &  0.014472661 & -0.02067548 & -0.002451937 & -0.01588877 &  0.01729428 &  0.01426269 & ⋯ &  0.043720364 &  0.0366697386 &  0.02405436 &  0.0005016018 &  0.003232915 &  0.02730512 & -0.005763948 &  0.001769326 & -0.035416927 & -0.016337502\\\\\n",
       "\t6,REACTOME\\_CELL\\_CYCLE & -0.05129524 & -0.04315978 & -0.09255232 & -0.002334088 & -0.055644603 & -0.07307825 & -0.013328589 & -0.08143266 & -0.04448419 & -0.01763071 & ⋯ & -0.035534652 & -0.0002110482 & -0.05467570 & -0.0218612034 & -0.013739038 & -0.09074433 & -0.033209628 & -0.015577431 & -0.039951759 & -0.028047764\\\\\n",
       "\\end{tabular}\n"
      ],
      "text/markdown": [
       "\n",
       "A matrix: 6 × 17382 of type dbl\n",
       "\n",
       "| <!--/--> | GTEX-1117F-0226-SM-5GZZ7 | GTEX-1117F-0426-SM-5EGHI | GTEX-1117F-0526-SM-5EGHJ | GTEX-1117F-0626-SM-5N9CS | GTEX-1117F-0726-SM-5GIEN | GTEX-1117F-1326-SM-5EGHH | GTEX-1117F-2426-SM-5EGGH | GTEX-1117F-2526-SM-5GZY6 | GTEX-1117F-2826-SM-5GZXL | GTEX-1117F-2926-SM-5GZYI | ⋯ | GTEX-ZZPU-1126-SM-5N9CW | GTEX-ZZPU-1226-SM-5N9CK | GTEX-ZZPU-1326-SM-5GZWS | GTEX-ZZPU-1426-SM-5GZZ6 | GTEX-ZZPU-1826-SM-5E43L | GTEX-ZZPU-2126-SM-5EGIU | GTEX-ZZPU-2226-SM-5EGIV | GTEX-ZZPU-2426-SM-5E44I | GTEX-ZZPU-2626-SM-5E45Y | GTEX-ZZPU-2726-SM-5NQ8O |\n",
       "|---|---|---|---|---|---|---|---|---|---|---|---|---|---|---|---|---|---|---|---|---|---|\n",
       "| 1,IRIS_Neutrophil-Resting | -0.06466991 | -0.05444442 | -0.11487165 | -0.035270359 | -0.016221577 | -0.08795147 | -0.043152199 | -0.02652864 | -0.01357084 | -0.06115114 | ⋯ | -0.015111653 | -0.0081364322 |  0.01361394 |  0.0091803918 | -0.003859179 | -0.01732336 |  0.008987620 | -0.027158754 |  0.008166765 | -0.067802356 |\n",
       "| 2,IRIS_Neutrophil-Resting | -0.05571578 | -0.01590762 |  0.01577313 |  0.020790523 | -0.008301199 |  0.08083894 | -0.017205464 | -0.02094966 |  0.01108145 | -0.01793904 | ⋯ |  0.004208666 |  0.0250979196 |  0.01624681 |  0.0136984738 |  0.025682792 |  0.02891395 |  0.033055040 |  0.016822676 | -0.011734695 |  0.003665061 |\n",
       "| LV 3 | -0.03838166 |  0.03482423 | -0.02717656 |  0.082874772 |  0.014864420 | -0.03795240 |  0.067458966 |  0.05625198 |  0.02319226 |  0.04187308 | ⋯ |  0.039603366 | -0.0131135798 | -0.03702630 |  0.0153230015 | -0.048164293 | -0.03551308 |  0.023533739 |  0.060811821 |  0.014446735 | -0.010462315 |\n",
       "| 4,REACTOME_DNA_STRAND_ELONGATION | -0.04186157 | -0.05852824 | -0.08404430 | -0.093036016 | -0.044522459 | -0.10942290 | -0.074321773 |  0.07691609 | -0.01977538 | -0.05429195 | ⋯ | -0.033256591 | -0.0622496509 | -0.08244244 | -0.0331149318 | -0.094837675 | -0.01099475 |  0.350614733 | -0.114707087 | -0.032924232 | -0.059023543 |\n",
       "| LV 5 | -0.06491813 | -0.02373363 | -0.07026314 | -0.002406268 |  0.014472661 | -0.02067548 | -0.002451937 | -0.01588877 |  0.01729428 |  0.01426269 | ⋯ |  0.043720364 |  0.0366697386 |  0.02405436 |  0.0005016018 |  0.003232915 |  0.02730512 | -0.005763948 |  0.001769326 | -0.035416927 | -0.016337502 |\n",
       "| 6,REACTOME_CELL_CYCLE | -0.05129524 | -0.04315978 | -0.09255232 | -0.002334088 | -0.055644603 | -0.07307825 | -0.013328589 | -0.08143266 | -0.04448419 | -0.01763071 | ⋯ | -0.035534652 | -0.0002110482 | -0.05467570 | -0.0218612034 | -0.013739038 | -0.09074433 | -0.033209628 | -0.015577431 | -0.039951759 | -0.028047764 |\n",
       "\n"
      ],
      "text/plain": [
       "                                 GTEX-1117F-0226-SM-5GZZ7\n",
       "1,IRIS_Neutrophil-Resting        -0.06466991             \n",
       "2,IRIS_Neutrophil-Resting        -0.05571578             \n",
       "LV 3                             -0.03838166             \n",
       "4,REACTOME_DNA_STRAND_ELONGATION -0.04186157             \n",
       "LV 5                             -0.06491813             \n",
       "6,REACTOME_CELL_CYCLE            -0.05129524             \n",
       "                                 GTEX-1117F-0426-SM-5EGHI\n",
       "1,IRIS_Neutrophil-Resting        -0.05444442             \n",
       "2,IRIS_Neutrophil-Resting        -0.01590762             \n",
       "LV 3                              0.03482423             \n",
       "4,REACTOME_DNA_STRAND_ELONGATION -0.05852824             \n",
       "LV 5                             -0.02373363             \n",
       "6,REACTOME_CELL_CYCLE            -0.04315978             \n",
       "                                 GTEX-1117F-0526-SM-5EGHJ\n",
       "1,IRIS_Neutrophil-Resting        -0.11487165             \n",
       "2,IRIS_Neutrophil-Resting         0.01577313             \n",
       "LV 3                             -0.02717656             \n",
       "4,REACTOME_DNA_STRAND_ELONGATION -0.08404430             \n",
       "LV 5                             -0.07026314             \n",
       "6,REACTOME_CELL_CYCLE            -0.09255232             \n",
       "                                 GTEX-1117F-0626-SM-5N9CS\n",
       "1,IRIS_Neutrophil-Resting        -0.035270359            \n",
       "2,IRIS_Neutrophil-Resting         0.020790523            \n",
       "LV 3                              0.082874772            \n",
       "4,REACTOME_DNA_STRAND_ELONGATION -0.093036016            \n",
       "LV 5                             -0.002406268            \n",
       "6,REACTOME_CELL_CYCLE            -0.002334088            \n",
       "                                 GTEX-1117F-0726-SM-5GIEN\n",
       "1,IRIS_Neutrophil-Resting        -0.016221577            \n",
       "2,IRIS_Neutrophil-Resting        -0.008301199            \n",
       "LV 3                              0.014864420            \n",
       "4,REACTOME_DNA_STRAND_ELONGATION -0.044522459            \n",
       "LV 5                              0.014472661            \n",
       "6,REACTOME_CELL_CYCLE            -0.055644603            \n",
       "                                 GTEX-1117F-1326-SM-5EGHH\n",
       "1,IRIS_Neutrophil-Resting        -0.08795147             \n",
       "2,IRIS_Neutrophil-Resting         0.08083894             \n",
       "LV 3                             -0.03795240             \n",
       "4,REACTOME_DNA_STRAND_ELONGATION -0.10942290             \n",
       "LV 5                             -0.02067548             \n",
       "6,REACTOME_CELL_CYCLE            -0.07307825             \n",
       "                                 GTEX-1117F-2426-SM-5EGGH\n",
       "1,IRIS_Neutrophil-Resting        -0.043152199            \n",
       "2,IRIS_Neutrophil-Resting        -0.017205464            \n",
       "LV 3                              0.067458966            \n",
       "4,REACTOME_DNA_STRAND_ELONGATION -0.074321773            \n",
       "LV 5                             -0.002451937            \n",
       "6,REACTOME_CELL_CYCLE            -0.013328589            \n",
       "                                 GTEX-1117F-2526-SM-5GZY6\n",
       "1,IRIS_Neutrophil-Resting        -0.02652864             \n",
       "2,IRIS_Neutrophil-Resting        -0.02094966             \n",
       "LV 3                              0.05625198             \n",
       "4,REACTOME_DNA_STRAND_ELONGATION  0.07691609             \n",
       "LV 5                             -0.01588877             \n",
       "6,REACTOME_CELL_CYCLE            -0.08143266             \n",
       "                                 GTEX-1117F-2826-SM-5GZXL\n",
       "1,IRIS_Neutrophil-Resting        -0.01357084             \n",
       "2,IRIS_Neutrophil-Resting         0.01108145             \n",
       "LV 3                              0.02319226             \n",
       "4,REACTOME_DNA_STRAND_ELONGATION -0.01977538             \n",
       "LV 5                              0.01729428             \n",
       "6,REACTOME_CELL_CYCLE            -0.04448419             \n",
       "                                 GTEX-1117F-2926-SM-5GZYI ⋯\n",
       "1,IRIS_Neutrophil-Resting        -0.06115114              ⋯\n",
       "2,IRIS_Neutrophil-Resting        -0.01793904              ⋯\n",
       "LV 3                              0.04187308              ⋯\n",
       "4,REACTOME_DNA_STRAND_ELONGATION -0.05429195              ⋯\n",
       "LV 5                              0.01426269              ⋯\n",
       "6,REACTOME_CELL_CYCLE            -0.01763071              ⋯\n",
       "                                 GTEX-ZZPU-1126-SM-5N9CW\n",
       "1,IRIS_Neutrophil-Resting        -0.015111653           \n",
       "2,IRIS_Neutrophil-Resting         0.004208666           \n",
       "LV 3                              0.039603366           \n",
       "4,REACTOME_DNA_STRAND_ELONGATION -0.033256591           \n",
       "LV 5                              0.043720364           \n",
       "6,REACTOME_CELL_CYCLE            -0.035534652           \n",
       "                                 GTEX-ZZPU-1226-SM-5N9CK\n",
       "1,IRIS_Neutrophil-Resting        -0.0081364322          \n",
       "2,IRIS_Neutrophil-Resting         0.0250979196          \n",
       "LV 3                             -0.0131135798          \n",
       "4,REACTOME_DNA_STRAND_ELONGATION -0.0622496509          \n",
       "LV 5                              0.0366697386          \n",
       "6,REACTOME_CELL_CYCLE            -0.0002110482          \n",
       "                                 GTEX-ZZPU-1326-SM-5GZWS\n",
       "1,IRIS_Neutrophil-Resting         0.01361394            \n",
       "2,IRIS_Neutrophil-Resting         0.01624681            \n",
       "LV 3                             -0.03702630            \n",
       "4,REACTOME_DNA_STRAND_ELONGATION -0.08244244            \n",
       "LV 5                              0.02405436            \n",
       "6,REACTOME_CELL_CYCLE            -0.05467570            \n",
       "                                 GTEX-ZZPU-1426-SM-5GZZ6\n",
       "1,IRIS_Neutrophil-Resting         0.0091803918          \n",
       "2,IRIS_Neutrophil-Resting         0.0136984738          \n",
       "LV 3                              0.0153230015          \n",
       "4,REACTOME_DNA_STRAND_ELONGATION -0.0331149318          \n",
       "LV 5                              0.0005016018          \n",
       "6,REACTOME_CELL_CYCLE            -0.0218612034          \n",
       "                                 GTEX-ZZPU-1826-SM-5E43L\n",
       "1,IRIS_Neutrophil-Resting        -0.003859179           \n",
       "2,IRIS_Neutrophil-Resting         0.025682792           \n",
       "LV 3                             -0.048164293           \n",
       "4,REACTOME_DNA_STRAND_ELONGATION -0.094837675           \n",
       "LV 5                              0.003232915           \n",
       "6,REACTOME_CELL_CYCLE            -0.013739038           \n",
       "                                 GTEX-ZZPU-2126-SM-5EGIU\n",
       "1,IRIS_Neutrophil-Resting        -0.01732336            \n",
       "2,IRIS_Neutrophil-Resting         0.02891395            \n",
       "LV 3                             -0.03551308            \n",
       "4,REACTOME_DNA_STRAND_ELONGATION -0.01099475            \n",
       "LV 5                              0.02730512            \n",
       "6,REACTOME_CELL_CYCLE            -0.09074433            \n",
       "                                 GTEX-ZZPU-2226-SM-5EGIV\n",
       "1,IRIS_Neutrophil-Resting         0.008987620           \n",
       "2,IRIS_Neutrophil-Resting         0.033055040           \n",
       "LV 3                              0.023533739           \n",
       "4,REACTOME_DNA_STRAND_ELONGATION  0.350614733           \n",
       "LV 5                             -0.005763948           \n",
       "6,REACTOME_CELL_CYCLE            -0.033209628           \n",
       "                                 GTEX-ZZPU-2426-SM-5E44I\n",
       "1,IRIS_Neutrophil-Resting        -0.027158754           \n",
       "2,IRIS_Neutrophil-Resting         0.016822676           \n",
       "LV 3                              0.060811821           \n",
       "4,REACTOME_DNA_STRAND_ELONGATION -0.114707087           \n",
       "LV 5                              0.001769326           \n",
       "6,REACTOME_CELL_CYCLE            -0.015577431           \n",
       "                                 GTEX-ZZPU-2626-SM-5E45Y\n",
       "1,IRIS_Neutrophil-Resting         0.008166765           \n",
       "2,IRIS_Neutrophil-Resting        -0.011734695           \n",
       "LV 3                              0.014446735           \n",
       "4,REACTOME_DNA_STRAND_ELONGATION -0.032924232           \n",
       "LV 5                             -0.035416927           \n",
       "6,REACTOME_CELL_CYCLE            -0.039951759           \n",
       "                                 GTEX-ZZPU-2726-SM-5NQ8O\n",
       "1,IRIS_Neutrophil-Resting        -0.067802356           \n",
       "2,IRIS_Neutrophil-Resting         0.003665061           \n",
       "LV 3                             -0.010462315           \n",
       "4,REACTOME_DNA_STRAND_ELONGATION -0.059023543           \n",
       "LV 5                             -0.016337502           \n",
       "6,REACTOME_CELL_CYCLE            -0.028047764           "
      ]
     },
     "metadata": {},
     "output_type": "display_data"
    }
   ],
   "source": [
    "head(plier_result$B)"
   ]
  },
  {
   "cell_type": "code",
   "execution_count": 7,
   "id": "9f9dd838-c559-4a4e-b754-108c1406a837",
   "metadata": {},
   "outputs": [],
   "source": [
    "output_file_plier <- file.path(output_nb_path, 'PLIER_comparison_dp_p.rds')\n",
    "plier_result <- readRDS(output_file_plier)\n",
    "\n",
    "output_file_delayedPlier <- file.path(output_nb_path, 'delayedPlier_comparison_dp_p.rds')\n",
    "delayedPlier_result <- readRDS(output_file_delayedPlier)"
   ]
  },
  {
   "cell_type": "markdown",
   "id": "b44fa7d1-ff7b-4193-856d-415fe828150d",
   "metadata": {},
   "source": [
    "# Save as pickle"
   ]
  },
  {
   "cell_type": "code",
   "execution_count": 8,
   "id": "f27cd907-6bcd-433f-89fc-e77f6817bc5d",
   "metadata": {},
   "outputs": [],
   "source": [
    "library(reticulate)\n",
    "\n",
    "save_as_pickle <- function(object, filename, save_directory) {\n",
    "  full_path <- file.path(save_directory, filename)\n",
    "  py_save_object(r_to_py(object), full_path)\n",
    "}\n",
    "\n",
    "PLIER_model_to_pickle = function(PLIER_model, save_directory){\n",
    "    \n",
    "    # Check if the directory exists, create if it does not\n",
    "    if (!dir.exists(save_directory)) {\n",
    "      dir.create(save_directory, recursive = TRUE)\n",
    "    }\n",
    "    \n",
    "    # Assuming gtex_tmp_1 is a list with various data types\n",
    "    names_list <- names(PLIER_model)\n",
    "    \n",
    "    for (name in names_list) {\n",
    "      element <- PLIER_model[[name]]\n",
    "      if (is.matrix(element) || is.array(element)) {\n",
    "        # Convert matrices/arrays to data frames before saving\n",
    "        df <- as.data.frame(element)\n",
    "        save_as_pickle(df, paste0(name, \".pkl\"), save_directory)\n",
    "      } else {\n",
    "        # Save other data types directly\n",
    "        save_as_pickle(element, paste0(name, \".pkl\"), save_directory)\n",
    "      }\n",
    "    }  \n",
    "}"
   ]
  },
  {
   "cell_type": "code",
   "execution_count": 32,
   "id": "aee0aadc-41ff-4541-9080-3f92f8c841a3",
   "metadata": {},
   "outputs": [],
   "source": [
    "PLIER_model_to_pickle(plier_result, file.path(output_nb_path, 'plier_result'))"
   ]
  },
  {
   "cell_type": "code",
   "execution_count": 16,
   "id": "99178022-0cc8-436e-a413-483c7692caef",
   "metadata": {},
   "outputs": [
    {
     "data": {
      "text/html": [
       "<table class=\"dataframe\">\n",
       "<caption>A data.frame: 6 × 1042</caption>\n",
       "<thead>\n",
       "\t<tr><th></th><th scope=col>LV1</th><th scope=col>LV2</th><th scope=col>LV3</th><th scope=col>LV4</th><th scope=col>LV5</th><th scope=col>LV6</th><th scope=col>LV7</th><th scope=col>LV8</th><th scope=col>LV9</th><th scope=col>LV10</th><th scope=col>⋯</th><th scope=col>LV1033</th><th scope=col>LV1034</th><th scope=col>LV1035</th><th scope=col>LV1036</th><th scope=col>LV1037</th><th scope=col>LV1038</th><th scope=col>LV1039</th><th scope=col>LV1040</th><th scope=col>LV1041</th><th scope=col>LV1042</th></tr>\n",
       "\t<tr><th></th><th scope=col>&lt;dbl&gt;</th><th scope=col>&lt;dbl&gt;</th><th scope=col>&lt;dbl&gt;</th><th scope=col>&lt;dbl&gt;</th><th scope=col>&lt;dbl&gt;</th><th scope=col>&lt;dbl&gt;</th><th scope=col>&lt;dbl&gt;</th><th scope=col>&lt;dbl&gt;</th><th scope=col>&lt;dbl&gt;</th><th scope=col>&lt;dbl&gt;</th><th scope=col>⋯</th><th scope=col>&lt;dbl&gt;</th><th scope=col>&lt;dbl&gt;</th><th scope=col>&lt;dbl&gt;</th><th scope=col>&lt;dbl&gt;</th><th scope=col>&lt;dbl&gt;</th><th scope=col>&lt;dbl&gt;</th><th scope=col>&lt;dbl&gt;</th><th scope=col>&lt;dbl&gt;</th><th scope=col>&lt;dbl&gt;</th><th scope=col>&lt;dbl&gt;</th></tr>\n",
       "</thead>\n",
       "<tbody>\n",
       "\t<tr><th scope=row>GAS6</th><td>0.00000000</td><td>0</td><td>0.8088228</td><td>0.00000000</td><td>0.00000000</td><td>0.022475980</td><td>0.00000000</td><td>0</td><td>0.722732686</td><td>0.000000000</td><td>⋯</td><td>0.00000000</td><td>0.01289279</td><td>0.0000000</td><td>0.00000000</td><td>0.00000000</td><td>0.000000000</td><td>0</td><td>0.000000000</td><td>0.02679134</td><td>0.5149712</td></tr>\n",
       "\t<tr><th scope=row>MMP14</th><td>0.00000000</td><td>0</td><td>0.0000000</td><td>0.03365089</td><td>0.04630009</td><td>0.000000000</td><td>0.00000000</td><td>0</td><td>0.631639811</td><td>0.000000000</td><td>⋯</td><td>0.00000000</td><td>0.08506112</td><td>0.1338525</td><td>0.00000000</td><td>0.00000000</td><td>0.000000000</td><td>0</td><td>0.006647826</td><td>0.00000000</td><td>0.3673954</td></tr>\n",
       "\t<tr><th scope=row>MARCKSL1</th><td>0.01613378</td><td>0</td><td>0.0000000</td><td>0.00000000</td><td>0.06688880</td><td>0.066676153</td><td>0.00000000</td><td>0</td><td>0.007572313</td><td>0.000000000</td><td>⋯</td><td>0.09874767</td><td>0.00000000</td><td>0.0000000</td><td>0.00000000</td><td>0.00691434</td><td>0.008059198</td><td>0</td><td>0.000000000</td><td>0.08562033</td><td>0.2394095</td></tr>\n",
       "\t<tr><th scope=row>SPARC</th><td>0.00000000</td><td>0</td><td>0.2178293</td><td>0.05884839</td><td>0.00000000</td><td>0.000000000</td><td>0.00000000</td><td>0</td><td>0.307728319</td><td>0.000000000</td><td>⋯</td><td>0.00000000</td><td>0.00000000</td><td>0.0000000</td><td>0.02233023</td><td>0.00000000</td><td>0.000000000</td><td>0</td><td>0.094854111</td><td>0.00000000</td><td>0.2220075</td></tr>\n",
       "\t<tr><th scope=row>CTSD</th><td>0.36951508</td><td>0</td><td>0.4789879</td><td>0.11634386</td><td>0.00000000</td><td>0.004501709</td><td>0.00000000</td><td>0</td><td>1.338231068</td><td>0.006038829</td><td>⋯</td><td>0.00000000</td><td>0.02404874</td><td>0.0000000</td><td>0.00000000</td><td>0.03719229</td><td>0.000000000</td><td>0</td><td>0.000000000</td><td>0.00000000</td><td>0.3540167</td></tr>\n",
       "\t<tr><th scope=row>EPAS1</th><td>0.00000000</td><td>0</td><td>0.0000000</td><td>0.00000000</td><td>0.00000000</td><td>0.019567018</td><td>0.07301501</td><td>0</td><td>0.139432989</td><td>0.000000000</td><td>⋯</td><td>0.00000000</td><td>0.00000000</td><td>0.0000000</td><td>1.31723287</td><td>0.75172429</td><td>0.000000000</td><td>0</td><td>0.100465770</td><td>0.00000000</td><td>0.1011839</td></tr>\n",
       "</tbody>\n",
       "</table>\n"
      ],
      "text/latex": [
       "A data.frame: 6 × 1042\n",
       "\\begin{tabular}{r|lllllllllllllllllllll}\n",
       "  & LV1 & LV2 & LV3 & LV4 & LV5 & LV6 & LV7 & LV8 & LV9 & LV10 & ⋯ & LV1033 & LV1034 & LV1035 & LV1036 & LV1037 & LV1038 & LV1039 & LV1040 & LV1041 & LV1042\\\\\n",
       "  & <dbl> & <dbl> & <dbl> & <dbl> & <dbl> & <dbl> & <dbl> & <dbl> & <dbl> & <dbl> & ⋯ & <dbl> & <dbl> & <dbl> & <dbl> & <dbl> & <dbl> & <dbl> & <dbl> & <dbl> & <dbl>\\\\\n",
       "\\hline\n",
       "\tGAS6 & 0.00000000 & 0 & 0.8088228 & 0.00000000 & 0.00000000 & 0.022475980 & 0.00000000 & 0 & 0.722732686 & 0.000000000 & ⋯ & 0.00000000 & 0.01289279 & 0.0000000 & 0.00000000 & 0.00000000 & 0.000000000 & 0 & 0.000000000 & 0.02679134 & 0.5149712\\\\\n",
       "\tMMP14 & 0.00000000 & 0 & 0.0000000 & 0.03365089 & 0.04630009 & 0.000000000 & 0.00000000 & 0 & 0.631639811 & 0.000000000 & ⋯ & 0.00000000 & 0.08506112 & 0.1338525 & 0.00000000 & 0.00000000 & 0.000000000 & 0 & 0.006647826 & 0.00000000 & 0.3673954\\\\\n",
       "\tMARCKSL1 & 0.01613378 & 0 & 0.0000000 & 0.00000000 & 0.06688880 & 0.066676153 & 0.00000000 & 0 & 0.007572313 & 0.000000000 & ⋯ & 0.09874767 & 0.00000000 & 0.0000000 & 0.00000000 & 0.00691434 & 0.008059198 & 0 & 0.000000000 & 0.08562033 & 0.2394095\\\\\n",
       "\tSPARC & 0.00000000 & 0 & 0.2178293 & 0.05884839 & 0.00000000 & 0.000000000 & 0.00000000 & 0 & 0.307728319 & 0.000000000 & ⋯ & 0.00000000 & 0.00000000 & 0.0000000 & 0.02233023 & 0.00000000 & 0.000000000 & 0 & 0.094854111 & 0.00000000 & 0.2220075\\\\\n",
       "\tCTSD & 0.36951508 & 0 & 0.4789879 & 0.11634386 & 0.00000000 & 0.004501709 & 0.00000000 & 0 & 1.338231068 & 0.006038829 & ⋯ & 0.00000000 & 0.02404874 & 0.0000000 & 0.00000000 & 0.03719229 & 0.000000000 & 0 & 0.000000000 & 0.00000000 & 0.3540167\\\\\n",
       "\tEPAS1 & 0.00000000 & 0 & 0.0000000 & 0.00000000 & 0.00000000 & 0.019567018 & 0.07301501 & 0 & 0.139432989 & 0.000000000 & ⋯ & 0.00000000 & 0.00000000 & 0.0000000 & 1.31723287 & 0.75172429 & 0.000000000 & 0 & 0.100465770 & 0.00000000 & 0.1011839\\\\\n",
       "\\end{tabular}\n"
      ],
      "text/markdown": [
       "\n",
       "A data.frame: 6 × 1042\n",
       "\n",
       "| <!--/--> | LV1 &lt;dbl&gt; | LV2 &lt;dbl&gt; | LV3 &lt;dbl&gt; | LV4 &lt;dbl&gt; | LV5 &lt;dbl&gt; | LV6 &lt;dbl&gt; | LV7 &lt;dbl&gt; | LV8 &lt;dbl&gt; | LV9 &lt;dbl&gt; | LV10 &lt;dbl&gt; | ⋯ ⋯ | LV1033 &lt;dbl&gt; | LV1034 &lt;dbl&gt; | LV1035 &lt;dbl&gt; | LV1036 &lt;dbl&gt; | LV1037 &lt;dbl&gt; | LV1038 &lt;dbl&gt; | LV1039 &lt;dbl&gt; | LV1040 &lt;dbl&gt; | LV1041 &lt;dbl&gt; | LV1042 &lt;dbl&gt; |\n",
       "|---|---|---|---|---|---|---|---|---|---|---|---|---|---|---|---|---|---|---|---|---|---|\n",
       "| GAS6 | 0.00000000 | 0 | 0.8088228 | 0.00000000 | 0.00000000 | 0.022475980 | 0.00000000 | 0 | 0.722732686 | 0.000000000 | ⋯ | 0.00000000 | 0.01289279 | 0.0000000 | 0.00000000 | 0.00000000 | 0.000000000 | 0 | 0.000000000 | 0.02679134 | 0.5149712 |\n",
       "| MMP14 | 0.00000000 | 0 | 0.0000000 | 0.03365089 | 0.04630009 | 0.000000000 | 0.00000000 | 0 | 0.631639811 | 0.000000000 | ⋯ | 0.00000000 | 0.08506112 | 0.1338525 | 0.00000000 | 0.00000000 | 0.000000000 | 0 | 0.006647826 | 0.00000000 | 0.3673954 |\n",
       "| MARCKSL1 | 0.01613378 | 0 | 0.0000000 | 0.00000000 | 0.06688880 | 0.066676153 | 0.00000000 | 0 | 0.007572313 | 0.000000000 | ⋯ | 0.09874767 | 0.00000000 | 0.0000000 | 0.00000000 | 0.00691434 | 0.008059198 | 0 | 0.000000000 | 0.08562033 | 0.2394095 |\n",
       "| SPARC | 0.00000000 | 0 | 0.2178293 | 0.05884839 | 0.00000000 | 0.000000000 | 0.00000000 | 0 | 0.307728319 | 0.000000000 | ⋯ | 0.00000000 | 0.00000000 | 0.0000000 | 0.02233023 | 0.00000000 | 0.000000000 | 0 | 0.094854111 | 0.00000000 | 0.2220075 |\n",
       "| CTSD | 0.36951508 | 0 | 0.4789879 | 0.11634386 | 0.00000000 | 0.004501709 | 0.00000000 | 0 | 1.338231068 | 0.006038829 | ⋯ | 0.00000000 | 0.02404874 | 0.0000000 | 0.00000000 | 0.03719229 | 0.000000000 | 0 | 0.000000000 | 0.00000000 | 0.3540167 |\n",
       "| EPAS1 | 0.00000000 | 0 | 0.0000000 | 0.00000000 | 0.00000000 | 0.019567018 | 0.07301501 | 0 | 0.139432989 | 0.000000000 | ⋯ | 0.00000000 | 0.00000000 | 0.0000000 | 1.31723287 | 0.75172429 | 0.000000000 | 0 | 0.100465770 | 0.00000000 | 0.1011839 |\n",
       "\n"
      ],
      "text/plain": [
       "         LV1        LV2 LV3       LV4        LV5        LV6         LV7       \n",
       "GAS6     0.00000000 0   0.8088228 0.00000000 0.00000000 0.022475980 0.00000000\n",
       "MMP14    0.00000000 0   0.0000000 0.03365089 0.04630009 0.000000000 0.00000000\n",
       "MARCKSL1 0.01613378 0   0.0000000 0.00000000 0.06688880 0.066676153 0.00000000\n",
       "SPARC    0.00000000 0   0.2178293 0.05884839 0.00000000 0.000000000 0.00000000\n",
       "CTSD     0.36951508 0   0.4789879 0.11634386 0.00000000 0.004501709 0.00000000\n",
       "EPAS1    0.00000000 0   0.0000000 0.00000000 0.00000000 0.019567018 0.07301501\n",
       "         LV8 LV9         LV10        ⋯ LV1033     LV1034     LV1035   \n",
       "GAS6     0   0.722732686 0.000000000 ⋯ 0.00000000 0.01289279 0.0000000\n",
       "MMP14    0   0.631639811 0.000000000 ⋯ 0.00000000 0.08506112 0.1338525\n",
       "MARCKSL1 0   0.007572313 0.000000000 ⋯ 0.09874767 0.00000000 0.0000000\n",
       "SPARC    0   0.307728319 0.000000000 ⋯ 0.00000000 0.00000000 0.0000000\n",
       "CTSD     0   1.338231068 0.006038829 ⋯ 0.00000000 0.02404874 0.0000000\n",
       "EPAS1    0   0.139432989 0.000000000 ⋯ 0.00000000 0.00000000 0.0000000\n",
       "         LV1036     LV1037     LV1038      LV1039 LV1040      LV1041    \n",
       "GAS6     0.00000000 0.00000000 0.000000000 0      0.000000000 0.02679134\n",
       "MMP14    0.00000000 0.00000000 0.000000000 0      0.006647826 0.00000000\n",
       "MARCKSL1 0.00000000 0.00691434 0.008059198 0      0.000000000 0.08562033\n",
       "SPARC    0.02233023 0.00000000 0.000000000 0      0.094854111 0.00000000\n",
       "CTSD     0.00000000 0.03719229 0.000000000 0      0.000000000 0.00000000\n",
       "EPAS1    1.31723287 0.75172429 0.000000000 0      0.100465770 0.00000000\n",
       "         LV1042   \n",
       "GAS6     0.5149712\n",
       "MMP14    0.3673954\n",
       "MARCKSL1 0.2394095\n",
       "SPARC    0.2220075\n",
       "CTSD     0.3540167\n",
       "EPAS1    0.1011839"
      ]
     },
     "metadata": {},
     "output_type": "display_data"
    }
   ],
   "source": [
    "plier_Z <- data.frame(plier_result$Z)\n",
    "colnames(plier_Z) <- paste0('LV', 1:ncol(plier_Z))\n",
    "head(plier_Z)"
   ]
  },
  {
   "cell_type": "code",
   "execution_count": 15,
   "id": "cce8387d-bde2-43fb-b207-93517b8f20eb",
   "metadata": {},
   "outputs": [
    {
     "data": {
      "text/html": [
       "<table class=\"dataframe\">\n",
       "<caption>A data.frame: 6 × 1042</caption>\n",
       "<thead>\n",
       "\t<tr><th></th><th scope=col>LV1</th><th scope=col>LV2</th><th scope=col>LV3</th><th scope=col>LV4</th><th scope=col>LV5</th><th scope=col>LV6</th><th scope=col>LV7</th><th scope=col>LV8</th><th scope=col>LV9</th><th scope=col>LV10</th><th scope=col>⋯</th><th scope=col>LV1033</th><th scope=col>LV1034</th><th scope=col>LV1035</th><th scope=col>LV1036</th><th scope=col>LV1037</th><th scope=col>LV1038</th><th scope=col>LV1039</th><th scope=col>LV1040</th><th scope=col>LV1041</th><th scope=col>LV1042</th></tr>\n",
       "\t<tr><th></th><th scope=col>&lt;dbl&gt;</th><th scope=col>&lt;dbl&gt;</th><th scope=col>&lt;dbl&gt;</th><th scope=col>&lt;dbl&gt;</th><th scope=col>&lt;dbl&gt;</th><th scope=col>&lt;dbl&gt;</th><th scope=col>&lt;dbl&gt;</th><th scope=col>&lt;dbl&gt;</th><th scope=col>&lt;dbl&gt;</th><th scope=col>&lt;dbl&gt;</th><th scope=col>⋯</th><th scope=col>&lt;dbl&gt;</th><th scope=col>&lt;dbl&gt;</th><th scope=col>&lt;dbl&gt;</th><th scope=col>&lt;dbl&gt;</th><th scope=col>&lt;dbl&gt;</th><th scope=col>&lt;dbl&gt;</th><th scope=col>&lt;dbl&gt;</th><th scope=col>&lt;dbl&gt;</th><th scope=col>&lt;dbl&gt;</th><th scope=col>&lt;dbl&gt;</th></tr>\n",
       "</thead>\n",
       "<tbody>\n",
       "\t<tr><th scope=row>GAS6</th><td>0.27430539</td><td>0.087087797</td><td>0.67588796</td><td>0.006886257</td><td>0</td><td>0.039737414</td><td>0.0000000</td><td>0.1488336980</td><td>0.62829993</td><td>0.00000000</td><td>⋯</td><td>0.0000000</td><td>0.00000000</td><td>0.2081600</td><td>0.000000000</td><td>0.00000000</td><td>0.05558472</td><td>0</td><td>0.0000000</td><td>0.0000000</td><td>0.04389087</td></tr>\n",
       "\t<tr><th scope=row>MMP14</th><td>0.00000000</td><td>0.000000000</td><td>0.00000000</td><td>0.059793633</td><td>0</td><td>0.000000000</td><td>0.1319655</td><td>0.0885056077</td><td>0.79200247</td><td>0.05847276</td><td>⋯</td><td>0.0000000</td><td>0.00000000</td><td>0.0000000</td><td>0.000000000</td><td>0.03387982</td><td>0.05303867</td><td>0</td><td>0.0000000</td><td>0.0000000</td><td>0.00000000</td></tr>\n",
       "\t<tr><th scope=row>MARCKSL1</th><td>0.00000000</td><td>0.000000000</td><td>0.06309194</td><td>0.000000000</td><td>0</td><td>0.056461721</td><td>0.0000000</td><td>0.0173531588</td><td>0.00569385</td><td>0.00000000</td><td>⋯</td><td>0.1730694</td><td>0.00000000</td><td>0.0440362</td><td>0.004335352</td><td>0.00000000</td><td>0.00000000</td><td>0</td><td>0.0000000</td><td>0.0000000</td><td>0.00000000</td></tr>\n",
       "\t<tr><th scope=row>SPARC</th><td>0.00000000</td><td>0.000000000</td><td>0.63300978</td><td>0.093929050</td><td>0</td><td>0.006519107</td><td>0.0000000</td><td>0.0150254065</td><td>0.31534125</td><td>0.10027196</td><td>⋯</td><td>0.0000000</td><td>0.00000000</td><td>0.0000000</td><td>0.000000000</td><td>0.10756563</td><td>0.00000000</td><td>0</td><td>0.0000000</td><td>0.0000000</td><td>0.00000000</td></tr>\n",
       "\t<tr><th scope=row>CTSD</th><td>0.02645988</td><td>0.000000000</td><td>0.01103984</td><td>0.095672291</td><td>0</td><td>0.000000000</td><td>0.0000000</td><td>0.1255902669</td><td>1.51097641</td><td>0.00000000</td><td>⋯</td><td>0.0000000</td><td>0.00000000</td><td>0.0000000</td><td>0.177918538</td><td>0.00000000</td><td>0.00000000</td><td>0</td><td>0.1559392</td><td>0.0000000</td><td>0.00000000</td></tr>\n",
       "\t<tr><th scope=row>EPAS1</th><td>0.00000000</td><td>0.009669602</td><td>0.07899905</td><td>0.000000000</td><td>0</td><td>0.052201100</td><td>0.1557273</td><td>0.0005632658</td><td>0.22821122</td><td>0.06532447</td><td>⋯</td><td>0.0000000</td><td>0.00571755</td><td>0.0000000</td><td>0.000000000</td><td>0.44298536</td><td>0.00000000</td><td>0</td><td>0.0000000</td><td>0.0732693</td><td>0.00000000</td></tr>\n",
       "</tbody>\n",
       "</table>\n"
      ],
      "text/latex": [
       "A data.frame: 6 × 1042\n",
       "\\begin{tabular}{r|lllllllllllllllllllll}\n",
       "  & LV1 & LV2 & LV3 & LV4 & LV5 & LV6 & LV7 & LV8 & LV9 & LV10 & ⋯ & LV1033 & LV1034 & LV1035 & LV1036 & LV1037 & LV1038 & LV1039 & LV1040 & LV1041 & LV1042\\\\\n",
       "  & <dbl> & <dbl> & <dbl> & <dbl> & <dbl> & <dbl> & <dbl> & <dbl> & <dbl> & <dbl> & ⋯ & <dbl> & <dbl> & <dbl> & <dbl> & <dbl> & <dbl> & <dbl> & <dbl> & <dbl> & <dbl>\\\\\n",
       "\\hline\n",
       "\tGAS6 & 0.27430539 & 0.087087797 & 0.67588796 & 0.006886257 & 0 & 0.039737414 & 0.0000000 & 0.1488336980 & 0.62829993 & 0.00000000 & ⋯ & 0.0000000 & 0.00000000 & 0.2081600 & 0.000000000 & 0.00000000 & 0.05558472 & 0 & 0.0000000 & 0.0000000 & 0.04389087\\\\\n",
       "\tMMP14 & 0.00000000 & 0.000000000 & 0.00000000 & 0.059793633 & 0 & 0.000000000 & 0.1319655 & 0.0885056077 & 0.79200247 & 0.05847276 & ⋯ & 0.0000000 & 0.00000000 & 0.0000000 & 0.000000000 & 0.03387982 & 0.05303867 & 0 & 0.0000000 & 0.0000000 & 0.00000000\\\\\n",
       "\tMARCKSL1 & 0.00000000 & 0.000000000 & 0.06309194 & 0.000000000 & 0 & 0.056461721 & 0.0000000 & 0.0173531588 & 0.00569385 & 0.00000000 & ⋯ & 0.1730694 & 0.00000000 & 0.0440362 & 0.004335352 & 0.00000000 & 0.00000000 & 0 & 0.0000000 & 0.0000000 & 0.00000000\\\\\n",
       "\tSPARC & 0.00000000 & 0.000000000 & 0.63300978 & 0.093929050 & 0 & 0.006519107 & 0.0000000 & 0.0150254065 & 0.31534125 & 0.10027196 & ⋯ & 0.0000000 & 0.00000000 & 0.0000000 & 0.000000000 & 0.10756563 & 0.00000000 & 0 & 0.0000000 & 0.0000000 & 0.00000000\\\\\n",
       "\tCTSD & 0.02645988 & 0.000000000 & 0.01103984 & 0.095672291 & 0 & 0.000000000 & 0.0000000 & 0.1255902669 & 1.51097641 & 0.00000000 & ⋯ & 0.0000000 & 0.00000000 & 0.0000000 & 0.177918538 & 0.00000000 & 0.00000000 & 0 & 0.1559392 & 0.0000000 & 0.00000000\\\\\n",
       "\tEPAS1 & 0.00000000 & 0.009669602 & 0.07899905 & 0.000000000 & 0 & 0.052201100 & 0.1557273 & 0.0005632658 & 0.22821122 & 0.06532447 & ⋯ & 0.0000000 & 0.00571755 & 0.0000000 & 0.000000000 & 0.44298536 & 0.00000000 & 0 & 0.0000000 & 0.0732693 & 0.00000000\\\\\n",
       "\\end{tabular}\n"
      ],
      "text/markdown": [
       "\n",
       "A data.frame: 6 × 1042\n",
       "\n",
       "| <!--/--> | LV1 &lt;dbl&gt; | LV2 &lt;dbl&gt; | LV3 &lt;dbl&gt; | LV4 &lt;dbl&gt; | LV5 &lt;dbl&gt; | LV6 &lt;dbl&gt; | LV7 &lt;dbl&gt; | LV8 &lt;dbl&gt; | LV9 &lt;dbl&gt; | LV10 &lt;dbl&gt; | ⋯ ⋯ | LV1033 &lt;dbl&gt; | LV1034 &lt;dbl&gt; | LV1035 &lt;dbl&gt; | LV1036 &lt;dbl&gt; | LV1037 &lt;dbl&gt; | LV1038 &lt;dbl&gt; | LV1039 &lt;dbl&gt; | LV1040 &lt;dbl&gt; | LV1041 &lt;dbl&gt; | LV1042 &lt;dbl&gt; |\n",
       "|---|---|---|---|---|---|---|---|---|---|---|---|---|---|---|---|---|---|---|---|---|---|\n",
       "| GAS6 | 0.27430539 | 0.087087797 | 0.67588796 | 0.006886257 | 0 | 0.039737414 | 0.0000000 | 0.1488336980 | 0.62829993 | 0.00000000 | ⋯ | 0.0000000 | 0.00000000 | 0.2081600 | 0.000000000 | 0.00000000 | 0.05558472 | 0 | 0.0000000 | 0.0000000 | 0.04389087 |\n",
       "| MMP14 | 0.00000000 | 0.000000000 | 0.00000000 | 0.059793633 | 0 | 0.000000000 | 0.1319655 | 0.0885056077 | 0.79200247 | 0.05847276 | ⋯ | 0.0000000 | 0.00000000 | 0.0000000 | 0.000000000 | 0.03387982 | 0.05303867 | 0 | 0.0000000 | 0.0000000 | 0.00000000 |\n",
       "| MARCKSL1 | 0.00000000 | 0.000000000 | 0.06309194 | 0.000000000 | 0 | 0.056461721 | 0.0000000 | 0.0173531588 | 0.00569385 | 0.00000000 | ⋯ | 0.1730694 | 0.00000000 | 0.0440362 | 0.004335352 | 0.00000000 | 0.00000000 | 0 | 0.0000000 | 0.0000000 | 0.00000000 |\n",
       "| SPARC | 0.00000000 | 0.000000000 | 0.63300978 | 0.093929050 | 0 | 0.006519107 | 0.0000000 | 0.0150254065 | 0.31534125 | 0.10027196 | ⋯ | 0.0000000 | 0.00000000 | 0.0000000 | 0.000000000 | 0.10756563 | 0.00000000 | 0 | 0.0000000 | 0.0000000 | 0.00000000 |\n",
       "| CTSD | 0.02645988 | 0.000000000 | 0.01103984 | 0.095672291 | 0 | 0.000000000 | 0.0000000 | 0.1255902669 | 1.51097641 | 0.00000000 | ⋯ | 0.0000000 | 0.00000000 | 0.0000000 | 0.177918538 | 0.00000000 | 0.00000000 | 0 | 0.1559392 | 0.0000000 | 0.00000000 |\n",
       "| EPAS1 | 0.00000000 | 0.009669602 | 0.07899905 | 0.000000000 | 0 | 0.052201100 | 0.1557273 | 0.0005632658 | 0.22821122 | 0.06532447 | ⋯ | 0.0000000 | 0.00571755 | 0.0000000 | 0.000000000 | 0.44298536 | 0.00000000 | 0 | 0.0000000 | 0.0732693 | 0.00000000 |\n",
       "\n"
      ],
      "text/plain": [
       "         LV1        LV2         LV3        LV4         LV5 LV6        \n",
       "GAS6     0.27430539 0.087087797 0.67588796 0.006886257 0   0.039737414\n",
       "MMP14    0.00000000 0.000000000 0.00000000 0.059793633 0   0.000000000\n",
       "MARCKSL1 0.00000000 0.000000000 0.06309194 0.000000000 0   0.056461721\n",
       "SPARC    0.00000000 0.000000000 0.63300978 0.093929050 0   0.006519107\n",
       "CTSD     0.02645988 0.000000000 0.01103984 0.095672291 0   0.000000000\n",
       "EPAS1    0.00000000 0.009669602 0.07899905 0.000000000 0   0.052201100\n",
       "         LV7       LV8          LV9        LV10       ⋯ LV1033    LV1034    \n",
       "GAS6     0.0000000 0.1488336980 0.62829993 0.00000000 ⋯ 0.0000000 0.00000000\n",
       "MMP14    0.1319655 0.0885056077 0.79200247 0.05847276 ⋯ 0.0000000 0.00000000\n",
       "MARCKSL1 0.0000000 0.0173531588 0.00569385 0.00000000 ⋯ 0.1730694 0.00000000\n",
       "SPARC    0.0000000 0.0150254065 0.31534125 0.10027196 ⋯ 0.0000000 0.00000000\n",
       "CTSD     0.0000000 0.1255902669 1.51097641 0.00000000 ⋯ 0.0000000 0.00000000\n",
       "EPAS1    0.1557273 0.0005632658 0.22821122 0.06532447 ⋯ 0.0000000 0.00571755\n",
       "         LV1035    LV1036      LV1037     LV1038     LV1039 LV1040    LV1041   \n",
       "GAS6     0.2081600 0.000000000 0.00000000 0.05558472 0      0.0000000 0.0000000\n",
       "MMP14    0.0000000 0.000000000 0.03387982 0.05303867 0      0.0000000 0.0000000\n",
       "MARCKSL1 0.0440362 0.004335352 0.00000000 0.00000000 0      0.0000000 0.0000000\n",
       "SPARC    0.0000000 0.000000000 0.10756563 0.00000000 0      0.0000000 0.0000000\n",
       "CTSD     0.0000000 0.177918538 0.00000000 0.00000000 0      0.1559392 0.0000000\n",
       "EPAS1    0.0000000 0.000000000 0.44298536 0.00000000 0      0.0000000 0.0732693\n",
       "         LV1042    \n",
       "GAS6     0.04389087\n",
       "MMP14    0.00000000\n",
       "MARCKSL1 0.00000000\n",
       "SPARC    0.00000000\n",
       "CTSD     0.00000000\n",
       "EPAS1    0.00000000"
      ]
     },
     "metadata": {},
     "output_type": "display_data"
    }
   ],
   "source": [
    "delayedPlier_Z <- data.frame(delayedPlier_result$Z)\n",
    "colnames(delayedPlier_Z) <- paste0('LV', 1:ncol(delayedPlier_Z))\n",
    "head(delayedPlier_Z)"
   ]
  },
  {
   "cell_type": "code",
   "execution_count": 18,
   "id": "113cc43c-2456-4ab5-878d-8204cc2df840",
   "metadata": {},
   "outputs": [],
   "source": [
    "save_as_pickle(delayedPlier_Z, 'delayedPlier_Z.pkl', output_nb_path)"
   ]
  },
  {
   "cell_type": "code",
   "execution_count": 19,
   "id": "6105c2f9-840c-4c3d-bb63-df7c5d8173c9",
   "metadata": {},
   "outputs": [],
   "source": [
    "save_as_pickle(plier_Z, 'plier_Z.pkl', output_nb_path)"
   ]
  }
 ],
 "metadata": {
  "kernelspec": {
   "display_name": "R",
   "language": "R",
   "name": "ir"
  },
  "language_info": {
   "codemirror_mode": "r",
   "file_extension": ".r",
   "mimetype": "text/x-r-source",
   "name": "R",
   "pygments_lexer": "r",
   "version": "4.3.3"
  }
 },
 "nbformat": 4,
 "nbformat_minor": 5
}
