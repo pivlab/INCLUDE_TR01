{
 "cells": [
  {
   "cell_type": "markdown",
   "id": "89e8219d-bced-496e-86b7-358e6b7415d7",
   "metadata": {},
   "source": [
    "# Create same model PLIER DelayedPLIER"
   ]
  },
  {
   "cell_type": "markdown",
   "id": "c84f160a-9642-4fcb-ba0f-64bbea4cb27e",
   "metadata": {
    "editable": true,
    "slideshow": {
     "slide_type": ""
    },
    "tags": []
   },
   "source": [
    "Marc Subirana-Granés (2024)\n",
    "\n",
    "Create a basic PLIER model to compare between the results between PLIER and DelayedPLIER"
   ]
  },
  {
   "cell_type": "markdown",
   "id": "0b4737e3-147b-4c7e-bba3-0eea377ea36a",
   "metadata": {},
   "source": [
    "# Load libraries/modules"
   ]
  },
  {
   "cell_type": "code",
   "execution_count": 8,
   "id": "db0f2cda-247b-4fd4-ac26-f2441bd33055",
   "metadata": {},
   "outputs": [],
   "source": [
    "`%>%` <- dplyr::`%>%`\n",
    "library(PLIER)\n",
    "library(dplyr)\n",
    "library(reticulate)\n",
    "\n",
    "# PLIER utils\n",
    "source(here::here('scripts/plier_util.R'))\n",
    "\n",
    "#delayedPLIER functions\n",
    "path_script_funcs = '/home/msubirana/Documents/pivlab/DelayedPLIER/funcs.R'\n",
    "source(path_script_funcs)\n",
    "\n",
    "# Load PLIER pathway and cell type data\n",
    "data(bloodCellMarkersIRISDMAP)\n",
    "data(svmMarkers)\n",
    "data(canonicalPathways)"
   ]
  },
  {
   "cell_type": "markdown",
   "id": "1d2c7694-f71c-4421-bb58-5b347a6fd930",
   "metadata": {},
   "source": [
    "# Load data"
   ]
  },
  {
   "cell_type": "code",
   "execution_count": null,
   "id": "b5f2dca3-43bc-4d2a-b044-8de7e7ef3b71",
   "metadata": {},
   "outputs": [],
   "source": [
    "# define output nb\n",
    "output_nb_path = here('output/nbs/create_same_model_PLIER_DelayedPLIER')\n",
    "dir.create(output_nb_path, showWarnings = FALSE)\n",
    "expression_dataset_path <- here::here('output/gtex/GTEx_v8_gene_median_tpm.rds')"
   ]
  },
  {
   "cell_type": "markdown",
   "id": "11751733-f4a9-40bd-a93a-8be5d8d0627f",
   "metadata": {},
   "source": [
    "# Prepare data for all the models"
   ]
  },
  {
   "cell_type": "code",
   "execution_count": 6,
   "id": "278d37cd-233b-4505-8596-d4cc0f3a71de",
   "metadata": {
    "editable": true,
    "slideshow": {
     "slide_type": ""
    },
    "tags": []
   },
   "outputs": [],
   "source": [
    "# Assign arguments to variables \n",
    "# Prepare output directory\n",
    "output_file_path=dirname(output_file)\n",
    "dir.create(dirname(output_file_path), showWarnings = FALSE, recursive = TRUE)\n",
    "\n",
    "# Load data\n",
    "expression_dataset <- readRDS(expression_dataset_path)\n",
    "\n",
    "# Remove gene ens id column and duplicate genes\n",
    "expression_dataset <- subset(expression_dataset, select = -c(gene_ens_id))\n",
    "expression_dataset <- expression_dataset[!duplicated(expression_dataset[\"gene_symbol\"]),]\n",
    "\n",
    "# Rename rows with gene symbols\n",
    "rownames(expression_dataset) <- expression_dataset[,\"gene_symbol\"]\n",
    "\n",
    "# Remove gene symbol column\n",
    "expression_dataset <- subset(expression_dataset, select = -c(gene_symbol))\n",
    "\n",
    "# Remove NA\n",
    "expression_dataset = na.omit(expression_dataset)\n",
    "\n",
    "# Convert to matrix\n",
    "expression_matrix <- as.matrix(expression_dataset)\n",
    "\n",
    "# Combine the pathway data from PLIER\n",
    "all_paths <- PLIER::combinePaths(bloodCellMarkersIRISDMAP, svmMarkers, canonicalPathways)\n",
    "\n",
    "# What genes are common to the pathway data and the expression matrix\n",
    "cm_genes <- PLIER::commonRows(all_paths, expression_matrix)\n",
    "\n",
    "# filter to common genes before row normalization to save on computation\n",
    "expression_matrix_cm <- expression_matrix[cm_genes, ]\n",
    "\n",
    "# Z-score normalization\n",
    "expression_matrix_cm <- PLIER::rowNorm(expression_matrix_cm) \n",
    "\n",
    "# Remove NA\n",
    "expression_matrix_cm=na.omit(expression_matrix_cm)\n",
    "\n",
    "# What genes are common to the pathway data and the expression matrix\n",
    "cm_genes <- PLIER::commonRows(all_paths, expression_matrix_cm)\n",
    "\n",
    "# filter to common genes before row normalization to save on computation\n",
    "expression_matrix_cm <- expression_matrix_cm[cm_genes, ]\n",
    "all_paths_cm <- all_paths[cm_genes, ]"
   ]
  },
  {
   "cell_type": "markdown",
   "id": "8e89060a-1c79-40d5-858d-b87d86fd45bb",
   "metadata": {},
   "source": [
    "# PLIER"
   ]
  },
  {
   "cell_type": "markdown",
   "id": "90fc2331-3d07-4bb7-973a-2c46e89dce9f",
   "metadata": {},
   "source": [
    "## GTEx PLIER preparation"
   ]
  },
  {
   "cell_type": "code",
   "execution_count": 26,
   "id": "dbce0a64-be56-4b99-914b-293ecb682288",
   "metadata": {},
   "outputs": [
    {
     "name": "stderr",
     "output_type": "stream",
     "text": [
      "Computing SVD\n",
      "\n",
      "Using rsvd\n",
      "\n",
      "Done\n",
      "\n"
     ]
    }
   ],
   "source": [
    "# compute rsvd/svd\n",
    "set.seed(123456)\n",
    "ns=ncol(expression_matrix_cm)\n",
    "message(\"Computing SVD\")\n",
    "if(ns>500){\n",
    "  message(\"Using rsvd\")\n",
    "  set.seed(123456);svdres=rsvd(expression_matrix_cm, k=min(ns, max(200, ns/4)), q=3)\n",
    "}else{\n",
    "  svdres=svd(expression_matrix_cm)\n",
    "}\n",
    "message(\"Done\")\n",
    "\n",
    "# save z-scored expression data, the prior information matrix and svdres to be supplied to PLIER::PLIER and the number of PCs\n",
    "\n",
    "output_file_preplier <- file.path(output_nb_path, 'gtex_comparison_plier.rds')\n",
    "\n",
    "\n",
    "plier_data_list <- list(\"expression_matrix_cm\" = expression_matrix_cm,\n",
    "                        \"all_paths_cm\" = all_paths[cm_genes, ],\n",
    "                        \"svdres\" = svdres)\n",
    "\n",
    "saveRDS(plier_data_list, file = output_file_preplier)"
   ]
  },
  {
   "cell_type": "markdown",
   "id": "805213c1-e5b0-4878-a216-a1939319ca8b",
   "metadata": {},
   "source": [
    "## GTEx PLIER run"
   ]
  },
  {
   "cell_type": "code",
   "execution_count": 28,
   "id": "5ec74034-2bdd-4836-974c-f44b045decfd",
   "metadata": {
    "scrolled": true
   },
   "outputs": [
    {
     "name": "stderr",
     "output_type": "stream",
     "text": [
      "k is set to 1042\n",
      "\n",
      "Removing 4 pathways with too few genes\n",
      "\n"
     ]
    },
    {
     "name": "stdout",
     "output_type": "stream",
     "text": [
      "[1] 55.53997\n",
      "[1] \"L2 is set to 55.5399692443312\"\n",
      "[1] \"L1 is set to 27.7699846221656\"\n"
     ]
    },
    {
     "name": "stderr",
     "output_type": "stream",
     "text": [
      "errorY (SVD based:best possible) = 0.6328\n",
      "\n",
      "New L3 is 0.000804733010124613\n",
      "\n",
      "New L3 is 0.000710174388842549\n",
      "\n",
      "New L3 is 0.000710174388842549\n",
      "\n",
      "New L3 is 0.000804733010124613\n",
      "\n",
      "New L3 is 0.000804733010124613\n",
      "\n",
      "New L3 is 0.000804733010124613\n",
      "\n",
      "New L3 is 0.000911881965554516\n",
      "\n",
      "New L3 is 0.000911881965554516\n",
      "\n",
      "New L3 is 0.000911881965554516\n",
      "\n",
      "New L3 is 0.000911881965554516\n",
      "\n",
      "New L3 is 0.000911881965554516\n",
      "\n",
      "New L3 is 0.000911881965554516\n",
      "\n",
      "New L3 is 0.000911881965554516\n",
      "\n",
      "New L3 is 0.000911881965554516\n",
      "\n",
      "New L3 is 0.00103329763864764\n",
      "\n",
      "New L3 is 0.000911881965554516\n",
      "\n",
      "Bdiff is not decreasing\n",
      "\n",
      "Bdiff is not decreasing\n",
      "\n",
      "Bdiff is not decreasing\n",
      "\n",
      "Bdiff is not decreasing\n",
      "\n",
      "Bdiff is not decreasing\n",
      "\n",
      "Bdiff is not decreasing\n",
      "\n",
      "converged at  iteration 334 Bdiff is not decreasing\n",
      "\n",
      "There are 216  LVs with AUC>0.70\n",
      "\n"
     ]
    }
   ],
   "source": [
    "# Assign arguments to variables \n",
    "output_file_plier <- file.path(output_nb_path, 'gtex_comparison_PLIER.rds')\n",
    "parameter_k <- 1\n",
    "frac <- 0.7\n",
    "\n",
    "# Load data\n",
    "expression_matrix_cm=plier_data_list$expression_matrix_cm\n",
    "all_paths_cm=plier_data_list$all_paths_cm\n",
    "svdres=plier_data_list$svdres\n",
    "\n",
    "# compute k\n",
    "k=num.pc(svdres)*2\n",
    "k <- min(k, floor(ncol(expression_matrix_cm)*0.9))\n",
    "k = k * parameter_k\n",
    "k = round(k, 0)\n",
    "message(\"k is set to \", k)\n",
    "\n",
    "# Run PLIER (with common genes)\n",
    "plier_result=PLIER::PLIER(data=expression_matrix_cm, priorMat=all_paths_cm , svdres=svdres, k=k, frac=frac, scale=FALSE)\n",
    "\n",
    "# Prepare output directory\n",
    "output_file_path=dirname(output_file)\n",
    "dir.create(dirname(output_file_path), showWarnings = FALSE, recursive = TRUE)\n",
    "\n",
    "# Save results\n",
    "saveRDS(plier_result, file = output_file_plier)"
   ]
  },
  {
   "cell_type": "markdown",
   "id": "9b12e706-22c3-407e-aabe-b855bb3440e7",
   "metadata": {},
   "source": [
    "# DelayedPLIER"
   ]
  },
  {
   "cell_type": "code",
   "execution_count": 17,
   "id": "23d535fc-3020-47df-ae2c-4875d5dcfbe2",
   "metadata": {
    "editable": true,
    "slideshow": {
     "slide_type": ""
    },
    "tags": []
   },
   "outputs": [
    {
     "data": {
      "text/plain": [
       "<6683 x 17382> HDF5Matrix object of type \"double\":\n",
       "              [,1]       [,2]       [,3] ...    [,17381]    [,17382]\n",
       "   [1,]  1.4113228 -0.4424523  0.3365641   . -0.43709630 -0.09997518\n",
       "   [2,]  5.8423464 -0.7106564  0.7796052   . -0.64629791  1.35986578\n",
       "   [3,] -0.2272683 -0.5812718 -0.5171569   . -0.59093477 -0.49703849\n",
       "   [4,]  1.6378622 -0.5300667  0.1609265   . -0.73800558  1.53935231\n",
       "   [5,]  0.6301441  0.6176855 -0.4076144   .  0.19893678  0.28222509\n",
       "    ...          .          .          .   .           .           .\n",
       "[6679,] -0.2462670 -0.7701677 -0.5296683   .  -0.7600938  -0.2738677\n",
       "[6680,] -0.1980982 -0.2400479 -0.1990823   .  -0.2451261  -0.2109961\n",
       "[6681,]  2.1421737 -0.7290364  1.5123376   .  -0.9276022   0.7712268\n",
       "[6682,] -0.6538122 -0.9657483 -0.6224588   .  -1.0976921  -0.7310973\n",
       "[6683,] -0.7506101 -0.9781575 -0.6702703   .  -0.8675906  -0.6017146"
      ]
     },
     "metadata": {},
     "output_type": "display_data"
    }
   ],
   "source": [
    "output_file_delayedPLIER_hdf5 <- file.path(output_nb_path, 'counts.hdf5')  \n",
    "output_file_delayedPLIER_dim <- file.path(output_nb_path, 'dimnames.RDS') \n",
    "\n",
    "writeHDF5Array(expression_matrix_cm, filepath = output_file_delayedPLIER_hdf5, name = \"count\")\n",
    "saveRDS(list(row.names = rownames(expression_matrix_cm) , col.names = colnames(expression_matrix_cm)), file = output_file_delayedPLIER_dim)"
   ]
  },
  {
   "cell_type": "code",
   "execution_count": 118,
   "id": "7cedab64-30dd-49fa-9686-51bbcdb0c3ad",
   "metadata": {
    "editable": true,
    "slideshow": {
     "slide_type": ""
    },
    "tags": []
   },
   "outputs": [
    {
     "data": {
      "text/plain": [
       "<6683 x 17382> HDF5Matrix object of type \"double\":\n",
       "              [,1]       [,2]       [,3] ...    [,17381]    [,17382]\n",
       "   [1,]  1.4113228 -0.4424523  0.3365641   . -0.43709630 -0.09997518\n",
       "   [2,]  5.8423464 -0.7106564  0.7796052   . -0.64629791  1.35986578\n",
       "   [3,] -0.2272683 -0.5812718 -0.5171569   . -0.59093477 -0.49703849\n",
       "   [4,]  1.6378622 -0.5300667  0.1609265   . -0.73800558  1.53935231\n",
       "   [5,]  0.6301441  0.6176855 -0.4076144   .  0.19893678  0.28222509\n",
       "    ...          .          .          .   .           .           .\n",
       "[6679,] -0.2462670 -0.7701677 -0.5296683   .  -0.7600938  -0.2738677\n",
       "[6680,] -0.1980982 -0.2400479 -0.1990823   .  -0.2451261  -0.2109961\n",
       "[6681,]  2.1421737 -0.7290364  1.5123376   .  -0.9276022   0.7712268\n",
       "[6682,] -0.6538122 -0.9657483 -0.6224588   .  -1.0976921  -0.7310973\n",
       "[6683,] -0.7506101 -0.9781575 -0.6702703   .  -0.8675906  -0.6017146"
      ]
     },
     "metadata": {},
     "output_type": "display_data"
    },
    {
     "name": "stderr",
     "output_type": "stream",
     "text": [
      "k is set to 1042\n",
      "\n",
      "Removing 4 pathways with too few genes\n",
      "\n"
     ]
    },
    {
     "name": "stdout",
     "output_type": "stream",
     "text": [
      "[1] 55.53997\n",
      "[1] \"L2 is set to 55.5399692443312\"\n",
      "[1] \"L1 is set to 27.7699846221656\"\n"
     ]
    },
    {
     "ename": "ERROR",
     "evalue": "Error in tcrossprod(x, y): requires numeric/complex matrix/vector arguments\n",
     "output_type": "error",
     "traceback": [
      "Error in tcrossprod(x, y): requires numeric/complex matrix/vector arguments\nTraceback:\n",
      "1. PLIER::PLIER(data = expression_matrix_dp, priorMat = all_paths_cm, \n .     svdres = svdres_HDF5, k = k, frac = frac, scale = FALSE)",
      "2. solve(tcrossprod(B) + L1 * diag(k))",
      "3. tcrossprod(B)"
     ]
    }
   ],
   "source": [
    "setAutoRealizationBackend(\"HDF5Array\") #supportedRealizationBackends(), getRealizationBackend()\n",
    "\n",
    "sce <- DelayedArray(seed = HDF5ArraySeed(filepath = output_file_delayedPLIER_hdf5, name = \"count\"))\n",
    "dimnamaes <- readRDS(output_file_delayedPLIER_dim)\n",
    "rownames(sce) <- dimnamaes$row.names\n",
    "colnames(sce) <- dimnamaes$col.names\n",
    "\n",
    "sce[is.na(sce)] <- 0\n",
    "expression_matrix_dp <- sce[which(DelayedMatrixStats::rowSds(sce) >0),]\n",
    "\n",
    "# Assign arguments to variables \n",
    "output_file_delayedPlier <- file.path(output_nb_path, 'gtex_comparison_delayedPlier.rds')\n",
    "parameter_k <- 1\n",
    "frac <- 0.7\n",
    "\n",
    "# compute k\n",
    "k=num.pc(svdres)*2\n",
    "k <- min(k, floor(ncol(expression_matrix_cm)*0.9))\n",
    "k = k * parameter_k\n",
    "k = round(k, 0)\n",
    "message(\"k is set to \", k)\n",
    "\n",
    "# Run PLIER (with common genes)\n",
    "delayedPlier_result=PLIER::PLIER(data=expression_matrix_dp, priorMat=all_paths_cm , svdres=svdres, k=k, frac=frac, scale=FALSE)\n",
    "\n",
    "# Prepare output directory\n",
    "output_file_path=dirname(output_file_delayedPlier)\n",
    "dir.create(dirname(output_file_delayedPlier), showWarnings = FALSE, recursive = TRUE)\n",
    "\n",
    "# Save results\n",
    "saveRDS(delayedPlier_result, file = output_file_delayedPlier)"
   ]
  },
  {
   "cell_type": "code",
   "execution_count": 107,
   "id": "03776be4-0a0a-417c-a611-1c08396f0138",
   "metadata": {},
   "outputs": [
    {
     "data": {
      "text/plain": [
       "<6 x 17382> DelayedMatrix object of type \"double\":\n",
       "         GTEX-1117F-0226-SM-5GZZ7 ...  GTEX-ZZPU-2726-SM-5NQ8O\n",
       "GAS6                   1.41132283   .              -0.09997518\n",
       "MMP14                  5.84234639   .               1.35986578\n",
       "MARCKSL1              -0.22726833   .              -0.49703849\n",
       "SPARC                  1.63786217   .               1.53935231\n",
       "CTSD                   0.63014415   .               0.28222509\n",
       "EPAS1                 -0.07935625   .               0.68432390"
      ]
     },
     "metadata": {},
     "output_type": "display_data"
    }
   ],
   "source": [
    "head(expression_matrix_dp)"
   ]
  },
  {
   "cell_type": "code",
   "execution_count": 108,
   "id": "f6f48d42-562d-404a-a5ff-8988c26311c0",
   "metadata": {},
   "outputs": [
    {
     "data": {
      "text/html": [
       "<table class=\"dataframe\">\n",
       "<caption>A matrix: 6 × 628 of type dbl</caption>\n",
       "<thead>\n",
       "\t<tr><th></th><th scope=col>IRIS_Bcell-Memory_IgG_IgA</th><th scope=col>IRIS_Bcell-Memory_IgM</th><th scope=col>IRIS_Bcell-naive</th><th scope=col>IRIS_CD4Tcell-N0</th><th scope=col>IRIS_CD4Tcell-Th1-restimulated12hour</th><th scope=col>IRIS_CD4Tcell-Th1-restimulated48hour</th><th scope=col>IRIS_CD4Tcell-Th2-restimulated12hour</th><th scope=col>IRIS_CD4Tcell-Th2-restimulated48hour</th><th scope=col>IRIS_CD8Tcell-N0</th><th scope=col>IRIS_DendriticCell-Control</th><th scope=col>⋯</th><th scope=col>KEGG_GNRH_SIGNALING_PATHWAY</th><th scope=col>KEGG_BASAL_TRANSCRIPTION_FACTORS</th><th scope=col>REACTOME_SYNTHESIS_OF_DNA</th><th scope=col>KEGG_HEMATOPOIETIC_CELL_LINEAGE</th><th scope=col>KEGG_T_CELL_RECEPTOR_SIGNALING_PATHWAY</th><th scope=col>PID_IL4_2PATHWAY</th><th scope=col>REACTOME_SIGNALING_BY_THE_B_CELL_RECEPTOR_BCR</th><th scope=col>PID_BCR_5PATHWAY</th><th scope=col>PID_TELOMERASEPATHWAY</th><th scope=col>PID_PI3KPLCTRKPATHWAY</th></tr>\n",
       "</thead>\n",
       "<tbody>\n",
       "\t<tr><th scope=row>GAS6</th><td>0</td><td>0</td><td>0</td><td>0</td><td>0</td><td>0</td><td>0</td><td>0</td><td>0</td><td>1</td><td>⋯</td><td>0</td><td>0</td><td>0</td><td>0</td><td>0</td><td>0</td><td>0</td><td>0</td><td>0</td><td>0</td></tr>\n",
       "\t<tr><th scope=row>MMP14</th><td>0</td><td>0</td><td>0</td><td>0</td><td>0</td><td>0</td><td>0</td><td>0</td><td>0</td><td>0</td><td>⋯</td><td>1</td><td>0</td><td>0</td><td>0</td><td>0</td><td>0</td><td>0</td><td>0</td><td>0</td><td>0</td></tr>\n",
       "\t<tr><th scope=row>MARCKSL1</th><td>0</td><td>0</td><td>0</td><td>0</td><td>0</td><td>0</td><td>0</td><td>0</td><td>0</td><td>0</td><td>⋯</td><td>0</td><td>0</td><td>0</td><td>0</td><td>0</td><td>0</td><td>0</td><td>0</td><td>0</td><td>0</td></tr>\n",
       "\t<tr><th scope=row>SPARC</th><td>0</td><td>0</td><td>0</td><td>0</td><td>0</td><td>0</td><td>0</td><td>0</td><td>0</td><td>0</td><td>⋯</td><td>0</td><td>0</td><td>0</td><td>0</td><td>0</td><td>0</td><td>0</td><td>0</td><td>0</td><td>0</td></tr>\n",
       "\t<tr><th scope=row>CTSD</th><td>0</td><td>0</td><td>0</td><td>0</td><td>0</td><td>0</td><td>0</td><td>0</td><td>0</td><td>0</td><td>⋯</td><td>0</td><td>0</td><td>0</td><td>0</td><td>0</td><td>0</td><td>0</td><td>0</td><td>0</td><td>0</td></tr>\n",
       "\t<tr><th scope=row>EPAS1</th><td>0</td><td>0</td><td>0</td><td>0</td><td>0</td><td>0</td><td>0</td><td>0</td><td>0</td><td>1</td><td>⋯</td><td>0</td><td>0</td><td>0</td><td>0</td><td>0</td><td>0</td><td>0</td><td>0</td><td>0</td><td>0</td></tr>\n",
       "</tbody>\n",
       "</table>\n"
      ],
      "text/latex": [
       "A matrix: 6 × 628 of type dbl\n",
       "\\begin{tabular}{r|lllllllllllllllllllll}\n",
       "  & IRIS\\_Bcell-Memory\\_IgG\\_IgA & IRIS\\_Bcell-Memory\\_IgM & IRIS\\_Bcell-naive & IRIS\\_CD4Tcell-N0 & IRIS\\_CD4Tcell-Th1-restimulated12hour & IRIS\\_CD4Tcell-Th1-restimulated48hour & IRIS\\_CD4Tcell-Th2-restimulated12hour & IRIS\\_CD4Tcell-Th2-restimulated48hour & IRIS\\_CD8Tcell-N0 & IRIS\\_DendriticCell-Control & ⋯ & KEGG\\_GNRH\\_SIGNALING\\_PATHWAY & KEGG\\_BASAL\\_TRANSCRIPTION\\_FACTORS & REACTOME\\_SYNTHESIS\\_OF\\_DNA & KEGG\\_HEMATOPOIETIC\\_CELL\\_LINEAGE & KEGG\\_T\\_CELL\\_RECEPTOR\\_SIGNALING\\_PATHWAY & PID\\_IL4\\_2PATHWAY & REACTOME\\_SIGNALING\\_BY\\_THE\\_B\\_CELL\\_RECEPTOR\\_BCR & PID\\_BCR\\_5PATHWAY & PID\\_TELOMERASEPATHWAY & PID\\_PI3KPLCTRKPATHWAY\\\\\n",
       "\\hline\n",
       "\tGAS6 & 0 & 0 & 0 & 0 & 0 & 0 & 0 & 0 & 0 & 1 & ⋯ & 0 & 0 & 0 & 0 & 0 & 0 & 0 & 0 & 0 & 0\\\\\n",
       "\tMMP14 & 0 & 0 & 0 & 0 & 0 & 0 & 0 & 0 & 0 & 0 & ⋯ & 1 & 0 & 0 & 0 & 0 & 0 & 0 & 0 & 0 & 0\\\\\n",
       "\tMARCKSL1 & 0 & 0 & 0 & 0 & 0 & 0 & 0 & 0 & 0 & 0 & ⋯ & 0 & 0 & 0 & 0 & 0 & 0 & 0 & 0 & 0 & 0\\\\\n",
       "\tSPARC & 0 & 0 & 0 & 0 & 0 & 0 & 0 & 0 & 0 & 0 & ⋯ & 0 & 0 & 0 & 0 & 0 & 0 & 0 & 0 & 0 & 0\\\\\n",
       "\tCTSD & 0 & 0 & 0 & 0 & 0 & 0 & 0 & 0 & 0 & 0 & ⋯ & 0 & 0 & 0 & 0 & 0 & 0 & 0 & 0 & 0 & 0\\\\\n",
       "\tEPAS1 & 0 & 0 & 0 & 0 & 0 & 0 & 0 & 0 & 0 & 1 & ⋯ & 0 & 0 & 0 & 0 & 0 & 0 & 0 & 0 & 0 & 0\\\\\n",
       "\\end{tabular}\n"
      ],
      "text/markdown": [
       "\n",
       "A matrix: 6 × 628 of type dbl\n",
       "\n",
       "| <!--/--> | IRIS_Bcell-Memory_IgG_IgA | IRIS_Bcell-Memory_IgM | IRIS_Bcell-naive | IRIS_CD4Tcell-N0 | IRIS_CD4Tcell-Th1-restimulated12hour | IRIS_CD4Tcell-Th1-restimulated48hour | IRIS_CD4Tcell-Th2-restimulated12hour | IRIS_CD4Tcell-Th2-restimulated48hour | IRIS_CD8Tcell-N0 | IRIS_DendriticCell-Control | ⋯ | KEGG_GNRH_SIGNALING_PATHWAY | KEGG_BASAL_TRANSCRIPTION_FACTORS | REACTOME_SYNTHESIS_OF_DNA | KEGG_HEMATOPOIETIC_CELL_LINEAGE | KEGG_T_CELL_RECEPTOR_SIGNALING_PATHWAY | PID_IL4_2PATHWAY | REACTOME_SIGNALING_BY_THE_B_CELL_RECEPTOR_BCR | PID_BCR_5PATHWAY | PID_TELOMERASEPATHWAY | PID_PI3KPLCTRKPATHWAY |\n",
       "|---|---|---|---|---|---|---|---|---|---|---|---|---|---|---|---|---|---|---|---|---|---|\n",
       "| GAS6 | 0 | 0 | 0 | 0 | 0 | 0 | 0 | 0 | 0 | 1 | ⋯ | 0 | 0 | 0 | 0 | 0 | 0 | 0 | 0 | 0 | 0 |\n",
       "| MMP14 | 0 | 0 | 0 | 0 | 0 | 0 | 0 | 0 | 0 | 0 | ⋯ | 1 | 0 | 0 | 0 | 0 | 0 | 0 | 0 | 0 | 0 |\n",
       "| MARCKSL1 | 0 | 0 | 0 | 0 | 0 | 0 | 0 | 0 | 0 | 0 | ⋯ | 0 | 0 | 0 | 0 | 0 | 0 | 0 | 0 | 0 | 0 |\n",
       "| SPARC | 0 | 0 | 0 | 0 | 0 | 0 | 0 | 0 | 0 | 0 | ⋯ | 0 | 0 | 0 | 0 | 0 | 0 | 0 | 0 | 0 | 0 |\n",
       "| CTSD | 0 | 0 | 0 | 0 | 0 | 0 | 0 | 0 | 0 | 0 | ⋯ | 0 | 0 | 0 | 0 | 0 | 0 | 0 | 0 | 0 | 0 |\n",
       "| EPAS1 | 0 | 0 | 0 | 0 | 0 | 0 | 0 | 0 | 0 | 1 | ⋯ | 0 | 0 | 0 | 0 | 0 | 0 | 0 | 0 | 0 | 0 |\n",
       "\n"
      ],
      "text/plain": [
       "         IRIS_Bcell-Memory_IgG_IgA IRIS_Bcell-Memory_IgM IRIS_Bcell-naive\n",
       "GAS6     0                         0                     0               \n",
       "MMP14    0                         0                     0               \n",
       "MARCKSL1 0                         0                     0               \n",
       "SPARC    0                         0                     0               \n",
       "CTSD     0                         0                     0               \n",
       "EPAS1    0                         0                     0               \n",
       "         IRIS_CD4Tcell-N0 IRIS_CD4Tcell-Th1-restimulated12hour\n",
       "GAS6     0                0                                   \n",
       "MMP14    0                0                                   \n",
       "MARCKSL1 0                0                                   \n",
       "SPARC    0                0                                   \n",
       "CTSD     0                0                                   \n",
       "EPAS1    0                0                                   \n",
       "         IRIS_CD4Tcell-Th1-restimulated48hour\n",
       "GAS6     0                                   \n",
       "MMP14    0                                   \n",
       "MARCKSL1 0                                   \n",
       "SPARC    0                                   \n",
       "CTSD     0                                   \n",
       "EPAS1    0                                   \n",
       "         IRIS_CD4Tcell-Th2-restimulated12hour\n",
       "GAS6     0                                   \n",
       "MMP14    0                                   \n",
       "MARCKSL1 0                                   \n",
       "SPARC    0                                   \n",
       "CTSD     0                                   \n",
       "EPAS1    0                                   \n",
       "         IRIS_CD4Tcell-Th2-restimulated48hour IRIS_CD8Tcell-N0\n",
       "GAS6     0                                    0               \n",
       "MMP14    0                                    0               \n",
       "MARCKSL1 0                                    0               \n",
       "SPARC    0                                    0               \n",
       "CTSD     0                                    0               \n",
       "EPAS1    0                                    0               \n",
       "         IRIS_DendriticCell-Control ⋯ KEGG_GNRH_SIGNALING_PATHWAY\n",
       "GAS6     1                          ⋯ 0                          \n",
       "MMP14    0                          ⋯ 1                          \n",
       "MARCKSL1 0                          ⋯ 0                          \n",
       "SPARC    0                          ⋯ 0                          \n",
       "CTSD     0                          ⋯ 0                          \n",
       "EPAS1    1                          ⋯ 0                          \n",
       "         KEGG_BASAL_TRANSCRIPTION_FACTORS REACTOME_SYNTHESIS_OF_DNA\n",
       "GAS6     0                                0                        \n",
       "MMP14    0                                0                        \n",
       "MARCKSL1 0                                0                        \n",
       "SPARC    0                                0                        \n",
       "CTSD     0                                0                        \n",
       "EPAS1    0                                0                        \n",
       "         KEGG_HEMATOPOIETIC_CELL_LINEAGE KEGG_T_CELL_RECEPTOR_SIGNALING_PATHWAY\n",
       "GAS6     0                               0                                     \n",
       "MMP14    0                               0                                     \n",
       "MARCKSL1 0                               0                                     \n",
       "SPARC    0                               0                                     \n",
       "CTSD     0                               0                                     \n",
       "EPAS1    0                               0                                     \n",
       "         PID_IL4_2PATHWAY REACTOME_SIGNALING_BY_THE_B_CELL_RECEPTOR_BCR\n",
       "GAS6     0                0                                            \n",
       "MMP14    0                0                                            \n",
       "MARCKSL1 0                0                                            \n",
       "SPARC    0                0                                            \n",
       "CTSD     0                0                                            \n",
       "EPAS1    0                0                                            \n",
       "         PID_BCR_5PATHWAY PID_TELOMERASEPATHWAY PID_PI3KPLCTRKPATHWAY\n",
       "GAS6     0                0                     0                    \n",
       "MMP14    0                0                     0                    \n",
       "MARCKSL1 0                0                     0                    \n",
       "SPARC    0                0                     0                    \n",
       "CTSD     0                0                     0                    \n",
       "EPAS1    0                0                     0                    "
      ]
     },
     "metadata": {},
     "output_type": "display_data"
    }
   ],
   "source": [
    "head(all_paths_cm)"
   ]
  },
  {
   "cell_type": "code",
   "execution_count": 112,
   "id": "6e0a990a-6cdb-450e-b5e0-a03c22f0e630",
   "metadata": {},
   "outputs": [
    {
     "data": {
      "text/html": [
       "<style>\n",
       ".list-inline {list-style: none; margin:0; padding: 0}\n",
       ".list-inline>li {display: inline-block}\n",
       ".list-inline>li:not(:last-child)::after {content: \"\\00b7\"; padding: 0 .5ex}\n",
       "</style>\n",
       "<ol class=list-inline><li>6683</li><li>17382</li></ol>\n"
      ],
      "text/latex": [
       "\\begin{enumerate*}\n",
       "\\item 6683\n",
       "\\item 17382\n",
       "\\end{enumerate*}\n"
      ],
      "text/markdown": [
       "1. 6683\n",
       "2. 17382\n",
       "\n",
       "\n"
      ],
      "text/plain": [
       "[1]  6683 17382"
      ]
     },
     "metadata": {},
     "output_type": "display_data"
    },
    {
     "data": {
      "text/html": [
       "<style>\n",
       ".list-inline {list-style: none; margin:0; padding: 0}\n",
       ".list-inline>li {display: inline-block}\n",
       ".list-inline>li:not(:last-child)::after {content: \"\\00b7\"; padding: 0 .5ex}\n",
       "</style>\n",
       "<ol class=list-inline><li>6683</li><li>628</li></ol>\n"
      ],
      "text/latex": [
       "\\begin{enumerate*}\n",
       "\\item 6683\n",
       "\\item 628\n",
       "\\end{enumerate*}\n"
      ],
      "text/markdown": [
       "1. 6683\n",
       "2. 628\n",
       "\n",
       "\n"
      ],
      "text/plain": [
       "[1] 6683  628"
      ]
     },
     "metadata": {},
     "output_type": "display_data"
    },
    {
     "name": "stdout",
     "output_type": "stream",
     "text": [
      "List of 3\n",
      " $ d: num [1:4345] 5017 3058 2698 2573 2253 ...\n",
      " $ u: num [1:6683, 1:4345] -0.01033 -0.01441 -0.00257 -0.01231 -0.0053 ...\n",
      " $ v: num [1:17382, 1:4345] -0.00908 0.00523 -0.00754 -0.00811 0.00894 ...\n",
      " - attr(*, \"class\")= chr \"rsvd\"\n"
     ]
    },
    {
     "data": {
      "text/html": [
       "<table class=\"dataframe\">\n",
       "<caption>A matrix: 6 × 4345 of type dbl</caption>\n",
       "<tbody>\n",
       "\t<tr><td>-0.009084249</td><td> 0.0048984083</td><td>0.003729253</td><td>-5.068619e-03</td><td>-0.001676492</td><td>0.0012167764</td><td> 0.0004521597</td><td>-1.731784e-03</td><td> 0.0028415248</td><td>-0.0108770568</td><td>⋯</td><td> 0.010316521</td><td>-0.0018216236</td><td> 0.009547465</td><td> 0.0007294641</td><td>-0.0107351040</td><td>-0.003858802</td><td>-0.001301917</td><td>-0.0065631243</td><td> 0.015982440</td><td> 0.0059481690</td></tr>\n",
       "\t<tr><td> 0.005227597</td><td>-0.0006597834</td><td>0.007296205</td><td> 5.113093e-03</td><td> 0.004106840</td><td>0.0058876053</td><td>-0.0220267426</td><td> 1.199124e-02</td><td> 0.0042095739</td><td>-0.0094073135</td><td>⋯</td><td> 0.005766039</td><td> 0.0031255668</td><td>-0.017016444</td><td> 0.0020608788</td><td> 0.0178844464</td><td> 0.010818435</td><td> 0.008424042</td><td>-0.0046739341</td><td>-0.006138034</td><td>-0.0042348002</td></tr>\n",
       "\t<tr><td>-0.007538556</td><td> 0.0024068316</td><td>0.006820188</td><td>-6.764531e-03</td><td> 0.001602638</td><td>0.0026827639</td><td>-0.0056995087</td><td>-3.174828e-03</td><td>-0.0118093426</td><td>-0.0031382752</td><td>⋯</td><td> 0.008278355</td><td> 0.0001931016</td><td>-0.005094602</td><td> 0.0028290347</td><td> 0.0009537677</td><td> 0.002132480</td><td> 0.012981176</td><td>-0.0209944783</td><td>-0.001496447</td><td>-0.0032482439</td></tr>\n",
       "\t<tr><td>-0.008108760</td><td> 0.0015281041</td><td>0.004592110</td><td>-7.836804e-03</td><td> 0.002823339</td><td>0.0022566112</td><td> 0.0031078898</td><td>-1.156762e-04</td><td> 0.0001972283</td><td>-0.0040141988</td><td>⋯</td><td>-0.012390217</td><td>-0.0031648826</td><td> 0.009541483</td><td> 0.0027030098</td><td>-0.0007984402</td><td>-0.012082119</td><td> 0.010887267</td><td>-0.0022341602</td><td>-0.004085697</td><td>-0.0060873099</td></tr>\n",
       "\t<tr><td> 0.008938876</td><td> 0.0006916050</td><td>0.004663470</td><td> 8.402255e-05</td><td> 0.001085982</td><td>0.0026497992</td><td> 0.0033395725</td><td> 2.563578e-03</td><td>-0.0026726362</td><td>-0.0002996245</td><td>⋯</td><td>-0.006185586</td><td>-0.0048198469</td><td> 0.003343766</td><td>-0.0021676098</td><td> 0.0022386804</td><td> 0.003489230</td><td> 0.007948025</td><td>-0.0008856395</td><td> 0.002323073</td><td>-0.0007892155</td></tr>\n",
       "\t<tr><td> 0.002806485</td><td> 0.0052999336</td><td>0.003398989</td><td>-3.305127e-03</td><td> 0.000603851</td><td>0.0004749406</td><td> 0.0070639287</td><td>-2.017282e-05</td><td>-0.0012545485</td><td>-0.0106848200</td><td>⋯</td><td> 0.012219089</td><td> 0.0194636303</td><td> 0.011813677</td><td> 0.0098170893</td><td>-0.0210587766</td><td>-0.002653762</td><td> 0.006859786</td><td>-0.0036161516</td><td>-0.004182263</td><td> 0.0163174848</td></tr>\n",
       "</tbody>\n",
       "</table>\n"
      ],
      "text/latex": [
       "A matrix: 6 × 4345 of type dbl\n",
       "\\begin{tabular}{lllllllllllllllllllll}\n",
       "\t -0.009084249 &  0.0048984083 & 0.003729253 & -5.068619e-03 & -0.001676492 & 0.0012167764 &  0.0004521597 & -1.731784e-03 &  0.0028415248 & -0.0108770568 & ⋯ &  0.010316521 & -0.0018216236 &  0.009547465 &  0.0007294641 & -0.0107351040 & -0.003858802 & -0.001301917 & -0.0065631243 &  0.015982440 &  0.0059481690\\\\\n",
       "\t  0.005227597 & -0.0006597834 & 0.007296205 &  5.113093e-03 &  0.004106840 & 0.0058876053 & -0.0220267426 &  1.199124e-02 &  0.0042095739 & -0.0094073135 & ⋯ &  0.005766039 &  0.0031255668 & -0.017016444 &  0.0020608788 &  0.0178844464 &  0.010818435 &  0.008424042 & -0.0046739341 & -0.006138034 & -0.0042348002\\\\\n",
       "\t -0.007538556 &  0.0024068316 & 0.006820188 & -6.764531e-03 &  0.001602638 & 0.0026827639 & -0.0056995087 & -3.174828e-03 & -0.0118093426 & -0.0031382752 & ⋯ &  0.008278355 &  0.0001931016 & -0.005094602 &  0.0028290347 &  0.0009537677 &  0.002132480 &  0.012981176 & -0.0209944783 & -0.001496447 & -0.0032482439\\\\\n",
       "\t -0.008108760 &  0.0015281041 & 0.004592110 & -7.836804e-03 &  0.002823339 & 0.0022566112 &  0.0031078898 & -1.156762e-04 &  0.0001972283 & -0.0040141988 & ⋯ & -0.012390217 & -0.0031648826 &  0.009541483 &  0.0027030098 & -0.0007984402 & -0.012082119 &  0.010887267 & -0.0022341602 & -0.004085697 & -0.0060873099\\\\\n",
       "\t  0.008938876 &  0.0006916050 & 0.004663470 &  8.402255e-05 &  0.001085982 & 0.0026497992 &  0.0033395725 &  2.563578e-03 & -0.0026726362 & -0.0002996245 & ⋯ & -0.006185586 & -0.0048198469 &  0.003343766 & -0.0021676098 &  0.0022386804 &  0.003489230 &  0.007948025 & -0.0008856395 &  0.002323073 & -0.0007892155\\\\\n",
       "\t  0.002806485 &  0.0052999336 & 0.003398989 & -3.305127e-03 &  0.000603851 & 0.0004749406 &  0.0070639287 & -2.017282e-05 & -0.0012545485 & -0.0106848200 & ⋯ &  0.012219089 &  0.0194636303 &  0.011813677 &  0.0098170893 & -0.0210587766 & -0.002653762 &  0.006859786 & -0.0036161516 & -0.004182263 &  0.0163174848\\\\\n",
       "\\end{tabular}\n"
      ],
      "text/markdown": [
       "\n",
       "A matrix: 6 × 4345 of type dbl\n",
       "\n",
       "| -0.009084249 |  0.0048984083 | 0.003729253 | -5.068619e-03 | -0.001676492 | 0.0012167764 |  0.0004521597 | -1.731784e-03 |  0.0028415248 | -0.0108770568 | ⋯ |  0.010316521 | -0.0018216236 |  0.009547465 |  0.0007294641 | -0.0107351040 | -0.003858802 | -0.001301917 | -0.0065631243 |  0.015982440 |  0.0059481690 |\n",
       "|  0.005227597 | -0.0006597834 | 0.007296205 |  5.113093e-03 |  0.004106840 | 0.0058876053 | -0.0220267426 |  1.199124e-02 |  0.0042095739 | -0.0094073135 | ⋯ |  0.005766039 |  0.0031255668 | -0.017016444 |  0.0020608788 |  0.0178844464 |  0.010818435 |  0.008424042 | -0.0046739341 | -0.006138034 | -0.0042348002 |\n",
       "| -0.007538556 |  0.0024068316 | 0.006820188 | -6.764531e-03 |  0.001602638 | 0.0026827639 | -0.0056995087 | -3.174828e-03 | -0.0118093426 | -0.0031382752 | ⋯ |  0.008278355 |  0.0001931016 | -0.005094602 |  0.0028290347 |  0.0009537677 |  0.002132480 |  0.012981176 | -0.0209944783 | -0.001496447 | -0.0032482439 |\n",
       "| -0.008108760 |  0.0015281041 | 0.004592110 | -7.836804e-03 |  0.002823339 | 0.0022566112 |  0.0031078898 | -1.156762e-04 |  0.0001972283 | -0.0040141988 | ⋯ | -0.012390217 | -0.0031648826 |  0.009541483 |  0.0027030098 | -0.0007984402 | -0.012082119 |  0.010887267 | -0.0022341602 | -0.004085697 | -0.0060873099 |\n",
       "|  0.008938876 |  0.0006916050 | 0.004663470 |  8.402255e-05 |  0.001085982 | 0.0026497992 |  0.0033395725 |  2.563578e-03 | -0.0026726362 | -0.0002996245 | ⋯ | -0.006185586 | -0.0048198469 |  0.003343766 | -0.0021676098 |  0.0022386804 |  0.003489230 |  0.007948025 | -0.0008856395 |  0.002323073 | -0.0007892155 |\n",
       "|  0.002806485 |  0.0052999336 | 0.003398989 | -3.305127e-03 |  0.000603851 | 0.0004749406 |  0.0070639287 | -2.017282e-05 | -0.0012545485 | -0.0106848200 | ⋯ |  0.012219089 |  0.0194636303 |  0.011813677 |  0.0098170893 | -0.0210587766 | -0.002653762 |  0.006859786 | -0.0036161516 | -0.004182263 |  0.0163174848 |\n",
       "\n"
      ],
      "text/plain": [
       "     [,1]         [,2]          [,3]        [,4]          [,5]        \n",
       "[1,] -0.009084249  0.0048984083 0.003729253 -5.068619e-03 -0.001676492\n",
       "[2,]  0.005227597 -0.0006597834 0.007296205  5.113093e-03  0.004106840\n",
       "[3,] -0.007538556  0.0024068316 0.006820188 -6.764531e-03  0.001602638\n",
       "[4,] -0.008108760  0.0015281041 0.004592110 -7.836804e-03  0.002823339\n",
       "[5,]  0.008938876  0.0006916050 0.004663470  8.402255e-05  0.001085982\n",
       "[6,]  0.002806485  0.0052999336 0.003398989 -3.305127e-03  0.000603851\n",
       "     [,6]         [,7]          [,8]          [,9]          [,10]         [,11]\n",
       "[1,] 0.0012167764  0.0004521597 -1.731784e-03  0.0028415248 -0.0108770568 ⋯    \n",
       "[2,] 0.0058876053 -0.0220267426  1.199124e-02  0.0042095739 -0.0094073135 ⋯    \n",
       "[3,] 0.0026827639 -0.0056995087 -3.174828e-03 -0.0118093426 -0.0031382752 ⋯    \n",
       "[4,] 0.0022566112  0.0031078898 -1.156762e-04  0.0001972283 -0.0040141988 ⋯    \n",
       "[5,] 0.0026497992  0.0033395725  2.563578e-03 -0.0026726362 -0.0002996245 ⋯    \n",
       "[6,] 0.0004749406  0.0070639287 -2.017282e-05 -0.0012545485 -0.0106848200 ⋯    \n",
       "     [,12]        [,13]         [,14]        [,15]         [,16]        \n",
       "[1,]  0.010316521 -0.0018216236  0.009547465  0.0007294641 -0.0107351040\n",
       "[2,]  0.005766039  0.0031255668 -0.017016444  0.0020608788  0.0178844464\n",
       "[3,]  0.008278355  0.0001931016 -0.005094602  0.0028290347  0.0009537677\n",
       "[4,] -0.012390217 -0.0031648826  0.009541483  0.0027030098 -0.0007984402\n",
       "[5,] -0.006185586 -0.0048198469  0.003343766 -0.0021676098  0.0022386804\n",
       "[6,]  0.012219089  0.0194636303  0.011813677  0.0098170893 -0.0210587766\n",
       "     [,17]        [,18]        [,19]         [,20]        [,21]        \n",
       "[1,] -0.003858802 -0.001301917 -0.0065631243  0.015982440  0.0059481690\n",
       "[2,]  0.010818435  0.008424042 -0.0046739341 -0.006138034 -0.0042348002\n",
       "[3,]  0.002132480  0.012981176 -0.0209944783 -0.001496447 -0.0032482439\n",
       "[4,] -0.012082119  0.010887267 -0.0022341602 -0.004085697 -0.0060873099\n",
       "[5,]  0.003489230  0.007948025 -0.0008856395  0.002323073 -0.0007892155\n",
       "[6,] -0.002653762  0.006859786 -0.0036161516 -0.004182263  0.0163174848"
      ]
     },
     "metadata": {},
     "output_type": "display_data"
    }
   ],
   "source": [
    "# Check the dimensions of your matrices\n",
    "dim(expression_matrix_dp)\n",
    "dim(all_paths_cm)\n",
    "\n",
    "# Check the dimensions of svdres\n",
    "str(svdres)"
   ]
  },
  {
   "cell_type": "code",
   "execution_count": null,
   "id": "90394f76-c107-461c-aa86-5b043ffaa696",
   "metadata": {
    "editable": true,
    "slideshow": {
     "slide_type": ""
    },
    "tags": []
   },
   "outputs": [],
   "source": [
    "head(delayedPlier_result$Z)"
   ]
  },
  {
   "cell_type": "code",
   "execution_count": null,
   "id": "561e7b36-a8d6-44bd-a6e9-ff6bb9a053ab",
   "metadata": {},
   "outputs": [],
   "source": [
    "head(delayedPlier_result$B)"
   ]
  }
 ],
 "metadata": {
  "kernelspec": {
   "display_name": "R",
   "language": "R",
   "name": "ir"
  },
  "language_info": {
   "codemirror_mode": "r",
   "file_extension": ".r",
   "mimetype": "text/x-r-source",
   "name": "R",
   "pygments_lexer": "r",
   "version": "4.3.3"
  }
 },
 "nbformat": 4,
 "nbformat_minor": 5
}
