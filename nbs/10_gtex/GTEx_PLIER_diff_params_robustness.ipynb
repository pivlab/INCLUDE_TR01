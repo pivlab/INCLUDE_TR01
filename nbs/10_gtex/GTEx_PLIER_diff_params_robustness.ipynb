{
 "cells": [
  {
   "cell_type": "markdown",
   "id": "dcd1cf70-01a9-4fef-8e52-b2fc1eeace6d",
   "metadata": {},
   "source": [
    "# Analysis robustness of PLIER models based on GTEx using different parameters"
   ]
  },
  {
   "cell_type": "markdown",
   "id": "088a2fa9-947d-48db-aaf3-e612b7b8dc25",
   "metadata": {},
   "source": [
    "Marc Subirana-Granés (2024)\n",
    "\n",
    "Compare the various parameters of PLIER GTEx models across different computations to evaluate PLIER's robustness, utilizing differentparameters for assessment."
   ]
  }
 ],
 "metadata": {
  "kernelspec": {
   "display_name": "R",
   "language": "R",
   "name": "ir"
  },
  "language_info": {
   "codemirror_mode": "r",
   "file_extension": ".r",
   "mimetype": "text/x-r-source",
   "name": "R",
   "pygments_lexer": "r",
   "version": "4.3.3"
  }
 },
 "nbformat": 4,
 "nbformat_minor": 5
}
