{
 "cells": [
  {
   "cell_type": "markdown",
   "id": "8cbd5690-f102-4599-9435-06d05c4d0318",
   "metadata": {},
   "source": [
    "# Project T21 RNA-seq data"
   ]
  },
  {
   "cell_type": "markdown",
   "id": "fae58750-8c70-474f-b334-5f5c2066dd19",
   "metadata": {},
   "source": [
    "Project T21 RNA-seq data to Multiplier model and study differential LVs between affected (T21) and control (D21) samples."
   ]
  },
  {
   "cell_type": "markdown",
   "id": "8dcb25cd-2629-4853-b922-e9e5035f69e1",
   "metadata": {},
   "source": [
    "# Load libraries/modules"
   ]
  },
  {
   "cell_type": "code",
   "execution_count": 199,
   "id": "0b46f828-871f-42d0-99b7-f55f3b9d9056",
   "metadata": {},
   "outputs": [
    {
     "name": "stderr",
     "output_type": "stream",
     "text": [
      "── \u001b[1mAttaching core tidyverse packages\u001b[22m ─────────────────────────────────────────────────────────────────────────────────────────────────────────────────────────────────────── tidyverse 2.0.0 ──\n",
      "\u001b[32m✔\u001b[39m \u001b[34mforcats  \u001b[39m 1.0.0     \u001b[32m✔\u001b[39m \u001b[34mreadr    \u001b[39m 2.1.5\n",
      "\u001b[32m✔\u001b[39m \u001b[34mggplot2  \u001b[39m 3.5.1     \u001b[32m✔\u001b[39m \u001b[34mstringr  \u001b[39m 1.5.1\n",
      "\u001b[32m✔\u001b[39m \u001b[34mlubridate\u001b[39m 1.9.3     \u001b[32m✔\u001b[39m \u001b[34mtibble   \u001b[39m 3.2.1\n",
      "\u001b[32m✔\u001b[39m \u001b[34mpurrr    \u001b[39m 1.0.2     \u001b[32m✔\u001b[39m \u001b[34mtidyr    \u001b[39m 1.3.1\n",
      "── \u001b[1mConflicts\u001b[22m ───────────────────────────────────────────────────────────────────────────────────────────────────────────────────────────────────────────────────────── tidyverse_conflicts() ──\n",
      "\u001b[31m✖\u001b[39m \u001b[34mlubridate\u001b[39m::\u001b[32m%within%()\u001b[39m masks \u001b[34mIRanges\u001b[39m::%within%()\n",
      "\u001b[31m✖\u001b[39m \u001b[34mdplyr\u001b[39m::\u001b[32mcollapse()\u001b[39m     masks \u001b[34mBiostrings\u001b[39m::collapse(), \u001b[34mIRanges\u001b[39m::collapse()\n",
      "\u001b[31m✖\u001b[39m \u001b[34mdplyr\u001b[39m::\u001b[32mcombine()\u001b[39m      masks \u001b[34mBiobase\u001b[39m::combine(), \u001b[34mBiocGenerics\u001b[39m::combine()\n",
      "\u001b[31m✖\u001b[39m \u001b[34mpurrr\u001b[39m::\u001b[32mcompact()\u001b[39m      masks \u001b[34mXVector\u001b[39m::compact()\n",
      "\u001b[31m✖\u001b[39m \u001b[34mpurrr\u001b[39m::\u001b[32mcompose()\u001b[39m      masks \u001b[34mShortRead\u001b[39m::compose()\n",
      "\u001b[31m✖\u001b[39m \u001b[34mdplyr\u001b[39m::\u001b[32mcount()\u001b[39m        masks \u001b[34mmatrixStats\u001b[39m::count()\n",
      "\u001b[31m✖\u001b[39m \u001b[34mdplyr\u001b[39m::\u001b[32mdesc()\u001b[39m         masks \u001b[34mIRanges\u001b[39m::desc()\n",
      "\u001b[31m✖\u001b[39m \u001b[34mtidyr\u001b[39m::\u001b[32mexpand()\u001b[39m       masks \u001b[34mMatrix\u001b[39m::expand(), \u001b[34mS4Vectors\u001b[39m::expand()\n",
      "\u001b[31m✖\u001b[39m \u001b[34mdplyr\u001b[39m::\u001b[32mfilter()\u001b[39m       masks \u001b[34mstats\u001b[39m::filter()\n",
      "\u001b[31m✖\u001b[39m \u001b[34mdplyr\u001b[39m::\u001b[32mfirst()\u001b[39m        masks \u001b[34mGenomicAlignments\u001b[39m::first(), \u001b[34mS4Vectors\u001b[39m::first()\n",
      "\u001b[31m✖\u001b[39m \u001b[34mdplyr\u001b[39m::\u001b[32mid()\u001b[39m           masks \u001b[34mShortRead\u001b[39m::id()\n",
      "\u001b[31m✖\u001b[39m \u001b[34mdplyr\u001b[39m::\u001b[32mlag()\u001b[39m          masks \u001b[34mstats\u001b[39m::lag()\n",
      "\u001b[31m✖\u001b[39m \u001b[34mdplyr\u001b[39m::\u001b[32mlast()\u001b[39m         masks \u001b[34mGenomicAlignments\u001b[39m::last()\n",
      "\u001b[31m✖\u001b[39m \u001b[34mtidyr\u001b[39m::\u001b[32mpack()\u001b[39m         masks \u001b[34mMatrix\u001b[39m::pack()\n",
      "\u001b[31m✖\u001b[39m \u001b[34mggplot2\u001b[39m::\u001b[32mPosition()\u001b[39m   masks \u001b[34mBiocGenerics\u001b[39m::Position(), \u001b[34mbase\u001b[39m::Position()\n",
      "\u001b[31m✖\u001b[39m \u001b[34mpurrr\u001b[39m::\u001b[32mreduce()\u001b[39m       masks \u001b[34mGenomicRanges\u001b[39m::reduce(), \u001b[34mIRanges\u001b[39m::reduce()\n",
      "\u001b[31m✖\u001b[39m \u001b[34mdplyr\u001b[39m::\u001b[32mrename()\u001b[39m       masks \u001b[34mS4Vectors\u001b[39m::rename()\n",
      "\u001b[31m✖\u001b[39m \u001b[34mlubridate\u001b[39m::\u001b[32msecond()\u001b[39m   masks \u001b[34mGenomicAlignments\u001b[39m::second(), \u001b[34mS4Vectors\u001b[39m::second()\n",
      "\u001b[31m✖\u001b[39m \u001b[34mlubridate\u001b[39m::\u001b[32msecond<-()\u001b[39m masks \u001b[34mS4Vectors\u001b[39m::second<-()\n",
      "\u001b[31m✖\u001b[39m \u001b[34mdplyr\u001b[39m::\u001b[32mselect()\u001b[39m       masks \u001b[34mbiomaRt\u001b[39m::select()\n",
      "\u001b[31m✖\u001b[39m \u001b[34mdplyr\u001b[39m::\u001b[32mslice()\u001b[39m        masks \u001b[34mXVector\u001b[39m::slice(), \u001b[34mIRanges\u001b[39m::slice()\n",
      "\u001b[31m✖\u001b[39m \u001b[34mtidyr\u001b[39m::\u001b[32munpack()\u001b[39m       masks \u001b[34mMatrix\u001b[39m::unpack()\n",
      "\u001b[31m✖\u001b[39m \u001b[34mtibble\u001b[39m::\u001b[32mview()\u001b[39m        masks \u001b[34mShortRead\u001b[39m::view()\n",
      "\u001b[36mℹ\u001b[39m Use the conflicted package (\u001b[3m\u001b[34m<http://conflicted.r-lib.org/>\u001b[39m\u001b[23m) to force all conflicts to become errors\n"
     ]
    }
   ],
   "source": [
    "library(biomaRt)\n",
    "library (EDASeq)\n",
    "library(here)\n",
    "library(biomaRt)\n",
    "library(DESeq2)\n",
    "library(tidyverse)\n",
    "\n",
    "# load plier utils\n",
    "source(here::here('scripts/plier_util.R'))"
   ]
  },
  {
   "cell_type": "markdown",
   "id": "a0fcb88f-b25c-492e-9b73-93b0351b23c2",
   "metadata": {},
   "source": [
    "# Load data"
   ]
  },
  {
   "cell_type": "code",
   "execution_count": 79,
   "id": "9796ebb2-a23e-4ecc-bb73-9a0ecb003670",
   "metadata": {},
   "outputs": [],
   "source": [
    "# define output nb\n",
    "output_nb_path = here('output/nbs/project_T21_rnaseq_data')\n",
    "dir.create(output_nb_path, showWarnings = FALSE)\n",
    "\n",
    "counts_matrix=here::here('data/GSE151282/GSE151282_Raw_gene_counts_matrix.txt')\n",
    "\n",
    "# multiplier model\n",
    "multiplier_z = readRDS(here('data/multiplier/multiplier_model_z.rds'))\n",
    "multiplier_summary = readRDS(here('data/multiplier/multiplier_model_summary.rds'))\n",
    "multiplier_b = readRDS(here('data/multiplier/multiplier_model_b.rds'))\n",
    "multiplier_metadata = readRDS(here('data/multiplier/multiplier_model_metadata.rds'))"
   ]
  },
  {
   "cell_type": "markdown",
   "id": "40f501c1-a742-4fbd-9987-4e070915b956",
   "metadata": {},
   "source": [
    "# TPM Normalization Process\n",
    "\n",
    "TPM (Transcripts Per Kilobase Million) is a method for normalizing RNA sequencing data. It helps in comparing gene expression levels across different samples. The steps to compute TPM are as follows:\n",
    "\n",
    "1. **Load the Data**: Import your gene count data into R.\n",
    "2. **Calculate Gene Lengths**: Obtain or calculate the length of each gene in kilobases. This data is necessary for the normalization process.\n",
    "3. **Compute Scaled Reads**: Divide each gene's read count by its length in kilobases to account for gene length and get scaled reads.\n",
    "4. **Sum Scaled Reads**: Calculate the sum of all the scaled reads across all genes in a sample. This sum will be used to normalize the read counts so that they are comparable across samples.\n",
    "5. **Calculate TPM**: Normalize each gene's scaled reads by the sum of scaled reads across all genes and multiply by 1,000,000. This final step adjusts for the total amount of transcript in each sample, allowing for comparisons across samples.\n"
   ]
  },
  {
   "cell_type": "markdown",
   "id": "2b371262-1c22-403e-ad64-7a348973c190",
   "metadata": {},
   "source": [
    "# GSE151282 RNA-seq analysis"
   ]
  },
  {
   "cell_type": "markdown",
   "id": "96968508-53f0-41fe-9dc2-4c46e648f0ef",
   "metadata": {},
   "source": [
    "- The transcriptome profile of human trisomy 21 blood cells\n",
    "- Antonaros, F., Zenatelli, R., Guerri, G. et al. The transcriptome profile of human trisomy 21 blood cells. Hum Genomics 15, 25 (2021). https://doi.org/10.1186/s40246-021-00325-4\n",
    "- Human blood cell RNA-Seq\n",
    "- 4 T21\n",
    "- 4 D21"
   ]
  },
  {
   "cell_type": "code",
   "execution_count": 76,
   "id": "bc3c4856-9e4d-4ddd-9569-077f4f346562",
   "metadata": {
    "editable": true,
    "slideshow": {
     "slide_type": ""
    },
    "tags": []
   },
   "outputs": [
    {
     "data": {
      "text/html": [
       "<table class=\"dataframe\">\n",
       "<caption>A data.frame: 6 × 10</caption>\n",
       "<thead>\n",
       "\t<tr><th></th><th scope=col>Geneid</th><th scope=col>GeneSymbol</th><th scope=col>A2_T21</th><th scope=col>A1_T21</th><th scope=col>B1_N</th><th scope=col>B2_N</th><th scope=col>A3_T21</th><th scope=col>A4_T21</th><th scope=col>B4_N</th><th scope=col>B3_N</th></tr>\n",
       "\t<tr><th></th><th scope=col>&lt;chr&gt;</th><th scope=col>&lt;chr&gt;</th><th scope=col>&lt;int&gt;</th><th scope=col>&lt;int&gt;</th><th scope=col>&lt;int&gt;</th><th scope=col>&lt;int&gt;</th><th scope=col>&lt;int&gt;</th><th scope=col>&lt;int&gt;</th><th scope=col>&lt;int&gt;</th><th scope=col>&lt;int&gt;</th></tr>\n",
       "</thead>\n",
       "<tbody>\n",
       "\t<tr><th scope=row>1</th><td>ENSG00000223972</td><td>DDX11L1    </td><td> 0</td><td> 1</td><td> 3</td><td>0</td><td>0</td><td>1</td><td> 3</td><td>1</td></tr>\n",
       "\t<tr><th scope=row>2</th><td>ENSG00000227232</td><td>WASH7P     </td><td>12</td><td>56</td><td>21</td><td>6</td><td>1</td><td>1</td><td>11</td><td>3</td></tr>\n",
       "\t<tr><th scope=row>3</th><td>ENSG00000278267</td><td>MIR6859-1  </td><td> 0</td><td> 2</td><td> 3</td><td>1</td><td>0</td><td>0</td><td> 2</td><td>1</td></tr>\n",
       "\t<tr><th scope=row>4</th><td>ENSG00000243485</td><td>MIR1302-2HG</td><td> 0</td><td> 0</td><td> 0</td><td>0</td><td>0</td><td>0</td><td> 0</td><td>0</td></tr>\n",
       "\t<tr><th scope=row>5</th><td>ENSG00000284332</td><td>MIR1302-2  </td><td> 0</td><td> 0</td><td> 0</td><td>0</td><td>0</td><td>0</td><td> 0</td><td>0</td></tr>\n",
       "\t<tr><th scope=row>6</th><td>ENSG00000237613</td><td>FAM138A    </td><td> 0</td><td> 0</td><td> 0</td><td>1</td><td>0</td><td>0</td><td> 0</td><td>0</td></tr>\n",
       "</tbody>\n",
       "</table>\n"
      ],
      "text/latex": [
       "A data.frame: 6 × 10\n",
       "\\begin{tabular}{r|llllllllll}\n",
       "  & Geneid & GeneSymbol & A2\\_T21 & A1\\_T21 & B1\\_N & B2\\_N & A3\\_T21 & A4\\_T21 & B4\\_N & B3\\_N\\\\\n",
       "  & <chr> & <chr> & <int> & <int> & <int> & <int> & <int> & <int> & <int> & <int>\\\\\n",
       "\\hline\n",
       "\t1 & ENSG00000223972 & DDX11L1     &  0 &  1 &  3 & 0 & 0 & 1 &  3 & 1\\\\\n",
       "\t2 & ENSG00000227232 & WASH7P      & 12 & 56 & 21 & 6 & 1 & 1 & 11 & 3\\\\\n",
       "\t3 & ENSG00000278267 & MIR6859-1   &  0 &  2 &  3 & 1 & 0 & 0 &  2 & 1\\\\\n",
       "\t4 & ENSG00000243485 & MIR1302-2HG &  0 &  0 &  0 & 0 & 0 & 0 &  0 & 0\\\\\n",
       "\t5 & ENSG00000284332 & MIR1302-2   &  0 &  0 &  0 & 0 & 0 & 0 &  0 & 0\\\\\n",
       "\t6 & ENSG00000237613 & FAM138A     &  0 &  0 &  0 & 1 & 0 & 0 &  0 & 0\\\\\n",
       "\\end{tabular}\n"
      ],
      "text/markdown": [
       "\n",
       "A data.frame: 6 × 10\n",
       "\n",
       "| <!--/--> | Geneid &lt;chr&gt; | GeneSymbol &lt;chr&gt; | A2_T21 &lt;int&gt; | A1_T21 &lt;int&gt; | B1_N &lt;int&gt; | B2_N &lt;int&gt; | A3_T21 &lt;int&gt; | A4_T21 &lt;int&gt; | B4_N &lt;int&gt; | B3_N &lt;int&gt; |\n",
       "|---|---|---|---|---|---|---|---|---|---|---|\n",
       "| 1 | ENSG00000223972 | DDX11L1     |  0 |  1 |  3 | 0 | 0 | 1 |  3 | 1 |\n",
       "| 2 | ENSG00000227232 | WASH7P      | 12 | 56 | 21 | 6 | 1 | 1 | 11 | 3 |\n",
       "| 3 | ENSG00000278267 | MIR6859-1   |  0 |  2 |  3 | 1 | 0 | 0 |  2 | 1 |\n",
       "| 4 | ENSG00000243485 | MIR1302-2HG |  0 |  0 |  0 | 0 | 0 | 0 |  0 | 0 |\n",
       "| 5 | ENSG00000284332 | MIR1302-2   |  0 |  0 |  0 | 0 | 0 | 0 |  0 | 0 |\n",
       "| 6 | ENSG00000237613 | FAM138A     |  0 |  0 |  0 | 1 | 0 | 0 |  0 | 0 |\n",
       "\n"
      ],
      "text/plain": [
       "  Geneid          GeneSymbol  A2_T21 A1_T21 B1_N B2_N A3_T21 A4_T21 B4_N B3_N\n",
       "1 ENSG00000223972 DDX11L1      0      1      3   0    0      1       3   1   \n",
       "2 ENSG00000227232 WASH7P      12     56     21   6    1      1      11   3   \n",
       "3 ENSG00000278267 MIR6859-1    0      2      3   1    0      0       2   1   \n",
       "4 ENSG00000243485 MIR1302-2HG  0      0      0   0    0      0       0   0   \n",
       "5 ENSG00000284332 MIR1302-2    0      0      0   0    0      0       0   0   \n",
       "6 ENSG00000237613 FAM138A      0      0      0   1    0      0       0   0   "
      ]
     },
     "metadata": {},
     "output_type": "display_data"
    }
   ],
   "source": [
    "gene_counts_GSE151282 <- read.table(counts_matrix, header = TRUE, sep = \"\\t\", check.names = FALSE)\n",
    "head(gene_counts_GSE151282)"
   ]
  },
  {
   "cell_type": "code",
   "execution_count": 77,
   "id": "2a14a6b1-f286-4aa7-9a6a-4b01fb1ff8d2",
   "metadata": {},
   "outputs": [
    {
     "name": "stderr",
     "output_type": "stream",
     "text": [
      "\u001b[1m\u001b[22mJoining with `by = join_by(Geneid)`\n"
     ]
    },
    {
     "data": {
      "text/html": [
       "<table class=\"dataframe\">\n",
       "<caption>A matrix: 6 × 8 of type dbl</caption>\n",
       "<thead>\n",
       "\t<tr><th></th><th scope=col>A2_T21</th><th scope=col>A1_T21</th><th scope=col>B1_N</th><th scope=col>B2_N</th><th scope=col>A3_T21</th><th scope=col>A4_T21</th><th scope=col>B4_N</th><th scope=col>B3_N</th></tr>\n",
       "</thead>\n",
       "<tbody>\n",
       "\t<tr><th scope=row>DDX11L1</th><td>0.0000000</td><td>0.1562536</td><td> 0.4171173</td><td>0.0000000</td><td>0.0000000</td><td>0.08917092</td><td>0.2520165</td><td>0.09060845</td></tr>\n",
       "\t<tr><th scope=row>WASH7P</th><td>0.3952496</td><td>1.4254501</td><td> 0.4756529</td><td>0.1417166</td><td>0.0147832</td><td>0.01452637</td><td>0.1505339</td><td>0.04428165</td></tr>\n",
       "\t<tr><th scope=row>MIR6859-1</th><td>0.0000000</td><td>7.7427165</td><td>10.3345477</td><td>3.5922695</td><td>0.0000000</td><td>0.00000000</td><td>4.1626608</td><td>2.24492569</td></tr>\n",
       "\t<tr><th scope=row>MIR1302-2HG</th><td>0.0000000</td><td>0.0000000</td><td> 0.0000000</td><td>0.0000000</td><td>0.0000000</td><td>0.00000000</td><td>0.0000000</td><td>0.00000000</td></tr>\n",
       "\t<tr><th scope=row>MIR1302-2</th><td>0.0000000</td><td>0.0000000</td><td> 0.0000000</td><td>0.0000000</td><td>0.0000000</td><td>0.00000000</td><td>0.0000000</td><td>0.00000000</td></tr>\n",
       "\t<tr><th scope=row>FAM138A</th><td>0.0000000</td><td>0.0000000</td><td> 0.0000000</td><td>0.1576176</td><td>0.0000000</td><td>0.00000000</td><td>0.0000000</td><td>0.00000000</td></tr>\n",
       "</tbody>\n",
       "</table>\n"
      ],
      "text/latex": [
       "A matrix: 6 × 8 of type dbl\n",
       "\\begin{tabular}{r|llllllll}\n",
       "  & A2\\_T21 & A1\\_T21 & B1\\_N & B2\\_N & A3\\_T21 & A4\\_T21 & B4\\_N & B3\\_N\\\\\n",
       "\\hline\n",
       "\tDDX11L1 & 0.0000000 & 0.1562536 &  0.4171173 & 0.0000000 & 0.0000000 & 0.08917092 & 0.2520165 & 0.09060845\\\\\n",
       "\tWASH7P & 0.3952496 & 1.4254501 &  0.4756529 & 0.1417166 & 0.0147832 & 0.01452637 & 0.1505339 & 0.04428165\\\\\n",
       "\tMIR6859-1 & 0.0000000 & 7.7427165 & 10.3345477 & 3.5922695 & 0.0000000 & 0.00000000 & 4.1626608 & 2.24492569\\\\\n",
       "\tMIR1302-2HG & 0.0000000 & 0.0000000 &  0.0000000 & 0.0000000 & 0.0000000 & 0.00000000 & 0.0000000 & 0.00000000\\\\\n",
       "\tMIR1302-2 & 0.0000000 & 0.0000000 &  0.0000000 & 0.0000000 & 0.0000000 & 0.00000000 & 0.0000000 & 0.00000000\\\\\n",
       "\tFAM138A & 0.0000000 & 0.0000000 &  0.0000000 & 0.1576176 & 0.0000000 & 0.00000000 & 0.0000000 & 0.00000000\\\\\n",
       "\\end{tabular}\n"
      ],
      "text/markdown": [
       "\n",
       "A matrix: 6 × 8 of type dbl\n",
       "\n",
       "| <!--/--> | A2_T21 | A1_T21 | B1_N | B2_N | A3_T21 | A4_T21 | B4_N | B3_N |\n",
       "|---|---|---|---|---|---|---|---|---|\n",
       "| DDX11L1 | 0.0000000 | 0.1562536 |  0.4171173 | 0.0000000 | 0.0000000 | 0.08917092 | 0.2520165 | 0.09060845 |\n",
       "| WASH7P | 0.3952496 | 1.4254501 |  0.4756529 | 0.1417166 | 0.0147832 | 0.01452637 | 0.1505339 | 0.04428165 |\n",
       "| MIR6859-1 | 0.0000000 | 7.7427165 | 10.3345477 | 3.5922695 | 0.0000000 | 0.00000000 | 4.1626608 | 2.24492569 |\n",
       "| MIR1302-2HG | 0.0000000 | 0.0000000 |  0.0000000 | 0.0000000 | 0.0000000 | 0.00000000 | 0.0000000 | 0.00000000 |\n",
       "| MIR1302-2 | 0.0000000 | 0.0000000 |  0.0000000 | 0.0000000 | 0.0000000 | 0.00000000 | 0.0000000 | 0.00000000 |\n",
       "| FAM138A | 0.0000000 | 0.0000000 |  0.0000000 | 0.1576176 | 0.0000000 | 0.00000000 | 0.0000000 | 0.00000000 |\n",
       "\n"
      ],
      "text/plain": [
       "            A2_T21    A1_T21    B1_N       B2_N      A3_T21    A4_T21    \n",
       "DDX11L1     0.0000000 0.1562536  0.4171173 0.0000000 0.0000000 0.08917092\n",
       "WASH7P      0.3952496 1.4254501  0.4756529 0.1417166 0.0147832 0.01452637\n",
       "MIR6859-1   0.0000000 7.7427165 10.3345477 3.5922695 0.0000000 0.00000000\n",
       "MIR1302-2HG 0.0000000 0.0000000  0.0000000 0.0000000 0.0000000 0.00000000\n",
       "MIR1302-2   0.0000000 0.0000000  0.0000000 0.0000000 0.0000000 0.00000000\n",
       "FAM138A     0.0000000 0.0000000  0.0000000 0.1576176 0.0000000 0.00000000\n",
       "            B4_N      B3_N      \n",
       "DDX11L1     0.2520165 0.09060845\n",
       "WASH7P      0.1505339 0.04428165\n",
       "MIR6859-1   4.1626608 2.24492569\n",
       "MIR1302-2HG 0.0000000 0.00000000\n",
       "MIR1302-2   0.0000000 0.00000000\n",
       "FAM138A     0.0000000 0.00000000"
      ]
     },
     "metadata": {},
     "output_type": "display_data"
    }
   ],
   "source": [
    "tpm_gene_counts_GSE151282=tpm_normalization(gene_counts_GSE151282)\n",
    "head(tpm_gene_counts_GSE151282)"
   ]
  },
  {
   "cell_type": "markdown",
   "id": "e6949e53-3ad6-4cf6-ab24-65366330f10a",
   "metadata": {},
   "source": [
    "# Multiplier projection"
   ]
  },
  {
   "cell_type": "code",
   "execution_count": 176,
   "id": "558b4cbf-7049-4e21-a3ce-1f4ac879bbd0",
   "metadata": {},
   "outputs": [],
   "source": [
    "multiplier_model = list('Z'=multiplier_z, 'L2'= multiplier_metadata$L2, 'B'=multiplier_b)"
   ]
  },
  {
   "cell_type": "code",
   "execution_count": 184,
   "id": "3ddbe416-f00d-4cc6-a4b6-8a6552652480",
   "metadata": {},
   "outputs": [
    {
     "data": {
      "text/html": [
       "<table class=\"dataframe\">\n",
       "<caption>A matrix: 6 × 8 of type dbl</caption>\n",
       "<thead>\n",
       "\t<tr><th></th><th scope=col>A2_T21</th><th scope=col>A1_T21</th><th scope=col>B1_N</th><th scope=col>B2_N</th><th scope=col>A3_T21</th><th scope=col>A4_T21</th><th scope=col>B4_N</th><th scope=col>B3_N</th></tr>\n",
       "</thead>\n",
       "<tbody>\n",
       "\t<tr><th scope=row>NOC2L</th><td>0.6082366</td><td> 1.6261065</td><td> 0.8168904987</td><td> 0.4634723</td><td>-0.96307643</td><td>-0.8575348</td><td>-0.7929693</td><td>-0.9011253</td></tr>\n",
       "\t<tr><th scope=row>HES4</th><td>0.6841713</td><td> 2.1204888</td><td>-0.8568928828</td><td>-0.8568929</td><td>-0.51105783</td><td>-0.5170660</td><td> 0.1035320</td><td>-0.1662825</td></tr>\n",
       "\t<tr><th scope=row>ISG15</th><td>2.4087460</td><td>-0.1315984</td><td>-0.5140905650</td><td>-0.1248644</td><td>-0.01391688</td><td>-0.6118065</td><td>-0.4234802</td><td>-0.5889890</td></tr>\n",
       "\t<tr><th scope=row>AGRN</th><td>1.1354949</td><td> 1.8559020</td><td> 0.0738083565</td><td>-0.1157431</td><td>-0.51973662</td><td>-0.7814650</td><td>-0.7599430</td><td>-0.8883175</td></tr>\n",
       "\t<tr><th scope=row>TNFRSF18</th><td>0.5922369</td><td> 2.2501706</td><td>-0.2445089295</td><td>-0.6279588</td><td>-0.83225993</td><td>-0.3296646</td><td>-0.3587785</td><td>-0.4492367</td></tr>\n",
       "\t<tr><th scope=row>TNFRSF4</th><td>0.6826815</td><td> 1.7832696</td><td> 0.0001312308</td><td> 0.8123221</td><td>-0.83873942</td><td>-0.7476056</td><td>-0.8530254</td><td>-0.8390340</td></tr>\n",
       "</tbody>\n",
       "</table>\n"
      ],
      "text/latex": [
       "A matrix: 6 × 8 of type dbl\n",
       "\\begin{tabular}{r|llllllll}\n",
       "  & A2\\_T21 & A1\\_T21 & B1\\_N & B2\\_N & A3\\_T21 & A4\\_T21 & B4\\_N & B3\\_N\\\\\n",
       "\\hline\n",
       "\tNOC2L & 0.6082366 &  1.6261065 &  0.8168904987 &  0.4634723 & -0.96307643 & -0.8575348 & -0.7929693 & -0.9011253\\\\\n",
       "\tHES4 & 0.6841713 &  2.1204888 & -0.8568928828 & -0.8568929 & -0.51105783 & -0.5170660 &  0.1035320 & -0.1662825\\\\\n",
       "\tISG15 & 2.4087460 & -0.1315984 & -0.5140905650 & -0.1248644 & -0.01391688 & -0.6118065 & -0.4234802 & -0.5889890\\\\\n",
       "\tAGRN & 1.1354949 &  1.8559020 &  0.0738083565 & -0.1157431 & -0.51973662 & -0.7814650 & -0.7599430 & -0.8883175\\\\\n",
       "\tTNFRSF18 & 0.5922369 &  2.2501706 & -0.2445089295 & -0.6279588 & -0.83225993 & -0.3296646 & -0.3587785 & -0.4492367\\\\\n",
       "\tTNFRSF4 & 0.6826815 &  1.7832696 &  0.0001312308 &  0.8123221 & -0.83873942 & -0.7476056 & -0.8530254 & -0.8390340\\\\\n",
       "\\end{tabular}\n"
      ],
      "text/markdown": [
       "\n",
       "A matrix: 6 × 8 of type dbl\n",
       "\n",
       "| <!--/--> | A2_T21 | A1_T21 | B1_N | B2_N | A3_T21 | A4_T21 | B4_N | B3_N |\n",
       "|---|---|---|---|---|---|---|---|---|\n",
       "| NOC2L | 0.6082366 |  1.6261065 |  0.8168904987 |  0.4634723 | -0.96307643 | -0.8575348 | -0.7929693 | -0.9011253 |\n",
       "| HES4 | 0.6841713 |  2.1204888 | -0.8568928828 | -0.8568929 | -0.51105783 | -0.5170660 |  0.1035320 | -0.1662825 |\n",
       "| ISG15 | 2.4087460 | -0.1315984 | -0.5140905650 | -0.1248644 | -0.01391688 | -0.6118065 | -0.4234802 | -0.5889890 |\n",
       "| AGRN | 1.1354949 |  1.8559020 |  0.0738083565 | -0.1157431 | -0.51973662 | -0.7814650 | -0.7599430 | -0.8883175 |\n",
       "| TNFRSF18 | 0.5922369 |  2.2501706 | -0.2445089295 | -0.6279588 | -0.83225993 | -0.3296646 | -0.3587785 | -0.4492367 |\n",
       "| TNFRSF4 | 0.6826815 |  1.7832696 |  0.0001312308 |  0.8123221 | -0.83873942 | -0.7476056 | -0.8530254 | -0.8390340 |\n",
       "\n"
      ],
      "text/plain": [
       "         A2_T21    A1_T21     B1_N          B2_N       A3_T21      A4_T21    \n",
       "NOC2L    0.6082366  1.6261065  0.8168904987  0.4634723 -0.96307643 -0.8575348\n",
       "HES4     0.6841713  2.1204888 -0.8568928828 -0.8568929 -0.51105783 -0.5170660\n",
       "ISG15    2.4087460 -0.1315984 -0.5140905650 -0.1248644 -0.01391688 -0.6118065\n",
       "AGRN     1.1354949  1.8559020  0.0738083565 -0.1157431 -0.51973662 -0.7814650\n",
       "TNFRSF18 0.5922369  2.2501706 -0.2445089295 -0.6279588 -0.83225993 -0.3296646\n",
       "TNFRSF4  0.6826815  1.7832696  0.0001312308  0.8123221 -0.83873942 -0.7476056\n",
       "         B4_N       B3_N      \n",
       "NOC2L    -0.7929693 -0.9011253\n",
       "HES4      0.1035320 -0.1662825\n",
       "ISG15    -0.4234802 -0.5889890\n",
       "AGRN     -0.7599430 -0.8883175\n",
       "TNFRSF18 -0.3587785 -0.4492367\n",
       "TNFRSF4  -0.8530254 -0.8390340"
      ]
     },
     "metadata": {},
     "output_type": "display_data"
    },
    {
     "data": {
      "text/html": [
       "<table class=\"dataframe\">\n",
       "<caption>A matrix: 6 × 987 of type dbl</caption>\n",
       "<tbody>\n",
       "\t<tr><th scope=row>NOC2L</th><td>2.23797023</td><td>0.00000000</td><td>0.112685524</td><td>0.00000000</td><td>0.000000000</td><td>0.00000000</td><td>0</td><td>0</td><td>0.42079364</td><td>0.0000000</td><td>⋯</td><td>0.00000000</td><td>0.08177377</td><td>0.07962461</td><td>0.000000000</td><td>0</td><td>0.000000000</td><td>0.43284712</td><td>0.00000000</td><td>0.00000000</td><td>0.0000000</td></tr>\n",
       "\t<tr><th scope=row>HES4</th><td>0.26999934</td><td>0.08490505</td><td>0.000000000</td><td>0.05744514</td><td>0.013894115</td><td>0.76790870</td><td>0</td><td>0</td><td>1.70535493</td><td>0.0000000</td><td>⋯</td><td>0.00000000</td><td>0.00000000</td><td>0.05260650</td><td>0.014124645</td><td>0</td><td>0.000000000</td><td>0.57737279</td><td>0.08543191</td><td>0.00000000</td><td>0.0000000</td></tr>\n",
       "\t<tr><th scope=row>ISG15</th><td>0.03686669</td><td>0.00000000</td><td>0.000000000</td><td>0.04568015</td><td>0.004998977</td><td>0.00000000</td><td>0</td><td>0</td><td>0.23015827</td><td>0.1165996</td><td>⋯</td><td>0.00000000</td><td>0.00000000</td><td>0.00000000</td><td>0.018421383</td><td>0</td><td>0.003058988</td><td>0.00000000</td><td>0.00000000</td><td>0.00000000</td><td>0.0000000</td></tr>\n",
       "\t<tr><th scope=row>AGRN</th><td>0.43266367</td><td>0.00000000</td><td>0.010172089</td><td>0.00000000</td><td>0.025733268</td><td>0.00000000</td><td>0</td><td>0</td><td>0.09382693</td><td>0.0930792</td><td>⋯</td><td>0.00000000</td><td>0.00000000</td><td>0.00000000</td><td>0.000000000</td><td>0</td><td>0.000000000</td><td>0.38517356</td><td>0.06212099</td><td>0.00000000</td><td>0.1202636</td></tr>\n",
       "\t<tr><th scope=row>TNFRSF18</th><td>0.01226595</td><td>0.00000000</td><td>0.003937571</td><td>0.00000000</td><td>0.017390170</td><td>0.08748055</td><td>0</td><td>0</td><td>0.07813778</td><td>0.0000000</td><td>⋯</td><td>0.02974547</td><td>0.02527198</td><td>0.00000000</td><td>0.008847392</td><td>0</td><td>0.008247321</td><td>0.03988636</td><td>0.00000000</td><td>0.00000000</td><td>0.0000000</td></tr>\n",
       "\t<tr><th scope=row>TNFRSF4</th><td>0.00000000</td><td>0.00000000</td><td>0.000000000</td><td>0.00000000</td><td>0.000000000</td><td>0.00000000</td><td>0</td><td>0</td><td>0.41229068</td><td>0.0000000</td><td>⋯</td><td>0.00000000</td><td>0.09573129</td><td>0.00000000</td><td>0.025296539</td><td>0</td><td>0.000000000</td><td>0.00000000</td><td>0.00000000</td><td>0.01924974</td><td>0.0000000</td></tr>\n",
       "</tbody>\n",
       "</table>\n"
      ],
      "text/latex": [
       "A matrix: 6 × 987 of type dbl\n",
       "\\begin{tabular}{r|lllllllllllllllllllll}\n",
       "\tNOC2L & 2.23797023 & 0.00000000 & 0.112685524 & 0.00000000 & 0.000000000 & 0.00000000 & 0 & 0 & 0.42079364 & 0.0000000 & ⋯ & 0.00000000 & 0.08177377 & 0.07962461 & 0.000000000 & 0 & 0.000000000 & 0.43284712 & 0.00000000 & 0.00000000 & 0.0000000\\\\\n",
       "\tHES4 & 0.26999934 & 0.08490505 & 0.000000000 & 0.05744514 & 0.013894115 & 0.76790870 & 0 & 0 & 1.70535493 & 0.0000000 & ⋯ & 0.00000000 & 0.00000000 & 0.05260650 & 0.014124645 & 0 & 0.000000000 & 0.57737279 & 0.08543191 & 0.00000000 & 0.0000000\\\\\n",
       "\tISG15 & 0.03686669 & 0.00000000 & 0.000000000 & 0.04568015 & 0.004998977 & 0.00000000 & 0 & 0 & 0.23015827 & 0.1165996 & ⋯ & 0.00000000 & 0.00000000 & 0.00000000 & 0.018421383 & 0 & 0.003058988 & 0.00000000 & 0.00000000 & 0.00000000 & 0.0000000\\\\\n",
       "\tAGRN & 0.43266367 & 0.00000000 & 0.010172089 & 0.00000000 & 0.025733268 & 0.00000000 & 0 & 0 & 0.09382693 & 0.0930792 & ⋯ & 0.00000000 & 0.00000000 & 0.00000000 & 0.000000000 & 0 & 0.000000000 & 0.38517356 & 0.06212099 & 0.00000000 & 0.1202636\\\\\n",
       "\tTNFRSF18 & 0.01226595 & 0.00000000 & 0.003937571 & 0.00000000 & 0.017390170 & 0.08748055 & 0 & 0 & 0.07813778 & 0.0000000 & ⋯ & 0.02974547 & 0.02527198 & 0.00000000 & 0.008847392 & 0 & 0.008247321 & 0.03988636 & 0.00000000 & 0.00000000 & 0.0000000\\\\\n",
       "\tTNFRSF4 & 0.00000000 & 0.00000000 & 0.000000000 & 0.00000000 & 0.000000000 & 0.00000000 & 0 & 0 & 0.41229068 & 0.0000000 & ⋯ & 0.00000000 & 0.09573129 & 0.00000000 & 0.025296539 & 0 & 0.000000000 & 0.00000000 & 0.00000000 & 0.01924974 & 0.0000000\\\\\n",
       "\\end{tabular}\n"
      ],
      "text/markdown": [
       "\n",
       "A matrix: 6 × 987 of type dbl\n",
       "\n",
       "| NOC2L | 2.23797023 | 0.00000000 | 0.112685524 | 0.00000000 | 0.000000000 | 0.00000000 | 0 | 0 | 0.42079364 | 0.0000000 | ⋯ | 0.00000000 | 0.08177377 | 0.07962461 | 0.000000000 | 0 | 0.000000000 | 0.43284712 | 0.00000000 | 0.00000000 | 0.0000000 |\n",
       "| HES4 | 0.26999934 | 0.08490505 | 0.000000000 | 0.05744514 | 0.013894115 | 0.76790870 | 0 | 0 | 1.70535493 | 0.0000000 | ⋯ | 0.00000000 | 0.00000000 | 0.05260650 | 0.014124645 | 0 | 0.000000000 | 0.57737279 | 0.08543191 | 0.00000000 | 0.0000000 |\n",
       "| ISG15 | 0.03686669 | 0.00000000 | 0.000000000 | 0.04568015 | 0.004998977 | 0.00000000 | 0 | 0 | 0.23015827 | 0.1165996 | ⋯ | 0.00000000 | 0.00000000 | 0.00000000 | 0.018421383 | 0 | 0.003058988 | 0.00000000 | 0.00000000 | 0.00000000 | 0.0000000 |\n",
       "| AGRN | 0.43266367 | 0.00000000 | 0.010172089 | 0.00000000 | 0.025733268 | 0.00000000 | 0 | 0 | 0.09382693 | 0.0930792 | ⋯ | 0.00000000 | 0.00000000 | 0.00000000 | 0.000000000 | 0 | 0.000000000 | 0.38517356 | 0.06212099 | 0.00000000 | 0.1202636 |\n",
       "| TNFRSF18 | 0.01226595 | 0.00000000 | 0.003937571 | 0.00000000 | 0.017390170 | 0.08748055 | 0 | 0 | 0.07813778 | 0.0000000 | ⋯ | 0.02974547 | 0.02527198 | 0.00000000 | 0.008847392 | 0 | 0.008247321 | 0.03988636 | 0.00000000 | 0.00000000 | 0.0000000 |\n",
       "| TNFRSF4 | 0.00000000 | 0.00000000 | 0.000000000 | 0.00000000 | 0.000000000 | 0.00000000 | 0 | 0 | 0.41229068 | 0.0000000 | ⋯ | 0.00000000 | 0.09573129 | 0.00000000 | 0.025296539 | 0 | 0.000000000 | 0.00000000 | 0.00000000 | 0.01924974 | 0.0000000 |\n",
       "\n"
      ],
      "text/plain": [
       "         [,1]       [,2]       [,3]        [,4]       [,5]        [,6]      \n",
       "NOC2L    2.23797023 0.00000000 0.112685524 0.00000000 0.000000000 0.00000000\n",
       "HES4     0.26999934 0.08490505 0.000000000 0.05744514 0.013894115 0.76790870\n",
       "ISG15    0.03686669 0.00000000 0.000000000 0.04568015 0.004998977 0.00000000\n",
       "AGRN     0.43266367 0.00000000 0.010172089 0.00000000 0.025733268 0.00000000\n",
       "TNFRSF18 0.01226595 0.00000000 0.003937571 0.00000000 0.017390170 0.08748055\n",
       "TNFRSF4  0.00000000 0.00000000 0.000000000 0.00000000 0.000000000 0.00000000\n",
       "         [,7] [,8] [,9]       [,10]     [,11] [,12]      [,13]      [,14]     \n",
       "NOC2L    0    0    0.42079364 0.0000000 ⋯     0.00000000 0.08177377 0.07962461\n",
       "HES4     0    0    1.70535493 0.0000000 ⋯     0.00000000 0.00000000 0.05260650\n",
       "ISG15    0    0    0.23015827 0.1165996 ⋯     0.00000000 0.00000000 0.00000000\n",
       "AGRN     0    0    0.09382693 0.0930792 ⋯     0.00000000 0.00000000 0.00000000\n",
       "TNFRSF18 0    0    0.07813778 0.0000000 ⋯     0.02974547 0.02527198 0.00000000\n",
       "TNFRSF4  0    0    0.41229068 0.0000000 ⋯     0.00000000 0.09573129 0.00000000\n",
       "         [,15]       [,16] [,17]       [,18]      [,19]      [,20]     \n",
       "NOC2L    0.000000000 0     0.000000000 0.43284712 0.00000000 0.00000000\n",
       "HES4     0.014124645 0     0.000000000 0.57737279 0.08543191 0.00000000\n",
       "ISG15    0.018421383 0     0.003058988 0.00000000 0.00000000 0.00000000\n",
       "AGRN     0.000000000 0     0.000000000 0.38517356 0.06212099 0.00000000\n",
       "TNFRSF18 0.008847392 0     0.008247321 0.03988636 0.00000000 0.00000000\n",
       "TNFRSF4  0.025296539 0     0.000000000 0.00000000 0.00000000 0.01924974\n",
       "         [,21]    \n",
       "NOC2L    0.0000000\n",
       "HES4     0.0000000\n",
       "ISG15    0.0000000\n",
       "AGRN     0.1202636\n",
       "TNFRSF18 0.0000000\n",
       "TNFRSF4  0.0000000"
      ]
     },
     "metadata": {},
     "output_type": "display_data"
    }
   ],
   "source": [
    "result_GetOrderedRowNormEM <- GetOrderedRowNormEM(tpm_gene_counts_GSE151282, multiplier_model)\n",
    "ordered_tpm_gene_counts_GSE151282 = result_GetOrderedRowNormEM$exprs.norm.filtered\n",
    "ordered_multiplier_model = result_GetOrderedRowNormEM$plier.model\n",
    "\n",
    "head(ordered_tpm_gene_counts_GSE151282)\n",
    "head(ordered_multiplier_model$Z)"
   ]
  },
  {
   "cell_type": "code",
   "execution_count": 188,
   "id": "7a93cb77-4e49-4f32-b2ef-65565311ed1f",
   "metadata": {
    "scrolled": true
   },
   "outputs": [
    {
     "data": {
      "text/html": [
       "<table class=\"dataframe\">\n",
       "<caption>A matrix: 6 × 8 of type dbl</caption>\n",
       "<thead>\n",
       "\t<tr><th></th><th scope=col>A2_T21</th><th scope=col>A1_T21</th><th scope=col>B1_N</th><th scope=col>B2_N</th><th scope=col>A3_T21</th><th scope=col>A4_T21</th><th scope=col>B4_N</th><th scope=col>B3_N</th></tr>\n",
       "</thead>\n",
       "<tbody>\n",
       "\t<tr><th scope=row>1,REACTOME_MRNA_SPLICING</th><td>-0.025046111</td><td>0.06213857</td><td> 0.011857810</td><td> 0.186226780</td><td>-0.02140594</td><td>-0.072131620</td><td>-0.055081798</td><td>-0.086557688</td></tr>\n",
       "\t<tr><th scope=row>2,SVM Monocytes</th><td> 0.036383890</td><td>0.18310789</td><td>-0.032282090</td><td>-0.079091497</td><td>-0.02368477</td><td>-0.019642693</td><td>-0.034447336</td><td>-0.030343400</td></tr>\n",
       "\t<tr><th scope=row>3,REACTOME_TRANSMISSION_ACROSS_CHEMICAL_SYNAPSES</th><td> 0.013326022</td><td>0.08472124</td><td> 0.037300109</td><td> 0.010356093</td><td>-0.03901721</td><td>-0.043363030</td><td>-0.020010945</td><td>-0.043312279</td></tr>\n",
       "\t<tr><th scope=row>4,REACTOME_NEURONAL_SYSTEM</th><td> 0.001694782</td><td>0.03182559</td><td> 0.041157425</td><td>-0.031931286</td><td>-0.03206873</td><td> 0.017130031</td><td>-0.008051524</td><td>-0.019756288</td></tr>\n",
       "\t<tr><th scope=row>LV 5</th><td>-0.016508079</td><td>0.04292706</td><td> 0.074817856</td><td>-0.021723231</td><td>-0.04699848</td><td>-0.012770370</td><td> 0.005936056</td><td>-0.025680815</td></tr>\n",
       "\t<tr><th scope=row>LV 6</th><td> 0.003098557</td><td>0.01915066</td><td> 0.002973902</td><td>-0.008038568</td><td>-0.01661441</td><td> 0.007721955</td><td>-0.006224847</td><td>-0.002067249</td></tr>\n",
       "</tbody>\n",
       "</table>\n"
      ],
      "text/latex": [
       "A matrix: 6 × 8 of type dbl\n",
       "\\begin{tabular}{r|llllllll}\n",
       "  & A2\\_T21 & A1\\_T21 & B1\\_N & B2\\_N & A3\\_T21 & A4\\_T21 & B4\\_N & B3\\_N\\\\\n",
       "\\hline\n",
       "\t1,REACTOME\\_MRNA\\_SPLICING & -0.025046111 & 0.06213857 &  0.011857810 &  0.186226780 & -0.02140594 & -0.072131620 & -0.055081798 & -0.086557688\\\\\n",
       "\t2,SVM Monocytes &  0.036383890 & 0.18310789 & -0.032282090 & -0.079091497 & -0.02368477 & -0.019642693 & -0.034447336 & -0.030343400\\\\\n",
       "\t3,REACTOME\\_TRANSMISSION\\_ACROSS\\_CHEMICAL\\_SYNAPSES &  0.013326022 & 0.08472124 &  0.037300109 &  0.010356093 & -0.03901721 & -0.043363030 & -0.020010945 & -0.043312279\\\\\n",
       "\t4,REACTOME\\_NEURONAL\\_SYSTEM &  0.001694782 & 0.03182559 &  0.041157425 & -0.031931286 & -0.03206873 &  0.017130031 & -0.008051524 & -0.019756288\\\\\n",
       "\tLV 5 & -0.016508079 & 0.04292706 &  0.074817856 & -0.021723231 & -0.04699848 & -0.012770370 &  0.005936056 & -0.025680815\\\\\n",
       "\tLV 6 &  0.003098557 & 0.01915066 &  0.002973902 & -0.008038568 & -0.01661441 &  0.007721955 & -0.006224847 & -0.002067249\\\\\n",
       "\\end{tabular}\n"
      ],
      "text/markdown": [
       "\n",
       "A matrix: 6 × 8 of type dbl\n",
       "\n",
       "| <!--/--> | A2_T21 | A1_T21 | B1_N | B2_N | A3_T21 | A4_T21 | B4_N | B3_N |\n",
       "|---|---|---|---|---|---|---|---|---|\n",
       "| 1,REACTOME_MRNA_SPLICING | -0.025046111 | 0.06213857 |  0.011857810 |  0.186226780 | -0.02140594 | -0.072131620 | -0.055081798 | -0.086557688 |\n",
       "| 2,SVM Monocytes |  0.036383890 | 0.18310789 | -0.032282090 | -0.079091497 | -0.02368477 | -0.019642693 | -0.034447336 | -0.030343400 |\n",
       "| 3,REACTOME_TRANSMISSION_ACROSS_CHEMICAL_SYNAPSES |  0.013326022 | 0.08472124 |  0.037300109 |  0.010356093 | -0.03901721 | -0.043363030 | -0.020010945 | -0.043312279 |\n",
       "| 4,REACTOME_NEURONAL_SYSTEM |  0.001694782 | 0.03182559 |  0.041157425 | -0.031931286 | -0.03206873 |  0.017130031 | -0.008051524 | -0.019756288 |\n",
       "| LV 5 | -0.016508079 | 0.04292706 |  0.074817856 | -0.021723231 | -0.04699848 | -0.012770370 |  0.005936056 | -0.025680815 |\n",
       "| LV 6 |  0.003098557 | 0.01915066 |  0.002973902 | -0.008038568 | -0.01661441 |  0.007721955 | -0.006224847 | -0.002067249 |\n",
       "\n"
      ],
      "text/plain": [
       "                                                 A2_T21       A1_T21    \n",
       "1,REACTOME_MRNA_SPLICING                         -0.025046111 0.06213857\n",
       "2,SVM Monocytes                                   0.036383890 0.18310789\n",
       "3,REACTOME_TRANSMISSION_ACROSS_CHEMICAL_SYNAPSES  0.013326022 0.08472124\n",
       "4,REACTOME_NEURONAL_SYSTEM                        0.001694782 0.03182559\n",
       "LV 5                                             -0.016508079 0.04292706\n",
       "LV 6                                              0.003098557 0.01915066\n",
       "                                                 B1_N         B2_N        \n",
       "1,REACTOME_MRNA_SPLICING                          0.011857810  0.186226780\n",
       "2,SVM Monocytes                                  -0.032282090 -0.079091497\n",
       "3,REACTOME_TRANSMISSION_ACROSS_CHEMICAL_SYNAPSES  0.037300109  0.010356093\n",
       "4,REACTOME_NEURONAL_SYSTEM                        0.041157425 -0.031931286\n",
       "LV 5                                              0.074817856 -0.021723231\n",
       "LV 6                                              0.002973902 -0.008038568\n",
       "                                                 A3_T21      A4_T21      \n",
       "1,REACTOME_MRNA_SPLICING                         -0.02140594 -0.072131620\n",
       "2,SVM Monocytes                                  -0.02368477 -0.019642693\n",
       "3,REACTOME_TRANSMISSION_ACROSS_CHEMICAL_SYNAPSES -0.03901721 -0.043363030\n",
       "4,REACTOME_NEURONAL_SYSTEM                       -0.03206873  0.017130031\n",
       "LV 5                                             -0.04699848 -0.012770370\n",
       "LV 6                                             -0.01661441  0.007721955\n",
       "                                                 B4_N         B3_N        \n",
       "1,REACTOME_MRNA_SPLICING                         -0.055081798 -0.086557688\n",
       "2,SVM Monocytes                                  -0.034447336 -0.030343400\n",
       "3,REACTOME_TRANSMISSION_ACROSS_CHEMICAL_SYNAPSES -0.020010945 -0.043312279\n",
       "4,REACTOME_NEURONAL_SYSTEM                       -0.008051524 -0.019756288\n",
       "LV 5                                              0.005936056 -0.025680815\n",
       "LV 6                                             -0.006224847 -0.002067249"
      ]
     },
     "metadata": {},
     "output_type": "display_data"
    }
   ],
   "source": [
    "projection_GSE151282 <-  GetNewDataB(ordered_tpm_gene_counts_GSE151282, ordered_multiplier_model)\n",
    "head(projection_GSE151282)"
   ]
  },
  {
   "cell_type": "code",
   "execution_count": 210,
   "id": "df2cf8d9-e71c-4570-b24e-2f9bcb8bbc87",
   "metadata": {},
   "outputs": [
    {
     "data": {
      "text/html": [
       "<table class=\"dataframe\">\n",
       "<caption>A data.frame: 6 × 9</caption>\n",
       "<thead>\n",
       "\t<tr><th></th><th scope=col>LV</th><th scope=col>A2_T21</th><th scope=col>A1_T21</th><th scope=col>B1_N</th><th scope=col>B2_N</th><th scope=col>A3_T21</th><th scope=col>A4_T21</th><th scope=col>B4_N</th><th scope=col>B3_N</th></tr>\n",
       "\t<tr><th></th><th scope=col>&lt;chr&gt;</th><th scope=col>&lt;dbl&gt;</th><th scope=col>&lt;dbl&gt;</th><th scope=col>&lt;dbl&gt;</th><th scope=col>&lt;dbl&gt;</th><th scope=col>&lt;dbl&gt;</th><th scope=col>&lt;dbl&gt;</th><th scope=col>&lt;dbl&gt;</th><th scope=col>&lt;dbl&gt;</th></tr>\n",
       "</thead>\n",
       "<tbody>\n",
       "\t<tr><th scope=row>1</th><td>1,REACTOME_MRNA_SPLICING                        </td><td>-0.025046111</td><td>0.06213857</td><td> 0.011857810</td><td> 0.186226780</td><td>-0.02140594</td><td>-0.072131620</td><td>-0.055081798</td><td>-0.086557688</td></tr>\n",
       "\t<tr><th scope=row>2</th><td>2,SVM Monocytes                                 </td><td> 0.036383890</td><td>0.18310789</td><td>-0.032282090</td><td>-0.079091497</td><td>-0.02368477</td><td>-0.019642693</td><td>-0.034447336</td><td>-0.030343400</td></tr>\n",
       "\t<tr><th scope=row>3</th><td>3,REACTOME_TRANSMISSION_ACROSS_CHEMICAL_SYNAPSES</td><td> 0.013326022</td><td>0.08472124</td><td> 0.037300109</td><td> 0.010356093</td><td>-0.03901721</td><td>-0.043363030</td><td>-0.020010945</td><td>-0.043312279</td></tr>\n",
       "\t<tr><th scope=row>4</th><td>4,REACTOME_NEURONAL_SYSTEM                      </td><td> 0.001694782</td><td>0.03182559</td><td> 0.041157425</td><td>-0.031931286</td><td>-0.03206873</td><td> 0.017130031</td><td>-0.008051524</td><td>-0.019756288</td></tr>\n",
       "\t<tr><th scope=row>5</th><td>LV 5                                            </td><td>-0.016508079</td><td>0.04292706</td><td> 0.074817856</td><td>-0.021723231</td><td>-0.04699848</td><td>-0.012770370</td><td> 0.005936056</td><td>-0.025680815</td></tr>\n",
       "\t<tr><th scope=row>6</th><td>LV 6                                            </td><td> 0.003098557</td><td>0.01915066</td><td> 0.002973902</td><td>-0.008038568</td><td>-0.01661441</td><td> 0.007721955</td><td>-0.006224847</td><td>-0.002067249</td></tr>\n",
       "</tbody>\n",
       "</table>\n"
      ],
      "text/latex": [
       "A data.frame: 6 × 9\n",
       "\\begin{tabular}{r|lllllllll}\n",
       "  & LV & A2\\_T21 & A1\\_T21 & B1\\_N & B2\\_N & A3\\_T21 & A4\\_T21 & B4\\_N & B3\\_N\\\\\n",
       "  & <chr> & <dbl> & <dbl> & <dbl> & <dbl> & <dbl> & <dbl> & <dbl> & <dbl>\\\\\n",
       "\\hline\n",
       "\t1 & 1,REACTOME\\_MRNA\\_SPLICING                         & -0.025046111 & 0.06213857 &  0.011857810 &  0.186226780 & -0.02140594 & -0.072131620 & -0.055081798 & -0.086557688\\\\\n",
       "\t2 & 2,SVM Monocytes                                  &  0.036383890 & 0.18310789 & -0.032282090 & -0.079091497 & -0.02368477 & -0.019642693 & -0.034447336 & -0.030343400\\\\\n",
       "\t3 & 3,REACTOME\\_TRANSMISSION\\_ACROSS\\_CHEMICAL\\_SYNAPSES &  0.013326022 & 0.08472124 &  0.037300109 &  0.010356093 & -0.03901721 & -0.043363030 & -0.020010945 & -0.043312279\\\\\n",
       "\t4 & 4,REACTOME\\_NEURONAL\\_SYSTEM                       &  0.001694782 & 0.03182559 &  0.041157425 & -0.031931286 & -0.03206873 &  0.017130031 & -0.008051524 & -0.019756288\\\\\n",
       "\t5 & LV 5                                             & -0.016508079 & 0.04292706 &  0.074817856 & -0.021723231 & -0.04699848 & -0.012770370 &  0.005936056 & -0.025680815\\\\\n",
       "\t6 & LV 6                                             &  0.003098557 & 0.01915066 &  0.002973902 & -0.008038568 & -0.01661441 &  0.007721955 & -0.006224847 & -0.002067249\\\\\n",
       "\\end{tabular}\n"
      ],
      "text/markdown": [
       "\n",
       "A data.frame: 6 × 9\n",
       "\n",
       "| <!--/--> | LV &lt;chr&gt; | A2_T21 &lt;dbl&gt; | A1_T21 &lt;dbl&gt; | B1_N &lt;dbl&gt; | B2_N &lt;dbl&gt; | A3_T21 &lt;dbl&gt; | A4_T21 &lt;dbl&gt; | B4_N &lt;dbl&gt; | B3_N &lt;dbl&gt; |\n",
       "|---|---|---|---|---|---|---|---|---|---|\n",
       "| 1 | 1,REACTOME_MRNA_SPLICING                         | -0.025046111 | 0.06213857 |  0.011857810 |  0.186226780 | -0.02140594 | -0.072131620 | -0.055081798 | -0.086557688 |\n",
       "| 2 | 2,SVM Monocytes                                  |  0.036383890 | 0.18310789 | -0.032282090 | -0.079091497 | -0.02368477 | -0.019642693 | -0.034447336 | -0.030343400 |\n",
       "| 3 | 3,REACTOME_TRANSMISSION_ACROSS_CHEMICAL_SYNAPSES |  0.013326022 | 0.08472124 |  0.037300109 |  0.010356093 | -0.03901721 | -0.043363030 | -0.020010945 | -0.043312279 |\n",
       "| 4 | 4,REACTOME_NEURONAL_SYSTEM                       |  0.001694782 | 0.03182559 |  0.041157425 | -0.031931286 | -0.03206873 |  0.017130031 | -0.008051524 | -0.019756288 |\n",
       "| 5 | LV 5                                             | -0.016508079 | 0.04292706 |  0.074817856 | -0.021723231 | -0.04699848 | -0.012770370 |  0.005936056 | -0.025680815 |\n",
       "| 6 | LV 6                                             |  0.003098557 | 0.01915066 |  0.002973902 | -0.008038568 | -0.01661441 |  0.007721955 | -0.006224847 | -0.002067249 |\n",
       "\n"
      ],
      "text/plain": [
       "  LV                                               A2_T21       A1_T21    \n",
       "1 1,REACTOME_MRNA_SPLICING                         -0.025046111 0.06213857\n",
       "2 2,SVM Monocytes                                   0.036383890 0.18310789\n",
       "3 3,REACTOME_TRANSMISSION_ACROSS_CHEMICAL_SYNAPSES  0.013326022 0.08472124\n",
       "4 4,REACTOME_NEURONAL_SYSTEM                        0.001694782 0.03182559\n",
       "5 LV 5                                             -0.016508079 0.04292706\n",
       "6 LV 6                                              0.003098557 0.01915066\n",
       "  B1_N         B2_N         A3_T21      A4_T21       B4_N         B3_N        \n",
       "1  0.011857810  0.186226780 -0.02140594 -0.072131620 -0.055081798 -0.086557688\n",
       "2 -0.032282090 -0.079091497 -0.02368477 -0.019642693 -0.034447336 -0.030343400\n",
       "3  0.037300109  0.010356093 -0.03901721 -0.043363030 -0.020010945 -0.043312279\n",
       "4  0.041157425 -0.031931286 -0.03206873  0.017130031 -0.008051524 -0.019756288\n",
       "5  0.074817856 -0.021723231 -0.04699848 -0.012770370  0.005936056 -0.025680815\n",
       "6  0.002973902 -0.008038568 -0.01661441  0.007721955 -0.006224847 -0.002067249"
      ]
     },
     "metadata": {},
     "output_type": "display_data"
    }
   ],
   "source": [
    "df_projection_GSE151282 <- data.frame(projection_GSE151282) %>%\n",
    "  mutate(LV = rownames(projection_GSE151282)) %>%\n",
    "  select(LV, everything()) %>%\n",
    "  `rownames<-`(1:nrow(projection_GSE151282))\n",
    "\n",
    "head(df_projection_GSE151282)"
   ]
  },
  {
   "cell_type": "code",
   "execution_count": 220,
   "id": "ebb96d10-98a6-4507-b8d0-326a161e5464",
   "metadata": {},
   "outputs": [
    {
     "data": {
      "text/html": [
       "<table class=\"dataframe\">\n",
       "<caption>A tibble: 6 × 3</caption>\n",
       "<thead>\n",
       "\t<tr><th scope=col>LV</th><th scope=col>p_value</th><th scope=col>p_adjusted</th></tr>\n",
       "\t<tr><th scope=col>&lt;chr&gt;</th><th scope=col>&lt;dbl&gt;</th><th scope=col>&lt;dbl&gt;</th></tr>\n",
       "</thead>\n",
       "<tbody>\n",
       "\t<tr><td>LV 481                               </td><td>0.01101154</td><td>0.9986664</td></tr>\n",
       "\t<tr><td>LV 219                               </td><td>0.02924647</td><td>0.9986664</td></tr>\n",
       "\t<tr><td>LV 737                               </td><td>0.03122931</td><td>0.9986664</td></tr>\n",
       "\t<tr><td>26,SVM Macrophages M2                </td><td>0.05164269</td><td>0.9986664</td></tr>\n",
       "\t<tr><td>707,REACTOME_PEPTIDE_CHAIN_ELONGATION</td><td>0.06177420</td><td>0.9986664</td></tr>\n",
       "\t<tr><td>LV 281                               </td><td>0.06467135</td><td>0.9986664</td></tr>\n",
       "</tbody>\n",
       "</table>\n"
      ],
      "text/latex": [
       "A tibble: 6 × 3\n",
       "\\begin{tabular}{lll}\n",
       " LV & p\\_value & p\\_adjusted\\\\\n",
       " <chr> & <dbl> & <dbl>\\\\\n",
       "\\hline\n",
       "\t LV 481                                & 0.01101154 & 0.9986664\\\\\n",
       "\t LV 219                                & 0.02924647 & 0.9986664\\\\\n",
       "\t LV 737                                & 0.03122931 & 0.9986664\\\\\n",
       "\t 26,SVM Macrophages M2                 & 0.05164269 & 0.9986664\\\\\n",
       "\t 707,REACTOME\\_PEPTIDE\\_CHAIN\\_ELONGATION & 0.06177420 & 0.9986664\\\\\n",
       "\t LV 281                                & 0.06467135 & 0.9986664\\\\\n",
       "\\end{tabular}\n"
      ],
      "text/markdown": [
       "\n",
       "A tibble: 6 × 3\n",
       "\n",
       "| LV &lt;chr&gt; | p_value &lt;dbl&gt; | p_adjusted &lt;dbl&gt; |\n",
       "|---|---|---|\n",
       "| LV 481                                | 0.01101154 | 0.9986664 |\n",
       "| LV 219                                | 0.02924647 | 0.9986664 |\n",
       "| LV 737                                | 0.03122931 | 0.9986664 |\n",
       "| 26,SVM Macrophages M2                 | 0.05164269 | 0.9986664 |\n",
       "| 707,REACTOME_PEPTIDE_CHAIN_ELONGATION | 0.06177420 | 0.9986664 |\n",
       "| LV 281                                | 0.06467135 | 0.9986664 |\n",
       "\n"
      ],
      "text/plain": [
       "  LV                                    p_value    p_adjusted\n",
       "1 LV 481                                0.01101154 0.9986664 \n",
       "2 LV 219                                0.02924647 0.9986664 \n",
       "3 LV 737                                0.03122931 0.9986664 \n",
       "4 26,SVM Macrophages M2                 0.05164269 0.9986664 \n",
       "5 707,REACTOME_PEPTIDE_CHAIN_ELONGATION 0.06177420 0.9986664 \n",
       "6 LV 281                                0.06467135 0.9986664 "
      ]
     },
     "metadata": {},
     "output_type": "display_data"
    }
   ],
   "source": [
    "# Transpose Data for Analysis\n",
    "lv_data_long <- df_projection_GSE151282 %>% \n",
    "  pivot_longer(cols = -LV, names_to = \"Sample\", values_to = \"Value\") %>% \n",
    "  mutate(Group = ifelse(str_detect(Sample, \"A[0-9]_T21\"), \"T21\", \"N\"))\n",
    "\n",
    "# Function to Perform t-test for each LV\n",
    "t_test_results <- lv_data_long %>%\n",
    "  group_by(LV) %>%\n",
    "  summarise(p_value = t.test(Value ~ Group)$p.value)\n",
    "\n",
    "# Multiple Testing Correction (FDR)\n",
    "t_test_results <- t_test_results %>%\n",
    "  mutate(p_adjusted = p.adjust(p_value, method = \"fdr\"))\n",
    "\n",
    "t_test_results %>% \n",
    "    arrange(p_value) %>% \n",
    "    head()"
   ]
  },
  {
   "cell_type": "code",
   "execution_count": 223,
   "id": "31accaef-7190-4d33-9414-8cbd81a7c226",
   "metadata": {},
   "outputs": [
    {
     "data": {
      "text/html": [
       "<table class=\"dataframe\">\n",
       "<caption>A data.frame: 6 × 987</caption>\n",
       "<thead>\n",
       "\t<tr><th></th><th scope=col>LV1</th><th scope=col>LV2</th><th scope=col>LV3</th><th scope=col>LV4</th><th scope=col>LV5</th><th scope=col>LV6</th><th scope=col>LV7</th><th scope=col>LV8</th><th scope=col>LV9</th><th scope=col>LV10</th><th scope=col>⋯</th><th scope=col>LV978</th><th scope=col>LV979</th><th scope=col>LV980</th><th scope=col>LV981</th><th scope=col>LV982</th><th scope=col>LV983</th><th scope=col>LV984</th><th scope=col>LV985</th><th scope=col>LV986</th><th scope=col>LV987</th></tr>\n",
       "\t<tr><th></th><th scope=col>&lt;dbl&gt;</th><th scope=col>&lt;dbl&gt;</th><th scope=col>&lt;dbl&gt;</th><th scope=col>&lt;dbl&gt;</th><th scope=col>&lt;dbl&gt;</th><th scope=col>&lt;dbl&gt;</th><th scope=col>&lt;dbl&gt;</th><th scope=col>&lt;dbl&gt;</th><th scope=col>&lt;dbl&gt;</th><th scope=col>&lt;dbl&gt;</th><th scope=col>⋯</th><th scope=col>&lt;dbl&gt;</th><th scope=col>&lt;dbl&gt;</th><th scope=col>&lt;dbl&gt;</th><th scope=col>&lt;dbl&gt;</th><th scope=col>&lt;dbl&gt;</th><th scope=col>&lt;dbl&gt;</th><th scope=col>&lt;dbl&gt;</th><th scope=col>&lt;dbl&gt;</th><th scope=col>&lt;dbl&gt;</th><th scope=col>&lt;dbl&gt;</th></tr>\n",
       "</thead>\n",
       "<tbody>\n",
       "\t<tr><th scope=row>NOC2L</th><td>2.23797023</td><td>0.00000000</td><td>0.112685524</td><td>0.00000000</td><td>0.000000000</td><td>0.00000000</td><td>0</td><td>0</td><td>0.42079364</td><td>0.0000000</td><td>⋯</td><td>0.00000000</td><td>0.08177377</td><td>0.07962461</td><td>0.000000000</td><td>0</td><td>0.000000000</td><td>0.43284712</td><td>0.00000000</td><td>0.00000000</td><td>0.0000000</td></tr>\n",
       "\t<tr><th scope=row>HES4</th><td>0.26999934</td><td>0.08490505</td><td>0.000000000</td><td>0.05744514</td><td>0.013894115</td><td>0.76790870</td><td>0</td><td>0</td><td>1.70535493</td><td>0.0000000</td><td>⋯</td><td>0.00000000</td><td>0.00000000</td><td>0.05260650</td><td>0.014124645</td><td>0</td><td>0.000000000</td><td>0.57737279</td><td>0.08543191</td><td>0.00000000</td><td>0.0000000</td></tr>\n",
       "\t<tr><th scope=row>ISG15</th><td>0.03686669</td><td>0.00000000</td><td>0.000000000</td><td>0.04568015</td><td>0.004998977</td><td>0.00000000</td><td>0</td><td>0</td><td>0.23015827</td><td>0.1165996</td><td>⋯</td><td>0.00000000</td><td>0.00000000</td><td>0.00000000</td><td>0.018421383</td><td>0</td><td>0.003058988</td><td>0.00000000</td><td>0.00000000</td><td>0.00000000</td><td>0.0000000</td></tr>\n",
       "\t<tr><th scope=row>AGRN</th><td>0.43266367</td><td>0.00000000</td><td>0.010172089</td><td>0.00000000</td><td>0.025733268</td><td>0.00000000</td><td>0</td><td>0</td><td>0.09382693</td><td>0.0930792</td><td>⋯</td><td>0.00000000</td><td>0.00000000</td><td>0.00000000</td><td>0.000000000</td><td>0</td><td>0.000000000</td><td>0.38517356</td><td>0.06212099</td><td>0.00000000</td><td>0.1202636</td></tr>\n",
       "\t<tr><th scope=row>TNFRSF18</th><td>0.01226595</td><td>0.00000000</td><td>0.003937571</td><td>0.00000000</td><td>0.017390170</td><td>0.08748055</td><td>0</td><td>0</td><td>0.07813778</td><td>0.0000000</td><td>⋯</td><td>0.02974547</td><td>0.02527198</td><td>0.00000000</td><td>0.008847392</td><td>0</td><td>0.008247321</td><td>0.03988636</td><td>0.00000000</td><td>0.00000000</td><td>0.0000000</td></tr>\n",
       "\t<tr><th scope=row>TNFRSF4</th><td>0.00000000</td><td>0.00000000</td><td>0.000000000</td><td>0.00000000</td><td>0.000000000</td><td>0.00000000</td><td>0</td><td>0</td><td>0.41229068</td><td>0.0000000</td><td>⋯</td><td>0.00000000</td><td>0.09573129</td><td>0.00000000</td><td>0.025296539</td><td>0</td><td>0.000000000</td><td>0.00000000</td><td>0.00000000</td><td>0.01924974</td><td>0.0000000</td></tr>\n",
       "</tbody>\n",
       "</table>\n"
      ],
      "text/latex": [
       "A data.frame: 6 × 987\n",
       "\\begin{tabular}{r|lllllllllllllllllllll}\n",
       "  & LV1 & LV2 & LV3 & LV4 & LV5 & LV6 & LV7 & LV8 & LV9 & LV10 & ⋯ & LV978 & LV979 & LV980 & LV981 & LV982 & LV983 & LV984 & LV985 & LV986 & LV987\\\\\n",
       "  & <dbl> & <dbl> & <dbl> & <dbl> & <dbl> & <dbl> & <dbl> & <dbl> & <dbl> & <dbl> & ⋯ & <dbl> & <dbl> & <dbl> & <dbl> & <dbl> & <dbl> & <dbl> & <dbl> & <dbl> & <dbl>\\\\\n",
       "\\hline\n",
       "\tNOC2L & 2.23797023 & 0.00000000 & 0.112685524 & 0.00000000 & 0.000000000 & 0.00000000 & 0 & 0 & 0.42079364 & 0.0000000 & ⋯ & 0.00000000 & 0.08177377 & 0.07962461 & 0.000000000 & 0 & 0.000000000 & 0.43284712 & 0.00000000 & 0.00000000 & 0.0000000\\\\\n",
       "\tHES4 & 0.26999934 & 0.08490505 & 0.000000000 & 0.05744514 & 0.013894115 & 0.76790870 & 0 & 0 & 1.70535493 & 0.0000000 & ⋯ & 0.00000000 & 0.00000000 & 0.05260650 & 0.014124645 & 0 & 0.000000000 & 0.57737279 & 0.08543191 & 0.00000000 & 0.0000000\\\\\n",
       "\tISG15 & 0.03686669 & 0.00000000 & 0.000000000 & 0.04568015 & 0.004998977 & 0.00000000 & 0 & 0 & 0.23015827 & 0.1165996 & ⋯ & 0.00000000 & 0.00000000 & 0.00000000 & 0.018421383 & 0 & 0.003058988 & 0.00000000 & 0.00000000 & 0.00000000 & 0.0000000\\\\\n",
       "\tAGRN & 0.43266367 & 0.00000000 & 0.010172089 & 0.00000000 & 0.025733268 & 0.00000000 & 0 & 0 & 0.09382693 & 0.0930792 & ⋯ & 0.00000000 & 0.00000000 & 0.00000000 & 0.000000000 & 0 & 0.000000000 & 0.38517356 & 0.06212099 & 0.00000000 & 0.1202636\\\\\n",
       "\tTNFRSF18 & 0.01226595 & 0.00000000 & 0.003937571 & 0.00000000 & 0.017390170 & 0.08748055 & 0 & 0 & 0.07813778 & 0.0000000 & ⋯ & 0.02974547 & 0.02527198 & 0.00000000 & 0.008847392 & 0 & 0.008247321 & 0.03988636 & 0.00000000 & 0.00000000 & 0.0000000\\\\\n",
       "\tTNFRSF4 & 0.00000000 & 0.00000000 & 0.000000000 & 0.00000000 & 0.000000000 & 0.00000000 & 0 & 0 & 0.41229068 & 0.0000000 & ⋯ & 0.00000000 & 0.09573129 & 0.00000000 & 0.025296539 & 0 & 0.000000000 & 0.00000000 & 0.00000000 & 0.01924974 & 0.0000000\\\\\n",
       "\\end{tabular}\n"
      ],
      "text/markdown": [
       "\n",
       "A data.frame: 6 × 987\n",
       "\n",
       "| <!--/--> | LV1 &lt;dbl&gt; | LV2 &lt;dbl&gt; | LV3 &lt;dbl&gt; | LV4 &lt;dbl&gt; | LV5 &lt;dbl&gt; | LV6 &lt;dbl&gt; | LV7 &lt;dbl&gt; | LV8 &lt;dbl&gt; | LV9 &lt;dbl&gt; | LV10 &lt;dbl&gt; | ⋯ ⋯ | LV978 &lt;dbl&gt; | LV979 &lt;dbl&gt; | LV980 &lt;dbl&gt; | LV981 &lt;dbl&gt; | LV982 &lt;dbl&gt; | LV983 &lt;dbl&gt; | LV984 &lt;dbl&gt; | LV985 &lt;dbl&gt; | LV986 &lt;dbl&gt; | LV987 &lt;dbl&gt; |\n",
       "|---|---|---|---|---|---|---|---|---|---|---|---|---|---|---|---|---|---|---|---|---|---|\n",
       "| NOC2L | 2.23797023 | 0.00000000 | 0.112685524 | 0.00000000 | 0.000000000 | 0.00000000 | 0 | 0 | 0.42079364 | 0.0000000 | ⋯ | 0.00000000 | 0.08177377 | 0.07962461 | 0.000000000 | 0 | 0.000000000 | 0.43284712 | 0.00000000 | 0.00000000 | 0.0000000 |\n",
       "| HES4 | 0.26999934 | 0.08490505 | 0.000000000 | 0.05744514 | 0.013894115 | 0.76790870 | 0 | 0 | 1.70535493 | 0.0000000 | ⋯ | 0.00000000 | 0.00000000 | 0.05260650 | 0.014124645 | 0 | 0.000000000 | 0.57737279 | 0.08543191 | 0.00000000 | 0.0000000 |\n",
       "| ISG15 | 0.03686669 | 0.00000000 | 0.000000000 | 0.04568015 | 0.004998977 | 0.00000000 | 0 | 0 | 0.23015827 | 0.1165996 | ⋯ | 0.00000000 | 0.00000000 | 0.00000000 | 0.018421383 | 0 | 0.003058988 | 0.00000000 | 0.00000000 | 0.00000000 | 0.0000000 |\n",
       "| AGRN | 0.43266367 | 0.00000000 | 0.010172089 | 0.00000000 | 0.025733268 | 0.00000000 | 0 | 0 | 0.09382693 | 0.0930792 | ⋯ | 0.00000000 | 0.00000000 | 0.00000000 | 0.000000000 | 0 | 0.000000000 | 0.38517356 | 0.06212099 | 0.00000000 | 0.1202636 |\n",
       "| TNFRSF18 | 0.01226595 | 0.00000000 | 0.003937571 | 0.00000000 | 0.017390170 | 0.08748055 | 0 | 0 | 0.07813778 | 0.0000000 | ⋯ | 0.02974547 | 0.02527198 | 0.00000000 | 0.008847392 | 0 | 0.008247321 | 0.03988636 | 0.00000000 | 0.00000000 | 0.0000000 |\n",
       "| TNFRSF4 | 0.00000000 | 0.00000000 | 0.000000000 | 0.00000000 | 0.000000000 | 0.00000000 | 0 | 0 | 0.41229068 | 0.0000000 | ⋯ | 0.00000000 | 0.09573129 | 0.00000000 | 0.025296539 | 0 | 0.000000000 | 0.00000000 | 0.00000000 | 0.01924974 | 0.0000000 |\n",
       "\n"
      ],
      "text/plain": [
       "         LV1        LV2        LV3         LV4        LV5         LV6       \n",
       "NOC2L    2.23797023 0.00000000 0.112685524 0.00000000 0.000000000 0.00000000\n",
       "HES4     0.26999934 0.08490505 0.000000000 0.05744514 0.013894115 0.76790870\n",
       "ISG15    0.03686669 0.00000000 0.000000000 0.04568015 0.004998977 0.00000000\n",
       "AGRN     0.43266367 0.00000000 0.010172089 0.00000000 0.025733268 0.00000000\n",
       "TNFRSF18 0.01226595 0.00000000 0.003937571 0.00000000 0.017390170 0.08748055\n",
       "TNFRSF4  0.00000000 0.00000000 0.000000000 0.00000000 0.000000000 0.00000000\n",
       "         LV7 LV8 LV9        LV10      ⋯ LV978      LV979      LV980     \n",
       "NOC2L    0   0   0.42079364 0.0000000 ⋯ 0.00000000 0.08177377 0.07962461\n",
       "HES4     0   0   1.70535493 0.0000000 ⋯ 0.00000000 0.00000000 0.05260650\n",
       "ISG15    0   0   0.23015827 0.1165996 ⋯ 0.00000000 0.00000000 0.00000000\n",
       "AGRN     0   0   0.09382693 0.0930792 ⋯ 0.00000000 0.00000000 0.00000000\n",
       "TNFRSF18 0   0   0.07813778 0.0000000 ⋯ 0.02974547 0.02527198 0.00000000\n",
       "TNFRSF4  0   0   0.41229068 0.0000000 ⋯ 0.00000000 0.09573129 0.00000000\n",
       "         LV981       LV982 LV983       LV984      LV985      LV986     \n",
       "NOC2L    0.000000000 0     0.000000000 0.43284712 0.00000000 0.00000000\n",
       "HES4     0.014124645 0     0.000000000 0.57737279 0.08543191 0.00000000\n",
       "ISG15    0.018421383 0     0.003058988 0.00000000 0.00000000 0.00000000\n",
       "AGRN     0.000000000 0     0.000000000 0.38517356 0.06212099 0.00000000\n",
       "TNFRSF18 0.008847392 0     0.008247321 0.03988636 0.00000000 0.00000000\n",
       "TNFRSF4  0.025296539 0     0.000000000 0.00000000 0.00000000 0.01924974\n",
       "         LV987    \n",
       "NOC2L    0.0000000\n",
       "HES4     0.0000000\n",
       "ISG15    0.0000000\n",
       "AGRN     0.1202636\n",
       "TNFRSF18 0.0000000\n",
       "TNFRSF4  0.0000000"
      ]
     },
     "metadata": {},
     "output_type": "display_data"
    }
   ],
   "source": [
    "df_ordered_multiplier_modelZ <- as.data.frame(as.matrix(ordered_multiplier_model$Z)) %>%\n",
    "  `colnames<-`(paste0(\"LV\", seq_len(ncol(.)))) \n",
    "head(df_ordered_multiplier_modelZ)"
   ]
  },
  {
   "cell_type": "code",
   "execution_count": 227,
   "id": "5e62be94-32ad-4e46-979e-bceabd815aa7",
   "metadata": {},
   "outputs": [
    {
     "data": {
      "text/html": [
       "<table class=\"dataframe\">\n",
       "<caption>A data.frame: 10 × 1</caption>\n",
       "<thead>\n",
       "\t<tr><th></th><th scope=col>LV26</th></tr>\n",
       "\t<tr><th></th><th scope=col>&lt;dbl&gt;</th></tr>\n",
       "</thead>\n",
       "<tbody>\n",
       "\t<tr><th scope=row>CCL18</th><td>6.342055</td></tr>\n",
       "\t<tr><th scope=row>CCL23</th><td>6.144151</td></tr>\n",
       "\t<tr><th scope=row>CD209</th><td>5.832267</td></tr>\n",
       "\t<tr><th scope=row>CLEC10A</th><td>5.338751</td></tr>\n",
       "\t<tr><th scope=row>ALOX15</th><td>5.022820</td></tr>\n",
       "\t<tr><th scope=row>CLEC4A</th><td>4.229976</td></tr>\n",
       "\t<tr><th scope=row>DNASE1L3</th><td>4.100035</td></tr>\n",
       "\t<tr><th scope=row>C1QC</th><td>3.023242</td></tr>\n",
       "\t<tr><th scope=row>CD1A</th><td>2.797564</td></tr>\n",
       "\t<tr><th scope=row>PDCD1LG2</th><td>2.501536</td></tr>\n",
       "</tbody>\n",
       "</table>\n"
      ],
      "text/latex": [
       "A data.frame: 10 × 1\n",
       "\\begin{tabular}{r|l}\n",
       "  & LV26\\\\\n",
       "  & <dbl>\\\\\n",
       "\\hline\n",
       "\tCCL18 & 6.342055\\\\\n",
       "\tCCL23 & 6.144151\\\\\n",
       "\tCD209 & 5.832267\\\\\n",
       "\tCLEC10A & 5.338751\\\\\n",
       "\tALOX15 & 5.022820\\\\\n",
       "\tCLEC4A & 4.229976\\\\\n",
       "\tDNASE1L3 & 4.100035\\\\\n",
       "\tC1QC & 3.023242\\\\\n",
       "\tCD1A & 2.797564\\\\\n",
       "\tPDCD1LG2 & 2.501536\\\\\n",
       "\\end{tabular}\n"
      ],
      "text/markdown": [
       "\n",
       "A data.frame: 10 × 1\n",
       "\n",
       "| <!--/--> | LV26 &lt;dbl&gt; |\n",
       "|---|---|\n",
       "| CCL18 | 6.342055 |\n",
       "| CCL23 | 6.144151 |\n",
       "| CD209 | 5.832267 |\n",
       "| CLEC10A | 5.338751 |\n",
       "| ALOX15 | 5.022820 |\n",
       "| CLEC4A | 4.229976 |\n",
       "| DNASE1L3 | 4.100035 |\n",
       "| C1QC | 3.023242 |\n",
       "| CD1A | 2.797564 |\n",
       "| PDCD1LG2 | 2.501536 |\n",
       "\n"
      ],
      "text/plain": [
       "         LV26    \n",
       "CCL18    6.342055\n",
       "CCL23    6.144151\n",
       "CD209    5.832267\n",
       "CLEC10A  5.338751\n",
       "ALOX15   5.022820\n",
       "CLEC4A   4.229976\n",
       "DNASE1L3 4.100035\n",
       "C1QC     3.023242\n",
       "CD1A     2.797564\n",
       "PDCD1LG2 2.501536"
      ]
     },
     "metadata": {},
     "output_type": "display_data"
    }
   ],
   "source": [
    "df_ordered_multiplier_modelZ[c(\"LV26\")] %>% \n",
    "    dplyr::arrange(desc(LV26)) %>% \n",
    "    head(10)"
   ]
  },
  {
   "cell_type": "code",
   "execution_count": 228,
   "id": "1b14e7e5-ba21-4b23-acb8-5a09fcbfd8ea",
   "metadata": {},
   "outputs": [
    {
     "data": {
      "text/html": [
       "<table class=\"dataframe\">\n",
       "<caption>A matrix: 6 × 37032 of type dbl</caption>\n",
       "<thead>\n",
       "\t<tr><th></th><th scope=col>SRP000599.SRR013549</th><th scope=col>SRP000599.SRR013550</th><th scope=col>SRP000599.SRR013551</th><th scope=col>SRP000599.SRR013552</th><th scope=col>SRP000599.SRR013553</th><th scope=col>SRP000599.SRR013554</th><th scope=col>SRP000599.SRR013555</th><th scope=col>SRP000599.SRR013556</th><th scope=col>SRP000599.SRR013557</th><th scope=col>SRP000599.SRR013558</th><th scope=col>⋯</th><th scope=col>SRP035599.SRR1139372</th><th scope=col>SRP035599.SRR1139393</th><th scope=col>SRP035599.SRR1139388</th><th scope=col>SRP035599.SRR1139378</th><th scope=col>SRP035599.SRR1139399</th><th scope=col>SRP035599.SRR1139386</th><th scope=col>SRP035599.SRR1139375</th><th scope=col>SRP035599.SRR1139382</th><th scope=col>SRP035599.SRR1139356</th><th scope=col>SRP035599.SRR1139370</th></tr>\n",
       "</thead>\n",
       "<tbody>\n",
       "\t<tr><th scope=row>1,REACTOME_MRNA_SPLICING</th><td>-0.059296689</td><td>-0.047909034</td><td>-0.049366085</td><td>-0.065078034</td><td>-0.036394186</td><td>-0.046432986</td><td>-0.040980500</td><td>-0.040068202</td><td>-0.046137392</td><td>-0.048547681</td><td>⋯</td><td> 0.028219530</td><td> 0.035137107</td><td> 0.065077330</td><td> 0.078143650</td><td> 0.092361864</td><td> 0.069042346</td><td> 0.090913845</td><td> 0.096341467</td><td> 0.13111465</td><td> 0.171751422</td></tr>\n",
       "\t<tr><th scope=row>2,SVM Monocytes</th><td> 0.006212678</td><td> 0.003625471</td><td> 0.006604582</td><td> 0.009258006</td><td> 0.005061427</td><td> 0.004132735</td><td> 0.008950264</td><td> 0.007226716</td><td> 0.007240987</td><td> 0.005709697</td><td>⋯</td><td>-0.050455152</td><td>-0.034501970</td><td>-0.033640290</td><td>-0.049702173</td><td>-0.037425739</td><td>-0.050069528</td><td>-0.022575052</td><td>-0.055091302</td><td>-0.05686929</td><td>-0.018072570</td></tr>\n",
       "\t<tr><th scope=row>3,REACTOME_TRANSMISSION_ACROSS_CHEMICAL_SYNAPSES</th><td>-0.026105335</td><td>-0.032232060</td><td>-0.020621382</td><td>-0.027598555</td><td>-0.035248076</td><td>-0.038700769</td><td>-0.032527087</td><td>-0.030592727</td><td>-0.028937277</td><td>-0.027405660</td><td>⋯</td><td>-0.028609689</td><td>-0.033449754</td><td>-0.030583001</td><td>-0.032399106</td><td>-0.029365381</td><td>-0.025405876</td><td>-0.033657228</td><td>-0.031317680</td><td>-0.03092424</td><td>-0.027868614</td></tr>\n",
       "\t<tr><th scope=row>4,REACTOME_NEURONAL_SYSTEM</th><td>-0.022079745</td><td>-0.008970910</td><td>-0.020341711</td><td>-0.016260213</td><td>-0.003022898</td><td> 0.002442659</td><td>-0.020457842</td><td>-0.023735309</td><td>-0.021581483</td><td>-0.022477572</td><td>⋯</td><td>-0.037122216</td><td>-0.029658154</td><td>-0.036349546</td><td>-0.039253549</td><td>-0.035204624</td><td>-0.036345061</td><td>-0.034513880</td><td>-0.035925708</td><td>-0.04035837</td><td>-0.031131153</td></tr>\n",
       "\t<tr><th scope=row>LV 5</th><td> 0.007663157</td><td> 0.007036176</td><td> 0.006608393</td><td> 0.003446311</td><td> 0.006340665</td><td> 0.007106127</td><td> 0.007930485</td><td> 0.009164026</td><td> 0.008023601</td><td> 0.007937586</td><td>⋯</td><td>-0.003055909</td><td>-0.004783739</td><td>-0.004352417</td><td>-0.004159541</td><td>-0.001084991</td><td>-0.001884109</td><td>-0.003561052</td><td>-0.003546184</td><td>-0.01210732</td><td>-0.001192709</td></tr>\n",
       "\t<tr><th scope=row>LV 6</th><td> 0.003014322</td><td> 0.002005692</td><td> 0.007768482</td><td>-0.004943417</td><td> 0.019649274</td><td> 0.003509484</td><td> 0.008170202</td><td> 0.009434190</td><td> 0.007881926</td><td> 0.007861974</td><td>⋯</td><td>-0.042169397</td><td>-0.051798302</td><td>-0.045170871</td><td>-0.048687711</td><td>-0.038200131</td><td>-0.046747069</td><td>-0.042864145</td><td>-0.032012738</td><td>-0.02439828</td><td>-0.062237591</td></tr>\n",
       "</tbody>\n",
       "</table>\n"
      ],
      "text/latex": [
       "A matrix: 6 × 37032 of type dbl\n",
       "\\begin{tabular}{r|lllllllllllllllllllll}\n",
       "  & SRP000599.SRR013549 & SRP000599.SRR013550 & SRP000599.SRR013551 & SRP000599.SRR013552 & SRP000599.SRR013553 & SRP000599.SRR013554 & SRP000599.SRR013555 & SRP000599.SRR013556 & SRP000599.SRR013557 & SRP000599.SRR013558 & ⋯ & SRP035599.SRR1139372 & SRP035599.SRR1139393 & SRP035599.SRR1139388 & SRP035599.SRR1139378 & SRP035599.SRR1139399 & SRP035599.SRR1139386 & SRP035599.SRR1139375 & SRP035599.SRR1139382 & SRP035599.SRR1139356 & SRP035599.SRR1139370\\\\\n",
       "\\hline\n",
       "\t1,REACTOME\\_MRNA\\_SPLICING & -0.059296689 & -0.047909034 & -0.049366085 & -0.065078034 & -0.036394186 & -0.046432986 & -0.040980500 & -0.040068202 & -0.046137392 & -0.048547681 & ⋯ &  0.028219530 &  0.035137107 &  0.065077330 &  0.078143650 &  0.092361864 &  0.069042346 &  0.090913845 &  0.096341467 &  0.13111465 &  0.171751422\\\\\n",
       "\t2,SVM Monocytes &  0.006212678 &  0.003625471 &  0.006604582 &  0.009258006 &  0.005061427 &  0.004132735 &  0.008950264 &  0.007226716 &  0.007240987 &  0.005709697 & ⋯ & -0.050455152 & -0.034501970 & -0.033640290 & -0.049702173 & -0.037425739 & -0.050069528 & -0.022575052 & -0.055091302 & -0.05686929 & -0.018072570\\\\\n",
       "\t3,REACTOME\\_TRANSMISSION\\_ACROSS\\_CHEMICAL\\_SYNAPSES & -0.026105335 & -0.032232060 & -0.020621382 & -0.027598555 & -0.035248076 & -0.038700769 & -0.032527087 & -0.030592727 & -0.028937277 & -0.027405660 & ⋯ & -0.028609689 & -0.033449754 & -0.030583001 & -0.032399106 & -0.029365381 & -0.025405876 & -0.033657228 & -0.031317680 & -0.03092424 & -0.027868614\\\\\n",
       "\t4,REACTOME\\_NEURONAL\\_SYSTEM & -0.022079745 & -0.008970910 & -0.020341711 & -0.016260213 & -0.003022898 &  0.002442659 & -0.020457842 & -0.023735309 & -0.021581483 & -0.022477572 & ⋯ & -0.037122216 & -0.029658154 & -0.036349546 & -0.039253549 & -0.035204624 & -0.036345061 & -0.034513880 & -0.035925708 & -0.04035837 & -0.031131153\\\\\n",
       "\tLV 5 &  0.007663157 &  0.007036176 &  0.006608393 &  0.003446311 &  0.006340665 &  0.007106127 &  0.007930485 &  0.009164026 &  0.008023601 &  0.007937586 & ⋯ & -0.003055909 & -0.004783739 & -0.004352417 & -0.004159541 & -0.001084991 & -0.001884109 & -0.003561052 & -0.003546184 & -0.01210732 & -0.001192709\\\\\n",
       "\tLV 6 &  0.003014322 &  0.002005692 &  0.007768482 & -0.004943417 &  0.019649274 &  0.003509484 &  0.008170202 &  0.009434190 &  0.007881926 &  0.007861974 & ⋯ & -0.042169397 & -0.051798302 & -0.045170871 & -0.048687711 & -0.038200131 & -0.046747069 & -0.042864145 & -0.032012738 & -0.02439828 & -0.062237591\\\\\n",
       "\\end{tabular}\n"
      ],
      "text/markdown": [
       "\n",
       "A matrix: 6 × 37032 of type dbl\n",
       "\n",
       "| <!--/--> | SRP000599.SRR013549 | SRP000599.SRR013550 | SRP000599.SRR013551 | SRP000599.SRR013552 | SRP000599.SRR013553 | SRP000599.SRR013554 | SRP000599.SRR013555 | SRP000599.SRR013556 | SRP000599.SRR013557 | SRP000599.SRR013558 | ⋯ | SRP035599.SRR1139372 | SRP035599.SRR1139393 | SRP035599.SRR1139388 | SRP035599.SRR1139378 | SRP035599.SRR1139399 | SRP035599.SRR1139386 | SRP035599.SRR1139375 | SRP035599.SRR1139382 | SRP035599.SRR1139356 | SRP035599.SRR1139370 |\n",
       "|---|---|---|---|---|---|---|---|---|---|---|---|---|---|---|---|---|---|---|---|---|---|\n",
       "| 1,REACTOME_MRNA_SPLICING | -0.059296689 | -0.047909034 | -0.049366085 | -0.065078034 | -0.036394186 | -0.046432986 | -0.040980500 | -0.040068202 | -0.046137392 | -0.048547681 | ⋯ |  0.028219530 |  0.035137107 |  0.065077330 |  0.078143650 |  0.092361864 |  0.069042346 |  0.090913845 |  0.096341467 |  0.13111465 |  0.171751422 |\n",
       "| 2,SVM Monocytes |  0.006212678 |  0.003625471 |  0.006604582 |  0.009258006 |  0.005061427 |  0.004132735 |  0.008950264 |  0.007226716 |  0.007240987 |  0.005709697 | ⋯ | -0.050455152 | -0.034501970 | -0.033640290 | -0.049702173 | -0.037425739 | -0.050069528 | -0.022575052 | -0.055091302 | -0.05686929 | -0.018072570 |\n",
       "| 3,REACTOME_TRANSMISSION_ACROSS_CHEMICAL_SYNAPSES | -0.026105335 | -0.032232060 | -0.020621382 | -0.027598555 | -0.035248076 | -0.038700769 | -0.032527087 | -0.030592727 | -0.028937277 | -0.027405660 | ⋯ | -0.028609689 | -0.033449754 | -0.030583001 | -0.032399106 | -0.029365381 | -0.025405876 | -0.033657228 | -0.031317680 | -0.03092424 | -0.027868614 |\n",
       "| 4,REACTOME_NEURONAL_SYSTEM | -0.022079745 | -0.008970910 | -0.020341711 | -0.016260213 | -0.003022898 |  0.002442659 | -0.020457842 | -0.023735309 | -0.021581483 | -0.022477572 | ⋯ | -0.037122216 | -0.029658154 | -0.036349546 | -0.039253549 | -0.035204624 | -0.036345061 | -0.034513880 | -0.035925708 | -0.04035837 | -0.031131153 |\n",
       "| LV 5 |  0.007663157 |  0.007036176 |  0.006608393 |  0.003446311 |  0.006340665 |  0.007106127 |  0.007930485 |  0.009164026 |  0.008023601 |  0.007937586 | ⋯ | -0.003055909 | -0.004783739 | -0.004352417 | -0.004159541 | -0.001084991 | -0.001884109 | -0.003561052 | -0.003546184 | -0.01210732 | -0.001192709 |\n",
       "| LV 6 |  0.003014322 |  0.002005692 |  0.007768482 | -0.004943417 |  0.019649274 |  0.003509484 |  0.008170202 |  0.009434190 |  0.007881926 |  0.007861974 | ⋯ | -0.042169397 | -0.051798302 | -0.045170871 | -0.048687711 | -0.038200131 | -0.046747069 | -0.042864145 | -0.032012738 | -0.02439828 | -0.062237591 |\n",
       "\n"
      ],
      "text/plain": [
       "                                                 SRP000599.SRR013549\n",
       "1,REACTOME_MRNA_SPLICING                         -0.059296689       \n",
       "2,SVM Monocytes                                   0.006212678       \n",
       "3,REACTOME_TRANSMISSION_ACROSS_CHEMICAL_SYNAPSES -0.026105335       \n",
       "4,REACTOME_NEURONAL_SYSTEM                       -0.022079745       \n",
       "LV 5                                              0.007663157       \n",
       "LV 6                                              0.003014322       \n",
       "                                                 SRP000599.SRR013550\n",
       "1,REACTOME_MRNA_SPLICING                         -0.047909034       \n",
       "2,SVM Monocytes                                   0.003625471       \n",
       "3,REACTOME_TRANSMISSION_ACROSS_CHEMICAL_SYNAPSES -0.032232060       \n",
       "4,REACTOME_NEURONAL_SYSTEM                       -0.008970910       \n",
       "LV 5                                              0.007036176       \n",
       "LV 6                                              0.002005692       \n",
       "                                                 SRP000599.SRR013551\n",
       "1,REACTOME_MRNA_SPLICING                         -0.049366085       \n",
       "2,SVM Monocytes                                   0.006604582       \n",
       "3,REACTOME_TRANSMISSION_ACROSS_CHEMICAL_SYNAPSES -0.020621382       \n",
       "4,REACTOME_NEURONAL_SYSTEM                       -0.020341711       \n",
       "LV 5                                              0.006608393       \n",
       "LV 6                                              0.007768482       \n",
       "                                                 SRP000599.SRR013552\n",
       "1,REACTOME_MRNA_SPLICING                         -0.065078034       \n",
       "2,SVM Monocytes                                   0.009258006       \n",
       "3,REACTOME_TRANSMISSION_ACROSS_CHEMICAL_SYNAPSES -0.027598555       \n",
       "4,REACTOME_NEURONAL_SYSTEM                       -0.016260213       \n",
       "LV 5                                              0.003446311       \n",
       "LV 6                                             -0.004943417       \n",
       "                                                 SRP000599.SRR013553\n",
       "1,REACTOME_MRNA_SPLICING                         -0.036394186       \n",
       "2,SVM Monocytes                                   0.005061427       \n",
       "3,REACTOME_TRANSMISSION_ACROSS_CHEMICAL_SYNAPSES -0.035248076       \n",
       "4,REACTOME_NEURONAL_SYSTEM                       -0.003022898       \n",
       "LV 5                                              0.006340665       \n",
       "LV 6                                              0.019649274       \n",
       "                                                 SRP000599.SRR013554\n",
       "1,REACTOME_MRNA_SPLICING                         -0.046432986       \n",
       "2,SVM Monocytes                                   0.004132735       \n",
       "3,REACTOME_TRANSMISSION_ACROSS_CHEMICAL_SYNAPSES -0.038700769       \n",
       "4,REACTOME_NEURONAL_SYSTEM                        0.002442659       \n",
       "LV 5                                              0.007106127       \n",
       "LV 6                                              0.003509484       \n",
       "                                                 SRP000599.SRR013555\n",
       "1,REACTOME_MRNA_SPLICING                         -0.040980500       \n",
       "2,SVM Monocytes                                   0.008950264       \n",
       "3,REACTOME_TRANSMISSION_ACROSS_CHEMICAL_SYNAPSES -0.032527087       \n",
       "4,REACTOME_NEURONAL_SYSTEM                       -0.020457842       \n",
       "LV 5                                              0.007930485       \n",
       "LV 6                                              0.008170202       \n",
       "                                                 SRP000599.SRR013556\n",
       "1,REACTOME_MRNA_SPLICING                         -0.040068202       \n",
       "2,SVM Monocytes                                   0.007226716       \n",
       "3,REACTOME_TRANSMISSION_ACROSS_CHEMICAL_SYNAPSES -0.030592727       \n",
       "4,REACTOME_NEURONAL_SYSTEM                       -0.023735309       \n",
       "LV 5                                              0.009164026       \n",
       "LV 6                                              0.009434190       \n",
       "                                                 SRP000599.SRR013557\n",
       "1,REACTOME_MRNA_SPLICING                         -0.046137392       \n",
       "2,SVM Monocytes                                   0.007240987       \n",
       "3,REACTOME_TRANSMISSION_ACROSS_CHEMICAL_SYNAPSES -0.028937277       \n",
       "4,REACTOME_NEURONAL_SYSTEM                       -0.021581483       \n",
       "LV 5                                              0.008023601       \n",
       "LV 6                                              0.007881926       \n",
       "                                                 SRP000599.SRR013558 ⋯\n",
       "1,REACTOME_MRNA_SPLICING                         -0.048547681        ⋯\n",
       "2,SVM Monocytes                                   0.005709697        ⋯\n",
       "3,REACTOME_TRANSMISSION_ACROSS_CHEMICAL_SYNAPSES -0.027405660        ⋯\n",
       "4,REACTOME_NEURONAL_SYSTEM                       -0.022477572        ⋯\n",
       "LV 5                                              0.007937586        ⋯\n",
       "LV 6                                              0.007861974        ⋯\n",
       "                                                 SRP035599.SRR1139372\n",
       "1,REACTOME_MRNA_SPLICING                          0.028219530        \n",
       "2,SVM Monocytes                                  -0.050455152        \n",
       "3,REACTOME_TRANSMISSION_ACROSS_CHEMICAL_SYNAPSES -0.028609689        \n",
       "4,REACTOME_NEURONAL_SYSTEM                       -0.037122216        \n",
       "LV 5                                             -0.003055909        \n",
       "LV 6                                             -0.042169397        \n",
       "                                                 SRP035599.SRR1139393\n",
       "1,REACTOME_MRNA_SPLICING                          0.035137107        \n",
       "2,SVM Monocytes                                  -0.034501970        \n",
       "3,REACTOME_TRANSMISSION_ACROSS_CHEMICAL_SYNAPSES -0.033449754        \n",
       "4,REACTOME_NEURONAL_SYSTEM                       -0.029658154        \n",
       "LV 5                                             -0.004783739        \n",
       "LV 6                                             -0.051798302        \n",
       "                                                 SRP035599.SRR1139388\n",
       "1,REACTOME_MRNA_SPLICING                          0.065077330        \n",
       "2,SVM Monocytes                                  -0.033640290        \n",
       "3,REACTOME_TRANSMISSION_ACROSS_CHEMICAL_SYNAPSES -0.030583001        \n",
       "4,REACTOME_NEURONAL_SYSTEM                       -0.036349546        \n",
       "LV 5                                             -0.004352417        \n",
       "LV 6                                             -0.045170871        \n",
       "                                                 SRP035599.SRR1139378\n",
       "1,REACTOME_MRNA_SPLICING                          0.078143650        \n",
       "2,SVM Monocytes                                  -0.049702173        \n",
       "3,REACTOME_TRANSMISSION_ACROSS_CHEMICAL_SYNAPSES -0.032399106        \n",
       "4,REACTOME_NEURONAL_SYSTEM                       -0.039253549        \n",
       "LV 5                                             -0.004159541        \n",
       "LV 6                                             -0.048687711        \n",
       "                                                 SRP035599.SRR1139399\n",
       "1,REACTOME_MRNA_SPLICING                          0.092361864        \n",
       "2,SVM Monocytes                                  -0.037425739        \n",
       "3,REACTOME_TRANSMISSION_ACROSS_CHEMICAL_SYNAPSES -0.029365381        \n",
       "4,REACTOME_NEURONAL_SYSTEM                       -0.035204624        \n",
       "LV 5                                             -0.001084991        \n",
       "LV 6                                             -0.038200131        \n",
       "                                                 SRP035599.SRR1139386\n",
       "1,REACTOME_MRNA_SPLICING                          0.069042346        \n",
       "2,SVM Monocytes                                  -0.050069528        \n",
       "3,REACTOME_TRANSMISSION_ACROSS_CHEMICAL_SYNAPSES -0.025405876        \n",
       "4,REACTOME_NEURONAL_SYSTEM                       -0.036345061        \n",
       "LV 5                                             -0.001884109        \n",
       "LV 6                                             -0.046747069        \n",
       "                                                 SRP035599.SRR1139375\n",
       "1,REACTOME_MRNA_SPLICING                          0.090913845        \n",
       "2,SVM Monocytes                                  -0.022575052        \n",
       "3,REACTOME_TRANSMISSION_ACROSS_CHEMICAL_SYNAPSES -0.033657228        \n",
       "4,REACTOME_NEURONAL_SYSTEM                       -0.034513880        \n",
       "LV 5                                             -0.003561052        \n",
       "LV 6                                             -0.042864145        \n",
       "                                                 SRP035599.SRR1139382\n",
       "1,REACTOME_MRNA_SPLICING                          0.096341467        \n",
       "2,SVM Monocytes                                  -0.055091302        \n",
       "3,REACTOME_TRANSMISSION_ACROSS_CHEMICAL_SYNAPSES -0.031317680        \n",
       "4,REACTOME_NEURONAL_SYSTEM                       -0.035925708        \n",
       "LV 5                                             -0.003546184        \n",
       "LV 6                                             -0.032012738        \n",
       "                                                 SRP035599.SRR1139356\n",
       "1,REACTOME_MRNA_SPLICING                          0.13111465         \n",
       "2,SVM Monocytes                                  -0.05686929         \n",
       "3,REACTOME_TRANSMISSION_ACROSS_CHEMICAL_SYNAPSES -0.03092424         \n",
       "4,REACTOME_NEURONAL_SYSTEM                       -0.04035837         \n",
       "LV 5                                             -0.01210732         \n",
       "LV 6                                             -0.02439828         \n",
       "                                                 SRP035599.SRR1139370\n",
       "1,REACTOME_MRNA_SPLICING                          0.171751422        \n",
       "2,SVM Monocytes                                  -0.018072570        \n",
       "3,REACTOME_TRANSMISSION_ACROSS_CHEMICAL_SYNAPSES -0.027868614        \n",
       "4,REACTOME_NEURONAL_SYSTEM                       -0.031131153        \n",
       "LV 5                                             -0.001192709        \n",
       "LV 6                                             -0.062237591        "
      ]
     },
     "metadata": {},
     "output_type": "display_data"
    }
   ],
   "source": [
    "head(ordered_multiplier_model$B)"
   ]
  },
  {
   "cell_type": "code",
   "execution_count": 235,
   "id": "bb22ea39-0949-49fd-a362-c6d73839a994",
   "metadata": {},
   "outputs": [
    {
     "data": {
      "text/html": [
       "<table class=\"dataframe\">\n",
       "<caption>A data.frame: 8 × 5</caption>\n",
       "<thead>\n",
       "\t<tr><th scope=col>pathway</th><th scope=col>LV index</th><th scope=col>AUC</th><th scope=col>p-value</th><th scope=col>FDR</th></tr>\n",
       "\t<tr><th scope=col>&lt;chr&gt;</th><th scope=col>&lt;chr&gt;</th><th scope=col>&lt;dbl&gt;</th><th scope=col>&lt;dbl&gt;</th><th scope=col>&lt;dbl&gt;</th></tr>\n",
       "</thead>\n",
       "<tbody>\n",
       "\t<tr><td>IRIS_DendriticCell-Control                                                                                    </td><td>26 </td><td>0.7741243</td><td>8.082947e-14</td><td>6.226756e-12</td></tr>\n",
       "\t<tr><td>SVM Macrophages M2                                                                                            </td><td>26 </td><td>0.7896932</td><td>5.503019e-04</td><td>4.600780e-03</td></tr>\n",
       "\t<tr><td>SVM Dendritic cells resting                                                                                   </td><td>26 </td><td>0.9803279</td><td>3.743382e-09</td><td>1.062431e-07</td></tr>\n",
       "\t<tr><td>REACTOME_PEPTIDE_CHAIN_ELONGATION                                                                             </td><td>707</td><td>0.9997656</td><td>1.032655e-15</td><td>1.012472e-13</td></tr>\n",
       "\t<tr><td>KEGG_RIBOSOME                                                                                                 </td><td>707</td><td>0.9566363</td><td>2.047765e-13</td><td>1.472343e-11</td></tr>\n",
       "\t<tr><td>MIPS_40S_RIBOSOMAL_SUBUNIT_CYTOPLASMIC                                                                        </td><td>707</td><td>0.9977679</td><td>6.831719e-07</td><td>1.351928e-05</td></tr>\n",
       "\t<tr><td>MIPS_RIBOSOME_CYTOPLASMIC                                                                                     </td><td>707</td><td>0.9995303</td><td>7.948872e-15</td><td>7.144049e-13</td></tr>\n",
       "\t<tr><td>REACTOME_ACTIVATION_OF_THE_MRNA_UPON_BINDING_OF_THE_CAP_BINDING_COMPLEX_AND_EIFS_AND_SUBSEQUENT_BINDING_TO_43S</td><td>707</td><td>0.8645801</td><td>8.299737e-07</td><td>1.612841e-05</td></tr>\n",
       "</tbody>\n",
       "</table>\n"
      ],
      "text/latex": [
       "A data.frame: 8 × 5\n",
       "\\begin{tabular}{lllll}\n",
       " pathway & LV index & AUC & p-value & FDR\\\\\n",
       " <chr> & <chr> & <dbl> & <dbl> & <dbl>\\\\\n",
       "\\hline\n",
       "\t IRIS\\_DendriticCell-Control                                                                                     & 26  & 0.7741243 & 8.082947e-14 & 6.226756e-12\\\\\n",
       "\t SVM Macrophages M2                                                                                             & 26  & 0.7896932 & 5.503019e-04 & 4.600780e-03\\\\\n",
       "\t SVM Dendritic cells resting                                                                                    & 26  & 0.9803279 & 3.743382e-09 & 1.062431e-07\\\\\n",
       "\t REACTOME\\_PEPTIDE\\_CHAIN\\_ELONGATION                                                                              & 707 & 0.9997656 & 1.032655e-15 & 1.012472e-13\\\\\n",
       "\t KEGG\\_RIBOSOME                                                                                                  & 707 & 0.9566363 & 2.047765e-13 & 1.472343e-11\\\\\n",
       "\t MIPS\\_40S\\_RIBOSOMAL\\_SUBUNIT\\_CYTOPLASMIC                                                                         & 707 & 0.9977679 & 6.831719e-07 & 1.351928e-05\\\\\n",
       "\t MIPS\\_RIBOSOME\\_CYTOPLASMIC                                                                                      & 707 & 0.9995303 & 7.948872e-15 & 7.144049e-13\\\\\n",
       "\t REACTOME\\_ACTIVATION\\_OF\\_THE\\_MRNA\\_UPON\\_BINDING\\_OF\\_THE\\_CAP\\_BINDING\\_COMPLEX\\_AND\\_EIFS\\_AND\\_SUBSEQUENT\\_BINDING\\_TO\\_43S & 707 & 0.8645801 & 8.299737e-07 & 1.612841e-05\\\\\n",
       "\\end{tabular}\n"
      ],
      "text/markdown": [
       "\n",
       "A data.frame: 8 × 5\n",
       "\n",
       "| pathway &lt;chr&gt; | LV index &lt;chr&gt; | AUC &lt;dbl&gt; | p-value &lt;dbl&gt; | FDR &lt;dbl&gt; |\n",
       "|---|---|---|---|---|\n",
       "| IRIS_DendriticCell-Control                                                                                     | 26  | 0.7741243 | 8.082947e-14 | 6.226756e-12 |\n",
       "| SVM Macrophages M2                                                                                             | 26  | 0.7896932 | 5.503019e-04 | 4.600780e-03 |\n",
       "| SVM Dendritic cells resting                                                                                    | 26  | 0.9803279 | 3.743382e-09 | 1.062431e-07 |\n",
       "| REACTOME_PEPTIDE_CHAIN_ELONGATION                                                                              | 707 | 0.9997656 | 1.032655e-15 | 1.012472e-13 |\n",
       "| KEGG_RIBOSOME                                                                                                  | 707 | 0.9566363 | 2.047765e-13 | 1.472343e-11 |\n",
       "| MIPS_40S_RIBOSOMAL_SUBUNIT_CYTOPLASMIC                                                                         | 707 | 0.9977679 | 6.831719e-07 | 1.351928e-05 |\n",
       "| MIPS_RIBOSOME_CYTOPLASMIC                                                                                      | 707 | 0.9995303 | 7.948872e-15 | 7.144049e-13 |\n",
       "| REACTOME_ACTIVATION_OF_THE_MRNA_UPON_BINDING_OF_THE_CAP_BINDING_COMPLEX_AND_EIFS_AND_SUBSEQUENT_BINDING_TO_43S | 707 | 0.8645801 | 8.299737e-07 | 1.612841e-05 |\n",
       "\n"
      ],
      "text/plain": [
       "  pathway                                                                                                       \n",
       "1 IRIS_DendriticCell-Control                                                                                    \n",
       "2 SVM Macrophages M2                                                                                            \n",
       "3 SVM Dendritic cells resting                                                                                   \n",
       "4 REACTOME_PEPTIDE_CHAIN_ELONGATION                                                                             \n",
       "5 KEGG_RIBOSOME                                                                                                 \n",
       "6 MIPS_40S_RIBOSOMAL_SUBUNIT_CYTOPLASMIC                                                                        \n",
       "7 MIPS_RIBOSOME_CYTOPLASMIC                                                                                     \n",
       "8 REACTOME_ACTIVATION_OF_THE_MRNA_UPON_BINDING_OF_THE_CAP_BINDING_COMPLEX_AND_EIFS_AND_SUBSEQUENT_BINDING_TO_43S\n",
       "  LV index AUC       p-value      FDR         \n",
       "1 26       0.7741243 8.082947e-14 6.226756e-12\n",
       "2 26       0.7896932 5.503019e-04 4.600780e-03\n",
       "3 26       0.9803279 3.743382e-09 1.062431e-07\n",
       "4 707      0.9997656 1.032655e-15 1.012472e-13\n",
       "5 707      0.9566363 2.047765e-13 1.472343e-11\n",
       "6 707      0.9977679 6.831719e-07 1.351928e-05\n",
       "7 707      0.9995303 7.948872e-15 7.144049e-13\n",
       "8 707      0.8645801 8.299737e-07 1.612841e-05"
      ]
     },
     "metadata": {},
     "output_type": "display_data"
    }
   ],
   "source": [
    "int_lvs = c(481,\n",
    "            219,\n",
    "            737,\n",
    "            26,\n",
    "            707,\n",
    "            281)\n",
    "\n",
    "multiplier_summary %>% \n",
    "dplyr::filter(`LV index` %in% int_lvs) %>%\n",
    "dplyr::filter(FDR < 0.05 & AUC > 0.7)"
   ]
  }
 ],
 "metadata": {
  "kernelspec": {
   "display_name": "R",
   "language": "R",
   "name": "ir"
  },
  "language_info": {
   "codemirror_mode": "r",
   "file_extension": ".r",
   "mimetype": "text/x-r-source",
   "name": "R",
   "pygments_lexer": "r",
   "version": "4.3.3"
  }
 },
 "nbformat": 4,
 "nbformat_minor": 5
}
