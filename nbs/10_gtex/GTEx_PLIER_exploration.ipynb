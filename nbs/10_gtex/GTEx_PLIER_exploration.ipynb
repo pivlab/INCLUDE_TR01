{
 "cells": [
  {
   "cell_type": "markdown",
   "id": "fda5e692-a656-47f0-b9e0-fbdb57a78ca9",
   "metadata": {
    "editable": true,
    "papermill": {
     "duration": 0.002293,
     "end_time": "2024-03-05T15:45:25.537447",
     "exception": false,
     "start_time": "2024-03-05T15:45:25.535154",
     "status": "completed"
    },
    "slideshow": {
     "slide_type": ""
    },
    "tags": []
   },
   "source": [
    "# GTEX PLIER exploratory analyses"
   ]
  },
  {
   "cell_type": "markdown",
   "id": "bbcdf2bf-0c04-4dae-855f-809a75b7efba",
   "metadata": {
    "papermill": {
     "duration": 0.00179,
     "end_time": "2024-03-05T15:45:25.548847",
     "exception": false,
     "start_time": "2024-03-05T15:45:25.547057",
     "status": "completed"
    },
    "tags": []
   },
   "source": [
    "**TODO** add description"
   ]
  },
  {
   "cell_type": "markdown",
   "id": "e152a313-9615-45ba-ac42-ba3cd93baf45",
   "metadata": {
    "papermill": {
     "duration": 0.001384,
     "end_time": "2024-03-05T15:45:25.551556",
     "exception": false,
     "start_time": "2024-03-05T15:45:25.550172",
     "status": "completed"
    },
    "tags": []
   },
   "source": [
    "## Settings and paths"
   ]
  },
  {
   "cell_type": "code",
   "execution_count": 1,
   "id": "26670112-39dd-401c-9bbd-8f0ec210b5c9",
   "metadata": {
    "editable": true,
    "papermill": {
     "duration": 0.023643,
     "end_time": "2024-03-05T15:45:25.576874",
     "exception": false,
     "start_time": "2024-03-05T15:45:25.553231",
     "status": "completed"
    },
    "slideshow": {
     "slide_type": ""
    },
    "tags": [
     "parameters"
    ]
   },
   "outputs": [],
   "source": [
    "INPUT_PLIER_MODEL_FILE = NULL "
   ]
  },
  {
   "cell_type": "code",
   "execution_count": 2,
   "id": "b7169dae",
   "metadata": {
    "editable": true,
    "execution": {
     "iopub.execute_input": "2024-03-05T15:45:25.599429Z",
     "iopub.status.busy": "2024-03-05T15:45:25.581193Z",
     "iopub.status.idle": "2024-03-05T15:45:25.606320Z",
     "shell.execute_reply": "2024-03-05T15:45:25.605384Z"
    },
    "papermill": {
     "duration": 0.02919,
     "end_time": "2024-03-05T15:45:25.607710",
     "exception": false,
     "start_time": "2024-03-05T15:45:25.578520",
     "status": "completed"
    },
    "slideshow": {
     "slide_type": ""
    },
    "tags": [
     "injected-parameters"
    ]
   },
   "outputs": [],
   "source": [
    "# Parameters\n",
    "INPUT_PLIER_MODEL_FILE = \"output/gtex/gtex_plier.rds\"\n"
   ]
  },
  {
   "cell_type": "code",
   "execution_count": 3,
   "id": "52cbfe9c-1a19-41e5-bfff-0f57d0bb3c8f",
   "metadata": {
    "editable": true,
    "execution": {
     "iopub.execute_input": "2024-03-05T15:45:25.613154Z",
     "iopub.status.busy": "2024-03-05T15:45:25.612260Z",
     "iopub.status.idle": "2024-03-05T15:45:25.618139Z",
     "shell.execute_reply": "2024-03-05T15:45:25.617263Z"
    },
    "papermill": {
     "duration": 0.009853,
     "end_time": "2024-03-05T15:45:25.619243",
     "exception": false,
     "start_time": "2024-03-05T15:45:25.609390",
     "status": "completed"
    },
    "slideshow": {
     "slide_type": ""
    },
    "tags": []
   },
   "outputs": [],
   "source": [
    "library(assertthat)\n",
    "assert_that(!is.null(INPUT_PLIER_MODEL_FILE), msg = \"Input PLIER model was not specified\")\n"
   ]
  },
  {
   "cell_type": "markdown",
   "id": "5492e398-4dab-40aa-8eb0-563d2ce467d2",
   "metadata": {
    "editable": true,
    "papermill": {
     "duration": 0.001573,
     "end_time": "2024-03-05T15:45:25.622514",
     "exception": false,
     "start_time": "2024-03-05T15:45:25.620941",
     "status": "completed"
    },
    "slideshow": {
     "slide_type": ""
    },
    "tags": []
   },
   "source": [
    "## Load libraries and data"
   ]
  },
  {
   "cell_type": "code",
   "execution_count": 5,
   "id": "cfa7b91a-fe78-4ee8-b4d7-479d5fb06fff",
   "metadata": {
    "editable": true,
    "execution": {
     "iopub.execute_input": "2024-03-05T15:45:30.209124Z",
     "iopub.status.busy": "2024-03-05T15:45:30.208405Z",
     "iopub.status.idle": "2024-03-05T15:45:30.213626Z",
     "shell.execute_reply": "2024-03-05T15:45:30.212921Z"
    },
    "papermill": {
     "duration": 0.017807,
     "end_time": "2024-03-05T15:45:30.214836",
     "exception": false,
     "start_time": "2024-03-05T15:45:30.197029",
     "status": "completed"
    },
    "scrolled": true,
    "slideshow": {
     "slide_type": ""
    },
    "tags": []
   },
   "outputs": [],
   "source": [
    "library(PLIER)\n",
    "library(ggplot2)\n",
    "library(assertthat)"
   ]
  },
  {
   "cell_type": "markdown",
   "id": "84bf38d4-510a-4235-8976-46c0d12afce7",
   "metadata": {
    "editable": true,
    "papermill": {
     "duration": 0.002579,
     "end_time": "2024-03-05T15:45:30.220242",
     "exception": false,
     "start_time": "2024-03-05T15:45:30.217663",
     "status": "completed"
    },
    "slideshow": {
     "slide_type": ""
    },
    "tags": []
   },
   "source": [
    "## U matrix"
   ]
  },
  {
   "cell_type": "markdown",
   "id": "39825d54-4529-4d6a-b177-e7a15bba75aa",
   "metadata": {
    "editable": true,
    "papermill": {
     "duration": 0.002592,
     "end_time": "2024-03-05T15:45:30.225610",
     "exception": false,
     "start_time": "2024-03-05T15:45:30.223018",
     "status": "completed"
    },
    "slideshow": {
     "slide_type": ""
    },
    "tags": []
   },
   "source": [
    "### All LVs"
   ]
  },
  {
   "cell_type": "code",
   "execution_count": 6,
   "id": "4791f208-13f3-45e7-85fe-088f36e50b5c",
   "metadata": {
    "editable": true,
    "execution": {
     "iopub.execute_input": "2024-03-05T15:45:30.233151Z",
     "iopub.status.busy": "2024-03-05T15:45:30.232456Z",
     "iopub.status.idle": "2024-03-05T15:45:30.240272Z",
     "shell.execute_reply": "2024-03-05T15:45:30.239573Z"
    },
    "papermill": {
     "duration": 0.013326,
     "end_time": "2024-03-05T15:45:30.241690",
     "exception": false,
     "start_time": "2024-03-05T15:45:30.228364",
     "status": "completed"
    },
    "slideshow": {
     "slide_type": ""
    },
    "tags": []
   },
   "outputs": [
    {
     "data": {
      "text/html": [
       "1042"
      ],
      "text/latex": [
       "1042"
      ],
      "text/markdown": [
       "1042"
      ],
      "text/plain": [
       "[1] 1042"
      ]
     },
     "metadata": {},
     "output_type": "display_data"
    }
   ],
   "source": [
    "num_lvs <- nrow(gtex_plier_results$B)\n",
    "num_lvs"
   ]
  },
  {
   "cell_type": "code",
   "execution_count": 7,
   "id": "32edc5ca-dbf9-4c70-8e05-9ba34ad875b1",
   "metadata": {
    "editable": true,
    "execution": {
     "iopub.execute_input": "2024-03-05T15:45:30.249309Z",
     "iopub.status.busy": "2024-03-05T15:45:30.248721Z",
     "iopub.status.idle": "2024-03-05T15:45:30.254863Z",
     "shell.execute_reply": "2024-03-05T15:45:30.254156Z"
    },
    "papermill": {
     "duration": 0.0113,
     "end_time": "2024-03-05T15:45:30.256003",
     "exception": false,
     "start_time": "2024-03-05T15:45:30.244703",
     "status": "completed"
    },
    "slideshow": {
     "slide_type": ""
    },
    "tags": []
   },
   "outputs": [
    {
     "data": {
      "text/html": [
       "1042"
      ],
      "text/latex": [
       "1042"
      ],
      "text/markdown": [
       "1042"
      ],
      "text/plain": [
       "[1] 1042"
      ]
     },
     "metadata": {},
     "output_type": "display_data"
    }
   ],
   "source": [
    "num_lvs"
   ]
  }
 ],
 "metadata": {
  "kernelspec": {
   "display_name": "R",
   "language": "R",
   "name": "ir"
  },
  "language_info": {
   "codemirror_mode": "r",
   "file_extension": ".r",
   "mimetype": "text/x-r-source",
   "name": "R",
   "pygments_lexer": "r",
   "version": "4.3.3"
  },
  "papermill": {
   "default_parameters": {},
   "duration": 5.728376,
   "end_time": "2024-03-05T15:45:30.375240",
   "environment_variables": {},
   "exception": null,
   "input_path": "nbs/10_gtex/GTEx_PLIER_exploration.ipynb",
   "output_path": "nbs/10_gtex/GTEx_PLIER_exploration.run.ipynb",
   "parameters": {
    "INPUT_PLIER_MODEL_FILE": "output/gtex/gtex_plier.rds"
   },
   "start_time": "2024-03-05T15:45:24.646864",
   "version": "2.3.4"
  }
 },
 "nbformat": 4,
 "nbformat_minor": 5
}
