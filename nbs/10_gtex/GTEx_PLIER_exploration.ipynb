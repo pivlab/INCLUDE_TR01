{
 "cells": [
  {
   "cell_type": "markdown",
   "id": "fda5e692-a656-47f0-b9e0-fbdb57a78ca9",
   "metadata": {
    "editable": true,
    "papermill": {
     "duration": 0.002293,
     "end_time": "2024-03-05T15:45:25.537447",
     "exception": false,
     "start_time": "2024-03-05T15:45:25.535154",
     "status": "completed"
    },
    "slideshow": {
     "slide_type": ""
    },
    "tags": []
   },
   "source": [
    "# GTEX PLIER exploratory analyses"
   ]
  },
  {
   "cell_type": "markdown",
   "id": "bbcdf2bf-0c04-4dae-855f-809a75b7efba",
   "metadata": {
    "papermill": {
     "duration": 0.00179,
     "end_time": "2024-03-05T15:45:25.548847",
     "exception": false,
     "start_time": "2024-03-05T15:45:25.547057",
     "status": "completed"
    },
    "tags": []
   },
   "source": [
    "Marc Subirana-Granés (2024)\n",
    "\n",
    "Pathway Level Information ExtractoR (PLIER) (Mao, et al. bioRxiv. 2017.) is a framework that explicitly aligns latent variables (LVs) with prior knowledge in the form of (often curated) gene sets. Comparisons of PLIER to other methods (e.g., sparse PCA) and other evaluations can be found in the PLIER preprint.\n",
    "\n",
    "We’re going to explore the recount2 dataset and the corresponding PLIER model. (See greenelab/rheum-plier-data for the processing code.) We’re interested in coming up with ways to characterize PLIER models (and eventually compare them)"
   ]
  },
  {
   "cell_type": "markdown",
   "id": "e152a313-9615-45ba-ac42-ba3cd93baf45",
   "metadata": {
    "papermill": {
     "duration": 0.001384,
     "end_time": "2024-03-05T15:45:25.551556",
     "exception": false,
     "start_time": "2024-03-05T15:45:25.550172",
     "status": "completed"
    },
    "tags": []
   },
   "source": [
    "## Settings and paths"
   ]
  },
  {
   "cell_type": "code",
   "execution_count": 12,
   "id": "26670112-39dd-401c-9bbd-8f0ec210b5c9",
   "metadata": {
    "editable": true,
    "papermill": {
     "duration": 0.023643,
     "end_time": "2024-03-05T15:45:25.576874",
     "exception": false,
     "start_time": "2024-03-05T15:45:25.553231",
     "status": "completed"
    },
    "slideshow": {
     "slide_type": ""
    },
    "tags": [
     "parameters"
    ]
   },
   "outputs": [],
   "source": [
    "INPUT_PLIER_MODEL_FILE = NULL "
   ]
  },
  {
   "cell_type": "markdown",
   "id": "5492e398-4dab-40aa-8eb0-563d2ce467d2",
   "metadata": {
    "editable": true,
    "papermill": {
     "duration": 0.001573,
     "end_time": "2024-03-05T15:45:25.622514",
     "exception": false,
     "start_time": "2024-03-05T15:45:25.620941",
     "status": "completed"
    },
    "slideshow": {
     "slide_type": ""
    },
    "tags": []
   },
   "source": [
    "## Load libraries and data"
   ]
  },
  {
   "cell_type": "code",
   "execution_count": 13,
   "id": "cfa7b91a-fe78-4ee8-b4d7-479d5fb06fff",
   "metadata": {
    "editable": true,
    "papermill": {
     "duration": 0.017807,
     "end_time": "2024-03-05T15:45:30.214836",
     "exception": false,
     "start_time": "2024-03-05T15:45:30.197029",
     "status": "completed"
    },
    "scrolled": true,
    "slideshow": {
     "slide_type": ""
    },
    "tags": []
   },
   "outputs": [],
   "source": [
    "library(PLIER)\n",
    "library(ggplot2)\n",
    "library(assertthat)\n",
    "\n",
    "INPUT_PLIER_MODEL_FILE='output/gtex/gtex_plier.rds'"
   ]
  },
  {
   "cell_type": "code",
   "execution_count": 14,
   "id": "621bc5a6-76bb-4c5f-85c4-29f9b0a49dde",
   "metadata": {},
   "outputs": [
    {
     "data": {
      "text/html": [
       "TRUE"
      ],
      "text/latex": [
       "TRUE"
      ],
      "text/markdown": [
       "TRUE"
      ],
      "text/plain": [
       "[1] TRUE"
      ]
     },
     "metadata": {},
     "output_type": "display_data"
    }
   ],
   "source": [
    "assert_that(!is.null(INPUT_PLIER_MODEL_FILE), msg = \"Input PLIER model was not specified\")"
   ]
  },
  {
   "cell_type": "markdown",
   "id": "84bf38d4-510a-4235-8976-46c0d12afce7",
   "metadata": {
    "editable": true,
    "papermill": {
     "duration": 0.002579,
     "end_time": "2024-03-05T15:45:30.220242",
     "exception": false,
     "start_time": "2024-03-05T15:45:30.217663",
     "status": "completed"
    },
    "slideshow": {
     "slide_type": ""
    },
    "tags": []
   },
   "source": [
    "## U matrix"
   ]
  },
  {
   "cell_type": "markdown",
   "id": "39825d54-4529-4d6a-b177-e7a15bba75aa",
   "metadata": {
    "editable": true,
    "papermill": {
     "duration": 0.002592,
     "end_time": "2024-03-05T15:45:30.225610",
     "exception": false,
     "start_time": "2024-03-05T15:45:30.223018",
     "status": "completed"
    },
    "slideshow": {
     "slide_type": ""
    },
    "tags": []
   },
   "source": [
    "### All LVs"
   ]
  },
  {
   "cell_type": "code",
   "execution_count": 15,
   "id": "4791f208-13f3-45e7-85fe-088f36e50b5c",
   "metadata": {
    "editable": true,
    "papermill": {
     "duration": 0.013326,
     "end_time": "2024-03-05T15:45:30.241690",
     "exception": false,
     "start_time": "2024-03-05T15:45:30.228364",
     "status": "completed"
    },
    "slideshow": {
     "slide_type": ""
    },
    "tags": []
   },
   "outputs": [
    {
     "data": {
      "text/html": [
       "1042"
      ],
      "text/latex": [
       "1042"
      ],
      "text/markdown": [
       "1042"
      ],
      "text/plain": [
       "[1] 1042"
      ]
     },
     "metadata": {},
     "output_type": "display_data"
    }
   ],
   "source": [
    "gtex_plier_results=readRDS(here::here(INPUT_PLIER_MODEL_FILE))\n",
    "num_lvs <- nrow(gtex_plier_results$B)\n",
    "num_lvs"
   ]
  },
  {
   "cell_type": "code",
   "execution_count": 16,
   "id": "32edc5ca-dbf9-4c70-8e05-9ba34ad875b1",
   "metadata": {
    "editable": true,
    "papermill": {
     "duration": 0.0113,
     "end_time": "2024-03-05T15:45:30.256003",
     "exception": false,
     "start_time": "2024-03-05T15:45:30.244703",
     "status": "completed"
    },
    "slideshow": {
     "slide_type": ""
    },
    "tags": []
   },
   "outputs": [
    {
     "data": {
      "text/html": [
       "1042"
      ],
      "text/latex": [
       "1042"
      ],
      "text/markdown": [
       "1042"
      ],
      "text/plain": [
       "[1] 1042"
      ]
     },
     "metadata": {},
     "output_type": "display_data"
    }
   ],
   "source": [
    "num_lvs"
   ]
  },
  {
   "cell_type": "code",
   "execution_count": 18,
   "id": "85a59b9f-f2ac-411c-a360-da5f162fa9f5",
   "metadata": {},
   "outputs": [
    {
     "data": {
      "text/html": [
       "<table class=\"dataframe\">\n",
       "<caption>A matrix: 6 × 1042 of type dbl</caption>\n",
       "<thead>\n",
       "\t<tr><th></th><th scope=col>LV1</th><th scope=col>LV2</th><th scope=col>LV3</th><th scope=col>LV4</th><th scope=col>LV5</th><th scope=col>LV6</th><th scope=col>LV7</th><th scope=col>LV8</th><th scope=col>LV9</th><th scope=col>LV10</th><th scope=col>⋯</th><th scope=col>LV1033</th><th scope=col>LV1034</th><th scope=col>LV1035</th><th scope=col>LV1036</th><th scope=col>LV1037</th><th scope=col>LV1038</th><th scope=col>LV1039</th><th scope=col>LV1040</th><th scope=col>LV1041</th><th scope=col>LV1042</th></tr>\n",
       "</thead>\n",
       "<tbody>\n",
       "\t<tr><th scope=row>IRIS_Bcell-Memory_IgG_IgA</th><td>0</td><td>0</td><td>0</td><td>0.0000000</td><td>0</td><td>0</td><td>0</td><td>0</td><td>0</td><td>0</td><td>⋯</td><td>0</td><td>0</td><td>0</td><td>0</td><td>0</td><td>0</td><td>0</td><td>0</td><td>0</td><td>0</td></tr>\n",
       "\t<tr><th scope=row>IRIS_Bcell-Memory_IgM</th><td>0</td><td>0</td><td>0</td><td>0.0000000</td><td>0</td><td>0</td><td>0</td><td>0</td><td>0</td><td>0</td><td>⋯</td><td>0</td><td>0</td><td>0</td><td>0</td><td>0</td><td>0</td><td>0</td><td>0</td><td>0</td><td>0</td></tr>\n",
       "\t<tr><th scope=row>IRIS_Bcell-naive</th><td>0</td><td>0</td><td>0</td><td>0.0000000</td><td>0</td><td>0</td><td>0</td><td>0</td><td>0</td><td>0</td><td>⋯</td><td>0</td><td>0</td><td>0</td><td>0</td><td>0</td><td>0</td><td>0</td><td>0</td><td>0</td><td>0</td></tr>\n",
       "\t<tr><th scope=row>IRIS_CD4Tcell-N0</th><td>0</td><td>0</td><td>0</td><td>0.0000000</td><td>0</td><td>0</td><td>0</td><td>0</td><td>0</td><td>0</td><td>⋯</td><td>0</td><td>0</td><td>0</td><td>0</td><td>0</td><td>0</td><td>0</td><td>0</td><td>0</td><td>0</td></tr>\n",
       "\t<tr><th scope=row>IRIS_CD4Tcell-Th1-restimulated12hour</th><td>0</td><td>0</td><td>0</td><td>0.0000000</td><td>0</td><td>0</td><td>0</td><td>0</td><td>0</td><td>0</td><td>⋯</td><td>0</td><td>0</td><td>0</td><td>0</td><td>0</td><td>0</td><td>0</td><td>0</td><td>0</td><td>0</td></tr>\n",
       "\t<tr><th scope=row>IRIS_CD4Tcell-Th1-restimulated48hour</th><td>0</td><td>0</td><td>0</td><td>0.1697034</td><td>0</td><td>0</td><td>0</td><td>0</td><td>0</td><td>0</td><td>⋯</td><td>0</td><td>0</td><td>0</td><td>0</td><td>0</td><td>0</td><td>0</td><td>0</td><td>0</td><td>0</td></tr>\n",
       "</tbody>\n",
       "</table>\n"
      ],
      "text/latex": [
       "A matrix: 6 × 1042 of type dbl\n",
       "\\begin{tabular}{r|lllllllllllllllllllll}\n",
       "  & LV1 & LV2 & LV3 & LV4 & LV5 & LV6 & LV7 & LV8 & LV9 & LV10 & ⋯ & LV1033 & LV1034 & LV1035 & LV1036 & LV1037 & LV1038 & LV1039 & LV1040 & LV1041 & LV1042\\\\\n",
       "\\hline\n",
       "\tIRIS\\_Bcell-Memory\\_IgG\\_IgA & 0 & 0 & 0 & 0.0000000 & 0 & 0 & 0 & 0 & 0 & 0 & ⋯ & 0 & 0 & 0 & 0 & 0 & 0 & 0 & 0 & 0 & 0\\\\\n",
       "\tIRIS\\_Bcell-Memory\\_IgM & 0 & 0 & 0 & 0.0000000 & 0 & 0 & 0 & 0 & 0 & 0 & ⋯ & 0 & 0 & 0 & 0 & 0 & 0 & 0 & 0 & 0 & 0\\\\\n",
       "\tIRIS\\_Bcell-naive & 0 & 0 & 0 & 0.0000000 & 0 & 0 & 0 & 0 & 0 & 0 & ⋯ & 0 & 0 & 0 & 0 & 0 & 0 & 0 & 0 & 0 & 0\\\\\n",
       "\tIRIS\\_CD4Tcell-N0 & 0 & 0 & 0 & 0.0000000 & 0 & 0 & 0 & 0 & 0 & 0 & ⋯ & 0 & 0 & 0 & 0 & 0 & 0 & 0 & 0 & 0 & 0\\\\\n",
       "\tIRIS\\_CD4Tcell-Th1-restimulated12hour & 0 & 0 & 0 & 0.0000000 & 0 & 0 & 0 & 0 & 0 & 0 & ⋯ & 0 & 0 & 0 & 0 & 0 & 0 & 0 & 0 & 0 & 0\\\\\n",
       "\tIRIS\\_CD4Tcell-Th1-restimulated48hour & 0 & 0 & 0 & 0.1697034 & 0 & 0 & 0 & 0 & 0 & 0 & ⋯ & 0 & 0 & 0 & 0 & 0 & 0 & 0 & 0 & 0 & 0\\\\\n",
       "\\end{tabular}\n"
      ],
      "text/markdown": [
       "\n",
       "A matrix: 6 × 1042 of type dbl\n",
       "\n",
       "| <!--/--> | LV1 | LV2 | LV3 | LV4 | LV5 | LV6 | LV7 | LV8 | LV9 | LV10 | ⋯ | LV1033 | LV1034 | LV1035 | LV1036 | LV1037 | LV1038 | LV1039 | LV1040 | LV1041 | LV1042 |\n",
       "|---|---|---|---|---|---|---|---|---|---|---|---|---|---|---|---|---|---|---|---|---|---|\n",
       "| IRIS_Bcell-Memory_IgG_IgA | 0 | 0 | 0 | 0.0000000 | 0 | 0 | 0 | 0 | 0 | 0 | ⋯ | 0 | 0 | 0 | 0 | 0 | 0 | 0 | 0 | 0 | 0 |\n",
       "| IRIS_Bcell-Memory_IgM | 0 | 0 | 0 | 0.0000000 | 0 | 0 | 0 | 0 | 0 | 0 | ⋯ | 0 | 0 | 0 | 0 | 0 | 0 | 0 | 0 | 0 | 0 |\n",
       "| IRIS_Bcell-naive | 0 | 0 | 0 | 0.0000000 | 0 | 0 | 0 | 0 | 0 | 0 | ⋯ | 0 | 0 | 0 | 0 | 0 | 0 | 0 | 0 | 0 | 0 |\n",
       "| IRIS_CD4Tcell-N0 | 0 | 0 | 0 | 0.0000000 | 0 | 0 | 0 | 0 | 0 | 0 | ⋯ | 0 | 0 | 0 | 0 | 0 | 0 | 0 | 0 | 0 | 0 |\n",
       "| IRIS_CD4Tcell-Th1-restimulated12hour | 0 | 0 | 0 | 0.0000000 | 0 | 0 | 0 | 0 | 0 | 0 | ⋯ | 0 | 0 | 0 | 0 | 0 | 0 | 0 | 0 | 0 | 0 |\n",
       "| IRIS_CD4Tcell-Th1-restimulated48hour | 0 | 0 | 0 | 0.1697034 | 0 | 0 | 0 | 0 | 0 | 0 | ⋯ | 0 | 0 | 0 | 0 | 0 | 0 | 0 | 0 | 0 | 0 |\n",
       "\n"
      ],
      "text/plain": [
       "                                     LV1 LV2 LV3 LV4       LV5 LV6 LV7 LV8 LV9\n",
       "IRIS_Bcell-Memory_IgG_IgA            0   0   0   0.0000000 0   0   0   0   0  \n",
       "IRIS_Bcell-Memory_IgM                0   0   0   0.0000000 0   0   0   0   0  \n",
       "IRIS_Bcell-naive                     0   0   0   0.0000000 0   0   0   0   0  \n",
       "IRIS_CD4Tcell-N0                     0   0   0   0.0000000 0   0   0   0   0  \n",
       "IRIS_CD4Tcell-Th1-restimulated12hour 0   0   0   0.0000000 0   0   0   0   0  \n",
       "IRIS_CD4Tcell-Th1-restimulated48hour 0   0   0   0.1697034 0   0   0   0   0  \n",
       "                                     LV10 ⋯ LV1033 LV1034 LV1035 LV1036 LV1037\n",
       "IRIS_Bcell-Memory_IgG_IgA            0    ⋯ 0      0      0      0      0     \n",
       "IRIS_Bcell-Memory_IgM                0    ⋯ 0      0      0      0      0     \n",
       "IRIS_Bcell-naive                     0    ⋯ 0      0      0      0      0     \n",
       "IRIS_CD4Tcell-N0                     0    ⋯ 0      0      0      0      0     \n",
       "IRIS_CD4Tcell-Th1-restimulated12hour 0    ⋯ 0      0      0      0      0     \n",
       "IRIS_CD4Tcell-Th1-restimulated48hour 0    ⋯ 0      0      0      0      0     \n",
       "                                     LV1038 LV1039 LV1040 LV1041 LV1042\n",
       "IRIS_Bcell-Memory_IgG_IgA            0      0      0      0      0     \n",
       "IRIS_Bcell-Memory_IgM                0      0      0      0      0     \n",
       "IRIS_Bcell-naive                     0      0      0      0      0     \n",
       "IRIS_CD4Tcell-N0                     0      0      0      0      0     \n",
       "IRIS_CD4Tcell-Th1-restimulated12hour 0      0      0      0      0     \n",
       "IRIS_CD4Tcell-Th1-restimulated48hour 0      0      0      0      0     "
      ]
     },
     "metadata": {},
     "output_type": "display_data"
    }
   ],
   "source": [
    "head(gtex_plier_results$U)"
   ]
  }
 ],
 "metadata": {
  "kernelspec": {
   "display_name": "R",
   "language": "R",
   "name": "ir"
  },
  "language_info": {
   "codemirror_mode": "r",
   "file_extension": ".r",
   "mimetype": "text/x-r-source",
   "name": "R",
   "pygments_lexer": "r",
   "version": "4.3.3"
  },
  "papermill": {
   "default_parameters": {},
   "duration": 5.728376,
   "end_time": "2024-03-05T15:45:30.375240",
   "environment_variables": {},
   "exception": null,
   "input_path": "nbs/10_gtex/GTEx_PLIER_exploration.ipynb",
   "output_path": "nbs/10_gtex/GTEx_PLIER_exploration.run.ipynb",
   "parameters": {
    "INPUT_PLIER_MODEL_FILE": "output/gtex/gtex_plier.rds"
   },
   "start_time": "2024-03-05T15:45:24.646864",
   "version": "2.3.4"
  }
 },
 "nbformat": 4,
 "nbformat_minor": 5
}
