{
 "cells": [
  {
   "cell_type": "markdown",
   "id": "fda5e692-a656-47f0-b9e0-fbdb57a78ca9",
   "metadata": {
    "editable": true,
    "papermill": {
     "duration": 0.002293,
     "end_time": "2024-03-05T15:45:25.537447",
     "exception": false,
     "start_time": "2024-03-05T15:45:25.535154",
     "status": "completed"
    },
    "slideshow": {
     "slide_type": ""
    },
    "tags": []
   },
   "source": [
    "# GTEX PLIER exploratory analyses"
   ]
  },
  {
   "cell_type": "markdown",
   "id": "bbcdf2bf-0c04-4dae-855f-809a75b7efba",
   "metadata": {
    "papermill": {
     "duration": 0.00179,
     "end_time": "2024-03-05T15:45:25.548847",
     "exception": false,
     "start_time": "2024-03-05T15:45:25.547057",
     "status": "completed"
    },
    "tags": []
   },
   "source": [
    "Marc Subirana-Granés (2024)\n",
    "\n",
    "Pathway Level Information ExtractoR (PLIER) (Mao, et al. bioRxiv. 2017.) is a framework that explicitly aligns latent variables (LVs) with prior knowledge in the form of (often curated) gene sets. Comparisons of PLIER to other methods (e.g., sparse PCA) and other evaluations can be found in the PLIER preprint.\n",
    "\n",
    "We’re going to explore the GTEx dataset and the corresponding PLIER model. "
   ]
  },
  {
   "cell_type": "markdown",
   "id": "e152a313-9615-45ba-ac42-ba3cd93baf45",
   "metadata": {
    "editable": true,
    "papermill": {
     "duration": 0.001384,
     "end_time": "2024-03-05T15:45:25.551556",
     "exception": false,
     "start_time": "2024-03-05T15:45:25.550172",
     "status": "completed"
    },
    "slideshow": {
     "slide_type": ""
    },
    "tags": []
   },
   "source": [
    "## Settings and paths"
   ]
  },
  {
   "cell_type": "code",
   "execution_count": 9,
   "id": "26670112-39dd-401c-9bbd-8f0ec210b5c9",
   "metadata": {
    "editable": true,
    "papermill": {
     "duration": 0.023643,
     "end_time": "2024-03-05T15:45:25.576874",
     "exception": false,
     "start_time": "2024-03-05T15:45:25.553231",
     "status": "completed"
    },
    "slideshow": {
     "slide_type": ""
    },
    "tags": [
     "parameters"
    ]
   },
   "outputs": [],
   "source": [
    "INPUT_PLIER_MODEL_FILE = NULL "
   ]
  },
  {
   "cell_type": "markdown",
   "id": "5492e398-4dab-40aa-8eb0-563d2ce467d2",
   "metadata": {
    "editable": true,
    "papermill": {
     "duration": 0.001573,
     "end_time": "2024-03-05T15:45:25.622514",
     "exception": false,
     "start_time": "2024-03-05T15:45:25.620941",
     "status": "completed"
    },
    "slideshow": {
     "slide_type": ""
    },
    "tags": []
   },
   "source": [
    "## Load libraries and data"
   ]
  },
  {
   "cell_type": "code",
   "execution_count": 10,
   "id": "cfa7b91a-fe78-4ee8-b4d7-479d5fb06fff",
   "metadata": {
    "editable": true,
    "papermill": {
     "duration": 0.017807,
     "end_time": "2024-03-05T15:45:30.214836",
     "exception": false,
     "start_time": "2024-03-05T15:45:30.197029",
     "status": "completed"
    },
    "scrolled": true,
    "slideshow": {
     "slide_type": ""
    },
    "tags": []
   },
   "outputs": [],
   "source": [
    "library(PLIER)\n",
    "library(ggplot2)\n",
    "library(assertthat)\n",
    "\n",
    "source(here::here('scripts/plier_util.R'))\n",
    "INPUT_PLIER_MODEL_FILE='output/gtex/gtex_plier.rds'"
   ]
  },
  {
   "cell_type": "code",
   "execution_count": 11,
   "id": "621bc5a6-76bb-4c5f-85c4-29f9b0a49dde",
   "metadata": {},
   "outputs": [
    {
     "data": {
      "text/html": [
       "TRUE"
      ],
      "text/latex": [
       "TRUE"
      ],
      "text/markdown": [
       "TRUE"
      ],
      "text/plain": [
       "[1] TRUE"
      ]
     },
     "metadata": {},
     "output_type": "display_data"
    }
   ],
   "source": [
    "assert_that(!is.null(INPUT_PLIER_MODEL_FILE), msg = \"Input PLIER model was not specified\")"
   ]
  },
  {
   "cell_type": "raw",
   "id": "2c8f73b1-8f97-48be-a05b-c1c0241db2e7",
   "metadata": {},
   "source": [
    "Gene loadings (Z) or the latent space (B)"
   ]
  },
  {
   "cell_type": "code",
   "execution_count": 12,
   "id": "4791f208-13f3-45e7-85fe-088f36e50b5c",
   "metadata": {
    "editable": true,
    "papermill": {
     "duration": 0.013326,
     "end_time": "2024-03-05T15:45:30.241690",
     "exception": false,
     "start_time": "2024-03-05T15:45:30.228364",
     "status": "completed"
    },
    "slideshow": {
     "slide_type": ""
    },
    "tags": []
   },
   "outputs": [
    {
     "data": {
      "text/html": [
       "1042"
      ],
      "text/latex": [
       "1042"
      ],
      "text/markdown": [
       "1042"
      ],
      "text/plain": [
       "[1] 1042"
      ]
     },
     "metadata": {},
     "output_type": "display_data"
    }
   ],
   "source": [
    "gtex_plier_results=readRDS(here::here(INPUT_PLIER_MODEL_FILE))\n",
    "num_lvs <- nrow(gtex_plier_results$B)\n",
    "matrixU <- gtex_plier_results$U\n",
    "matrixZ <- gtex_plier_results$Z\n",
    "matrixB <- gtex_plier_results$B"
   ]
  },
  {
   "cell_type": "markdown",
   "id": "84bf38d4-510a-4235-8976-46c0d12afce7",
   "metadata": {
    "editable": true,
    "papermill": {
     "duration": 0.002579,
     "end_time": "2024-03-05T15:45:30.220242",
     "exception": false,
     "start_time": "2024-03-05T15:45:30.217663",
     "status": "completed"
    },
    "slideshow": {
     "slide_type": ""
    },
    "tags": []
   },
   "source": [
    "## Matrix U (gene sets x LVs)"
   ]
  },
  {
   "cell_type": "code",
   "execution_count": 13,
   "id": "b478ead0-d08b-43ac-ad60-6819ed42155a",
   "metadata": {
    "scrolled": true
   },
   "outputs": [
    {
     "data": {
      "text/html": [
       "<table class=\"dataframe\">\n",
       "<caption>A matrix: 6 × 1042 of type dbl</caption>\n",
       "<thead>\n",
       "\t<tr><th></th><th scope=col>LV1</th><th scope=col>LV2</th><th scope=col>LV3</th><th scope=col>LV4</th><th scope=col>LV5</th><th scope=col>LV6</th><th scope=col>LV7</th><th scope=col>LV8</th><th scope=col>LV9</th><th scope=col>LV10</th><th scope=col>⋯</th><th scope=col>LV1033</th><th scope=col>LV1034</th><th scope=col>LV1035</th><th scope=col>LV1036</th><th scope=col>LV1037</th><th scope=col>LV1038</th><th scope=col>LV1039</th><th scope=col>LV1040</th><th scope=col>LV1041</th><th scope=col>LV1042</th></tr>\n",
       "</thead>\n",
       "<tbody>\n",
       "\t<tr><th scope=row>IRIS_Bcell-Memory_IgG_IgA</th><td>0</td><td>0</td><td>0</td><td>0.0000000</td><td>0</td><td>0</td><td>0</td><td>0</td><td>0</td><td>0</td><td>⋯</td><td>0</td><td>0</td><td>0</td><td>0</td><td>0</td><td>0</td><td>0</td><td>0</td><td>0</td><td>0</td></tr>\n",
       "\t<tr><th scope=row>IRIS_Bcell-Memory_IgM</th><td>0</td><td>0</td><td>0</td><td>0.0000000</td><td>0</td><td>0</td><td>0</td><td>0</td><td>0</td><td>0</td><td>⋯</td><td>0</td><td>0</td><td>0</td><td>0</td><td>0</td><td>0</td><td>0</td><td>0</td><td>0</td><td>0</td></tr>\n",
       "\t<tr><th scope=row>IRIS_Bcell-naive</th><td>0</td><td>0</td><td>0</td><td>0.0000000</td><td>0</td><td>0</td><td>0</td><td>0</td><td>0</td><td>0</td><td>⋯</td><td>0</td><td>0</td><td>0</td><td>0</td><td>0</td><td>0</td><td>0</td><td>0</td><td>0</td><td>0</td></tr>\n",
       "\t<tr><th scope=row>IRIS_CD4Tcell-N0</th><td>0</td><td>0</td><td>0</td><td>0.0000000</td><td>0</td><td>0</td><td>0</td><td>0</td><td>0</td><td>0</td><td>⋯</td><td>0</td><td>0</td><td>0</td><td>0</td><td>0</td><td>0</td><td>0</td><td>0</td><td>0</td><td>0</td></tr>\n",
       "\t<tr><th scope=row>IRIS_CD4Tcell-Th1-restimulated12hour</th><td>0</td><td>0</td><td>0</td><td>0.0000000</td><td>0</td><td>0</td><td>0</td><td>0</td><td>0</td><td>0</td><td>⋯</td><td>0</td><td>0</td><td>0</td><td>0</td><td>0</td><td>0</td><td>0</td><td>0</td><td>0</td><td>0</td></tr>\n",
       "\t<tr><th scope=row>IRIS_CD4Tcell-Th1-restimulated48hour</th><td>0</td><td>0</td><td>0</td><td>0.1697034</td><td>0</td><td>0</td><td>0</td><td>0</td><td>0</td><td>0</td><td>⋯</td><td>0</td><td>0</td><td>0</td><td>0</td><td>0</td><td>0</td><td>0</td><td>0</td><td>0</td><td>0</td></tr>\n",
       "</tbody>\n",
       "</table>\n"
      ],
      "text/latex": [
       "A matrix: 6 × 1042 of type dbl\n",
       "\\begin{tabular}{r|lllllllllllllllllllll}\n",
       "  & LV1 & LV2 & LV3 & LV4 & LV5 & LV6 & LV7 & LV8 & LV9 & LV10 & ⋯ & LV1033 & LV1034 & LV1035 & LV1036 & LV1037 & LV1038 & LV1039 & LV1040 & LV1041 & LV1042\\\\\n",
       "\\hline\n",
       "\tIRIS\\_Bcell-Memory\\_IgG\\_IgA & 0 & 0 & 0 & 0.0000000 & 0 & 0 & 0 & 0 & 0 & 0 & ⋯ & 0 & 0 & 0 & 0 & 0 & 0 & 0 & 0 & 0 & 0\\\\\n",
       "\tIRIS\\_Bcell-Memory\\_IgM & 0 & 0 & 0 & 0.0000000 & 0 & 0 & 0 & 0 & 0 & 0 & ⋯ & 0 & 0 & 0 & 0 & 0 & 0 & 0 & 0 & 0 & 0\\\\\n",
       "\tIRIS\\_Bcell-naive & 0 & 0 & 0 & 0.0000000 & 0 & 0 & 0 & 0 & 0 & 0 & ⋯ & 0 & 0 & 0 & 0 & 0 & 0 & 0 & 0 & 0 & 0\\\\\n",
       "\tIRIS\\_CD4Tcell-N0 & 0 & 0 & 0 & 0.0000000 & 0 & 0 & 0 & 0 & 0 & 0 & ⋯ & 0 & 0 & 0 & 0 & 0 & 0 & 0 & 0 & 0 & 0\\\\\n",
       "\tIRIS\\_CD4Tcell-Th1-restimulated12hour & 0 & 0 & 0 & 0.0000000 & 0 & 0 & 0 & 0 & 0 & 0 & ⋯ & 0 & 0 & 0 & 0 & 0 & 0 & 0 & 0 & 0 & 0\\\\\n",
       "\tIRIS\\_CD4Tcell-Th1-restimulated48hour & 0 & 0 & 0 & 0.1697034 & 0 & 0 & 0 & 0 & 0 & 0 & ⋯ & 0 & 0 & 0 & 0 & 0 & 0 & 0 & 0 & 0 & 0\\\\\n",
       "\\end{tabular}\n"
      ],
      "text/markdown": [
       "\n",
       "A matrix: 6 × 1042 of type dbl\n",
       "\n",
       "| <!--/--> | LV1 | LV2 | LV3 | LV4 | LV5 | LV6 | LV7 | LV8 | LV9 | LV10 | ⋯ | LV1033 | LV1034 | LV1035 | LV1036 | LV1037 | LV1038 | LV1039 | LV1040 | LV1041 | LV1042 |\n",
       "|---|---|---|---|---|---|---|---|---|---|---|---|---|---|---|---|---|---|---|---|---|---|\n",
       "| IRIS_Bcell-Memory_IgG_IgA | 0 | 0 | 0 | 0.0000000 | 0 | 0 | 0 | 0 | 0 | 0 | ⋯ | 0 | 0 | 0 | 0 | 0 | 0 | 0 | 0 | 0 | 0 |\n",
       "| IRIS_Bcell-Memory_IgM | 0 | 0 | 0 | 0.0000000 | 0 | 0 | 0 | 0 | 0 | 0 | ⋯ | 0 | 0 | 0 | 0 | 0 | 0 | 0 | 0 | 0 | 0 |\n",
       "| IRIS_Bcell-naive | 0 | 0 | 0 | 0.0000000 | 0 | 0 | 0 | 0 | 0 | 0 | ⋯ | 0 | 0 | 0 | 0 | 0 | 0 | 0 | 0 | 0 | 0 |\n",
       "| IRIS_CD4Tcell-N0 | 0 | 0 | 0 | 0.0000000 | 0 | 0 | 0 | 0 | 0 | 0 | ⋯ | 0 | 0 | 0 | 0 | 0 | 0 | 0 | 0 | 0 | 0 |\n",
       "| IRIS_CD4Tcell-Th1-restimulated12hour | 0 | 0 | 0 | 0.0000000 | 0 | 0 | 0 | 0 | 0 | 0 | ⋯ | 0 | 0 | 0 | 0 | 0 | 0 | 0 | 0 | 0 | 0 |\n",
       "| IRIS_CD4Tcell-Th1-restimulated48hour | 0 | 0 | 0 | 0.1697034 | 0 | 0 | 0 | 0 | 0 | 0 | ⋯ | 0 | 0 | 0 | 0 | 0 | 0 | 0 | 0 | 0 | 0 |\n",
       "\n"
      ],
      "text/plain": [
       "                                     LV1 LV2 LV3 LV4       LV5 LV6 LV7 LV8 LV9\n",
       "IRIS_Bcell-Memory_IgG_IgA            0   0   0   0.0000000 0   0   0   0   0  \n",
       "IRIS_Bcell-Memory_IgM                0   0   0   0.0000000 0   0   0   0   0  \n",
       "IRIS_Bcell-naive                     0   0   0   0.0000000 0   0   0   0   0  \n",
       "IRIS_CD4Tcell-N0                     0   0   0   0.0000000 0   0   0   0   0  \n",
       "IRIS_CD4Tcell-Th1-restimulated12hour 0   0   0   0.0000000 0   0   0   0   0  \n",
       "IRIS_CD4Tcell-Th1-restimulated48hour 0   0   0   0.1697034 0   0   0   0   0  \n",
       "                                     LV10 ⋯ LV1033 LV1034 LV1035 LV1036 LV1037\n",
       "IRIS_Bcell-Memory_IgG_IgA            0    ⋯ 0      0      0      0      0     \n",
       "IRIS_Bcell-Memory_IgM                0    ⋯ 0      0      0      0      0     \n",
       "IRIS_Bcell-naive                     0    ⋯ 0      0      0      0      0     \n",
       "IRIS_CD4Tcell-N0                     0    ⋯ 0      0      0      0      0     \n",
       "IRIS_CD4Tcell-Th1-restimulated12hour 0    ⋯ 0      0      0      0      0     \n",
       "IRIS_CD4Tcell-Th1-restimulated48hour 0    ⋯ 0      0      0      0      0     \n",
       "                                     LV1038 LV1039 LV1040 LV1041 LV1042\n",
       "IRIS_Bcell-Memory_IgG_IgA            0      0      0      0      0     \n",
       "IRIS_Bcell-Memory_IgM                0      0      0      0      0     \n",
       "IRIS_Bcell-naive                     0      0      0      0      0     \n",
       "IRIS_CD4Tcell-N0                     0      0      0      0      0     \n",
       "IRIS_CD4Tcell-Th1-restimulated12hour 0      0      0      0      0     \n",
       "IRIS_CD4Tcell-Th1-restimulated48hour 0      0      0      0      0     "
      ]
     },
     "metadata": {},
     "output_type": "display_data"
    }
   ],
   "source": [
    "head(matrixU)"
   ]
  },
  {
   "cell_type": "markdown",
   "id": "0771168b-834e-4915-9c5a-fd9607d6d571",
   "metadata": {},
   "source": [
    "If the prior information coefficient matrix, U, has a low number of positive entries for each LV, biological interpretation should be more straightforward. This is one of the constraints in the PLIER model.\n",
    "\n",
    "### All LVs\n",
    "For each latent variable (i.e., not just those significantly associated with prior information), how many of the pathways/genesets have a positive entry?"
   ]
  },
  {
   "cell_type": "code",
   "execution_count": 18,
   "id": "b61f63ce-142a-44b2-8fd4-42bb6573c49f",
   "metadata": {},
   "outputs": [
    {
     "data": {
      "text/plain": [
       "    Min.  1st Qu.   Median     Mean  3rd Qu.     Max. \n",
       "0.000000 0.000000 0.001592 0.004571 0.006369 0.047771 "
      ]
     },
     "metadata": {},
     "output_type": "display_data"
    },
    {
     "data": {
      "image/png": "[encoded data removed]",
      "text/plain": [
       "plot without title"
      ]
     },
     "metadata": {
      "image/png": {
       "height": 420,
       "width": 420
      }
     },
     "output_type": "display_data"
    }
   ],
   "source": [
    "num_lvs <- nrow(matrixB)\n",
    "\n",
    "u_sparsity_all <- CalculateUSparsity(plier.results = gtex_plier_results,\n",
    "                                     significant.only = FALSE)\n",
    "ggplot2::ggplot(as.data.frame(u_sparsity_all),\n",
    "                ggplot2::aes(x = u_sparsity_all)) +\n",
    "  ggplot2::geom_density(fill = \"blue\", alpha = 0.5) +\n",
    "  ggplot2::theme_bw() +\n",
    "  ggplot2::labs(x = \"proportion of positive entries in U\") +\n",
    "  ggplot2::ggtitle(paste(\"All LVs, n =\", num_lvs))"
   ]
  },
  {
   "cell_type": "code",
   "execution_count": 20,
   "id": "64dff7f7-bdce-417a-bdd8-50e7c889ce5e",
   "metadata": {},
   "outputs": [
    {
     "data": {
      "text/plain": [
       "    Min.  1st Qu.   Median     Mean  3rd Qu.     Max. \n",
       "0.000000 0.000000 0.001592 0.004571 0.006369 0.047771 "
      ]
     },
     "metadata": {},
     "output_type": "display_data"
    }
   ],
   "source": [
    "summary(u_sparsity_all)"
   ]
  },
  {
   "cell_type": "markdown",
   "id": "eeec5a88-95a0-4706-827b-734e4c0d457b",
   "metadata": {},
   "source": [
    "### Significant pathways, only\n",
    "What proportion of entries in the U matrix for each LV are significantly associated with that LV?"
   ]
  },
  {
   "cell_type": "code",
   "execution_count": 21,
   "id": "9e1cc054-ced6-44d7-99c1-501575d4c999",
   "metadata": {},
   "outputs": [
    {
     "data": {
      "image/png": "[encoded data removed]",
      "text/plain": [
       "plot without title"
      ]
     },
     "metadata": {
      "image/png": {
       "height": 420,
       "width": 420
      }
     },
     "output_type": "display_data"
    }
   ],
   "source": [
    "u_sparsity_sig <- CalculateUSparsity(gtex_plier_results, \n",
    "                                     significant.only = TRUE,\n",
    "                                     fdr.cutoff = 0.05)\n",
    "ggplot2::ggplot(as.data.frame(u_sparsity_sig),\n",
    "                ggplot2::aes(x = u_sparsity_sig)) +\n",
    "  ggplot2::geom_density(fill = \"blue\", alpha = 0.5) +\n",
    "  ggplot2::theme_bw() +\n",
    "  ggplot2::labs(x = \"proportion of positive entries in U\") +\n",
    "  ggplot2::ggtitle(\"Significant pathways only\")"
   ]
  },
  {
   "cell_type": "code",
   "execution_count": 22,
   "id": "dac5a078-10f4-459d-bffc-cc5464f7ea14",
   "metadata": {},
   "outputs": [
    {
     "data": {
      "text/plain": [
       "    Min.  1st Qu.   Median     Mean  3rd Qu.     Max. \n",
       "0.000000 0.000000 0.000000 0.002051 0.001592 0.046178 "
      ]
     },
     "metadata": {},
     "output_type": "display_data"
    }
   ],
   "source": [
    "summary(u_sparsity_sig)"
   ]
  },
  {
   "cell_type": "markdown",
   "id": "227a424a-2f95-4de0-9dec-521d08bd2c13",
   "metadata": {},
   "source": [
    "### Pathway coverage\n",
    "<!-- We’re interested in how the LVs output from PLIER are related to the genesets input to PLIER. -->"
   ]
  },
  {
   "cell_type": "code",
   "execution_count": 26,
   "id": "838a53e4-7b6d-45d1-93e5-572ee515a5a8",
   "metadata": {},
   "outputs": [],
   "source": [
    "coverage_results <- GetPathwayCoverage(plier.results = gtex_plier_results)"
   ]
  },
  {
   "cell_type": "markdown",
   "id": "6c84ee47-5844-4b56-b631-3dd7e341bcda",
   "metadata": {},
   "source": [
    "What proportion of the pathways input into PLIER are significantly associated (FDR cutoff = 0.05) with LVs?"
   ]
  },
  {
   "cell_type": "code",
   "execution_count": 28,
   "id": "108567e8-7e8d-4d3b-acac-c2ab23046d28",
   "metadata": {},
   "outputs": [
    {
     "data": {
      "text/html": [
       "0.519"
      ],
      "text/latex": [
       "0.519"
      ],
      "text/markdown": [
       "0.519"
      ],
      "text/plain": [
       "[1] 0.519"
      ]
     },
     "metadata": {},
     "output_type": "display_data"
    }
   ],
   "source": [
    "round(coverage_results$pathway, 3)"
   ]
  },
  {
   "cell_type": "markdown",
   "id": "4ea13261-adaa-4335-b863-2cd62c91c695",
   "metadata": {},
   "source": [
    "What proportion of the PLIER LVs have a gene set associated with them?"
   ]
  },
  {
   "cell_type": "code",
   "execution_count": 32,
   "id": "c521a73b-6bf0-49bd-b3b0-c9da83a8f88d",
   "metadata": {},
   "outputs": [
    {
     "data": {
      "text/html": [
       "0.349"
      ],
      "text/latex": [
       "0.349"
      ],
      "text/markdown": [
       "0.349"
      ],
      "text/plain": [
       "[1] 0.349"
      ]
     },
     "metadata": {},
     "output_type": "display_data"
    }
   ],
   "source": [
    "round(coverage_results$lv, 3)"
   ]
  },
  {
   "cell_type": "markdown",
   "id": "3dedaa60-4114-44fc-a4e3-30952028042f",
   "metadata": {},
   "source": [
    "## Reconstruction of gene expression data"
   ]
  },
  {
   "cell_type": "markdown",
   "id": "913347a2-52ec-4ada-86e9-adc5f1038cfc",
   "metadata": {},
   "source": [
    "### All LVs\n",
    "We reconstruct gene expression data from the gene loadings and LVs."
   ]
  },
  {
   "cell_type": "code",
   "execution_count": null,
   "id": "7edc8536-06f1-463e-8096-4679d37b392e",
   "metadata": {},
   "outputs": [],
   "source": [
    "# reconstructed GTEx expression data from PLIER model\n",
    "recount_recon <- GetReconstructedExprs(z.matrix = as.matrix(matrixZ),\n",
    "                                       b.matrix = as.matrix(matrixB))\n",
    "# write reconstructed expression to results\n",
    "recon.mat.file <- file.path(results.dir, \n",
    "                            \"recount2_recount2_model_recon_exprs.RDS\")\n",
    "saveRDS(recount.recon, file = recon.mat.file)\n",
    "# input expression data from intermediate file\n",
    "recount.input.exprs <- recount.list$rpkm.cm"
   ]
  },
  {
   "cell_type": "markdown",
   "id": "9a5395db-9dee-43d1-9a6e-ebe309e1f228",
   "metadata": {},
   "source": [
    "## Matrix Z (loadings; genes x LVs)"
   ]
  },
  {
   "cell_type": "code",
   "execution_count": 18,
   "id": "ae031180-bd21-492d-bc0a-075f36338d9b",
   "metadata": {},
   "outputs": [
    {
     "data": {
      "text/html": [
       "<table class=\"dataframe\">\n",
       "<caption>A matrix: 6 × 1042 of type dbl</caption>\n",
       "<tbody>\n",
       "\t<tr><th scope=row>GAS6</th><td>0.20762129</td><td>0.00000000</td><td>0.0000000</td><td>0.00000000</td><td>0.0000000</td><td>0.02653939</td><td>0.00000000</td><td>0.00000000</td><td>0.62387382</td><td>0.18440284</td><td>⋯</td><td>0.0000000</td><td>0.00000000</td><td>0.1552670</td><td>0.00000000</td><td>0.00000000</td><td>0.03676118</td><td>0</td><td>0.03729953</td><td>0.01813663</td><td>0.32003652</td></tr>\n",
       "\t<tr><th scope=row>MMP14</th><td>0.09893808</td><td>0.00000000</td><td>0.0000000</td><td>0.03620340</td><td>0.0000000</td><td>0.00000000</td><td>0.00000000</td><td>0.00000000</td><td>0.57073574</td><td>0.00000000</td><td>⋯</td><td>0.0000000</td><td>0.02603330</td><td>0.0000000</td><td>0.01795993</td><td>0.02515933</td><td>0.00000000</td><td>0</td><td>0.00000000</td><td>0.13488302</td><td>0.32878006</td></tr>\n",
       "\t<tr><th scope=row>MARCKSL1</th><td>0.00000000</td><td>0.00000000</td><td>0.0689154</td><td>0.00000000</td><td>0.0000000</td><td>0.06473675</td><td>0.00000000</td><td>0.00000000</td><td>0.06586991</td><td>0.04277300</td><td>⋯</td><td>0.1104464</td><td>0.00000000</td><td>0.0000000</td><td>0.00000000</td><td>0.00000000</td><td>0.00000000</td><td>0</td><td>0.00000000</td><td>0.00000000</td><td>0.07458389</td></tr>\n",
       "\t<tr><th scope=row>SPARC</th><td>0.00000000</td><td>0.00000000</td><td>0.0000000</td><td>0.08840532</td><td>0.0000000</td><td>0.00000000</td><td>0.00000000</td><td>0.03131448</td><td>0.20514237</td><td>0.45000462</td><td>⋯</td><td>0.0000000</td><td>0.00000000</td><td>0.1168224</td><td>0.00000000</td><td>0.03407571</td><td>0.13301524</td><td>0</td><td>0.01732749</td><td>0.00000000</td><td>0.00000000</td></tr>\n",
       "\t<tr><th scope=row>CTSD</th><td>0.00000000</td><td>0.09038044</td><td>0.3689761</td><td>0.05409820</td><td>0.1073371</td><td>0.00000000</td><td>0.00000000</td><td>0.09150932</td><td>1.38866053</td><td>0.02098779</td><td>⋯</td><td>0.0000000</td><td>0.02845362</td><td>0.2228255</td><td>0.00000000</td><td>0.00000000</td><td>0.00000000</td><td>0</td><td>0.00000000</td><td>0.04607547</td><td>0.54812303</td></tr>\n",
       "\t<tr><th scope=row>EPAS1</th><td>0.01069210</td><td>0.00000000</td><td>0.0000000</td><td>0.00000000</td><td>0.0000000</td><td>0.04134291</td><td>0.03603086</td><td>0.00000000</td><td>0.11679199</td><td>0.11713569</td><td>⋯</td><td>0.0000000</td><td>0.00000000</td><td>0.0000000</td><td>0.00000000</td><td>0.37824176</td><td>0.00000000</td><td>0</td><td>0.00000000</td><td>0.28356290</td><td>0.14947889</td></tr>\n",
       "</tbody>\n",
       "</table>\n"
      ],
      "text/latex": [
       "A matrix: 6 × 1042 of type dbl\n",
       "\\begin{tabular}{r|lllllllllllllllllllll}\n",
       "\tGAS6 & 0.20762129 & 0.00000000 & 0.0000000 & 0.00000000 & 0.0000000 & 0.02653939 & 0.00000000 & 0.00000000 & 0.62387382 & 0.18440284 & ⋯ & 0.0000000 & 0.00000000 & 0.1552670 & 0.00000000 & 0.00000000 & 0.03676118 & 0 & 0.03729953 & 0.01813663 & 0.32003652\\\\\n",
       "\tMMP14 & 0.09893808 & 0.00000000 & 0.0000000 & 0.03620340 & 0.0000000 & 0.00000000 & 0.00000000 & 0.00000000 & 0.57073574 & 0.00000000 & ⋯ & 0.0000000 & 0.02603330 & 0.0000000 & 0.01795993 & 0.02515933 & 0.00000000 & 0 & 0.00000000 & 0.13488302 & 0.32878006\\\\\n",
       "\tMARCKSL1 & 0.00000000 & 0.00000000 & 0.0689154 & 0.00000000 & 0.0000000 & 0.06473675 & 0.00000000 & 0.00000000 & 0.06586991 & 0.04277300 & ⋯ & 0.1104464 & 0.00000000 & 0.0000000 & 0.00000000 & 0.00000000 & 0.00000000 & 0 & 0.00000000 & 0.00000000 & 0.07458389\\\\\n",
       "\tSPARC & 0.00000000 & 0.00000000 & 0.0000000 & 0.08840532 & 0.0000000 & 0.00000000 & 0.00000000 & 0.03131448 & 0.20514237 & 0.45000462 & ⋯ & 0.0000000 & 0.00000000 & 0.1168224 & 0.00000000 & 0.03407571 & 0.13301524 & 0 & 0.01732749 & 0.00000000 & 0.00000000\\\\\n",
       "\tCTSD & 0.00000000 & 0.09038044 & 0.3689761 & 0.05409820 & 0.1073371 & 0.00000000 & 0.00000000 & 0.09150932 & 1.38866053 & 0.02098779 & ⋯ & 0.0000000 & 0.02845362 & 0.2228255 & 0.00000000 & 0.00000000 & 0.00000000 & 0 & 0.00000000 & 0.04607547 & 0.54812303\\\\\n",
       "\tEPAS1 & 0.01069210 & 0.00000000 & 0.0000000 & 0.00000000 & 0.0000000 & 0.04134291 & 0.03603086 & 0.00000000 & 0.11679199 & 0.11713569 & ⋯ & 0.0000000 & 0.00000000 & 0.0000000 & 0.00000000 & 0.37824176 & 0.00000000 & 0 & 0.00000000 & 0.28356290 & 0.14947889\\\\\n",
       "\\end{tabular}\n"
      ],
      "text/markdown": [
       "\n",
       "A matrix: 6 × 1042 of type dbl\n",
       "\n",
       "| GAS6 | 0.20762129 | 0.00000000 | 0.0000000 | 0.00000000 | 0.0000000 | 0.02653939 | 0.00000000 | 0.00000000 | 0.62387382 | 0.18440284 | ⋯ | 0.0000000 | 0.00000000 | 0.1552670 | 0.00000000 | 0.00000000 | 0.03676118 | 0 | 0.03729953 | 0.01813663 | 0.32003652 |\n",
       "| MMP14 | 0.09893808 | 0.00000000 | 0.0000000 | 0.03620340 | 0.0000000 | 0.00000000 | 0.00000000 | 0.00000000 | 0.57073574 | 0.00000000 | ⋯ | 0.0000000 | 0.02603330 | 0.0000000 | 0.01795993 | 0.02515933 | 0.00000000 | 0 | 0.00000000 | 0.13488302 | 0.32878006 |\n",
       "| MARCKSL1 | 0.00000000 | 0.00000000 | 0.0689154 | 0.00000000 | 0.0000000 | 0.06473675 | 0.00000000 | 0.00000000 | 0.06586991 | 0.04277300 | ⋯ | 0.1104464 | 0.00000000 | 0.0000000 | 0.00000000 | 0.00000000 | 0.00000000 | 0 | 0.00000000 | 0.00000000 | 0.07458389 |\n",
       "| SPARC | 0.00000000 | 0.00000000 | 0.0000000 | 0.08840532 | 0.0000000 | 0.00000000 | 0.00000000 | 0.03131448 | 0.20514237 | 0.45000462 | ⋯ | 0.0000000 | 0.00000000 | 0.1168224 | 0.00000000 | 0.03407571 | 0.13301524 | 0 | 0.01732749 | 0.00000000 | 0.00000000 |\n",
       "| CTSD | 0.00000000 | 0.09038044 | 0.3689761 | 0.05409820 | 0.1073371 | 0.00000000 | 0.00000000 | 0.09150932 | 1.38866053 | 0.02098779 | ⋯ | 0.0000000 | 0.02845362 | 0.2228255 | 0.00000000 | 0.00000000 | 0.00000000 | 0 | 0.00000000 | 0.04607547 | 0.54812303 |\n",
       "| EPAS1 | 0.01069210 | 0.00000000 | 0.0000000 | 0.00000000 | 0.0000000 | 0.04134291 | 0.03603086 | 0.00000000 | 0.11679199 | 0.11713569 | ⋯ | 0.0000000 | 0.00000000 | 0.0000000 | 0.00000000 | 0.37824176 | 0.00000000 | 0 | 0.00000000 | 0.28356290 | 0.14947889 |\n",
       "\n"
      ],
      "text/plain": [
       "         [,1]       [,2]       [,3]      [,4]       [,5]      [,6]      \n",
       "GAS6     0.20762129 0.00000000 0.0000000 0.00000000 0.0000000 0.02653939\n",
       "MMP14    0.09893808 0.00000000 0.0000000 0.03620340 0.0000000 0.00000000\n",
       "MARCKSL1 0.00000000 0.00000000 0.0689154 0.00000000 0.0000000 0.06473675\n",
       "SPARC    0.00000000 0.00000000 0.0000000 0.08840532 0.0000000 0.00000000\n",
       "CTSD     0.00000000 0.09038044 0.3689761 0.05409820 0.1073371 0.00000000\n",
       "EPAS1    0.01069210 0.00000000 0.0000000 0.00000000 0.0000000 0.04134291\n",
       "         [,7]       [,8]       [,9]       [,10]      [,11] [,12]     [,13]     \n",
       "GAS6     0.00000000 0.00000000 0.62387382 0.18440284 ⋯     0.0000000 0.00000000\n",
       "MMP14    0.00000000 0.00000000 0.57073574 0.00000000 ⋯     0.0000000 0.02603330\n",
       "MARCKSL1 0.00000000 0.00000000 0.06586991 0.04277300 ⋯     0.1104464 0.00000000\n",
       "SPARC    0.00000000 0.03131448 0.20514237 0.45000462 ⋯     0.0000000 0.00000000\n",
       "CTSD     0.00000000 0.09150932 1.38866053 0.02098779 ⋯     0.0000000 0.02845362\n",
       "EPAS1    0.03603086 0.00000000 0.11679199 0.11713569 ⋯     0.0000000 0.00000000\n",
       "         [,14]     [,15]      [,16]      [,17]      [,18] [,19]      [,20]     \n",
       "GAS6     0.1552670 0.00000000 0.00000000 0.03676118 0     0.03729953 0.01813663\n",
       "MMP14    0.0000000 0.01795993 0.02515933 0.00000000 0     0.00000000 0.13488302\n",
       "MARCKSL1 0.0000000 0.00000000 0.00000000 0.00000000 0     0.00000000 0.00000000\n",
       "SPARC    0.1168224 0.00000000 0.03407571 0.13301524 0     0.01732749 0.00000000\n",
       "CTSD     0.2228255 0.00000000 0.00000000 0.00000000 0     0.00000000 0.04607547\n",
       "EPAS1    0.0000000 0.00000000 0.37824176 0.00000000 0     0.00000000 0.28356290\n",
       "         [,21]     \n",
       "GAS6     0.32003652\n",
       "MMP14    0.32878006\n",
       "MARCKSL1 0.07458389\n",
       "SPARC    0.00000000\n",
       "CTSD     0.54812303\n",
       "EPAS1    0.14947889"
      ]
     },
     "metadata": {},
     "output_type": "display_data"
    }
   ],
   "source": [
    "head(matrixZ)"
   ]
  },
  {
   "cell_type": "markdown",
   "id": "bd5348f8-08ba-4f2b-bb0e-3cc0418c09f3",
   "metadata": {},
   "source": [
    "## Matrix U - AUC\n"
   ]
  },
  {
   "cell_type": "markdown",
   "id": "39825d54-4529-4d6a-b177-e7a15bba75aa",
   "metadata": {
    "editable": true,
    "papermill": {
     "duration": 0.002592,
     "end_time": "2024-03-05T15:45:30.225610",
     "exception": false,
     "start_time": "2024-03-05T15:45:30.223018",
     "status": "completed"
    },
    "slideshow": {
     "slide_type": ""
    },
    "tags": []
   },
   "source": [
    "### All LVs"
   ]
  },
  {
   "cell_type": "code",
   "execution_count": 16,
   "id": "32edc5ca-dbf9-4c70-8e05-9ba34ad875b1",
   "metadata": {
    "editable": true,
    "papermill": {
     "duration": 0.0113,
     "end_time": "2024-03-05T15:45:30.256003",
     "exception": false,
     "start_time": "2024-03-05T15:45:30.244703",
     "status": "completed"
    },
    "slideshow": {
     "slide_type": ""
    },
    "tags": []
   },
   "outputs": [
    {
     "data": {
      "text/html": [
       "1042"
      ],
      "text/latex": [
       "1042"
      ],
      "text/markdown": [
       "1042"
      ],
      "text/plain": [
       "[1] 1042"
      ]
     },
     "metadata": {},
     "output_type": "display_data"
    }
   ],
   "source": [
    "num_lvs"
   ]
  },
  {
   "cell_type": "code",
   "execution_count": 18,
   "id": "85a59b9f-f2ac-411c-a360-da5f162fa9f5",
   "metadata": {},
   "outputs": [
    {
     "data": {
      "text/html": [
       "<table class=\"dataframe\">\n",
       "<caption>A matrix: 6 × 1042 of type dbl</caption>\n",
       "<thead>\n",
       "\t<tr><th></th><th scope=col>LV1</th><th scope=col>LV2</th><th scope=col>LV3</th><th scope=col>LV4</th><th scope=col>LV5</th><th scope=col>LV6</th><th scope=col>LV7</th><th scope=col>LV8</th><th scope=col>LV9</th><th scope=col>LV10</th><th scope=col>⋯</th><th scope=col>LV1033</th><th scope=col>LV1034</th><th scope=col>LV1035</th><th scope=col>LV1036</th><th scope=col>LV1037</th><th scope=col>LV1038</th><th scope=col>LV1039</th><th scope=col>LV1040</th><th scope=col>LV1041</th><th scope=col>LV1042</th></tr>\n",
       "</thead>\n",
       "<tbody>\n",
       "\t<tr><th scope=row>IRIS_Bcell-Memory_IgG_IgA</th><td>0</td><td>0</td><td>0</td><td>0.0000000</td><td>0</td><td>0</td><td>0</td><td>0</td><td>0</td><td>0</td><td>⋯</td><td>0</td><td>0</td><td>0</td><td>0</td><td>0</td><td>0</td><td>0</td><td>0</td><td>0</td><td>0</td></tr>\n",
       "\t<tr><th scope=row>IRIS_Bcell-Memory_IgM</th><td>0</td><td>0</td><td>0</td><td>0.0000000</td><td>0</td><td>0</td><td>0</td><td>0</td><td>0</td><td>0</td><td>⋯</td><td>0</td><td>0</td><td>0</td><td>0</td><td>0</td><td>0</td><td>0</td><td>0</td><td>0</td><td>0</td></tr>\n",
       "\t<tr><th scope=row>IRIS_Bcell-naive</th><td>0</td><td>0</td><td>0</td><td>0.0000000</td><td>0</td><td>0</td><td>0</td><td>0</td><td>0</td><td>0</td><td>⋯</td><td>0</td><td>0</td><td>0</td><td>0</td><td>0</td><td>0</td><td>0</td><td>0</td><td>0</td><td>0</td></tr>\n",
       "\t<tr><th scope=row>IRIS_CD4Tcell-N0</th><td>0</td><td>0</td><td>0</td><td>0.0000000</td><td>0</td><td>0</td><td>0</td><td>0</td><td>0</td><td>0</td><td>⋯</td><td>0</td><td>0</td><td>0</td><td>0</td><td>0</td><td>0</td><td>0</td><td>0</td><td>0</td><td>0</td></tr>\n",
       "\t<tr><th scope=row>IRIS_CD4Tcell-Th1-restimulated12hour</th><td>0</td><td>0</td><td>0</td><td>0.0000000</td><td>0</td><td>0</td><td>0</td><td>0</td><td>0</td><td>0</td><td>⋯</td><td>0</td><td>0</td><td>0</td><td>0</td><td>0</td><td>0</td><td>0</td><td>0</td><td>0</td><td>0</td></tr>\n",
       "\t<tr><th scope=row>IRIS_CD4Tcell-Th1-restimulated48hour</th><td>0</td><td>0</td><td>0</td><td>0.1697034</td><td>0</td><td>0</td><td>0</td><td>0</td><td>0</td><td>0</td><td>⋯</td><td>0</td><td>0</td><td>0</td><td>0</td><td>0</td><td>0</td><td>0</td><td>0</td><td>0</td><td>0</td></tr>\n",
       "</tbody>\n",
       "</table>\n"
      ],
      "text/latex": [
       "A matrix: 6 × 1042 of type dbl\n",
       "\\begin{tabular}{r|lllllllllllllllllllll}\n",
       "  & LV1 & LV2 & LV3 & LV4 & LV5 & LV6 & LV7 & LV8 & LV9 & LV10 & ⋯ & LV1033 & LV1034 & LV1035 & LV1036 & LV1037 & LV1038 & LV1039 & LV1040 & LV1041 & LV1042\\\\\n",
       "\\hline\n",
       "\tIRIS\\_Bcell-Memory\\_IgG\\_IgA & 0 & 0 & 0 & 0.0000000 & 0 & 0 & 0 & 0 & 0 & 0 & ⋯ & 0 & 0 & 0 & 0 & 0 & 0 & 0 & 0 & 0 & 0\\\\\n",
       "\tIRIS\\_Bcell-Memory\\_IgM & 0 & 0 & 0 & 0.0000000 & 0 & 0 & 0 & 0 & 0 & 0 & ⋯ & 0 & 0 & 0 & 0 & 0 & 0 & 0 & 0 & 0 & 0\\\\\n",
       "\tIRIS\\_Bcell-naive & 0 & 0 & 0 & 0.0000000 & 0 & 0 & 0 & 0 & 0 & 0 & ⋯ & 0 & 0 & 0 & 0 & 0 & 0 & 0 & 0 & 0 & 0\\\\\n",
       "\tIRIS\\_CD4Tcell-N0 & 0 & 0 & 0 & 0.0000000 & 0 & 0 & 0 & 0 & 0 & 0 & ⋯ & 0 & 0 & 0 & 0 & 0 & 0 & 0 & 0 & 0 & 0\\\\\n",
       "\tIRIS\\_CD4Tcell-Th1-restimulated12hour & 0 & 0 & 0 & 0.0000000 & 0 & 0 & 0 & 0 & 0 & 0 & ⋯ & 0 & 0 & 0 & 0 & 0 & 0 & 0 & 0 & 0 & 0\\\\\n",
       "\tIRIS\\_CD4Tcell-Th1-restimulated48hour & 0 & 0 & 0 & 0.1697034 & 0 & 0 & 0 & 0 & 0 & 0 & ⋯ & 0 & 0 & 0 & 0 & 0 & 0 & 0 & 0 & 0 & 0\\\\\n",
       "\\end{tabular}\n"
      ],
      "text/markdown": [
       "\n",
       "A matrix: 6 × 1042 of type dbl\n",
       "\n",
       "| <!--/--> | LV1 | LV2 | LV3 | LV4 | LV5 | LV6 | LV7 | LV8 | LV9 | LV10 | ⋯ | LV1033 | LV1034 | LV1035 | LV1036 | LV1037 | LV1038 | LV1039 | LV1040 | LV1041 | LV1042 |\n",
       "|---|---|---|---|---|---|---|---|---|---|---|---|---|---|---|---|---|---|---|---|---|---|\n",
       "| IRIS_Bcell-Memory_IgG_IgA | 0 | 0 | 0 | 0.0000000 | 0 | 0 | 0 | 0 | 0 | 0 | ⋯ | 0 | 0 | 0 | 0 | 0 | 0 | 0 | 0 | 0 | 0 |\n",
       "| IRIS_Bcell-Memory_IgM | 0 | 0 | 0 | 0.0000000 | 0 | 0 | 0 | 0 | 0 | 0 | ⋯ | 0 | 0 | 0 | 0 | 0 | 0 | 0 | 0 | 0 | 0 |\n",
       "| IRIS_Bcell-naive | 0 | 0 | 0 | 0.0000000 | 0 | 0 | 0 | 0 | 0 | 0 | ⋯ | 0 | 0 | 0 | 0 | 0 | 0 | 0 | 0 | 0 | 0 |\n",
       "| IRIS_CD4Tcell-N0 | 0 | 0 | 0 | 0.0000000 | 0 | 0 | 0 | 0 | 0 | 0 | ⋯ | 0 | 0 | 0 | 0 | 0 | 0 | 0 | 0 | 0 | 0 |\n",
       "| IRIS_CD4Tcell-Th1-restimulated12hour | 0 | 0 | 0 | 0.0000000 | 0 | 0 | 0 | 0 | 0 | 0 | ⋯ | 0 | 0 | 0 | 0 | 0 | 0 | 0 | 0 | 0 | 0 |\n",
       "| IRIS_CD4Tcell-Th1-restimulated48hour | 0 | 0 | 0 | 0.1697034 | 0 | 0 | 0 | 0 | 0 | 0 | ⋯ | 0 | 0 | 0 | 0 | 0 | 0 | 0 | 0 | 0 | 0 |\n",
       "\n"
      ],
      "text/plain": [
       "                                     LV1 LV2 LV3 LV4       LV5 LV6 LV7 LV8 LV9\n",
       "IRIS_Bcell-Memory_IgG_IgA            0   0   0   0.0000000 0   0   0   0   0  \n",
       "IRIS_Bcell-Memory_IgM                0   0   0   0.0000000 0   0   0   0   0  \n",
       "IRIS_Bcell-naive                     0   0   0   0.0000000 0   0   0   0   0  \n",
       "IRIS_CD4Tcell-N0                     0   0   0   0.0000000 0   0   0   0   0  \n",
       "IRIS_CD4Tcell-Th1-restimulated12hour 0   0   0   0.0000000 0   0   0   0   0  \n",
       "IRIS_CD4Tcell-Th1-restimulated48hour 0   0   0   0.1697034 0   0   0   0   0  \n",
       "                                     LV10 ⋯ LV1033 LV1034 LV1035 LV1036 LV1037\n",
       "IRIS_Bcell-Memory_IgG_IgA            0    ⋯ 0      0      0      0      0     \n",
       "IRIS_Bcell-Memory_IgM                0    ⋯ 0      0      0      0      0     \n",
       "IRIS_Bcell-naive                     0    ⋯ 0      0      0      0      0     \n",
       "IRIS_CD4Tcell-N0                     0    ⋯ 0      0      0      0      0     \n",
       "IRIS_CD4Tcell-Th1-restimulated12hour 0    ⋯ 0      0      0      0      0     \n",
       "IRIS_CD4Tcell-Th1-restimulated48hour 0    ⋯ 0      0      0      0      0     \n",
       "                                     LV1038 LV1039 LV1040 LV1041 LV1042\n",
       "IRIS_Bcell-Memory_IgG_IgA            0      0      0      0      0     \n",
       "IRIS_Bcell-Memory_IgM                0      0      0      0      0     \n",
       "IRIS_Bcell-naive                     0      0      0      0      0     \n",
       "IRIS_CD4Tcell-N0                     0      0      0      0      0     \n",
       "IRIS_CD4Tcell-Th1-restimulated12hour 0      0      0      0      0     \n",
       "IRIS_CD4Tcell-Th1-restimulated48hour 0      0      0      0      0     "
      ]
     },
     "metadata": {},
     "output_type": "display_data"
    }
   ],
   "source": [
    "head(gtex_plier_results$U)"
   ]
  }
 ],
 "metadata": {
  "kernelspec": {
   "display_name": "R",
   "language": "R",
   "name": "ir"
  },
  "language_info": {
   "codemirror_mode": "r",
   "file_extension": ".r",
   "mimetype": "text/x-r-source",
   "name": "R",
   "pygments_lexer": "r",
   "version": "4.3.3"
  },
  "papermill": {
   "default_parameters": {},
   "duration": 5.728376,
   "end_time": "2024-03-05T15:45:30.375240",
   "environment_variables": {},
   "exception": null,
   "input_path": "nbs/10_gtex/GTEx_PLIER_exploration.ipynb",
   "output_path": "nbs/10_gtex/GTEx_PLIER_exploration.run.ipynb",
   "parameters": {
    "INPUT_PLIER_MODEL_FILE": "output/gtex/gtex_plier.rds"
   },
   "start_time": "2024-03-05T15:45:24.646864",
   "version": "2.3.4"
  }
 },
 "nbformat": 4,
 "nbformat_minor": 5
}
