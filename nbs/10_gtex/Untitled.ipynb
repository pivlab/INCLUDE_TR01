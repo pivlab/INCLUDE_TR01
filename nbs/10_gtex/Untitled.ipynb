{
 "cells": [
  {
   "cell_type": "code",
   "execution_count": 1,
   "id": "f9f12a79-d746-45b2-8f61-9858199544fc",
   "metadata": {},
   "outputs": [],
   "source": [
    "model <- readRDS('/home/msubirana/Documents/pivlab/plier_recount3/output/nbs/create_human_trisome_project_plier_model/htp_plier_model_k1.25_frac0.5.rds')"
   ]
  },
  {
   "cell_type": "code",
   "execution_count": 2,
   "id": "59b71aa3-ae63-4bb2-a829-d48678473de8",
   "metadata": {},
   "outputs": [
    {
     "data": {
      "text/html": [
       "<table class=\"dataframe\">\n",
       "<caption>A data.frame: 6 × 5</caption>\n",
       "<thead>\n",
       "\t<tr><th></th><th scope=col>pathway</th><th scope=col>LV index</th><th scope=col>AUC</th><th scope=col>p-value</th><th scope=col>FDR</th></tr>\n",
       "\t<tr><th></th><th scope=col>&lt;chr&gt;</th><th scope=col>&lt;chr&gt;</th><th scope=col>&lt;dbl&gt;</th><th scope=col>&lt;dbl&gt;</th><th scope=col>&lt;dbl&gt;</th></tr>\n",
       "</thead>\n",
       "<tbody>\n",
       "\t<tr><th scope=row>1</th><td>GSE22886_NAIVE_BCELL_VS_NEUTROPHIL_DN</td><td>1</td><td>0.6954388</td><td>2.599358e-06</td><td>1.302792e-05</td></tr>\n",
       "\t<tr><th scope=row>2</th><td>GSE6269_HEALTHY_VS_FLU_INF_PBMC_DN   </td><td>1</td><td>0.5830656</td><td>4.056264e-02</td><td>5.783804e-02</td></tr>\n",
       "\t<tr><th scope=row>3</th><td>IRIS_Monocyte-Day0                   </td><td>2</td><td>0.7125120</td><td>3.787728e-07</td><td>2.401764e-06</td></tr>\n",
       "\t<tr><th scope=row>4</th><td>SVM Neutrophils                      </td><td>2</td><td>0.7610136</td><td>1.864576e-04</td><td>5.363059e-04</td></tr>\n",
       "\t<tr><th scope=row>5</th><td>JAATINEN_HEMATOPOIETIC_STEM_CELL_DN  </td><td>2</td><td>0.6681586</td><td>7.201871e-06</td><td>3.123299e-05</td></tr>\n",
       "\t<tr><th scope=row>6</th><td>GSE22886_NAIVE_BCELL_VS_NEUTROPHIL_DN</td><td>2</td><td>0.7329111</td><td>1.250484e-08</td><td>1.246018e-07</td></tr>\n",
       "</tbody>\n",
       "</table>\n"
      ],
      "text/latex": [
       "A data.frame: 6 × 5\n",
       "\\begin{tabular}{r|lllll}\n",
       "  & pathway & LV index & AUC & p-value & FDR\\\\\n",
       "  & <chr> & <chr> & <dbl> & <dbl> & <dbl>\\\\\n",
       "\\hline\n",
       "\t1 & GSE22886\\_NAIVE\\_BCELL\\_VS\\_NEUTROPHIL\\_DN & 1 & 0.6954388 & 2.599358e-06 & 1.302792e-05\\\\\n",
       "\t2 & GSE6269\\_HEALTHY\\_VS\\_FLU\\_INF\\_PBMC\\_DN    & 1 & 0.5830656 & 4.056264e-02 & 5.783804e-02\\\\\n",
       "\t3 & IRIS\\_Monocyte-Day0                    & 2 & 0.7125120 & 3.787728e-07 & 2.401764e-06\\\\\n",
       "\t4 & SVM Neutrophils                       & 2 & 0.7610136 & 1.864576e-04 & 5.363059e-04\\\\\n",
       "\t5 & JAATINEN\\_HEMATOPOIETIC\\_STEM\\_CELL\\_DN   & 2 & 0.6681586 & 7.201871e-06 & 3.123299e-05\\\\\n",
       "\t6 & GSE22886\\_NAIVE\\_BCELL\\_VS\\_NEUTROPHIL\\_DN & 2 & 0.7329111 & 1.250484e-08 & 1.246018e-07\\\\\n",
       "\\end{tabular}\n"
      ],
      "text/markdown": [
       "\n",
       "A data.frame: 6 × 5\n",
       "\n",
       "| <!--/--> | pathway &lt;chr&gt; | LV index &lt;chr&gt; | AUC &lt;dbl&gt; | p-value &lt;dbl&gt; | FDR &lt;dbl&gt; |\n",
       "|---|---|---|---|---|---|\n",
       "| 1 | GSE22886_NAIVE_BCELL_VS_NEUTROPHIL_DN | 1 | 0.6954388 | 2.599358e-06 | 1.302792e-05 |\n",
       "| 2 | GSE6269_HEALTHY_VS_FLU_INF_PBMC_DN    | 1 | 0.5830656 | 4.056264e-02 | 5.783804e-02 |\n",
       "| 3 | IRIS_Monocyte-Day0                    | 2 | 0.7125120 | 3.787728e-07 | 2.401764e-06 |\n",
       "| 4 | SVM Neutrophils                       | 2 | 0.7610136 | 1.864576e-04 | 5.363059e-04 |\n",
       "| 5 | JAATINEN_HEMATOPOIETIC_STEM_CELL_DN   | 2 | 0.6681586 | 7.201871e-06 | 3.123299e-05 |\n",
       "| 6 | GSE22886_NAIVE_BCELL_VS_NEUTROPHIL_DN | 2 | 0.7329111 | 1.250484e-08 | 1.246018e-07 |\n",
       "\n"
      ],
      "text/plain": [
       "  pathway                               LV index AUC       p-value     \n",
       "1 GSE22886_NAIVE_BCELL_VS_NEUTROPHIL_DN 1        0.6954388 2.599358e-06\n",
       "2 GSE6269_HEALTHY_VS_FLU_INF_PBMC_DN    1        0.5830656 4.056264e-02\n",
       "3 IRIS_Monocyte-Day0                    2        0.7125120 3.787728e-07\n",
       "4 SVM Neutrophils                       2        0.7610136 1.864576e-04\n",
       "5 JAATINEN_HEMATOPOIETIC_STEM_CELL_DN   2        0.6681586 7.201871e-06\n",
       "6 GSE22886_NAIVE_BCELL_VS_NEUTROPHIL_DN 2        0.7329111 1.250484e-08\n",
       "  FDR         \n",
       "1 1.302792e-05\n",
       "2 5.783804e-02\n",
       "3 2.401764e-06\n",
       "4 5.363059e-04\n",
       "5 3.123299e-05\n",
       "6 1.246018e-07"
      ]
     },
     "metadata": {},
     "output_type": "display_data"
    }
   ],
   "source": [
    "head(model$summary)"
   ]
  },
  {
   "cell_type": "code",
   "execution_count": 4,
   "id": "40bdb1ef-25e9-4bdf-8237-104ec0a2cb6a",
   "metadata": {},
   "outputs": [
    {
     "data": {
      "text/html": [
       "<table class=\"dataframe\">\n",
       "<caption>A data.frame: 6 × 5</caption>\n",
       "<thead>\n",
       "\t<tr><th></th><th scope=col>pathway</th><th scope=col>LV index</th><th scope=col>AUC</th><th scope=col>p-value</th><th scope=col>FDR</th></tr>\n",
       "\t<tr><th></th><th scope=col>&lt;chr&gt;</th><th scope=col>&lt;chr&gt;</th><th scope=col>&lt;dbl&gt;</th><th scope=col>&lt;dbl&gt;</th><th scope=col>&lt;dbl&gt;</th></tr>\n",
       "</thead>\n",
       "<tbody>\n",
       "\t<tr><th scope=row>1</th><td>GSE22886_NAIVE_BCELL_VS_NEUTROPHIL_DN</td><td>1</td><td>0.6954388</td><td>2.599358e-06</td><td>1.302792e-05</td></tr>\n",
       "\t<tr><th scope=row>2</th><td>GSE6269_HEALTHY_VS_FLU_INF_PBMC_DN   </td><td>1</td><td>0.5830656</td><td>4.056264e-02</td><td>5.783804e-02</td></tr>\n",
       "\t<tr><th scope=row>3</th><td>IRIS_Monocyte-Day0                   </td><td>2</td><td>0.7125120</td><td>3.787728e-07</td><td>2.401764e-06</td></tr>\n",
       "\t<tr><th scope=row>4</th><td>SVM Neutrophils                      </td><td>2</td><td>0.7610136</td><td>1.864576e-04</td><td>5.363059e-04</td></tr>\n",
       "\t<tr><th scope=row>5</th><td>JAATINEN_HEMATOPOIETIC_STEM_CELL_DN  </td><td>2</td><td>0.6681586</td><td>7.201871e-06</td><td>3.123299e-05</td></tr>\n",
       "\t<tr><th scope=row>6</th><td>GSE22886_NAIVE_BCELL_VS_NEUTROPHIL_DN</td><td>2</td><td>0.7329111</td><td>1.250484e-08</td><td>1.246018e-07</td></tr>\n",
       "</tbody>\n",
       "</table>\n"
      ],
      "text/latex": [
       "A data.frame: 6 × 5\n",
       "\\begin{tabular}{r|lllll}\n",
       "  & pathway & LV index & AUC & p-value & FDR\\\\\n",
       "  & <chr> & <chr> & <dbl> & <dbl> & <dbl>\\\\\n",
       "\\hline\n",
       "\t1 & GSE22886\\_NAIVE\\_BCELL\\_VS\\_NEUTROPHIL\\_DN & 1 & 0.6954388 & 2.599358e-06 & 1.302792e-05\\\\\n",
       "\t2 & GSE6269\\_HEALTHY\\_VS\\_FLU\\_INF\\_PBMC\\_DN    & 1 & 0.5830656 & 4.056264e-02 & 5.783804e-02\\\\\n",
       "\t3 & IRIS\\_Monocyte-Day0                    & 2 & 0.7125120 & 3.787728e-07 & 2.401764e-06\\\\\n",
       "\t4 & SVM Neutrophils                       & 2 & 0.7610136 & 1.864576e-04 & 5.363059e-04\\\\\n",
       "\t5 & JAATINEN\\_HEMATOPOIETIC\\_STEM\\_CELL\\_DN   & 2 & 0.6681586 & 7.201871e-06 & 3.123299e-05\\\\\n",
       "\t6 & GSE22886\\_NAIVE\\_BCELL\\_VS\\_NEUTROPHIL\\_DN & 2 & 0.7329111 & 1.250484e-08 & 1.246018e-07\\\\\n",
       "\\end{tabular}\n"
      ],
      "text/markdown": [
       "\n",
       "A data.frame: 6 × 5\n",
       "\n",
       "| <!--/--> | pathway &lt;chr&gt; | LV index &lt;chr&gt; | AUC &lt;dbl&gt; | p-value &lt;dbl&gt; | FDR &lt;dbl&gt; |\n",
       "|---|---|---|---|---|---|\n",
       "| 1 | GSE22886_NAIVE_BCELL_VS_NEUTROPHIL_DN | 1 | 0.6954388 | 2.599358e-06 | 1.302792e-05 |\n",
       "| 2 | GSE6269_HEALTHY_VS_FLU_INF_PBMC_DN    | 1 | 0.5830656 | 4.056264e-02 | 5.783804e-02 |\n",
       "| 3 | IRIS_Monocyte-Day0                    | 2 | 0.7125120 | 3.787728e-07 | 2.401764e-06 |\n",
       "| 4 | SVM Neutrophils                       | 2 | 0.7610136 | 1.864576e-04 | 5.363059e-04 |\n",
       "| 5 | JAATINEN_HEMATOPOIETIC_STEM_CELL_DN   | 2 | 0.6681586 | 7.201871e-06 | 3.123299e-05 |\n",
       "| 6 | GSE22886_NAIVE_BCELL_VS_NEUTROPHIL_DN | 2 | 0.7329111 | 1.250484e-08 | 1.246018e-07 |\n",
       "\n"
      ],
      "text/plain": [
       "  pathway                               LV index AUC       p-value     \n",
       "1 GSE22886_NAIVE_BCELL_VS_NEUTROPHIL_DN 1        0.6954388 2.599358e-06\n",
       "2 GSE6269_HEALTHY_VS_FLU_INF_PBMC_DN    1        0.5830656 4.056264e-02\n",
       "3 IRIS_Monocyte-Day0                    2        0.7125120 3.787728e-07\n",
       "4 SVM Neutrophils                       2        0.7610136 1.864576e-04\n",
       "5 JAATINEN_HEMATOPOIETIC_STEM_CELL_DN   2        0.6681586 7.201871e-06\n",
       "6 GSE22886_NAIVE_BCELL_VS_NEUTROPHIL_DN 2        0.7329111 1.250484e-08\n",
       "  FDR         \n",
       "1 1.302792e-05\n",
       "2 5.783804e-02\n",
       "3 2.401764e-06\n",
       "4 5.363059e-04\n",
       "5 3.123299e-05\n",
       "6 1.246018e-07"
      ]
     },
     "metadata": {},
     "output_type": "display_data"
    }
   ],
   "source": [
    "head(model$summary)"
   ]
  },
  {
   "cell_type": "code",
   "execution_count": 3,
   "id": "a5aa3ecc-b9e4-499b-ab1b-664f545763d9",
   "metadata": {},
   "outputs": [
    {
     "name": "stdout",
     "output_type": "stream",
     "text": [
      "[1] \"Saved: /home/msubirana/Documents/pivlab/plier_recount3/output/nbs/create_human_trisome_project_plier_model/htp_plier_model_k0.25_frac0.25_Smatrix.pkl\"\n",
      "[1] \"Saved: /home/msubirana/Documents/pivlab/plier_recount3/output/nbs/create_human_trisome_project_plier_model/htp_plier_model_k0.25_frac0.5_Smatrix.pkl\"\n",
      "[1] \"Saved: /home/msubirana/Documents/pivlab/plier_recount3/output/nbs/create_human_trisome_project_plier_model/htp_plier_model_k0.25_frac0.7_Smatrix.pkl\"\n",
      "[1] \"Saved: /home/msubirana/Documents/pivlab/plier_recount3/output/nbs/create_human_trisome_project_plier_model/htp_plier_model_k0.25_frac1_Smatrix.pkl\"\n",
      "[1] \"Saved: /home/msubirana/Documents/pivlab/plier_recount3/output/nbs/create_human_trisome_project_plier_model/htp_plier_model_k0.5_frac0.25_Smatrix.pkl\"\n",
      "[1] \"Saved: /home/msubirana/Documents/pivlab/plier_recount3/output/nbs/create_human_trisome_project_plier_model/htp_plier_model_k0.5_frac0.5_Smatrix.pkl\"\n",
      "[1] \"Saved: /home/msubirana/Documents/pivlab/plier_recount3/output/nbs/create_human_trisome_project_plier_model/htp_plier_model_k0.5_frac0.7_Smatrix.pkl\"\n",
      "[1] \"Saved: /home/msubirana/Documents/pivlab/plier_recount3/output/nbs/create_human_trisome_project_plier_model/htp_plier_model_k0.5_frac1_Smatrix.pkl\"\n",
      "[1] \"Saved: /home/msubirana/Documents/pivlab/plier_recount3/output/nbs/create_human_trisome_project_plier_model/htp_plier_model_k0.75_frac0.25_Smatrix.pkl\"\n",
      "[1] \"Saved: /home/msubirana/Documents/pivlab/plier_recount3/output/nbs/create_human_trisome_project_plier_model/htp_plier_model_k0.75_frac0.5_Smatrix.pkl\"\n",
      "[1] \"Saved: /home/msubirana/Documents/pivlab/plier_recount3/output/nbs/create_human_trisome_project_plier_model/htp_plier_model_k0.75_frac0.7_Smatrix.pkl\"\n",
      "[1] \"Saved: /home/msubirana/Documents/pivlab/plier_recount3/output/nbs/create_human_trisome_project_plier_model/htp_plier_model_k0.75_frac1_Smatrix.pkl\"\n",
      "[1] \"Saved: /home/msubirana/Documents/pivlab/plier_recount3/output/nbs/create_human_trisome_project_plier_model/htp_plier_model_k1_frac0.25_Smatrix.pkl\"\n",
      "[1] \"Saved: /home/msubirana/Documents/pivlab/plier_recount3/output/nbs/create_human_trisome_project_plier_model/htp_plier_model_k1_frac0.5_Smatrix.pkl\"\n",
      "[1] \"Saved: /home/msubirana/Documents/pivlab/plier_recount3/output/nbs/create_human_trisome_project_plier_model/htp_plier_model_k1_frac0.7_Smatrix.pkl\"\n",
      "[1] \"Saved: /home/msubirana/Documents/pivlab/plier_recount3/output/nbs/create_human_trisome_project_plier_model/htp_plier_model_k1_frac1_Smatrix.pkl\"\n",
      "[1] \"Saved: /home/msubirana/Documents/pivlab/plier_recount3/output/nbs/create_human_trisome_project_plier_model/htp_plier_model_k1.25_frac0.25_Smatrix.pkl\"\n",
      "[1] \"Saved: /home/msubirana/Documents/pivlab/plier_recount3/output/nbs/create_human_trisome_project_plier_model/htp_plier_model_k1.25_frac0.5_Smatrix.pkl\"\n",
      "[1] \"Saved: /home/msubirana/Documents/pivlab/plier_recount3/output/nbs/create_human_trisome_project_plier_model/htp_plier_model_k1.25_frac0.7_Smatrix.pkl\"\n",
      "[1] \"Saved: /home/msubirana/Documents/pivlab/plier_recount3/output/nbs/create_human_trisome_project_plier_model/htp_plier_model_k1.25_frac1_Smatrix.pkl\"\n",
      "[1] \"No Z matrix found in: /home/msubirana/Documents/pivlab/plier_recount3/output/nbs/create_human_trisome_project_plier_model//htp_plier_prep.rds\"\n"
     ]
    }
   ],
   "source": [
    "# Required libraries\n",
    "library(reticulate)\n",
    "\n",
    "# Function to extract Z matrix and save as pickle\n",
    "extract_and_save_Smatrix <- function(rds_file) {\n",
    "  # Load the RDS file\n",
    "  model <- readRDS(rds_file)\n",
    "    \n",
    "  if (!is.null(model$summary)) {\n",
    "    Smatrix <- model$summary\n",
    "    \n",
    "    # Convert to data frame to preserve row names\n",
    "    Smatrix_df <- as.data.frame(Smatrix)\n",
    "    \n",
    "    # Create the new filename\n",
    "    new_filename <- gsub(\".rds\", \"_Smatrix.pkl\", basename(rds_file))\n",
    "    new_filepath <- file.path(dirname(rds_file), new_filename)\n",
    "    \n",
    "    py_save_object(list(data = Smatrix_df, rownames = rownames(Smatrix_df)), new_filepath)\n",
    "    print(paste(\"Saved:\", new_filepath))\n",
    "  } else {\n",
    "    print(paste(\"No S matrix found in:\", rds_file))\n",
    "  }\n",
    "}\n",
    "\n",
    "# Folder containing the RDS files\n",
    "folder_path <- \"/home/msubirana/Documents/pivlab/plier_recount3/output/nbs/create_human_trisome_project_plier_model/\"\n",
    "\n",
    "# List all RDS files in the folder\n",
    "rds_files <- list.files(path = folder_path, pattern = \"\\\\.rds$\", full.names = TRUE)\n",
    "\n",
    "# Iterate through each RDS file and save the Z matrix\n",
    "for (rds_file in rds_files) {\n",
    "  extract_and_save_Smatrix(rds_file)\n",
    "}"
   ]
  },
  {
   "cell_type": "code",
   "execution_count": null,
   "id": "503c5ebf-d618-41b8-89c4-7511c7f5326f",
   "metadata": {},
   "outputs": [],
   "source": [
    "# Required libraries\n",
    "library(reticulate)\n",
    "\n",
    "# Function to extract Z matrix and save as pickle\n",
    "extract_and_save_Zmatrix <- function(rds_file) {\n",
    "  # Load the RDS file\n",
    "  model <- readRDS(rds_file)\n",
    "    \n",
    "  if (!is.null(model$Z)) {\n",
    "    Zmatrix <- model$Z\n",
    "    \n",
    "    # Convert to data frame to preserve row names\n",
    "    Zmatrix_df <- as.data.frame(Zmatrix)\n",
    "    \n",
    "    # Create the new filename\n",
    "    new_filename <- gsub(\".rds\", \"_Zmatrix.pkl\", basename(rds_file))\n",
    "    new_filepath <- file.path(dirname(rds_file), new_filename)\n",
    "    \n",
    "    py_save_object(list(data = Zmatrix_df, rownames = rownames(Zmatrix_df)), new_filepath)\n",
    "    print(paste(\"Saved:\", new_filepath))\n",
    "  } else {\n",
    "    print(paste(\"No Z matrix found in:\", rds_file))\n",
    "  }\n",
    "}\n",
    "\n",
    "# Folder containing the RDS files\n",
    "folder_path <- \"/home/msubirana/Documents/pivlab/plier_recount3/output/nbs/create_human_trisome_project_plier_model/\"\n",
    "\n",
    "# List all RDS files in the folder\n",
    "rds_files <- list.files(path = folder_path, pattern = \"\\\\.rds$\", full.names = TRUE)\n",
    "\n",
    "for (rds_file in rds_files) {\n",
    "  extract_and_save_Zmatrix(rds_file)\n",
    "}"
   ]
  },
  {
   "cell_type": "code",
   "execution_count": 6,
   "id": "9f0d24b9-1257-4f0d-bf63-1c341aff0b04",
   "metadata": {
    "collapsed": true,
    "jupyter": {
     "outputs_hidden": true
    }
   },
   "outputs": [
    {
     "name": "stdout",
     "output_type": "stream",
     "text": [
      "[1] \"Saved: /home/msubirana/Documents/pivlab/plier_recount3/output/nbs/create_human_trisome_project_plier_model/htp_plier_model_k0.25_frac0.25_Bmatrix.pkl\"\n",
      "[1] \"Saved: /home/msubirana/Documents/pivlab/plier_recount3/output/nbs/create_human_trisome_project_plier_model/htp_plier_model_k0.25_frac0.5_Bmatrix.pkl\"\n",
      "[1] \"Saved: /home/msubirana/Documents/pivlab/plier_recount3/output/nbs/create_human_trisome_project_plier_model/htp_plier_model_k0.25_frac0.7_Bmatrix.pkl\"\n",
      "[1] \"Saved: /home/msubirana/Documents/pivlab/plier_recount3/output/nbs/create_human_trisome_project_plier_model/htp_plier_model_k0.25_frac1_Bmatrix.pkl\"\n",
      "[1] \"Saved: /home/msubirana/Documents/pivlab/plier_recount3/output/nbs/create_human_trisome_project_plier_model/htp_plier_model_k0.5_frac0.25_Bmatrix.pkl\"\n",
      "[1] \"Saved: /home/msubirana/Documents/pivlab/plier_recount3/output/nbs/create_human_trisome_project_plier_model/htp_plier_model_k0.5_frac0.5_Bmatrix.pkl\"\n",
      "[1] \"Saved: /home/msubirana/Documents/pivlab/plier_recount3/output/nbs/create_human_trisome_project_plier_model/htp_plier_model_k0.5_frac0.7_Bmatrix.pkl\"\n",
      "[1] \"Saved: /home/msubirana/Documents/pivlab/plier_recount3/output/nbs/create_human_trisome_project_plier_model/htp_plier_model_k0.5_frac1_Bmatrix.pkl\"\n",
      "[1] \"Saved: /home/msubirana/Documents/pivlab/plier_recount3/output/nbs/create_human_trisome_project_plier_model/htp_plier_model_k0.75_frac0.25_Bmatrix.pkl\"\n",
      "[1] \"Saved: /home/msubirana/Documents/pivlab/plier_recount3/output/nbs/create_human_trisome_project_plier_model/htp_plier_model_k0.75_frac0.5_Bmatrix.pkl\"\n",
      "[1] \"Saved: /home/msubirana/Documents/pivlab/plier_recount3/output/nbs/create_human_trisome_project_plier_model/htp_plier_model_k0.75_frac0.7_Bmatrix.pkl\"\n",
      "[1] \"Saved: /home/msubirana/Documents/pivlab/plier_recount3/output/nbs/create_human_trisome_project_plier_model/htp_plier_model_k0.75_frac1_Bmatrix.pkl\"\n",
      "[1] \"Saved: /home/msubirana/Documents/pivlab/plier_recount3/output/nbs/create_human_trisome_project_plier_model/htp_plier_model_k1_frac0.25_Bmatrix.pkl\"\n",
      "[1] \"Saved: /home/msubirana/Documents/pivlab/plier_recount3/output/nbs/create_human_trisome_project_plier_model/htp_plier_model_k1_frac0.5_Bmatrix.pkl\"\n",
      "[1] \"Saved: /home/msubirana/Documents/pivlab/plier_recount3/output/nbs/create_human_trisome_project_plier_model/htp_plier_model_k1_frac0.7_Bmatrix.pkl\"\n",
      "[1] \"Saved: /home/msubirana/Documents/pivlab/plier_recount3/output/nbs/create_human_trisome_project_plier_model/htp_plier_model_k1_frac1_Bmatrix.pkl\"\n",
      "[1] \"Saved: /home/msubirana/Documents/pivlab/plier_recount3/output/nbs/create_human_trisome_project_plier_model/htp_plier_model_k1.25_frac0.25_Bmatrix.pkl\"\n",
      "[1] \"Saved: /home/msubirana/Documents/pivlab/plier_recount3/output/nbs/create_human_trisome_project_plier_model/htp_plier_model_k1.25_frac0.5_Bmatrix.pkl\"\n",
      "[1] \"Saved: /home/msubirana/Documents/pivlab/plier_recount3/output/nbs/create_human_trisome_project_plier_model/htp_plier_model_k1.25_frac0.7_Bmatrix.pkl\"\n",
      "[1] \"Saved: /home/msubirana/Documents/pivlab/plier_recount3/output/nbs/create_human_trisome_project_plier_model/htp_plier_model_k1.25_frac1_Bmatrix.pkl\"\n",
      "[1] \"No B matrix found in: /home/msubirana/Documents/pivlab/plier_recount3/output/nbs/create_human_trisome_project_plier_model//htp_plier_prep.rds\"\n"
     ]
    }
   ],
   "source": [
    "# Required libraries\n",
    "library(reticulate)\n",
    "\n",
    "# Function to extract Z matrix and save as pickle\n",
    "extract_and_save_Bmatrix <- function(rds_file) {\n",
    "  # Load the RDS file\n",
    "  model <- readRDS(rds_file)\n",
    "    \n",
    "  # Check if Z matrix exists in the model\n",
    "  if (!is.null(model$B)) {\n",
    "    Bmatrix <- model$B\n",
    "    \n",
    "    # Convert to data frame to preserve row names\n",
    "    Bmatrix_df <- as.data.frame(Bmatrix)\n",
    "    \n",
    "    # Create the new filename\n",
    "    new_filename <- gsub(\".rds\", \"_Bmatrix.pkl\", basename(rds_file))\n",
    "    new_filepath <- file.path(dirname(rds_file), new_filename)\n",
    "    \n",
    "    py_save_object(list(data = Bmatrix_df, rownames = rownames(Bmatrix_df)), new_filepath)\n",
    "    print(paste(\"Saved:\", new_filepath))\n",
    "  } else {\n",
    "    print(paste(\"No B matrix found in:\", rds_file))\n",
    "  }\n",
    "}\n",
    "\n",
    "# Folder containing the RDS files\n",
    "folder_path <- \"/home/msubirana/Documents/pivlab/plier_recount3/output/nbs/create_human_trisome_project_plier_model/\"\n",
    "\n",
    "# List all RDS files in the folder\n",
    "rds_files <- list.files(path = folder_path, pattern = \"\\\\.rds$\", full.names = TRUE)\n",
    "\n",
    "for (rds_file in rds_files) {\n",
    "  extract_and_save_Bmatrix(rds_file)\n",
    "}"
   ]
  },
  {
   "cell_type": "code",
   "execution_count": 8,
   "id": "78222e30-18cf-4c41-934f-1c08ef1a4d5f",
   "metadata": {},
   "outputs": [
    {
     "data": {
      "text/html": [
       "<table class=\"dataframe\">\n",
       "<caption>A matrix: 6 × 400 of type dbl</caption>\n",
       "<thead>\n",
       "\t<tr><th></th><th scope=col>HTP0001B2</th><th scope=col>HTP0005A3</th><th scope=col>HTP0012A2</th><th scope=col>HTP0015A4</th><th scope=col>HTP0017A4</th><th scope=col>HTP0018B3</th><th scope=col>HTP0019B2</th><th scope=col>HTP0022B2</th><th scope=col>HTP0023A2</th><th scope=col>HTP0025A3</th><th scope=col>⋯</th><th scope=col>HTP0664A</th><th scope=col>HTP0665A</th><th scope=col>HTP0666A</th><th scope=col>HTP0667A</th><th scope=col>HTP0668A</th><th scope=col>HTP0669B</th><th scope=col>HTP0672A</th><th scope=col>HTP0676A</th><th scope=col>HTP0706A</th><th scope=col>HTP0708A</th></tr>\n",
       "</thead>\n",
       "<tbody>\n",
       "\t<tr><th scope=row>1,REACTOME_PEPTIDE_CHAIN_ELONGATION</th><td>-0.6108434</td><td>-9.009083</td><td>-10.206490</td><td> 9.986517</td><td>-10.1403666</td><td>-6.348146</td><td>-9.935510</td><td>-14.014085</td><td>-4.6301797</td><td>-4.360353</td><td>⋯</td><td>-3.385458</td><td>-7.48676737</td><td>-9.132950</td><td>-10.544524</td><td>-7.508924</td><td>-16.809444</td><td>31.177522</td><td>17.470359</td><td>-13.0519945</td><td>-0.8564288</td></tr>\n",
       "\t<tr><th scope=row>LV 2</th><td> 2.6962190</td><td> 2.769784</td><td> -0.554537</td><td> 3.781958</td><td> -3.4129745</td><td>-2.413118</td><td>-1.054862</td><td>  0.477337</td><td> 0.3631974</td><td> 2.564386</td><td>⋯</td><td> 2.237535</td><td> 0.01865311</td><td> 2.951270</td><td>  1.880177</td><td> 1.660056</td><td>  4.431952</td><td>-2.252873</td><td>-2.447019</td><td>  9.3153408</td><td> 1.6928823</td></tr>\n",
       "\t<tr><th scope=row>LV 3</th><td>-1.1797677</td><td>-1.463770</td><td>  2.374020</td><td>-3.288448</td><td> -1.6183960</td><td>-1.784078</td><td>-2.636057</td><td> -2.316503</td><td>-2.1290493</td><td>-2.282522</td><td>⋯</td><td>-4.479712</td><td>-3.16811067</td><td> 0.786118</td><td>  5.428116</td><td>-5.058547</td><td> -3.611414</td><td>-4.370732</td><td>-2.302292</td><td> -2.3822441</td><td>-1.8417710</td></tr>\n",
       "\t<tr><th scope=row>LV 4</th><td> 7.3555757</td><td> 1.371222</td><td>  2.505185</td><td>-3.891941</td><td>  0.1602724</td><td>-2.986717</td><td>-2.573002</td><td> -4.499377</td><td>-0.6531970</td><td> 4.461181</td><td>⋯</td><td> 6.893498</td><td> 7.58195763</td><td> 5.425914</td><td>  2.807581</td><td>16.735534</td><td>  1.688125</td><td>27.427488</td><td> 8.484144</td><td> -0.4366538</td><td> 1.8511216</td></tr>\n",
       "\t<tr><th scope=row>5,GNATENKO_PLATELET_SIGNATURE</th><td> 7.3011450</td><td>19.135086</td><td> 16.146065</td><td>14.997703</td><td> 16.0030590</td><td>-1.082179</td><td>16.721404</td><td> 13.284810</td><td>22.1409055</td><td>28.349603</td><td>⋯</td><td>28.216431</td><td>12.25748508</td><td>33.680696</td><td>  5.161383</td><td> 7.359570</td><td> 12.239488</td><td> 8.970848</td><td> 5.691371</td><td> 40.1440856</td><td>16.1413037</td></tr>\n",
       "\t<tr><th scope=row>6,JAATINEN_HEMATOPOIETIC_STEM_CELL_DN</th><td> 0.7879881</td><td>-8.225203</td><td>  1.309326</td><td> 7.400386</td><td>  6.5777056</td><td> 8.893989</td><td> 3.038406</td><td> -3.466887</td><td> 3.0211283</td><td> 5.741593</td><td>⋯</td><td>-2.724972</td><td> 6.62202771</td><td>-4.299815</td><td> -8.259057</td><td>15.301550</td><td> -6.096878</td><td>12.914680</td><td> 7.120746</td><td> 16.4623827</td><td>-0.9260596</td></tr>\n",
       "</tbody>\n",
       "</table>\n"
      ],
      "text/latex": [
       "A matrix: 6 × 400 of type dbl\n",
       "\\begin{tabular}{r|lllllllllllllllllllll}\n",
       "  & HTP0001B2 & HTP0005A3 & HTP0012A2 & HTP0015A4 & HTP0017A4 & HTP0018B3 & HTP0019B2 & HTP0022B2 & HTP0023A2 & HTP0025A3 & ⋯ & HTP0664A & HTP0665A & HTP0666A & HTP0667A & HTP0668A & HTP0669B & HTP0672A & HTP0676A & HTP0706A & HTP0708A\\\\\n",
       "\\hline\n",
       "\t1,REACTOME\\_PEPTIDE\\_CHAIN\\_ELONGATION & -0.6108434 & -9.009083 & -10.206490 &  9.986517 & -10.1403666 & -6.348146 & -9.935510 & -14.014085 & -4.6301797 & -4.360353 & ⋯ & -3.385458 & -7.48676737 & -9.132950 & -10.544524 & -7.508924 & -16.809444 & 31.177522 & 17.470359 & -13.0519945 & -0.8564288\\\\\n",
       "\tLV 2 &  2.6962190 &  2.769784 &  -0.554537 &  3.781958 &  -3.4129745 & -2.413118 & -1.054862 &   0.477337 &  0.3631974 &  2.564386 & ⋯ &  2.237535 &  0.01865311 &  2.951270 &   1.880177 &  1.660056 &   4.431952 & -2.252873 & -2.447019 &   9.3153408 &  1.6928823\\\\\n",
       "\tLV 3 & -1.1797677 & -1.463770 &   2.374020 & -3.288448 &  -1.6183960 & -1.784078 & -2.636057 &  -2.316503 & -2.1290493 & -2.282522 & ⋯ & -4.479712 & -3.16811067 &  0.786118 &   5.428116 & -5.058547 &  -3.611414 & -4.370732 & -2.302292 &  -2.3822441 & -1.8417710\\\\\n",
       "\tLV 4 &  7.3555757 &  1.371222 &   2.505185 & -3.891941 &   0.1602724 & -2.986717 & -2.573002 &  -4.499377 & -0.6531970 &  4.461181 & ⋯ &  6.893498 &  7.58195763 &  5.425914 &   2.807581 & 16.735534 &   1.688125 & 27.427488 &  8.484144 &  -0.4366538 &  1.8511216\\\\\n",
       "\t5,GNATENKO\\_PLATELET\\_SIGNATURE &  7.3011450 & 19.135086 &  16.146065 & 14.997703 &  16.0030590 & -1.082179 & 16.721404 &  13.284810 & 22.1409055 & 28.349603 & ⋯ & 28.216431 & 12.25748508 & 33.680696 &   5.161383 &  7.359570 &  12.239488 &  8.970848 &  5.691371 &  40.1440856 & 16.1413037\\\\\n",
       "\t6,JAATINEN\\_HEMATOPOIETIC\\_STEM\\_CELL\\_DN &  0.7879881 & -8.225203 &   1.309326 &  7.400386 &   6.5777056 &  8.893989 &  3.038406 &  -3.466887 &  3.0211283 &  5.741593 & ⋯ & -2.724972 &  6.62202771 & -4.299815 &  -8.259057 & 15.301550 &  -6.096878 & 12.914680 &  7.120746 &  16.4623827 & -0.9260596\\\\\n",
       "\\end{tabular}\n"
      ],
      "text/markdown": [
       "\n",
       "A matrix: 6 × 400 of type dbl\n",
       "\n",
       "| <!--/--> | HTP0001B2 | HTP0005A3 | HTP0012A2 | HTP0015A4 | HTP0017A4 | HTP0018B3 | HTP0019B2 | HTP0022B2 | HTP0023A2 | HTP0025A3 | ⋯ | HTP0664A | HTP0665A | HTP0666A | HTP0667A | HTP0668A | HTP0669B | HTP0672A | HTP0676A | HTP0706A | HTP0708A |\n",
       "|---|---|---|---|---|---|---|---|---|---|---|---|---|---|---|---|---|---|---|---|---|---|\n",
       "| 1,REACTOME_PEPTIDE_CHAIN_ELONGATION | -0.6108434 | -9.009083 | -10.206490 |  9.986517 | -10.1403666 | -6.348146 | -9.935510 | -14.014085 | -4.6301797 | -4.360353 | ⋯ | -3.385458 | -7.48676737 | -9.132950 | -10.544524 | -7.508924 | -16.809444 | 31.177522 | 17.470359 | -13.0519945 | -0.8564288 |\n",
       "| LV 2 |  2.6962190 |  2.769784 |  -0.554537 |  3.781958 |  -3.4129745 | -2.413118 | -1.054862 |   0.477337 |  0.3631974 |  2.564386 | ⋯ |  2.237535 |  0.01865311 |  2.951270 |   1.880177 |  1.660056 |   4.431952 | -2.252873 | -2.447019 |   9.3153408 |  1.6928823 |\n",
       "| LV 3 | -1.1797677 | -1.463770 |   2.374020 | -3.288448 |  -1.6183960 | -1.784078 | -2.636057 |  -2.316503 | -2.1290493 | -2.282522 | ⋯ | -4.479712 | -3.16811067 |  0.786118 |   5.428116 | -5.058547 |  -3.611414 | -4.370732 | -2.302292 |  -2.3822441 | -1.8417710 |\n",
       "| LV 4 |  7.3555757 |  1.371222 |   2.505185 | -3.891941 |   0.1602724 | -2.986717 | -2.573002 |  -4.499377 | -0.6531970 |  4.461181 | ⋯ |  6.893498 |  7.58195763 |  5.425914 |   2.807581 | 16.735534 |   1.688125 | 27.427488 |  8.484144 |  -0.4366538 |  1.8511216 |\n",
       "| 5,GNATENKO_PLATELET_SIGNATURE |  7.3011450 | 19.135086 |  16.146065 | 14.997703 |  16.0030590 | -1.082179 | 16.721404 |  13.284810 | 22.1409055 | 28.349603 | ⋯ | 28.216431 | 12.25748508 | 33.680696 |   5.161383 |  7.359570 |  12.239488 |  8.970848 |  5.691371 |  40.1440856 | 16.1413037 |\n",
       "| 6,JAATINEN_HEMATOPOIETIC_STEM_CELL_DN |  0.7879881 | -8.225203 |   1.309326 |  7.400386 |   6.5777056 |  8.893989 |  3.038406 |  -3.466887 |  3.0211283 |  5.741593 | ⋯ | -2.724972 |  6.62202771 | -4.299815 |  -8.259057 | 15.301550 |  -6.096878 | 12.914680 |  7.120746 |  16.4623827 | -0.9260596 |\n",
       "\n"
      ],
      "text/plain": [
       "                                      HTP0001B2  HTP0005A3 HTP0012A2  HTP0015A4\n",
       "1,REACTOME_PEPTIDE_CHAIN_ELONGATION   -0.6108434 -9.009083 -10.206490  9.986517\n",
       "LV 2                                   2.6962190  2.769784  -0.554537  3.781958\n",
       "LV 3                                  -1.1797677 -1.463770   2.374020 -3.288448\n",
       "LV 4                                   7.3555757  1.371222   2.505185 -3.891941\n",
       "5,GNATENKO_PLATELET_SIGNATURE          7.3011450 19.135086  16.146065 14.997703\n",
       "6,JAATINEN_HEMATOPOIETIC_STEM_CELL_DN  0.7879881 -8.225203   1.309326  7.400386\n",
       "                                      HTP0017A4   HTP0018B3 HTP0019B2\n",
       "1,REACTOME_PEPTIDE_CHAIN_ELONGATION   -10.1403666 -6.348146 -9.935510\n",
       "LV 2                                   -3.4129745 -2.413118 -1.054862\n",
       "LV 3                                   -1.6183960 -1.784078 -2.636057\n",
       "LV 4                                    0.1602724 -2.986717 -2.573002\n",
       "5,GNATENKO_PLATELET_SIGNATURE          16.0030590 -1.082179 16.721404\n",
       "6,JAATINEN_HEMATOPOIETIC_STEM_CELL_DN   6.5777056  8.893989  3.038406\n",
       "                                      HTP0022B2  HTP0023A2  HTP0025A3 ⋯\n",
       "1,REACTOME_PEPTIDE_CHAIN_ELONGATION   -14.014085 -4.6301797 -4.360353 ⋯\n",
       "LV 2                                    0.477337  0.3631974  2.564386 ⋯\n",
       "LV 3                                   -2.316503 -2.1290493 -2.282522 ⋯\n",
       "LV 4                                   -4.499377 -0.6531970  4.461181 ⋯\n",
       "5,GNATENKO_PLATELET_SIGNATURE          13.284810 22.1409055 28.349603 ⋯\n",
       "6,JAATINEN_HEMATOPOIETIC_STEM_CELL_DN  -3.466887  3.0211283  5.741593 ⋯\n",
       "                                      HTP0664A  HTP0665A    HTP0666A \n",
       "1,REACTOME_PEPTIDE_CHAIN_ELONGATION   -3.385458 -7.48676737 -9.132950\n",
       "LV 2                                   2.237535  0.01865311  2.951270\n",
       "LV 3                                  -4.479712 -3.16811067  0.786118\n",
       "LV 4                                   6.893498  7.58195763  5.425914\n",
       "5,GNATENKO_PLATELET_SIGNATURE         28.216431 12.25748508 33.680696\n",
       "6,JAATINEN_HEMATOPOIETIC_STEM_CELL_DN -2.724972  6.62202771 -4.299815\n",
       "                                      HTP0667A   HTP0668A  HTP0669B   HTP0672A \n",
       "1,REACTOME_PEPTIDE_CHAIN_ELONGATION   -10.544524 -7.508924 -16.809444 31.177522\n",
       "LV 2                                    1.880177  1.660056   4.431952 -2.252873\n",
       "LV 3                                    5.428116 -5.058547  -3.611414 -4.370732\n",
       "LV 4                                    2.807581 16.735534   1.688125 27.427488\n",
       "5,GNATENKO_PLATELET_SIGNATURE           5.161383  7.359570  12.239488  8.970848\n",
       "6,JAATINEN_HEMATOPOIETIC_STEM_CELL_DN  -8.259057 15.301550  -6.096878 12.914680\n",
       "                                      HTP0676A  HTP0706A    HTP0708A  \n",
       "1,REACTOME_PEPTIDE_CHAIN_ELONGATION   17.470359 -13.0519945 -0.8564288\n",
       "LV 2                                  -2.447019   9.3153408  1.6928823\n",
       "LV 3                                  -2.302292  -2.3822441 -1.8417710\n",
       "LV 4                                   8.484144  -0.4366538  1.8511216\n",
       "5,GNATENKO_PLATELET_SIGNATURE          5.691371  40.1440856 16.1413037\n",
       "6,JAATINEN_HEMATOPOIETIC_STEM_CELL_DN  7.120746  16.4623827 -0.9260596"
      ]
     },
     "metadata": {},
     "output_type": "display_data"
    }
   ],
   "source": [
    "model <- readRDS(rds_files[1])\n",
    "Bmatrix <- model$B\n",
    "head(Bmatrix)"
   ]
  }
 ],
 "metadata": {
  "kernelspec": {
   "display_name": "R",
   "language": "R",
   "name": "ir"
  },
  "language_info": {
   "codemirror_mode": "r",
   "file_extension": ".r",
   "mimetype": "text/x-r-source",
   "name": "R",
   "pygments_lexer": "r",
   "version": "4.3.3"
  }
 },
 "nbformat": 4,
 "nbformat_minor": 5
}
