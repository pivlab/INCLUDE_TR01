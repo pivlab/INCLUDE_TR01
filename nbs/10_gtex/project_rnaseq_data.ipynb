{
 "cells": [
  {
   "cell_type": "code",
   "execution_count": 9,
   "id": "1a77164b-893b-4b5d-80df-a1785ea7dbcb",
   "metadata": {
    "editable": true,
    "scrolled": true,
    "slideshow": {
     "slide_type": ""
    },
    "tags": []
   },
   "outputs": [],
   "source": [
    "library(biomaRt)\n",
    "library (EDASeq)\n",
    "\n",
    "source(here::here('scripts/plier_util.R'))\n",
    "\n",
    "counts_matrix=here::here('data/GSE151282/GSE151282_Raw_gene_counts_matrix.txt')"
   ]
  },
  {
   "cell_type": "markdown",
   "id": "40f501c1-a742-4fbd-9987-4e070915b956",
   "metadata": {},
   "source": [
    "## TPM Normalization Process\n",
    "\n",
    "TPM (Transcripts Per Kilobase Million) is a method for normalizing RNA sequencing data. It helps in comparing gene expression levels across different samples. The steps to compute TPM are as follows:\n",
    "\n",
    "1. **Load the Data**: Import your gene count data into R.\n",
    "2. **Calculate Gene Lengths**: Obtain or calculate the length of each gene in kilobases. This data is necessary for the normalization process.\n",
    "3. **Compute Scaled Reads**: Divide each gene's read count by its length in kilobases to account for gene length and get scaled reads.\n",
    "4. **Sum Scaled Reads**: Calculate the sum of all the scaled reads across all genes in a sample. This sum will be used to normalize the read counts so that they are comparable across samples.\n",
    "5. **Calculate TPM**: Normalize each gene's scaled reads by the sum of scaled reads across all genes and multiply by 1,000,000. This final step adjusts for the total amount of transcript in each sample, allowing for comparisons across samples.\n"
   ]
  },
  {
   "cell_type": "code",
   "execution_count": 10,
   "id": "bc3c4856-9e4d-4ddd-9569-077f4f346562",
   "metadata": {
    "editable": true,
    "slideshow": {
     "slide_type": ""
    },
    "tags": []
   },
   "outputs": [
    {
     "data": {
      "text/html": [
       "<table class=\"dataframe\">\n",
       "<caption>A data.frame: 6 × 10</caption>\n",
       "<thead>\n",
       "\t<tr><th></th><th scope=col>Geneid</th><th scope=col>GeneSymbol</th><th scope=col>A2_T21</th><th scope=col>A1_T21</th><th scope=col>B1_N</th><th scope=col>B2_N</th><th scope=col>A3_T21</th><th scope=col>A4_T21</th><th scope=col>B4_N</th><th scope=col>B3_N</th></tr>\n",
       "\t<tr><th></th><th scope=col>&lt;chr&gt;</th><th scope=col>&lt;chr&gt;</th><th scope=col>&lt;int&gt;</th><th scope=col>&lt;int&gt;</th><th scope=col>&lt;int&gt;</th><th scope=col>&lt;int&gt;</th><th scope=col>&lt;int&gt;</th><th scope=col>&lt;int&gt;</th><th scope=col>&lt;int&gt;</th><th scope=col>&lt;int&gt;</th></tr>\n",
       "</thead>\n",
       "<tbody>\n",
       "\t<tr><th scope=row>1</th><td>ENSG00000223972</td><td>DDX11L1    </td><td> 0</td><td> 1</td><td> 3</td><td>0</td><td>0</td><td>1</td><td> 3</td><td>1</td></tr>\n",
       "\t<tr><th scope=row>2</th><td>ENSG00000227232</td><td>WASH7P     </td><td>12</td><td>56</td><td>21</td><td>6</td><td>1</td><td>1</td><td>11</td><td>3</td></tr>\n",
       "\t<tr><th scope=row>3</th><td>ENSG00000278267</td><td>MIR6859-1  </td><td> 0</td><td> 2</td><td> 3</td><td>1</td><td>0</td><td>0</td><td> 2</td><td>1</td></tr>\n",
       "\t<tr><th scope=row>4</th><td>ENSG00000243485</td><td>MIR1302-2HG</td><td> 0</td><td> 0</td><td> 0</td><td>0</td><td>0</td><td>0</td><td> 0</td><td>0</td></tr>\n",
       "\t<tr><th scope=row>5</th><td>ENSG00000284332</td><td>MIR1302-2  </td><td> 0</td><td> 0</td><td> 0</td><td>0</td><td>0</td><td>0</td><td> 0</td><td>0</td></tr>\n",
       "\t<tr><th scope=row>6</th><td>ENSG00000237613</td><td>FAM138A    </td><td> 0</td><td> 0</td><td> 0</td><td>1</td><td>0</td><td>0</td><td> 0</td><td>0</td></tr>\n",
       "</tbody>\n",
       "</table>\n"
      ],
      "text/latex": [
       "A data.frame: 6 × 10\n",
       "\\begin{tabular}{r|llllllllll}\n",
       "  & Geneid & GeneSymbol & A2\\_T21 & A1\\_T21 & B1\\_N & B2\\_N & A3\\_T21 & A4\\_T21 & B4\\_N & B3\\_N\\\\\n",
       "  & <chr> & <chr> & <int> & <int> & <int> & <int> & <int> & <int> & <int> & <int>\\\\\n",
       "\\hline\n",
       "\t1 & ENSG00000223972 & DDX11L1     &  0 &  1 &  3 & 0 & 0 & 1 &  3 & 1\\\\\n",
       "\t2 & ENSG00000227232 & WASH7P      & 12 & 56 & 21 & 6 & 1 & 1 & 11 & 3\\\\\n",
       "\t3 & ENSG00000278267 & MIR6859-1   &  0 &  2 &  3 & 1 & 0 & 0 &  2 & 1\\\\\n",
       "\t4 & ENSG00000243485 & MIR1302-2HG &  0 &  0 &  0 & 0 & 0 & 0 &  0 & 0\\\\\n",
       "\t5 & ENSG00000284332 & MIR1302-2   &  0 &  0 &  0 & 0 & 0 & 0 &  0 & 0\\\\\n",
       "\t6 & ENSG00000237613 & FAM138A     &  0 &  0 &  0 & 1 & 0 & 0 &  0 & 0\\\\\n",
       "\\end{tabular}\n"
      ],
      "text/markdown": [
       "\n",
       "A data.frame: 6 × 10\n",
       "\n",
       "| <!--/--> | Geneid &lt;chr&gt; | GeneSymbol &lt;chr&gt; | A2_T21 &lt;int&gt; | A1_T21 &lt;int&gt; | B1_N &lt;int&gt; | B2_N &lt;int&gt; | A3_T21 &lt;int&gt; | A4_T21 &lt;int&gt; | B4_N &lt;int&gt; | B3_N &lt;int&gt; |\n",
       "|---|---|---|---|---|---|---|---|---|---|---|\n",
       "| 1 | ENSG00000223972 | DDX11L1     |  0 |  1 |  3 | 0 | 0 | 1 |  3 | 1 |\n",
       "| 2 | ENSG00000227232 | WASH7P      | 12 | 56 | 21 | 6 | 1 | 1 | 11 | 3 |\n",
       "| 3 | ENSG00000278267 | MIR6859-1   |  0 |  2 |  3 | 1 | 0 | 0 |  2 | 1 |\n",
       "| 4 | ENSG00000243485 | MIR1302-2HG |  0 |  0 |  0 | 0 | 0 | 0 |  0 | 0 |\n",
       "| 5 | ENSG00000284332 | MIR1302-2   |  0 |  0 |  0 | 0 | 0 | 0 |  0 | 0 |\n",
       "| 6 | ENSG00000237613 | FAM138A     |  0 |  0 |  0 | 1 | 0 | 0 |  0 | 0 |\n",
       "\n"
      ],
      "text/plain": [
       "  Geneid          GeneSymbol  A2_T21 A1_T21 B1_N B2_N A3_T21 A4_T21 B4_N B3_N\n",
       "1 ENSG00000223972 DDX11L1      0      1      3   0    0      1       3   1   \n",
       "2 ENSG00000227232 WASH7P      12     56     21   6    1      1      11   3   \n",
       "3 ENSG00000278267 MIR6859-1    0      2      3   1    0      0       2   1   \n",
       "4 ENSG00000243485 MIR1302-2HG  0      0      0   0    0      0       0   0   \n",
       "5 ENSG00000284332 MIR1302-2    0      0      0   0    0      0       0   0   \n",
       "6 ENSG00000237613 FAM138A      0      0      0   1    0      0       0   0   "
      ]
     },
     "metadata": {},
     "output_type": "display_data"
    }
   ],
   "source": [
    "# Read the data using read_delim from the readr package\n",
    "gene_counts <- read.table(counts_matrix, header = TRUE, sep = \"\\t\", check.names = FALSE)\n",
    "\n",
    "# Display the first few rows of the data frame\n",
    "head(gene_counts)"
   ]
  },
  {
   "cell_type": "code",
   "execution_count": 11,
   "id": "bb6b9203-273a-4d4e-814b-a684210da5bd",
   "metadata": {
    "scrolled": true
   },
   "outputs": [],
   "source": [
    "library(biomaRt)\n",
    "ensembl_list <- gene_counts$Geneid\n",
    "human <- useMart(\"ensembl\", dataset=\"hsapiens_gene_ensembl\")\n",
    "gene_coords=getBM(attributes=c(\"hgnc_symbol\",\"ensembl_gene_id\", \"start_position\",\"end_position\"), filters=\"ensembl_gene_id\", values=ensembl_list, mart=human)\n",
    "gene_coords$size=gene_coords$end_position - gene_coords$start_position"
   ]
  },
  {
   "cell_type": "code",
   "execution_count": 12,
   "id": "d0ff80db-8c43-4983-b109-3170b1e51eba",
   "metadata": {},
   "outputs": [
    {
     "data": {
      "text/html": [
       "<table class=\"dataframe\">\n",
       "<caption>A data.frame: 6 × 2</caption>\n",
       "<thead>\n",
       "\t<tr><th></th><th scope=col>Geneid</th><th scope=col>size</th></tr>\n",
       "\t<tr><th></th><th scope=col>&lt;chr&gt;</th><th scope=col>&lt;int&gt;</th></tr>\n",
       "</thead>\n",
       "<tbody>\n",
       "\t<tr><th scope=row>1</th><td>ENSG00000000457</td><td> 44636</td></tr>\n",
       "\t<tr><th scope=row>2</th><td>ENSG00000000460</td><td>192073</td></tr>\n",
       "\t<tr><th scope=row>3</th><td>ENSG00000000938</td><td> 23121</td></tr>\n",
       "\t<tr><th scope=row>4</th><td>ENSG00000000971</td><td>100722</td></tr>\n",
       "\t<tr><th scope=row>5</th><td>ENSG00000001460</td><td> 59935</td></tr>\n",
       "\t<tr><th scope=row>6</th><td>ENSG00000001461</td><td> 57174</td></tr>\n",
       "</tbody>\n",
       "</table>\n"
      ],
      "text/latex": [
       "A data.frame: 6 × 2\n",
       "\\begin{tabular}{r|ll}\n",
       "  & Geneid & size\\\\\n",
       "  & <chr> & <int>\\\\\n",
       "\\hline\n",
       "\t1 & ENSG00000000457 &  44636\\\\\n",
       "\t2 & ENSG00000000460 & 192073\\\\\n",
       "\t3 & ENSG00000000938 &  23121\\\\\n",
       "\t4 & ENSG00000000971 & 100722\\\\\n",
       "\t5 & ENSG00000001460 &  59935\\\\\n",
       "\t6 & ENSG00000001461 &  57174\\\\\n",
       "\\end{tabular}\n"
      ],
      "text/markdown": [
       "\n",
       "A data.frame: 6 × 2\n",
       "\n",
       "| <!--/--> | Geneid &lt;chr&gt; | size &lt;int&gt; |\n",
       "|---|---|---|\n",
       "| 1 | ENSG00000000457 |  44636 |\n",
       "| 2 | ENSG00000000460 | 192073 |\n",
       "| 3 | ENSG00000000938 |  23121 |\n",
       "| 4 | ENSG00000000971 | 100722 |\n",
       "| 5 | ENSG00000001460 |  59935 |\n",
       "| 6 | ENSG00000001461 |  57174 |\n",
       "\n"
      ],
      "text/plain": [
       "  Geneid          size  \n",
       "1 ENSG00000000457  44636\n",
       "2 ENSG00000000460 192073\n",
       "3 ENSG00000000938  23121\n",
       "4 ENSG00000000971 100722\n",
       "5 ENSG00000001460  59935\n",
       "6 ENSG00000001461  57174"
      ]
     },
     "metadata": {},
     "output_type": "display_data"
    }
   ],
   "source": [
    "gene_coords=gene_coords[c('ensembl_gene_id', 'size')]\n",
    "colnames(gene_coords) = c('Geneid', 'size')\n",
    "head(gene_coords)"
   ]
  },
  {
   "cell_type": "code",
   "execution_count": 13,
   "id": "44ef4edc-5a09-47b1-94a6-b5791158424c",
   "metadata": {},
   "outputs": [
    {
     "name": "stderr",
     "output_type": "stream",
     "text": [
      "\u001b[1m\u001b[22mJoining with `by = join_by(Geneid)`\n"
     ]
    },
    {
     "data": {
      "text/html": [
       "<table class=\"dataframe\">\n",
       "<caption>A data.frame: 6 × 11</caption>\n",
       "<thead>\n",
       "\t<tr><th></th><th scope=col>Geneid</th><th scope=col>GeneSymbol</th><th scope=col>A2_T21</th><th scope=col>A1_T21</th><th scope=col>B1_N</th><th scope=col>B2_N</th><th scope=col>A3_T21</th><th scope=col>A4_T21</th><th scope=col>B4_N</th><th scope=col>B3_N</th><th scope=col>size</th></tr>\n",
       "\t<tr><th></th><th scope=col>&lt;chr&gt;</th><th scope=col>&lt;chr&gt;</th><th scope=col>&lt;int&gt;</th><th scope=col>&lt;int&gt;</th><th scope=col>&lt;int&gt;</th><th scope=col>&lt;int&gt;</th><th scope=col>&lt;int&gt;</th><th scope=col>&lt;int&gt;</th><th scope=col>&lt;int&gt;</th><th scope=col>&lt;int&gt;</th><th scope=col>&lt;int&gt;</th></tr>\n",
       "</thead>\n",
       "<tbody>\n",
       "\t<tr><th scope=row>DDX11L1</th><td>ENSG00000223972</td><td>DDX11L1    </td><td> 0</td><td> 1</td><td> 3</td><td>0</td><td>0</td><td>1</td><td> 3</td><td>1</td><td> 1660</td></tr>\n",
       "\t<tr><th scope=row>WASH7P</th><td>ENSG00000227232</td><td>WASH7P     </td><td>12</td><td>56</td><td>21</td><td>6</td><td>1</td><td>1</td><td>11</td><td>3</td><td>10190</td></tr>\n",
       "\t<tr><th scope=row>MIR6859-1</th><td>ENSG00000278267</td><td>MIR6859-1  </td><td> 0</td><td> 2</td><td> 3</td><td>1</td><td>0</td><td>0</td><td> 2</td><td>1</td><td>   67</td></tr>\n",
       "\t<tr><th scope=row>MIR1302-2HG</th><td>ENSG00000243485</td><td>MIR1302-2HG</td><td> 0</td><td> 0</td><td> 0</td><td>0</td><td>0</td><td>0</td><td> 0</td><td>0</td><td> 1555</td></tr>\n",
       "\t<tr><th scope=row>MIR1302-2</th><td>ENSG00000284332</td><td>MIR1302-2  </td><td> 0</td><td> 0</td><td> 0</td><td>0</td><td>0</td><td>0</td><td> 0</td><td>0</td><td>  137</td></tr>\n",
       "\t<tr><th scope=row>FAM138A</th><td>ENSG00000237613</td><td>FAM138A    </td><td> 0</td><td> 0</td><td> 0</td><td>1</td><td>0</td><td>0</td><td> 0</td><td>0</td><td> 1527</td></tr>\n",
       "</tbody>\n",
       "</table>\n"
      ],
      "text/latex": [
       "A data.frame: 6 × 11\n",
       "\\begin{tabular}{r|lllllllllll}\n",
       "  & Geneid & GeneSymbol & A2\\_T21 & A1\\_T21 & B1\\_N & B2\\_N & A3\\_T21 & A4\\_T21 & B4\\_N & B3\\_N & size\\\\\n",
       "  & <chr> & <chr> & <int> & <int> & <int> & <int> & <int> & <int> & <int> & <int> & <int>\\\\\n",
       "\\hline\n",
       "\tDDX11L1 & ENSG00000223972 & DDX11L1     &  0 &  1 &  3 & 0 & 0 & 1 &  3 & 1 &  1660\\\\\n",
       "\tWASH7P & ENSG00000227232 & WASH7P      & 12 & 56 & 21 & 6 & 1 & 1 & 11 & 3 & 10190\\\\\n",
       "\tMIR6859-1 & ENSG00000278267 & MIR6859-1   &  0 &  2 &  3 & 1 & 0 & 0 &  2 & 1 &    67\\\\\n",
       "\tMIR1302-2HG & ENSG00000243485 & MIR1302-2HG &  0 &  0 &  0 & 0 & 0 & 0 &  0 & 0 &  1555\\\\\n",
       "\tMIR1302-2 & ENSG00000284332 & MIR1302-2   &  0 &  0 &  0 & 0 & 0 & 0 &  0 & 0 &   137\\\\\n",
       "\tFAM138A & ENSG00000237613 & FAM138A     &  0 &  0 &  0 & 1 & 0 & 0 &  0 & 0 &  1527\\\\\n",
       "\\end{tabular}\n"
      ],
      "text/markdown": [
       "\n",
       "A data.frame: 6 × 11\n",
       "\n",
       "| <!--/--> | Geneid &lt;chr&gt; | GeneSymbol &lt;chr&gt; | A2_T21 &lt;int&gt; | A1_T21 &lt;int&gt; | B1_N &lt;int&gt; | B2_N &lt;int&gt; | A3_T21 &lt;int&gt; | A4_T21 &lt;int&gt; | B4_N &lt;int&gt; | B3_N &lt;int&gt; | size &lt;int&gt; |\n",
       "|---|---|---|---|---|---|---|---|---|---|---|---|\n",
       "| DDX11L1 | ENSG00000223972 | DDX11L1     |  0 |  1 |  3 | 0 | 0 | 1 |  3 | 1 |  1660 |\n",
       "| WASH7P | ENSG00000227232 | WASH7P      | 12 | 56 | 21 | 6 | 1 | 1 | 11 | 3 | 10190 |\n",
       "| MIR6859-1 | ENSG00000278267 | MIR6859-1   |  0 |  2 |  3 | 1 | 0 | 0 |  2 | 1 |    67 |\n",
       "| MIR1302-2HG | ENSG00000243485 | MIR1302-2HG |  0 |  0 |  0 | 0 | 0 | 0 |  0 | 0 |  1555 |\n",
       "| MIR1302-2 | ENSG00000284332 | MIR1302-2   |  0 |  0 |  0 | 0 | 0 | 0 |  0 | 0 |   137 |\n",
       "| FAM138A | ENSG00000237613 | FAM138A     |  0 |  0 |  0 | 1 | 0 | 0 |  0 | 0 |  1527 |\n",
       "\n"
      ],
      "text/plain": [
       "            Geneid          GeneSymbol  A2_T21 A1_T21 B1_N B2_N A3_T21 A4_T21\n",
       "DDX11L1     ENSG00000223972 DDX11L1      0      1      3   0    0      1     \n",
       "WASH7P      ENSG00000227232 WASH7P      12     56     21   6    1      1     \n",
       "MIR6859-1   ENSG00000278267 MIR6859-1    0      2      3   1    0      0     \n",
       "MIR1302-2HG ENSG00000243485 MIR1302-2HG  0      0      0   0    0      0     \n",
       "MIR1302-2   ENSG00000284332 MIR1302-2    0      0      0   0    0      0     \n",
       "FAM138A     ENSG00000237613 FAM138A      0      0      0   1    0      0     \n",
       "            B4_N B3_N size \n",
       "DDX11L1      3   1     1660\n",
       "WASH7P      11   3    10190\n",
       "MIR6859-1    2   1       67\n",
       "MIR1302-2HG  0   0     1555\n",
       "MIR1302-2    0   0      137\n",
       "FAM138A      0   0     1527"
      ]
     },
     "metadata": {},
     "output_type": "display_data"
    }
   ],
   "source": [
    "m_gene_counts = dplyr::left_join(gene_counts, gene_coords)\n",
    "m_gene_counts <- m_gene_counts[!duplicated(m_gene_counts[\"GeneSymbol\"]),]\n",
    "rownames(m_gene_counts) = m_gene_counts$GeneSymbol\n",
    "m_gene_counts = na.omit(m_gene_counts)\n",
    "head(m_gene_counts)"
   ]
  },
  {
   "cell_type": "code",
   "execution_count": 14,
   "id": "dcb5728b-587b-458e-a51b-6425ff7b3f77",
   "metadata": {
    "scrolled": true
   },
   "outputs": [
    {
     "data": {
      "text/html": [
       "<table class=\"dataframe\">\n",
       "<caption>A data.frame: 6 × 8</caption>\n",
       "<thead>\n",
       "\t<tr><th></th><th scope=col>A2_T21</th><th scope=col>A1_T21</th><th scope=col>B1_N</th><th scope=col>B2_N</th><th scope=col>A3_T21</th><th scope=col>A4_T21</th><th scope=col>B4_N</th><th scope=col>B3_N</th></tr>\n",
       "\t<tr><th></th><th scope=col>&lt;int&gt;</th><th scope=col>&lt;int&gt;</th><th scope=col>&lt;int&gt;</th><th scope=col>&lt;int&gt;</th><th scope=col>&lt;int&gt;</th><th scope=col>&lt;int&gt;</th><th scope=col>&lt;int&gt;</th><th scope=col>&lt;int&gt;</th></tr>\n",
       "</thead>\n",
       "<tbody>\n",
       "\t<tr><th scope=row>DDX11L1</th><td> 0</td><td> 1</td><td> 3</td><td>0</td><td>0</td><td>1</td><td> 3</td><td>1</td></tr>\n",
       "\t<tr><th scope=row>WASH7P</th><td>12</td><td>56</td><td>21</td><td>6</td><td>1</td><td>1</td><td>11</td><td>3</td></tr>\n",
       "\t<tr><th scope=row>MIR6859-1</th><td> 0</td><td> 2</td><td> 3</td><td>1</td><td>0</td><td>0</td><td> 2</td><td>1</td></tr>\n",
       "\t<tr><th scope=row>MIR1302-2HG</th><td> 0</td><td> 0</td><td> 0</td><td>0</td><td>0</td><td>0</td><td> 0</td><td>0</td></tr>\n",
       "\t<tr><th scope=row>MIR1302-2</th><td> 0</td><td> 0</td><td> 0</td><td>0</td><td>0</td><td>0</td><td> 0</td><td>0</td></tr>\n",
       "\t<tr><th scope=row>FAM138A</th><td> 0</td><td> 0</td><td> 0</td><td>1</td><td>0</td><td>0</td><td> 0</td><td>0</td></tr>\n",
       "</tbody>\n",
       "</table>\n"
      ],
      "text/latex": [
       "A data.frame: 6 × 8\n",
       "\\begin{tabular}{r|llllllll}\n",
       "  & A2\\_T21 & A1\\_T21 & B1\\_N & B2\\_N & A3\\_T21 & A4\\_T21 & B4\\_N & B3\\_N\\\\\n",
       "  & <int> & <int> & <int> & <int> & <int> & <int> & <int> & <int>\\\\\n",
       "\\hline\n",
       "\tDDX11L1 &  0 &  1 &  3 & 0 & 0 & 1 &  3 & 1\\\\\n",
       "\tWASH7P & 12 & 56 & 21 & 6 & 1 & 1 & 11 & 3\\\\\n",
       "\tMIR6859-1 &  0 &  2 &  3 & 1 & 0 & 0 &  2 & 1\\\\\n",
       "\tMIR1302-2HG &  0 &  0 &  0 & 0 & 0 & 0 &  0 & 0\\\\\n",
       "\tMIR1302-2 &  0 &  0 &  0 & 0 & 0 & 0 &  0 & 0\\\\\n",
       "\tFAM138A &  0 &  0 &  0 & 1 & 0 & 0 &  0 & 0\\\\\n",
       "\\end{tabular}\n"
      ],
      "text/markdown": [
       "\n",
       "A data.frame: 6 × 8\n",
       "\n",
       "| <!--/--> | A2_T21 &lt;int&gt; | A1_T21 &lt;int&gt; | B1_N &lt;int&gt; | B2_N &lt;int&gt; | A3_T21 &lt;int&gt; | A4_T21 &lt;int&gt; | B4_N &lt;int&gt; | B3_N &lt;int&gt; |\n",
       "|---|---|---|---|---|---|---|---|---|\n",
       "| DDX11L1 |  0 |  1 |  3 | 0 | 0 | 1 |  3 | 1 |\n",
       "| WASH7P | 12 | 56 | 21 | 6 | 1 | 1 | 11 | 3 |\n",
       "| MIR6859-1 |  0 |  2 |  3 | 1 | 0 | 0 |  2 | 1 |\n",
       "| MIR1302-2HG |  0 |  0 |  0 | 0 | 0 | 0 |  0 | 0 |\n",
       "| MIR1302-2 |  0 |  0 |  0 | 0 | 0 | 0 |  0 | 0 |\n",
       "| FAM138A |  0 |  0 |  0 | 1 | 0 | 0 |  0 | 0 |\n",
       "\n"
      ],
      "text/plain": [
       "            A2_T21 A1_T21 B1_N B2_N A3_T21 A4_T21 B4_N B3_N\n",
       "DDX11L1      0      1      3   0    0      1       3   1   \n",
       "WASH7P      12     56     21   6    1      1      11   3   \n",
       "MIR6859-1    0      2      3   1    0      0       2   1   \n",
       "MIR1302-2HG  0      0      0   0    0      0       0   0   \n",
       "MIR1302-2    0      0      0   0    0      0       0   0   \n",
       "FAM138A      0      0      0   1    0      0       0   0   "
      ]
     },
     "metadata": {},
     "output_type": "display_data"
    }
   ],
   "source": [
    "m_gene_counts_sub = subset(m_gene_counts, select = -c(Geneid, GeneSymbol, size))\n",
    "head(m_gene_counts_sub)"
   ]
  },
  {
   "cell_type": "code",
   "execution_count": 15,
   "id": "31fe572d-cd5a-4c7a-aed3-d81f81dea6c3",
   "metadata": {},
   "outputs": [
    {
     "data": {
      "text/html": [
       "<table class=\"dataframe\">\n",
       "<caption>A data.frame: 6 × 8</caption>\n",
       "<thead>\n",
       "\t<tr><th></th><th scope=col>A2_T21</th><th scope=col>A1_T21</th><th scope=col>B1_N</th><th scope=col>B2_N</th><th scope=col>A3_T21</th><th scope=col>A4_T21</th><th scope=col>B4_N</th><th scope=col>B3_N</th></tr>\n",
       "\t<tr><th></th><th scope=col>&lt;dbl&gt;</th><th scope=col>&lt;dbl&gt;</th><th scope=col>&lt;dbl&gt;</th><th scope=col>&lt;dbl&gt;</th><th scope=col>&lt;dbl&gt;</th><th scope=col>&lt;dbl&gt;</th><th scope=col>&lt;dbl&gt;</th><th scope=col>&lt;dbl&gt;</th></tr>\n",
       "</thead>\n",
       "<tbody>\n",
       "\t<tr><th scope=row>DDX11L1</th><td>0.0000000</td><td>0.1562536</td><td> 0.4171173</td><td>0.0000000</td><td>0.0000000</td><td>0.08917092</td><td>0.2520165</td><td>0.09060845</td></tr>\n",
       "\t<tr><th scope=row>WASH7P</th><td>0.3952496</td><td>1.4254501</td><td> 0.4756529</td><td>0.1417166</td><td>0.0147832</td><td>0.01452637</td><td>0.1505339</td><td>0.04428165</td></tr>\n",
       "\t<tr><th scope=row>MIR6859-1</th><td>0.0000000</td><td>7.7427165</td><td>10.3345477</td><td>3.5922695</td><td>0.0000000</td><td>0.00000000</td><td>4.1626608</td><td>2.24492569</td></tr>\n",
       "\t<tr><th scope=row>MIR1302-2HG</th><td>0.0000000</td><td>0.0000000</td><td> 0.0000000</td><td>0.0000000</td><td>0.0000000</td><td>0.00000000</td><td>0.0000000</td><td>0.00000000</td></tr>\n",
       "\t<tr><th scope=row>MIR1302-2</th><td>0.0000000</td><td>0.0000000</td><td> 0.0000000</td><td>0.0000000</td><td>0.0000000</td><td>0.00000000</td><td>0.0000000</td><td>0.00000000</td></tr>\n",
       "\t<tr><th scope=row>FAM138A</th><td>0.0000000</td><td>0.0000000</td><td> 0.0000000</td><td>0.1576176</td><td>0.0000000</td><td>0.00000000</td><td>0.0000000</td><td>0.00000000</td></tr>\n",
       "</tbody>\n",
       "</table>\n"
      ],
      "text/latex": [
       "A data.frame: 6 × 8\n",
       "\\begin{tabular}{r|llllllll}\n",
       "  & A2\\_T21 & A1\\_T21 & B1\\_N & B2\\_N & A3\\_T21 & A4\\_T21 & B4\\_N & B3\\_N\\\\\n",
       "  & <dbl> & <dbl> & <dbl> & <dbl> & <dbl> & <dbl> & <dbl> & <dbl>\\\\\n",
       "\\hline\n",
       "\tDDX11L1 & 0.0000000 & 0.1562536 &  0.4171173 & 0.0000000 & 0.0000000 & 0.08917092 & 0.2520165 & 0.09060845\\\\\n",
       "\tWASH7P & 0.3952496 & 1.4254501 &  0.4756529 & 0.1417166 & 0.0147832 & 0.01452637 & 0.1505339 & 0.04428165\\\\\n",
       "\tMIR6859-1 & 0.0000000 & 7.7427165 & 10.3345477 & 3.5922695 & 0.0000000 & 0.00000000 & 4.1626608 & 2.24492569\\\\\n",
       "\tMIR1302-2HG & 0.0000000 & 0.0000000 &  0.0000000 & 0.0000000 & 0.0000000 & 0.00000000 & 0.0000000 & 0.00000000\\\\\n",
       "\tMIR1302-2 & 0.0000000 & 0.0000000 &  0.0000000 & 0.0000000 & 0.0000000 & 0.00000000 & 0.0000000 & 0.00000000\\\\\n",
       "\tFAM138A & 0.0000000 & 0.0000000 &  0.0000000 & 0.1576176 & 0.0000000 & 0.00000000 & 0.0000000 & 0.00000000\\\\\n",
       "\\end{tabular}\n"
      ],
      "text/markdown": [
       "\n",
       "A data.frame: 6 × 8\n",
       "\n",
       "| <!--/--> | A2_T21 &lt;dbl&gt; | A1_T21 &lt;dbl&gt; | B1_N &lt;dbl&gt; | B2_N &lt;dbl&gt; | A3_T21 &lt;dbl&gt; | A4_T21 &lt;dbl&gt; | B4_N &lt;dbl&gt; | B3_N &lt;dbl&gt; |\n",
       "|---|---|---|---|---|---|---|---|---|\n",
       "| DDX11L1 | 0.0000000 | 0.1562536 |  0.4171173 | 0.0000000 | 0.0000000 | 0.08917092 | 0.2520165 | 0.09060845 |\n",
       "| WASH7P | 0.3952496 | 1.4254501 |  0.4756529 | 0.1417166 | 0.0147832 | 0.01452637 | 0.1505339 | 0.04428165 |\n",
       "| MIR6859-1 | 0.0000000 | 7.7427165 | 10.3345477 | 3.5922695 | 0.0000000 | 0.00000000 | 4.1626608 | 2.24492569 |\n",
       "| MIR1302-2HG | 0.0000000 | 0.0000000 |  0.0000000 | 0.0000000 | 0.0000000 | 0.00000000 | 0.0000000 | 0.00000000 |\n",
       "| MIR1302-2 | 0.0000000 | 0.0000000 |  0.0000000 | 0.0000000 | 0.0000000 | 0.00000000 | 0.0000000 | 0.00000000 |\n",
       "| FAM138A | 0.0000000 | 0.0000000 |  0.0000000 | 0.1576176 | 0.0000000 | 0.00000000 | 0.0000000 | 0.00000000 |\n",
       "\n"
      ],
      "text/plain": [
       "            A2_T21    A1_T21    B1_N       B2_N      A3_T21    A4_T21    \n",
       "DDX11L1     0.0000000 0.1562536  0.4171173 0.0000000 0.0000000 0.08917092\n",
       "WASH7P      0.3952496 1.4254501  0.4756529 0.1417166 0.0147832 0.01452637\n",
       "MIR6859-1   0.0000000 7.7427165 10.3345477 3.5922695 0.0000000 0.00000000\n",
       "MIR1302-2HG 0.0000000 0.0000000  0.0000000 0.0000000 0.0000000 0.00000000\n",
       "MIR1302-2   0.0000000 0.0000000  0.0000000 0.0000000 0.0000000 0.00000000\n",
       "FAM138A     0.0000000 0.0000000  0.0000000 0.1576176 0.0000000 0.00000000\n",
       "            B4_N      B3_N      \n",
       "DDX11L1     0.2520165 0.09060845\n",
       "WASH7P      0.1505339 0.04428165\n",
       "MIR6859-1   4.1626608 2.24492569\n",
       "MIR1302-2HG 0.0000000 0.00000000\n",
       "MIR1302-2   0.0000000 0.00000000\n",
       "FAM138A     0.0000000 0.00000000"
      ]
     },
     "metadata": {},
     "output_type": "display_data"
    }
   ],
   "source": [
    "tpm <- function(counts,len) {\n",
    "  x <- counts/len\n",
    "  return(t(t(x)*1e6/colSums(x)))\n",
    "}\n",
    "\n",
    "gene_length = m_gene_counts$size\n",
    "tpm_gene_counts = tpm(m_gene_counts_sub, gene_length)\n",
    "tpm_gene_counts = data.frame(tpm_gene_counts)\n",
    "head(tpm_gene_counts)"
   ]
  },
  {
   "cell_type": "code",
   "execution_count": 16,
   "id": "59ba6858-30bd-4fe1-bd33-29db570774ff",
   "metadata": {},
   "outputs": [],
   "source": [
    "tpm_gene_counts = as.matrix(tpm_gene_counts)"
   ]
  },
  {
   "cell_type": "code",
   "execution_count": 36,
   "id": "558b4cbf-7049-4e21-a3ce-1f4ac879bbd0",
   "metadata": {},
   "outputs": [],
   "source": [
    "multiplier_z = readRDS('/home/msubirana/Documents/pivlab/plier_recount3/data/multiplier/multiplier_model_z.rds')\n",
    "multiplier_summary = readRDS('/home/msubirana/Documents/pivlab/plier_recount3/data/multiplier/multiplier_model_summary.rds')\n",
    "multiplier_b = readRDS('/home/msubirana/Documents/pivlab/plier_recount3/data/multiplier/multiplier_model_b.rds')\n",
    "\n",
    "multiplier_model = list('Z'=multiplier_z, 'L2'=multiplier_summary$`LV index`, 'B'=multiplier_b)"
   ]
  },
  {
   "cell_type": "code",
   "execution_count": 37,
   "id": "84cbcd0d-15a8-4d37-b3a3-602d3ab50432",
   "metadata": {},
   "outputs": [
    {
     "name": "stdout",
     "output_type": "stream",
     "text": [
      "'data.frame':\t2157 obs. of  5 variables:\n",
      " $ pathway : chr  \"KEGG_LYSINE_DEGRADATION\" \"REACTOME_MRNA_SPLICING\" \"MIPS_NOP56P_ASSOCIATED_PRE_RRNA_COMPLEX\" \"KEGG_DNA_REPLICATION\" ...\n",
      " $ LV index: chr  \"1\" \"1\" \"1\" \"1\" ...\n",
      " $ AUC     : num  0.388 0.733 0.681 0.549 0.639 ...\n",
      " $ p-value : num  8.66e-01 4.77e-05 1.63e-03 3.12e-01 2.17e-02 ...\n",
      " $ FDR     : num  0.956005 0.000582 0.011366 0.539951 0.083739 ...\n"
     ]
    }
   ],
   "source": [
    "str(multiplier_summary)"
   ]
  },
  {
   "cell_type": "code",
   "execution_count": 38,
   "id": "c4e033f9-a2c9-43fa-adb2-0fb422a882fa",
   "metadata": {},
   "outputs": [
    {
     "data": {
      "text/html": [
       "<table class=\"dataframe\">\n",
       "<caption>A matrix: 6 × 8 of type dbl</caption>\n",
       "<thead>\n",
       "\t<tr><th></th><th scope=col>A2_T21</th><th scope=col>A1_T21</th><th scope=col>B1_N</th><th scope=col>B2_N</th><th scope=col>A3_T21</th><th scope=col>A4_T21</th><th scope=col>B4_N</th><th scope=col>B3_N</th></tr>\n",
       "</thead>\n",
       "<tbody>\n",
       "\t<tr><th scope=row>GAS6</th><td> 0.38525105</td><td>2.335843</td><td>-0.2671489</td><td>-0.3486633</td><td>-0.7588974</td><td>-0.5696715</td><td>-0.4023682</td><td>-0.3743446</td></tr>\n",
       "\t<tr><th scope=row>MMP14</th><td> 0.02997315</td><td>2.304308</td><td> 0.3856067</td><td>-0.3739623</td><td>-0.6623636</td><td>-0.6667964</td><td>-0.5238539</td><td>-0.4929113</td></tr>\n",
       "\t<tr><th scope=row>DSP</th><td>-0.74662704</td><td>2.328754</td><td>-0.3691698</td><td>-0.5498219</td><td>-0.6850377</td><td>-0.2624724</td><td> 0.1085772</td><td> 0.1757974</td></tr>\n",
       "\t<tr><th scope=row>MARCKSL1</th><td> 0.44470145</td><td>2.178579</td><td> 0.3538959</td><td>-0.2541940</td><td>-0.7716732</td><td>-0.6781772</td><td>-0.6235204</td><td>-0.6496117</td></tr>\n",
       "\t<tr><th scope=row>SPARC</th><td> 0.48548818</td><td>1.550855</td><td> 0.4871936</td><td> 0.9012518</td><td>-1.1533147</td><td>-1.1079444</td><td>-0.3881671</td><td>-0.7753627</td></tr>\n",
       "\t<tr><th scope=row>CTSD</th><td> 0.79732434</td><td>1.986567</td><td> 0.1790820</td><td> 0.1025432</td><td>-0.8844978</td><td>-0.7575774</td><td>-0.6574565</td><td>-0.7659845</td></tr>\n",
       "</tbody>\n",
       "</table>\n"
      ],
      "text/latex": [
       "A matrix: 6 × 8 of type dbl\n",
       "\\begin{tabular}{r|llllllll}\n",
       "  & A2\\_T21 & A1\\_T21 & B1\\_N & B2\\_N & A3\\_T21 & A4\\_T21 & B4\\_N & B3\\_N\\\\\n",
       "\\hline\n",
       "\tGAS6 &  0.38525105 & 2.335843 & -0.2671489 & -0.3486633 & -0.7588974 & -0.5696715 & -0.4023682 & -0.3743446\\\\\n",
       "\tMMP14 &  0.02997315 & 2.304308 &  0.3856067 & -0.3739623 & -0.6623636 & -0.6667964 & -0.5238539 & -0.4929113\\\\\n",
       "\tDSP & -0.74662704 & 2.328754 & -0.3691698 & -0.5498219 & -0.6850377 & -0.2624724 &  0.1085772 &  0.1757974\\\\\n",
       "\tMARCKSL1 &  0.44470145 & 2.178579 &  0.3538959 & -0.2541940 & -0.7716732 & -0.6781772 & -0.6235204 & -0.6496117\\\\\n",
       "\tSPARC &  0.48548818 & 1.550855 &  0.4871936 &  0.9012518 & -1.1533147 & -1.1079444 & -0.3881671 & -0.7753627\\\\\n",
       "\tCTSD &  0.79732434 & 1.986567 &  0.1790820 &  0.1025432 & -0.8844978 & -0.7575774 & -0.6574565 & -0.7659845\\\\\n",
       "\\end{tabular}\n"
      ],
      "text/markdown": [
       "\n",
       "A matrix: 6 × 8 of type dbl\n",
       "\n",
       "| <!--/--> | A2_T21 | A1_T21 | B1_N | B2_N | A3_T21 | A4_T21 | B4_N | B3_N |\n",
       "|---|---|---|---|---|---|---|---|---|\n",
       "| GAS6 |  0.38525105 | 2.335843 | -0.2671489 | -0.3486633 | -0.7588974 | -0.5696715 | -0.4023682 | -0.3743446 |\n",
       "| MMP14 |  0.02997315 | 2.304308 |  0.3856067 | -0.3739623 | -0.6623636 | -0.6667964 | -0.5238539 | -0.4929113 |\n",
       "| DSP | -0.74662704 | 2.328754 | -0.3691698 | -0.5498219 | -0.6850377 | -0.2624724 |  0.1085772 |  0.1757974 |\n",
       "| MARCKSL1 |  0.44470145 | 2.178579 |  0.3538959 | -0.2541940 | -0.7716732 | -0.6781772 | -0.6235204 | -0.6496117 |\n",
       "| SPARC |  0.48548818 | 1.550855 |  0.4871936 |  0.9012518 | -1.1533147 | -1.1079444 | -0.3881671 | -0.7753627 |\n",
       "| CTSD |  0.79732434 | 1.986567 |  0.1790820 |  0.1025432 | -0.8844978 | -0.7575774 | -0.6574565 | -0.7659845 |\n",
       "\n"
      ],
      "text/plain": [
       "         A2_T21      A1_T21   B1_N       B2_N       A3_T21     A4_T21    \n",
       "GAS6      0.38525105 2.335843 -0.2671489 -0.3486633 -0.7588974 -0.5696715\n",
       "MMP14     0.02997315 2.304308  0.3856067 -0.3739623 -0.6623636 -0.6667964\n",
       "DSP      -0.74662704 2.328754 -0.3691698 -0.5498219 -0.6850377 -0.2624724\n",
       "MARCKSL1  0.44470145 2.178579  0.3538959 -0.2541940 -0.7716732 -0.6781772\n",
       "SPARC     0.48548818 1.550855  0.4871936  0.9012518 -1.1533147 -1.1079444\n",
       "CTSD      0.79732434 1.986567  0.1790820  0.1025432 -0.8844978 -0.7575774\n",
       "         B4_N       B3_N      \n",
       "GAS6     -0.4023682 -0.3743446\n",
       "MMP14    -0.5238539 -0.4929113\n",
       "DSP       0.1085772  0.1757974\n",
       "MARCKSL1 -0.6235204 -0.6496117\n",
       "SPARC    -0.3881671 -0.7753627\n",
       "CTSD     -0.6574565 -0.7659845"
      ]
     },
     "metadata": {},
     "output_type": "display_data"
    }
   ],
   "source": [
    "ordered_tpm_gene_counts = GetOrderedRowNorm(tpm_gene_counts, multiplier_model)\n",
    "head(ordered_tpm_gene_counts)"
   ]
  },
  {
   "cell_type": "code",
   "execution_count": 39,
   "id": "b402a59d-0fb3-4d38-a3cb-72053f871842",
   "metadata": {
    "editable": true,
    "slideshow": {
     "slide_type": ""
    },
    "tags": []
   },
   "outputs": [
    {
     "data": {
      "text/html": [
       "<table class=\"dataframe\">\n",
       "<caption>A matrix: 6 × 987 of type dbl</caption>\n",
       "<tbody>\n",
       "\t<tr><th scope=row>GAS6</th><td>0.0000000</td><td>0</td><td>0.03943774</td><td>0</td><td>0.05047625</td><td>0.00000000</td><td>0.0000000</td><td>0.000000000</td><td>0.5909494</td><td>0.00000000</td><td>⋯</td><td>0.05012510</td><td>0.00000000</td><td>0.033407371</td><td>0.00000000</td><td>0.00000000</td><td>0.0059633917</td><td>0.34736209</td><td>0</td><td>0.00000000</td><td>0.00000000</td></tr>\n",
       "\t<tr><th scope=row>MMP14</th><td>0.0000000</td><td>0</td><td>0.00000000</td><td>0</td><td>0.07007159</td><td>0.00000000</td><td>0.0000000</td><td>0.004904131</td><td>1.7201788</td><td>2.42359463</td><td>⋯</td><td>0.00000000</td><td>0.00000000</td><td>0.001007286</td><td>0.00000000</td><td>0.03574724</td><td>0.0000000000</td><td>0.00000000</td><td>0</td><td>0.01497801</td><td>0.00000000</td></tr>\n",
       "\t<tr><th scope=row>DSP</th><td>0.0000000</td><td>0</td><td>0.00000000</td><td>0</td><td>0.00000000</td><td>0.04169683</td><td>0.0000000</td><td>0.005718149</td><td>0.0000000</td><td>0.00000000</td><td>⋯</td><td>0.02085321</td><td>0.00000000</td><td>0.000000000</td><td>0.00000000</td><td>0.00000000</td><td>0.0057744399</td><td>0.00000000</td><td>0</td><td>0.00000000</td><td>0.41640455</td></tr>\n",
       "\t<tr><th scope=row>MARCKSL1</th><td>0.3052117</td><td>0</td><td>0.00000000</td><td>0</td><td>0.00000000</td><td>0.00000000</td><td>0.0000000</td><td>0.000000000</td><td>0.1618435</td><td>0.14947148</td><td>⋯</td><td>0.02713418</td><td>0.05271997</td><td>0.000000000</td><td>0.03018947</td><td>0.06088351</td><td>0.0000000000</td><td>0.00000000</td><td>0</td><td>0.00000000</td><td>0.44847996</td></tr>\n",
       "\t<tr><th scope=row>SPARC</th><td>0.0000000</td><td>0</td><td>0.00000000</td><td>0</td><td>0.00000000</td><td>0.00000000</td><td>0.0000000</td><td>0.000000000</td><td>0.0000000</td><td>0.01401441</td><td>⋯</td><td>0.00000000</td><td>0.00000000</td><td>0.000000000</td><td>0.00000000</td><td>0.00000000</td><td>0.0000000000</td><td>0.06777859</td><td>0</td><td>0.12241734</td><td>0.06266490</td></tr>\n",
       "\t<tr><th scope=row>CTSD</th><td>0.2778532</td><td>0</td><td>0.06459781</td><td>0</td><td>0.00000000</td><td>0.00000000</td><td>0.4694809</td><td>0.099949232</td><td>0.9717295</td><td>0.43334911</td><td>⋯</td><td>0.00000000</td><td>0.01907577</td><td>0.008904815</td><td>0.00000000</td><td>0.00000000</td><td>0.0007222884</td><td>0.00000000</td><td>0</td><td>0.00000000</td><td>0.06193245</td></tr>\n",
       "</tbody>\n",
       "</table>\n"
      ],
      "text/latex": [
       "A matrix: 6 × 987 of type dbl\n",
       "\\begin{tabular}{r|lllllllllllllllllllll}\n",
       "\tGAS6 & 0.0000000 & 0 & 0.03943774 & 0 & 0.05047625 & 0.00000000 & 0.0000000 & 0.000000000 & 0.5909494 & 0.00000000 & ⋯ & 0.05012510 & 0.00000000 & 0.033407371 & 0.00000000 & 0.00000000 & 0.0059633917 & 0.34736209 & 0 & 0.00000000 & 0.00000000\\\\\n",
       "\tMMP14 & 0.0000000 & 0 & 0.00000000 & 0 & 0.07007159 & 0.00000000 & 0.0000000 & 0.004904131 & 1.7201788 & 2.42359463 & ⋯ & 0.00000000 & 0.00000000 & 0.001007286 & 0.00000000 & 0.03574724 & 0.0000000000 & 0.00000000 & 0 & 0.01497801 & 0.00000000\\\\\n",
       "\tDSP & 0.0000000 & 0 & 0.00000000 & 0 & 0.00000000 & 0.04169683 & 0.0000000 & 0.005718149 & 0.0000000 & 0.00000000 & ⋯ & 0.02085321 & 0.00000000 & 0.000000000 & 0.00000000 & 0.00000000 & 0.0057744399 & 0.00000000 & 0 & 0.00000000 & 0.41640455\\\\\n",
       "\tMARCKSL1 & 0.3052117 & 0 & 0.00000000 & 0 & 0.00000000 & 0.00000000 & 0.0000000 & 0.000000000 & 0.1618435 & 0.14947148 & ⋯ & 0.02713418 & 0.05271997 & 0.000000000 & 0.03018947 & 0.06088351 & 0.0000000000 & 0.00000000 & 0 & 0.00000000 & 0.44847996\\\\\n",
       "\tSPARC & 0.0000000 & 0 & 0.00000000 & 0 & 0.00000000 & 0.00000000 & 0.0000000 & 0.000000000 & 0.0000000 & 0.01401441 & ⋯ & 0.00000000 & 0.00000000 & 0.000000000 & 0.00000000 & 0.00000000 & 0.0000000000 & 0.06777859 & 0 & 0.12241734 & 0.06266490\\\\\n",
       "\tCTSD & 0.2778532 & 0 & 0.06459781 & 0 & 0.00000000 & 0.00000000 & 0.4694809 & 0.099949232 & 0.9717295 & 0.43334911 & ⋯ & 0.00000000 & 0.01907577 & 0.008904815 & 0.00000000 & 0.00000000 & 0.0007222884 & 0.00000000 & 0 & 0.00000000 & 0.06193245\\\\\n",
       "\\end{tabular}\n"
      ],
      "text/markdown": [
       "\n",
       "A matrix: 6 × 987 of type dbl\n",
       "\n",
       "| GAS6 | 0.0000000 | 0 | 0.03943774 | 0 | 0.05047625 | 0.00000000 | 0.0000000 | 0.000000000 | 0.5909494 | 0.00000000 | ⋯ | 0.05012510 | 0.00000000 | 0.033407371 | 0.00000000 | 0.00000000 | 0.0059633917 | 0.34736209 | 0 | 0.00000000 | 0.00000000 |\n",
       "| MMP14 | 0.0000000 | 0 | 0.00000000 | 0 | 0.07007159 | 0.00000000 | 0.0000000 | 0.004904131 | 1.7201788 | 2.42359463 | ⋯ | 0.00000000 | 0.00000000 | 0.001007286 | 0.00000000 | 0.03574724 | 0.0000000000 | 0.00000000 | 0 | 0.01497801 | 0.00000000 |\n",
       "| DSP | 0.0000000 | 0 | 0.00000000 | 0 | 0.00000000 | 0.04169683 | 0.0000000 | 0.005718149 | 0.0000000 | 0.00000000 | ⋯ | 0.02085321 | 0.00000000 | 0.000000000 | 0.00000000 | 0.00000000 | 0.0057744399 | 0.00000000 | 0 | 0.00000000 | 0.41640455 |\n",
       "| MARCKSL1 | 0.3052117 | 0 | 0.00000000 | 0 | 0.00000000 | 0.00000000 | 0.0000000 | 0.000000000 | 0.1618435 | 0.14947148 | ⋯ | 0.02713418 | 0.05271997 | 0.000000000 | 0.03018947 | 0.06088351 | 0.0000000000 | 0.00000000 | 0 | 0.00000000 | 0.44847996 |\n",
       "| SPARC | 0.0000000 | 0 | 0.00000000 | 0 | 0.00000000 | 0.00000000 | 0.0000000 | 0.000000000 | 0.0000000 | 0.01401441 | ⋯ | 0.00000000 | 0.00000000 | 0.000000000 | 0.00000000 | 0.00000000 | 0.0000000000 | 0.06777859 | 0 | 0.12241734 | 0.06266490 |\n",
       "| CTSD | 0.2778532 | 0 | 0.06459781 | 0 | 0.00000000 | 0.00000000 | 0.4694809 | 0.099949232 | 0.9717295 | 0.43334911 | ⋯ | 0.00000000 | 0.01907577 | 0.008904815 | 0.00000000 | 0.00000000 | 0.0007222884 | 0.00000000 | 0 | 0.00000000 | 0.06193245 |\n",
       "\n"
      ],
      "text/plain": [
       "         [,1]      [,2] [,3]       [,4] [,5]       [,6]       [,7]     \n",
       "GAS6     0.0000000 0    0.03943774 0    0.05047625 0.00000000 0.0000000\n",
       "MMP14    0.0000000 0    0.00000000 0    0.07007159 0.00000000 0.0000000\n",
       "DSP      0.0000000 0    0.00000000 0    0.00000000 0.04169683 0.0000000\n",
       "MARCKSL1 0.3052117 0    0.00000000 0    0.00000000 0.00000000 0.0000000\n",
       "SPARC    0.0000000 0    0.00000000 0    0.00000000 0.00000000 0.0000000\n",
       "CTSD     0.2778532 0    0.06459781 0    0.00000000 0.00000000 0.4694809\n",
       "         [,8]        [,9]      [,10]      [,11] [,12]      [,13]     \n",
       "GAS6     0.000000000 0.5909494 0.00000000 ⋯     0.05012510 0.00000000\n",
       "MMP14    0.004904131 1.7201788 2.42359463 ⋯     0.00000000 0.00000000\n",
       "DSP      0.005718149 0.0000000 0.00000000 ⋯     0.02085321 0.00000000\n",
       "MARCKSL1 0.000000000 0.1618435 0.14947148 ⋯     0.02713418 0.05271997\n",
       "SPARC    0.000000000 0.0000000 0.01401441 ⋯     0.00000000 0.00000000\n",
       "CTSD     0.099949232 0.9717295 0.43334911 ⋯     0.00000000 0.01907577\n",
       "         [,14]       [,15]      [,16]      [,17]        [,18]      [,19]\n",
       "GAS6     0.033407371 0.00000000 0.00000000 0.0059633917 0.34736209 0    \n",
       "MMP14    0.001007286 0.00000000 0.03574724 0.0000000000 0.00000000 0    \n",
       "DSP      0.000000000 0.00000000 0.00000000 0.0057744399 0.00000000 0    \n",
       "MARCKSL1 0.000000000 0.03018947 0.06088351 0.0000000000 0.00000000 0    \n",
       "SPARC    0.000000000 0.00000000 0.00000000 0.0000000000 0.06777859 0    \n",
       "CTSD     0.008904815 0.00000000 0.00000000 0.0007222884 0.00000000 0    \n",
       "         [,20]      [,21]     \n",
       "GAS6     0.00000000 0.00000000\n",
       "MMP14    0.01497801 0.00000000\n",
       "DSP      0.00000000 0.41640455\n",
       "MARCKSL1 0.00000000 0.44847996\n",
       "SPARC    0.12241734 0.06266490\n",
       "CTSD     0.00000000 0.06193245"
      ]
     },
     "metadata": {},
     "output_type": "display_data"
    }
   ],
   "source": [
    "head(multiplier_z)"
   ]
  },
  {
   "cell_type": "code",
   "execution_count": 40,
   "id": "1dcd28b2-3ab5-4cc2-a3eb-06d22f0388a1",
   "metadata": {},
   "outputs": [],
   "source": [
    "exprs.mat=ordered_tpm_gene_counts\n",
    "plier.model=multiplier_model\n",
    "require(PLIER)"
   ]
  },
  {
   "cell_type": "code",
   "execution_count": 41,
   "id": "0267f98e-5234-4b6e-942c-727f61398a3e",
   "metadata": {},
   "outputs": [
    {
     "data": {
      "text/html": [
       "<table class=\"dataframe\">\n",
       "<caption>A matrix: 6 × 8 of type dbl</caption>\n",
       "<thead>\n",
       "\t<tr><th></th><th scope=col>A2_T21</th><th scope=col>A1_T21</th><th scope=col>B1_N</th><th scope=col>B2_N</th><th scope=col>A3_T21</th><th scope=col>A4_T21</th><th scope=col>B4_N</th><th scope=col>B3_N</th></tr>\n",
       "</thead>\n",
       "<tbody>\n",
       "\t<tr><th scope=row>GAS6</th><td> 0.38525105</td><td>2.335843</td><td>-0.2671489</td><td>-0.3486633</td><td>-0.7588974</td><td>-0.5696715</td><td>-0.4023682</td><td>-0.3743446</td></tr>\n",
       "\t<tr><th scope=row>MMP14</th><td> 0.02997315</td><td>2.304308</td><td> 0.3856067</td><td>-0.3739623</td><td>-0.6623636</td><td>-0.6667964</td><td>-0.5238539</td><td>-0.4929113</td></tr>\n",
       "\t<tr><th scope=row>DSP</th><td>-0.74662704</td><td>2.328754</td><td>-0.3691698</td><td>-0.5498219</td><td>-0.6850377</td><td>-0.2624724</td><td> 0.1085772</td><td> 0.1757974</td></tr>\n",
       "\t<tr><th scope=row>MARCKSL1</th><td> 0.44470145</td><td>2.178579</td><td> 0.3538959</td><td>-0.2541940</td><td>-0.7716732</td><td>-0.6781772</td><td>-0.6235204</td><td>-0.6496117</td></tr>\n",
       "\t<tr><th scope=row>SPARC</th><td> 0.48548818</td><td>1.550855</td><td> 0.4871936</td><td> 0.9012518</td><td>-1.1533147</td><td>-1.1079444</td><td>-0.3881671</td><td>-0.7753627</td></tr>\n",
       "\t<tr><th scope=row>CTSD</th><td> 0.79732434</td><td>1.986567</td><td> 0.1790820</td><td> 0.1025432</td><td>-0.8844978</td><td>-0.7575774</td><td>-0.6574565</td><td>-0.7659845</td></tr>\n",
       "</tbody>\n",
       "</table>\n"
      ],
      "text/latex": [
       "A matrix: 6 × 8 of type dbl\n",
       "\\begin{tabular}{r|llllllll}\n",
       "  & A2\\_T21 & A1\\_T21 & B1\\_N & B2\\_N & A3\\_T21 & A4\\_T21 & B4\\_N & B3\\_N\\\\\n",
       "\\hline\n",
       "\tGAS6 &  0.38525105 & 2.335843 & -0.2671489 & -0.3486633 & -0.7588974 & -0.5696715 & -0.4023682 & -0.3743446\\\\\n",
       "\tMMP14 &  0.02997315 & 2.304308 &  0.3856067 & -0.3739623 & -0.6623636 & -0.6667964 & -0.5238539 & -0.4929113\\\\\n",
       "\tDSP & -0.74662704 & 2.328754 & -0.3691698 & -0.5498219 & -0.6850377 & -0.2624724 &  0.1085772 &  0.1757974\\\\\n",
       "\tMARCKSL1 &  0.44470145 & 2.178579 &  0.3538959 & -0.2541940 & -0.7716732 & -0.6781772 & -0.6235204 & -0.6496117\\\\\n",
       "\tSPARC &  0.48548818 & 1.550855 &  0.4871936 &  0.9012518 & -1.1533147 & -1.1079444 & -0.3881671 & -0.7753627\\\\\n",
       "\tCTSD &  0.79732434 & 1.986567 &  0.1790820 &  0.1025432 & -0.8844978 & -0.7575774 & -0.6574565 & -0.7659845\\\\\n",
       "\\end{tabular}\n"
      ],
      "text/markdown": [
       "\n",
       "A matrix: 6 × 8 of type dbl\n",
       "\n",
       "| <!--/--> | A2_T21 | A1_T21 | B1_N | B2_N | A3_T21 | A4_T21 | B4_N | B3_N |\n",
       "|---|---|---|---|---|---|---|---|---|\n",
       "| GAS6 |  0.38525105 | 2.335843 | -0.2671489 | -0.3486633 | -0.7588974 | -0.5696715 | -0.4023682 | -0.3743446 |\n",
       "| MMP14 |  0.02997315 | 2.304308 |  0.3856067 | -0.3739623 | -0.6623636 | -0.6667964 | -0.5238539 | -0.4929113 |\n",
       "| DSP | -0.74662704 | 2.328754 | -0.3691698 | -0.5498219 | -0.6850377 | -0.2624724 |  0.1085772 |  0.1757974 |\n",
       "| MARCKSL1 |  0.44470145 | 2.178579 |  0.3538959 | -0.2541940 | -0.7716732 | -0.6781772 | -0.6235204 | -0.6496117 |\n",
       "| SPARC |  0.48548818 | 1.550855 |  0.4871936 |  0.9012518 | -1.1533147 | -1.1079444 | -0.3881671 | -0.7753627 |\n",
       "| CTSD |  0.79732434 | 1.986567 |  0.1790820 |  0.1025432 | -0.8844978 | -0.7575774 | -0.6574565 | -0.7659845 |\n",
       "\n"
      ],
      "text/plain": [
       "         A2_T21      A1_T21   B1_N       B2_N       A3_T21     A4_T21    \n",
       "GAS6      0.38525105 2.335843 -0.2671489 -0.3486633 -0.7588974 -0.5696715\n",
       "MMP14     0.02997315 2.304308  0.3856067 -0.3739623 -0.6623636 -0.6667964\n",
       "DSP      -0.74662704 2.328754 -0.3691698 -0.5498219 -0.6850377 -0.2624724\n",
       "MARCKSL1  0.44470145 2.178579  0.3538959 -0.2541940 -0.7716732 -0.6781772\n",
       "SPARC     0.48548818 1.550855  0.4871936  0.9012518 -1.1533147 -1.1079444\n",
       "CTSD      0.79732434 1.986567  0.1790820  0.1025432 -0.8844978 -0.7575774\n",
       "         B4_N       B3_N      \n",
       "GAS6     -0.4023682 -0.3743446\n",
       "MMP14    -0.5238539 -0.4929113\n",
       "DSP       0.1085772  0.1757974\n",
       "MARCKSL1 -0.6235204 -0.6496117\n",
       "SPARC    -0.3881671 -0.7753627\n",
       "CTSD     -0.6574565 -0.7659845"
      ]
     },
     "metadata": {},
     "output_type": "display_data"
    }
   ],
   "source": [
    "ord.rownorm <- GetOrderedRowNorm(exprs.mat, plier.model) \n",
    "head(ord.rownorm)"
   ]
  },
  {
   "cell_type": "code",
   "execution_count": 42,
   "id": "35514774-6681-4cfb-a05e-c01d912a81f7",
   "metadata": {},
   "outputs": [
    {
     "data": {
      "text/html": [
       "<table class=\"dataframe\">\n",
       "<caption>A matrix: 6 × 987 of type dbl</caption>\n",
       "<tbody>\n",
       "\t<tr><th scope=row>GAS6</th><td>0.0000000</td><td>0</td><td>0.03943774</td><td>0</td><td>0.05047625</td><td>0.00000000</td><td>0.0000000</td><td>0.000000000</td><td>0.5909494</td><td>0.00000000</td><td>⋯</td><td>0.05012510</td><td>0.00000000</td><td>0.033407371</td><td>0.00000000</td><td>0.00000000</td><td>0.0059633917</td><td>0.34736209</td><td>0</td><td>0.00000000</td><td>0.00000000</td></tr>\n",
       "\t<tr><th scope=row>MMP14</th><td>0.0000000</td><td>0</td><td>0.00000000</td><td>0</td><td>0.07007159</td><td>0.00000000</td><td>0.0000000</td><td>0.004904131</td><td>1.7201788</td><td>2.42359463</td><td>⋯</td><td>0.00000000</td><td>0.00000000</td><td>0.001007286</td><td>0.00000000</td><td>0.03574724</td><td>0.0000000000</td><td>0.00000000</td><td>0</td><td>0.01497801</td><td>0.00000000</td></tr>\n",
       "\t<tr><th scope=row>DSP</th><td>0.0000000</td><td>0</td><td>0.00000000</td><td>0</td><td>0.00000000</td><td>0.04169683</td><td>0.0000000</td><td>0.005718149</td><td>0.0000000</td><td>0.00000000</td><td>⋯</td><td>0.02085321</td><td>0.00000000</td><td>0.000000000</td><td>0.00000000</td><td>0.00000000</td><td>0.0057744399</td><td>0.00000000</td><td>0</td><td>0.00000000</td><td>0.41640455</td></tr>\n",
       "\t<tr><th scope=row>MARCKSL1</th><td>0.3052117</td><td>0</td><td>0.00000000</td><td>0</td><td>0.00000000</td><td>0.00000000</td><td>0.0000000</td><td>0.000000000</td><td>0.1618435</td><td>0.14947148</td><td>⋯</td><td>0.02713418</td><td>0.05271997</td><td>0.000000000</td><td>0.03018947</td><td>0.06088351</td><td>0.0000000000</td><td>0.00000000</td><td>0</td><td>0.00000000</td><td>0.44847996</td></tr>\n",
       "\t<tr><th scope=row>SPARC</th><td>0.0000000</td><td>0</td><td>0.00000000</td><td>0</td><td>0.00000000</td><td>0.00000000</td><td>0.0000000</td><td>0.000000000</td><td>0.0000000</td><td>0.01401441</td><td>⋯</td><td>0.00000000</td><td>0.00000000</td><td>0.000000000</td><td>0.00000000</td><td>0.00000000</td><td>0.0000000000</td><td>0.06777859</td><td>0</td><td>0.12241734</td><td>0.06266490</td></tr>\n",
       "\t<tr><th scope=row>CTSD</th><td>0.2778532</td><td>0</td><td>0.06459781</td><td>0</td><td>0.00000000</td><td>0.00000000</td><td>0.4694809</td><td>0.099949232</td><td>0.9717295</td><td>0.43334911</td><td>⋯</td><td>0.00000000</td><td>0.01907577</td><td>0.008904815</td><td>0.00000000</td><td>0.00000000</td><td>0.0007222884</td><td>0.00000000</td><td>0</td><td>0.00000000</td><td>0.06193245</td></tr>\n",
       "</tbody>\n",
       "</table>\n"
      ],
      "text/latex": [
       "A matrix: 6 × 987 of type dbl\n",
       "\\begin{tabular}{r|lllllllllllllllllllll}\n",
       "\tGAS6 & 0.0000000 & 0 & 0.03943774 & 0 & 0.05047625 & 0.00000000 & 0.0000000 & 0.000000000 & 0.5909494 & 0.00000000 & ⋯ & 0.05012510 & 0.00000000 & 0.033407371 & 0.00000000 & 0.00000000 & 0.0059633917 & 0.34736209 & 0 & 0.00000000 & 0.00000000\\\\\n",
       "\tMMP14 & 0.0000000 & 0 & 0.00000000 & 0 & 0.07007159 & 0.00000000 & 0.0000000 & 0.004904131 & 1.7201788 & 2.42359463 & ⋯ & 0.00000000 & 0.00000000 & 0.001007286 & 0.00000000 & 0.03574724 & 0.0000000000 & 0.00000000 & 0 & 0.01497801 & 0.00000000\\\\\n",
       "\tDSP & 0.0000000 & 0 & 0.00000000 & 0 & 0.00000000 & 0.04169683 & 0.0000000 & 0.005718149 & 0.0000000 & 0.00000000 & ⋯ & 0.02085321 & 0.00000000 & 0.000000000 & 0.00000000 & 0.00000000 & 0.0057744399 & 0.00000000 & 0 & 0.00000000 & 0.41640455\\\\\n",
       "\tMARCKSL1 & 0.3052117 & 0 & 0.00000000 & 0 & 0.00000000 & 0.00000000 & 0.0000000 & 0.000000000 & 0.1618435 & 0.14947148 & ⋯ & 0.02713418 & 0.05271997 & 0.000000000 & 0.03018947 & 0.06088351 & 0.0000000000 & 0.00000000 & 0 & 0.00000000 & 0.44847996\\\\\n",
       "\tSPARC & 0.0000000 & 0 & 0.00000000 & 0 & 0.00000000 & 0.00000000 & 0.0000000 & 0.000000000 & 0.0000000 & 0.01401441 & ⋯ & 0.00000000 & 0.00000000 & 0.000000000 & 0.00000000 & 0.00000000 & 0.0000000000 & 0.06777859 & 0 & 0.12241734 & 0.06266490\\\\\n",
       "\tCTSD & 0.2778532 & 0 & 0.06459781 & 0 & 0.00000000 & 0.00000000 & 0.4694809 & 0.099949232 & 0.9717295 & 0.43334911 & ⋯ & 0.00000000 & 0.01907577 & 0.008904815 & 0.00000000 & 0.00000000 & 0.0007222884 & 0.00000000 & 0 & 0.00000000 & 0.06193245\\\\\n",
       "\\end{tabular}\n"
      ],
      "text/markdown": [
       "\n",
       "A matrix: 6 × 987 of type dbl\n",
       "\n",
       "| GAS6 | 0.0000000 | 0 | 0.03943774 | 0 | 0.05047625 | 0.00000000 | 0.0000000 | 0.000000000 | 0.5909494 | 0.00000000 | ⋯ | 0.05012510 | 0.00000000 | 0.033407371 | 0.00000000 | 0.00000000 | 0.0059633917 | 0.34736209 | 0 | 0.00000000 | 0.00000000 |\n",
       "| MMP14 | 0.0000000 | 0 | 0.00000000 | 0 | 0.07007159 | 0.00000000 | 0.0000000 | 0.004904131 | 1.7201788 | 2.42359463 | ⋯ | 0.00000000 | 0.00000000 | 0.001007286 | 0.00000000 | 0.03574724 | 0.0000000000 | 0.00000000 | 0 | 0.01497801 | 0.00000000 |\n",
       "| DSP | 0.0000000 | 0 | 0.00000000 | 0 | 0.00000000 | 0.04169683 | 0.0000000 | 0.005718149 | 0.0000000 | 0.00000000 | ⋯ | 0.02085321 | 0.00000000 | 0.000000000 | 0.00000000 | 0.00000000 | 0.0057744399 | 0.00000000 | 0 | 0.00000000 | 0.41640455 |\n",
       "| MARCKSL1 | 0.3052117 | 0 | 0.00000000 | 0 | 0.00000000 | 0.00000000 | 0.0000000 | 0.000000000 | 0.1618435 | 0.14947148 | ⋯ | 0.02713418 | 0.05271997 | 0.000000000 | 0.03018947 | 0.06088351 | 0.0000000000 | 0.00000000 | 0 | 0.00000000 | 0.44847996 |\n",
       "| SPARC | 0.0000000 | 0 | 0.00000000 | 0 | 0.00000000 | 0.00000000 | 0.0000000 | 0.000000000 | 0.0000000 | 0.01401441 | ⋯ | 0.00000000 | 0.00000000 | 0.000000000 | 0.00000000 | 0.00000000 | 0.0000000000 | 0.06777859 | 0 | 0.12241734 | 0.06266490 |\n",
       "| CTSD | 0.2778532 | 0 | 0.06459781 | 0 | 0.00000000 | 0.00000000 | 0.4694809 | 0.099949232 | 0.9717295 | 0.43334911 | ⋯ | 0.00000000 | 0.01907577 | 0.008904815 | 0.00000000 | 0.00000000 | 0.0007222884 | 0.00000000 | 0 | 0.00000000 | 0.06193245 |\n",
       "\n"
      ],
      "text/plain": [
       "         [,1]      [,2] [,3]       [,4] [,5]       [,6]       [,7]     \n",
       "GAS6     0.0000000 0    0.03943774 0    0.05047625 0.00000000 0.0000000\n",
       "MMP14    0.0000000 0    0.00000000 0    0.07007159 0.00000000 0.0000000\n",
       "DSP      0.0000000 0    0.00000000 0    0.00000000 0.04169683 0.0000000\n",
       "MARCKSL1 0.3052117 0    0.00000000 0    0.00000000 0.00000000 0.0000000\n",
       "SPARC    0.0000000 0    0.00000000 0    0.00000000 0.00000000 0.0000000\n",
       "CTSD     0.2778532 0    0.06459781 0    0.00000000 0.00000000 0.4694809\n",
       "         [,8]        [,9]      [,10]      [,11] [,12]      [,13]     \n",
       "GAS6     0.000000000 0.5909494 0.00000000 ⋯     0.05012510 0.00000000\n",
       "MMP14    0.004904131 1.7201788 2.42359463 ⋯     0.00000000 0.00000000\n",
       "DSP      0.005718149 0.0000000 0.00000000 ⋯     0.02085321 0.00000000\n",
       "MARCKSL1 0.000000000 0.1618435 0.14947148 ⋯     0.02713418 0.05271997\n",
       "SPARC    0.000000000 0.0000000 0.01401441 ⋯     0.00000000 0.00000000\n",
       "CTSD     0.099949232 0.9717295 0.43334911 ⋯     0.00000000 0.01907577\n",
       "         [,14]       [,15]      [,16]      [,17]        [,18]      [,19]\n",
       "GAS6     0.033407371 0.00000000 0.00000000 0.0059633917 0.34736209 0    \n",
       "MMP14    0.001007286 0.00000000 0.03574724 0.0000000000 0.00000000 0    \n",
       "DSP      0.000000000 0.00000000 0.00000000 0.0057744399 0.00000000 0    \n",
       "MARCKSL1 0.000000000 0.03018947 0.06088351 0.0000000000 0.00000000 0    \n",
       "SPARC    0.000000000 0.00000000 0.00000000 0.0000000000 0.06777859 0    \n",
       "CTSD     0.008904815 0.00000000 0.00000000 0.0007222884 0.00000000 0    \n",
       "         [,20]      [,21]     \n",
       "GAS6     0.00000000 0.00000000\n",
       "MMP14    0.01497801 0.00000000\n",
       "DSP      0.00000000 0.41640455\n",
       "MARCKSL1 0.00000000 0.44847996\n",
       "SPARC    0.12241734 0.06266490\n",
       "CTSD     0.00000000 0.06193245"
      ]
     },
     "metadata": {},
     "output_type": "display_data"
    }
   ],
   "source": [
    "z.mat <- plier.model$Z\n",
    "head(z.mat)"
   ]
  },
  {
   "cell_type": "code",
   "execution_count": 52,
   "id": "6ec042ff-9302-4898-a364-c96d3a1fccc6",
   "metadata": {},
   "outputs": [
    {
     "data": {
      "text/html": [
       "<style>\n",
       ".list-inline {list-style: none; margin:0; padding: 0}\n",
       ".list-inline>li {display: inline-block}\n",
       ".list-inline>li:not(:last-child)::after {content: \"\\00b7\"; padding: 0 .5ex}\n",
       "</style>\n",
       "<ol class=list-inline><li>'1'</li><li>'1'</li><li>'1'</li><li>'1'</li><li>'1'</li><li>'1'</li></ol>\n"
      ],
      "text/latex": [
       "\\begin{enumerate*}\n",
       "\\item '1'\n",
       "\\item '1'\n",
       "\\item '1'\n",
       "\\item '1'\n",
       "\\item '1'\n",
       "\\item '1'\n",
       "\\end{enumerate*}\n"
      ],
      "text/markdown": [
       "1. '1'\n",
       "2. '1'\n",
       "3. '1'\n",
       "4. '1'\n",
       "5. '1'\n",
       "6. '1'\n",
       "\n",
       "\n"
      ],
      "text/plain": [
       "[1] \"1\" \"1\" \"1\" \"1\" \"1\" \"1\""
      ]
     },
     "metadata": {},
     "output_type": "display_data"
    }
   ],
   "source": [
    "head(plier.model$L2)"
   ]
  },
  {
   "cell_type": "code",
   "execution_count": 54,
   "id": "47bfea0c-1581-4995-a1fe-e8e4118c0869",
   "metadata": {},
   "outputs": [
    {
     "data": {
      "text/html": [
       "<table class=\"dataframe\">\n",
       "<caption>A matrix: 987 × 987 of type dbl</caption>\n",
       "<tbody>\n",
       "\t<tr><td>6</td><td>0</td><td>0</td><td>0</td><td>0</td><td>0</td><td>0</td><td>0</td><td>0</td><td>0</td><td>⋯</td><td>0</td><td>0</td><td>0</td><td>0</td><td>0</td><td>0</td><td>0</td><td>0</td><td>0</td><td>0</td></tr>\n",
       "\t<tr><td>0</td><td>6</td><td>0</td><td>0</td><td>0</td><td>0</td><td>0</td><td>0</td><td>0</td><td>0</td><td>⋯</td><td>0</td><td>0</td><td>0</td><td>0</td><td>0</td><td>0</td><td>0</td><td>0</td><td>0</td><td>0</td></tr>\n",
       "\t<tr><td>0</td><td>0</td><td>6</td><td>0</td><td>0</td><td>0</td><td>0</td><td>0</td><td>0</td><td>0</td><td>⋯</td><td>0</td><td>0</td><td>0</td><td>0</td><td>0</td><td>0</td><td>0</td><td>0</td><td>0</td><td>0</td></tr>\n",
       "\t<tr><td>0</td><td>0</td><td>0</td><td>6</td><td>0</td><td>0</td><td>0</td><td>0</td><td>0</td><td>0</td><td>⋯</td><td>0</td><td>0</td><td>0</td><td>0</td><td>0</td><td>0</td><td>0</td><td>0</td><td>0</td><td>0</td></tr>\n",
       "\t<tr><td>0</td><td>0</td><td>0</td><td>0</td><td>6</td><td>0</td><td>0</td><td>0</td><td>0</td><td>0</td><td>⋯</td><td>0</td><td>0</td><td>0</td><td>0</td><td>0</td><td>0</td><td>0</td><td>0</td><td>0</td><td>0</td></tr>\n",
       "\t<tr><td>0</td><td>0</td><td>0</td><td>0</td><td>0</td><td>6</td><td>0</td><td>0</td><td>0</td><td>0</td><td>⋯</td><td>0</td><td>0</td><td>0</td><td>0</td><td>0</td><td>0</td><td>0</td><td>0</td><td>0</td><td>0</td></tr>\n",
       "\t<tr><td>0</td><td>0</td><td>0</td><td>0</td><td>0</td><td>0</td><td>6</td><td>0</td><td>0</td><td>0</td><td>⋯</td><td>0</td><td>0</td><td>0</td><td>0</td><td>0</td><td>0</td><td>0</td><td>0</td><td>0</td><td>0</td></tr>\n",
       "\t<tr><td>0</td><td>0</td><td>0</td><td>0</td><td>0</td><td>0</td><td>0</td><td>6</td><td>0</td><td>0</td><td>⋯</td><td>0</td><td>0</td><td>0</td><td>0</td><td>0</td><td>0</td><td>0</td><td>0</td><td>0</td><td>0</td></tr>\n",
       "\t<tr><td>0</td><td>0</td><td>0</td><td>0</td><td>0</td><td>0</td><td>0</td><td>0</td><td>6</td><td>0</td><td>⋯</td><td>0</td><td>0</td><td>0</td><td>0</td><td>0</td><td>0</td><td>0</td><td>0</td><td>0</td><td>0</td></tr>\n",
       "\t<tr><td>0</td><td>0</td><td>0</td><td>0</td><td>0</td><td>0</td><td>0</td><td>0</td><td>0</td><td>6</td><td>⋯</td><td>0</td><td>0</td><td>0</td><td>0</td><td>0</td><td>0</td><td>0</td><td>0</td><td>0</td><td>0</td></tr>\n",
       "\t<tr><td>0</td><td>0</td><td>0</td><td>0</td><td>0</td><td>0</td><td>0</td><td>0</td><td>0</td><td>0</td><td>⋯</td><td>0</td><td>0</td><td>0</td><td>0</td><td>0</td><td>0</td><td>0</td><td>0</td><td>0</td><td>0</td></tr>\n",
       "\t<tr><td>0</td><td>0</td><td>0</td><td>0</td><td>0</td><td>0</td><td>0</td><td>0</td><td>0</td><td>0</td><td>⋯</td><td>0</td><td>0</td><td>0</td><td>0</td><td>0</td><td>0</td><td>0</td><td>0</td><td>0</td><td>0</td></tr>\n",
       "\t<tr><td>0</td><td>0</td><td>0</td><td>0</td><td>0</td><td>0</td><td>0</td><td>0</td><td>0</td><td>0</td><td>⋯</td><td>0</td><td>0</td><td>0</td><td>0</td><td>0</td><td>0</td><td>0</td><td>0</td><td>0</td><td>0</td></tr>\n",
       "\t<tr><td>0</td><td>0</td><td>0</td><td>0</td><td>0</td><td>0</td><td>0</td><td>0</td><td>0</td><td>0</td><td>⋯</td><td>0</td><td>0</td><td>0</td><td>0</td><td>0</td><td>0</td><td>0</td><td>0</td><td>0</td><td>0</td></tr>\n",
       "\t<tr><td>0</td><td>0</td><td>0</td><td>0</td><td>0</td><td>0</td><td>0</td><td>0</td><td>0</td><td>0</td><td>⋯</td><td>0</td><td>0</td><td>0</td><td>0</td><td>0</td><td>0</td><td>0</td><td>0</td><td>0</td><td>0</td></tr>\n",
       "\t<tr><td>0</td><td>0</td><td>0</td><td>0</td><td>0</td><td>0</td><td>0</td><td>0</td><td>0</td><td>0</td><td>⋯</td><td>0</td><td>0</td><td>0</td><td>0</td><td>0</td><td>0</td><td>0</td><td>0</td><td>0</td><td>0</td></tr>\n",
       "\t<tr><td>0</td><td>0</td><td>0</td><td>0</td><td>0</td><td>0</td><td>0</td><td>0</td><td>0</td><td>0</td><td>⋯</td><td>0</td><td>0</td><td>0</td><td>0</td><td>0</td><td>0</td><td>0</td><td>0</td><td>0</td><td>0</td></tr>\n",
       "\t<tr><td>0</td><td>0</td><td>0</td><td>0</td><td>0</td><td>0</td><td>0</td><td>0</td><td>0</td><td>0</td><td>⋯</td><td>0</td><td>0</td><td>0</td><td>0</td><td>0</td><td>0</td><td>0</td><td>0</td><td>0</td><td>0</td></tr>\n",
       "\t<tr><td>0</td><td>0</td><td>0</td><td>0</td><td>0</td><td>0</td><td>0</td><td>0</td><td>0</td><td>0</td><td>⋯</td><td>0</td><td>0</td><td>0</td><td>0</td><td>0</td><td>0</td><td>0</td><td>0</td><td>0</td><td>0</td></tr>\n",
       "\t<tr><td>0</td><td>0</td><td>0</td><td>0</td><td>0</td><td>0</td><td>0</td><td>0</td><td>0</td><td>0</td><td>⋯</td><td>0</td><td>0</td><td>0</td><td>0</td><td>0</td><td>0</td><td>0</td><td>0</td><td>0</td><td>0</td></tr>\n",
       "\t<tr><td>0</td><td>0</td><td>0</td><td>0</td><td>0</td><td>0</td><td>0</td><td>0</td><td>0</td><td>0</td><td>⋯</td><td>0</td><td>0</td><td>0</td><td>0</td><td>0</td><td>0</td><td>0</td><td>0</td><td>0</td><td>0</td></tr>\n",
       "\t<tr><td>0</td><td>0</td><td>0</td><td>0</td><td>0</td><td>0</td><td>0</td><td>0</td><td>0</td><td>0</td><td>⋯</td><td>0</td><td>0</td><td>0</td><td>0</td><td>0</td><td>0</td><td>0</td><td>0</td><td>0</td><td>0</td></tr>\n",
       "\t<tr><td>0</td><td>0</td><td>0</td><td>0</td><td>0</td><td>0</td><td>0</td><td>0</td><td>0</td><td>0</td><td>⋯</td><td>0</td><td>0</td><td>0</td><td>0</td><td>0</td><td>0</td><td>0</td><td>0</td><td>0</td><td>0</td></tr>\n",
       "\t<tr><td>0</td><td>0</td><td>0</td><td>0</td><td>0</td><td>0</td><td>0</td><td>0</td><td>0</td><td>0</td><td>⋯</td><td>0</td><td>0</td><td>0</td><td>0</td><td>0</td><td>0</td><td>0</td><td>0</td><td>0</td><td>0</td></tr>\n",
       "\t<tr><td>0</td><td>0</td><td>0</td><td>0</td><td>0</td><td>0</td><td>0</td><td>0</td><td>0</td><td>0</td><td>⋯</td><td>0</td><td>0</td><td>0</td><td>0</td><td>0</td><td>0</td><td>0</td><td>0</td><td>0</td><td>0</td></tr>\n",
       "\t<tr><td>0</td><td>0</td><td>0</td><td>0</td><td>0</td><td>0</td><td>0</td><td>0</td><td>0</td><td>0</td><td>⋯</td><td>0</td><td>0</td><td>0</td><td>0</td><td>0</td><td>0</td><td>0</td><td>0</td><td>0</td><td>0</td></tr>\n",
       "\t<tr><td>0</td><td>0</td><td>0</td><td>0</td><td>0</td><td>0</td><td>0</td><td>0</td><td>0</td><td>0</td><td>⋯</td><td>0</td><td>0</td><td>0</td><td>0</td><td>0</td><td>0</td><td>0</td><td>0</td><td>0</td><td>0</td></tr>\n",
       "\t<tr><td>0</td><td>0</td><td>0</td><td>0</td><td>0</td><td>0</td><td>0</td><td>0</td><td>0</td><td>0</td><td>⋯</td><td>0</td><td>0</td><td>0</td><td>0</td><td>0</td><td>0</td><td>0</td><td>0</td><td>0</td><td>0</td></tr>\n",
       "\t<tr><td>0</td><td>0</td><td>0</td><td>0</td><td>0</td><td>0</td><td>0</td><td>0</td><td>0</td><td>0</td><td>⋯</td><td>0</td><td>0</td><td>0</td><td>0</td><td>0</td><td>0</td><td>0</td><td>0</td><td>0</td><td>0</td></tr>\n",
       "\t<tr><td>0</td><td>0</td><td>0</td><td>0</td><td>0</td><td>0</td><td>0</td><td>0</td><td>0</td><td>0</td><td>⋯</td><td>0</td><td>0</td><td>0</td><td>0</td><td>0</td><td>0</td><td>0</td><td>0</td><td>0</td><td>0</td></tr>\n",
       "\t<tr><td>⋮</td><td>⋮</td><td>⋮</td><td>⋮</td><td>⋮</td><td>⋮</td><td>⋮</td><td>⋮</td><td>⋮</td><td>⋮</td><td>⋱</td><td>⋮</td><td>⋮</td><td>⋮</td><td>⋮</td><td>⋮</td><td>⋮</td><td>⋮</td><td>⋮</td><td>⋮</td><td>⋮</td></tr>\n",
       "\t<tr><td>0</td><td>0</td><td>0</td><td>0</td><td>0</td><td>0</td><td>0</td><td>0</td><td>0</td><td>0</td><td>⋯</td><td>0</td><td>0</td><td>0</td><td>0</td><td>0</td><td>0</td><td>0</td><td>0</td><td>0</td><td>0</td></tr>\n",
       "\t<tr><td>0</td><td>0</td><td>0</td><td>0</td><td>0</td><td>0</td><td>0</td><td>0</td><td>0</td><td>0</td><td>⋯</td><td>0</td><td>0</td><td>0</td><td>0</td><td>0</td><td>0</td><td>0</td><td>0</td><td>0</td><td>0</td></tr>\n",
       "\t<tr><td>0</td><td>0</td><td>0</td><td>0</td><td>0</td><td>0</td><td>0</td><td>0</td><td>0</td><td>0</td><td>⋯</td><td>0</td><td>0</td><td>0</td><td>0</td><td>0</td><td>0</td><td>0</td><td>0</td><td>0</td><td>0</td></tr>\n",
       "\t<tr><td>0</td><td>0</td><td>0</td><td>0</td><td>0</td><td>0</td><td>0</td><td>0</td><td>0</td><td>0</td><td>⋯</td><td>0</td><td>0</td><td>0</td><td>0</td><td>0</td><td>0</td><td>0</td><td>0</td><td>0</td><td>0</td></tr>\n",
       "\t<tr><td>0</td><td>0</td><td>0</td><td>0</td><td>0</td><td>0</td><td>0</td><td>0</td><td>0</td><td>0</td><td>⋯</td><td>0</td><td>0</td><td>0</td><td>0</td><td>0</td><td>0</td><td>0</td><td>0</td><td>0</td><td>0</td></tr>\n",
       "\t<tr><td>0</td><td>0</td><td>0</td><td>0</td><td>0</td><td>0</td><td>0</td><td>0</td><td>0</td><td>0</td><td>⋯</td><td>0</td><td>0</td><td>0</td><td>0</td><td>0</td><td>0</td><td>0</td><td>0</td><td>0</td><td>0</td></tr>\n",
       "\t<tr><td>0</td><td>0</td><td>0</td><td>0</td><td>0</td><td>0</td><td>0</td><td>0</td><td>0</td><td>0</td><td>⋯</td><td>0</td><td>0</td><td>0</td><td>0</td><td>0</td><td>0</td><td>0</td><td>0</td><td>0</td><td>0</td></tr>\n",
       "\t<tr><td>0</td><td>0</td><td>0</td><td>0</td><td>0</td><td>0</td><td>0</td><td>0</td><td>0</td><td>0</td><td>⋯</td><td>0</td><td>0</td><td>0</td><td>0</td><td>0</td><td>0</td><td>0</td><td>0</td><td>0</td><td>0</td></tr>\n",
       "\t<tr><td>0</td><td>0</td><td>0</td><td>0</td><td>0</td><td>0</td><td>0</td><td>0</td><td>0</td><td>0</td><td>⋯</td><td>0</td><td>0</td><td>0</td><td>0</td><td>0</td><td>0</td><td>0</td><td>0</td><td>0</td><td>0</td></tr>\n",
       "\t<tr><td>0</td><td>0</td><td>0</td><td>0</td><td>0</td><td>0</td><td>0</td><td>0</td><td>0</td><td>0</td><td>⋯</td><td>0</td><td>0</td><td>0</td><td>0</td><td>0</td><td>0</td><td>0</td><td>0</td><td>0</td><td>0</td></tr>\n",
       "\t<tr><td>0</td><td>0</td><td>0</td><td>0</td><td>0</td><td>0</td><td>0</td><td>0</td><td>0</td><td>0</td><td>⋯</td><td>0</td><td>0</td><td>0</td><td>0</td><td>0</td><td>0</td><td>0</td><td>0</td><td>0</td><td>0</td></tr>\n",
       "\t<tr><td>0</td><td>0</td><td>0</td><td>0</td><td>0</td><td>0</td><td>0</td><td>0</td><td>0</td><td>0</td><td>⋯</td><td>0</td><td>0</td><td>0</td><td>0</td><td>0</td><td>0</td><td>0</td><td>0</td><td>0</td><td>0</td></tr>\n",
       "\t<tr><td>0</td><td>0</td><td>0</td><td>0</td><td>0</td><td>0</td><td>0</td><td>0</td><td>0</td><td>0</td><td>⋯</td><td>0</td><td>0</td><td>0</td><td>0</td><td>0</td><td>0</td><td>0</td><td>0</td><td>0</td><td>0</td></tr>\n",
       "\t<tr><td>0</td><td>0</td><td>0</td><td>0</td><td>0</td><td>0</td><td>0</td><td>0</td><td>0</td><td>0</td><td>⋯</td><td>0</td><td>0</td><td>0</td><td>0</td><td>0</td><td>0</td><td>0</td><td>0</td><td>0</td><td>0</td></tr>\n",
       "\t<tr><td>0</td><td>0</td><td>0</td><td>0</td><td>0</td><td>0</td><td>0</td><td>0</td><td>0</td><td>0</td><td>⋯</td><td>0</td><td>0</td><td>0</td><td>0</td><td>0</td><td>0</td><td>0</td><td>0</td><td>0</td><td>0</td></tr>\n",
       "\t<tr><td>0</td><td>0</td><td>0</td><td>0</td><td>0</td><td>0</td><td>0</td><td>0</td><td>0</td><td>0</td><td>⋯</td><td>0</td><td>0</td><td>0</td><td>0</td><td>0</td><td>0</td><td>0</td><td>0</td><td>0</td><td>0</td></tr>\n",
       "\t<tr><td>0</td><td>0</td><td>0</td><td>0</td><td>0</td><td>0</td><td>0</td><td>0</td><td>0</td><td>0</td><td>⋯</td><td>0</td><td>0</td><td>0</td><td>0</td><td>0</td><td>0</td><td>0</td><td>0</td><td>0</td><td>0</td></tr>\n",
       "\t<tr><td>0</td><td>0</td><td>0</td><td>0</td><td>0</td><td>0</td><td>0</td><td>0</td><td>0</td><td>0</td><td>⋯</td><td>0</td><td>0</td><td>0</td><td>0</td><td>0</td><td>0</td><td>0</td><td>0</td><td>0</td><td>0</td></tr>\n",
       "\t<tr><td>0</td><td>0</td><td>0</td><td>0</td><td>0</td><td>0</td><td>0</td><td>0</td><td>0</td><td>0</td><td>⋯</td><td>0</td><td>0</td><td>0</td><td>0</td><td>0</td><td>0</td><td>0</td><td>0</td><td>0</td><td>0</td></tr>\n",
       "\t<tr><td>0</td><td>0</td><td>0</td><td>0</td><td>0</td><td>0</td><td>0</td><td>0</td><td>0</td><td>0</td><td>⋯</td><td>0</td><td>0</td><td>0</td><td>0</td><td>0</td><td>0</td><td>0</td><td>0</td><td>0</td><td>0</td></tr>\n",
       "\t<tr><td>0</td><td>0</td><td>0</td><td>0</td><td>0</td><td>0</td><td>0</td><td>0</td><td>0</td><td>0</td><td>⋯</td><td>6</td><td>0</td><td>0</td><td>0</td><td>0</td><td>0</td><td>0</td><td>0</td><td>0</td><td>0</td></tr>\n",
       "\t<tr><td>0</td><td>0</td><td>0</td><td>0</td><td>0</td><td>0</td><td>0</td><td>0</td><td>0</td><td>0</td><td>⋯</td><td>0</td><td>6</td><td>0</td><td>0</td><td>0</td><td>0</td><td>0</td><td>0</td><td>0</td><td>0</td></tr>\n",
       "\t<tr><td>0</td><td>0</td><td>0</td><td>0</td><td>0</td><td>0</td><td>0</td><td>0</td><td>0</td><td>0</td><td>⋯</td><td>0</td><td>0</td><td>6</td><td>0</td><td>0</td><td>0</td><td>0</td><td>0</td><td>0</td><td>0</td></tr>\n",
       "\t<tr><td>0</td><td>0</td><td>0</td><td>0</td><td>0</td><td>0</td><td>0</td><td>0</td><td>0</td><td>0</td><td>⋯</td><td>0</td><td>0</td><td>0</td><td>6</td><td>0</td><td>0</td><td>0</td><td>0</td><td>0</td><td>0</td></tr>\n",
       "\t<tr><td>0</td><td>0</td><td>0</td><td>0</td><td>0</td><td>0</td><td>0</td><td>0</td><td>0</td><td>0</td><td>⋯</td><td>0</td><td>0</td><td>0</td><td>0</td><td>6</td><td>0</td><td>0</td><td>0</td><td>0</td><td>0</td></tr>\n",
       "\t<tr><td>0</td><td>0</td><td>0</td><td>0</td><td>0</td><td>0</td><td>0</td><td>0</td><td>0</td><td>0</td><td>⋯</td><td>0</td><td>0</td><td>0</td><td>0</td><td>0</td><td>6</td><td>0</td><td>0</td><td>0</td><td>0</td></tr>\n",
       "\t<tr><td>0</td><td>0</td><td>0</td><td>0</td><td>0</td><td>0</td><td>0</td><td>0</td><td>0</td><td>0</td><td>⋯</td><td>0</td><td>0</td><td>0</td><td>0</td><td>0</td><td>0</td><td>6</td><td>0</td><td>0</td><td>0</td></tr>\n",
       "\t<tr><td>0</td><td>0</td><td>0</td><td>0</td><td>0</td><td>0</td><td>0</td><td>0</td><td>0</td><td>0</td><td>⋯</td><td>0</td><td>0</td><td>0</td><td>0</td><td>0</td><td>0</td><td>0</td><td>6</td><td>0</td><td>0</td></tr>\n",
       "\t<tr><td>0</td><td>0</td><td>0</td><td>0</td><td>0</td><td>0</td><td>0</td><td>0</td><td>0</td><td>0</td><td>⋯</td><td>0</td><td>0</td><td>0</td><td>0</td><td>0</td><td>0</td><td>0</td><td>0</td><td>6</td><td>0</td></tr>\n",
       "\t<tr><td>0</td><td>0</td><td>0</td><td>0</td><td>0</td><td>0</td><td>0</td><td>0</td><td>0</td><td>0</td><td>⋯</td><td>0</td><td>0</td><td>0</td><td>0</td><td>0</td><td>0</td><td>0</td><td>0</td><td>0</td><td>6</td></tr>\n",
       "</tbody>\n",
       "</table>\n"
      ],
      "text/latex": [
       "A matrix: 987 × 987 of type dbl\n",
       "\\begin{tabular}{lllllllllllllllllllll}\n",
       "\t 6 & 0 & 0 & 0 & 0 & 0 & 0 & 0 & 0 & 0 & ⋯ & 0 & 0 & 0 & 0 & 0 & 0 & 0 & 0 & 0 & 0\\\\\n",
       "\t 0 & 6 & 0 & 0 & 0 & 0 & 0 & 0 & 0 & 0 & ⋯ & 0 & 0 & 0 & 0 & 0 & 0 & 0 & 0 & 0 & 0\\\\\n",
       "\t 0 & 0 & 6 & 0 & 0 & 0 & 0 & 0 & 0 & 0 & ⋯ & 0 & 0 & 0 & 0 & 0 & 0 & 0 & 0 & 0 & 0\\\\\n",
       "\t 0 & 0 & 0 & 6 & 0 & 0 & 0 & 0 & 0 & 0 & ⋯ & 0 & 0 & 0 & 0 & 0 & 0 & 0 & 0 & 0 & 0\\\\\n",
       "\t 0 & 0 & 0 & 0 & 6 & 0 & 0 & 0 & 0 & 0 & ⋯ & 0 & 0 & 0 & 0 & 0 & 0 & 0 & 0 & 0 & 0\\\\\n",
       "\t 0 & 0 & 0 & 0 & 0 & 6 & 0 & 0 & 0 & 0 & ⋯ & 0 & 0 & 0 & 0 & 0 & 0 & 0 & 0 & 0 & 0\\\\\n",
       "\t 0 & 0 & 0 & 0 & 0 & 0 & 6 & 0 & 0 & 0 & ⋯ & 0 & 0 & 0 & 0 & 0 & 0 & 0 & 0 & 0 & 0\\\\\n",
       "\t 0 & 0 & 0 & 0 & 0 & 0 & 0 & 6 & 0 & 0 & ⋯ & 0 & 0 & 0 & 0 & 0 & 0 & 0 & 0 & 0 & 0\\\\\n",
       "\t 0 & 0 & 0 & 0 & 0 & 0 & 0 & 0 & 6 & 0 & ⋯ & 0 & 0 & 0 & 0 & 0 & 0 & 0 & 0 & 0 & 0\\\\\n",
       "\t 0 & 0 & 0 & 0 & 0 & 0 & 0 & 0 & 0 & 6 & ⋯ & 0 & 0 & 0 & 0 & 0 & 0 & 0 & 0 & 0 & 0\\\\\n",
       "\t 0 & 0 & 0 & 0 & 0 & 0 & 0 & 0 & 0 & 0 & ⋯ & 0 & 0 & 0 & 0 & 0 & 0 & 0 & 0 & 0 & 0\\\\\n",
       "\t 0 & 0 & 0 & 0 & 0 & 0 & 0 & 0 & 0 & 0 & ⋯ & 0 & 0 & 0 & 0 & 0 & 0 & 0 & 0 & 0 & 0\\\\\n",
       "\t 0 & 0 & 0 & 0 & 0 & 0 & 0 & 0 & 0 & 0 & ⋯ & 0 & 0 & 0 & 0 & 0 & 0 & 0 & 0 & 0 & 0\\\\\n",
       "\t 0 & 0 & 0 & 0 & 0 & 0 & 0 & 0 & 0 & 0 & ⋯ & 0 & 0 & 0 & 0 & 0 & 0 & 0 & 0 & 0 & 0\\\\\n",
       "\t 0 & 0 & 0 & 0 & 0 & 0 & 0 & 0 & 0 & 0 & ⋯ & 0 & 0 & 0 & 0 & 0 & 0 & 0 & 0 & 0 & 0\\\\\n",
       "\t 0 & 0 & 0 & 0 & 0 & 0 & 0 & 0 & 0 & 0 & ⋯ & 0 & 0 & 0 & 0 & 0 & 0 & 0 & 0 & 0 & 0\\\\\n",
       "\t 0 & 0 & 0 & 0 & 0 & 0 & 0 & 0 & 0 & 0 & ⋯ & 0 & 0 & 0 & 0 & 0 & 0 & 0 & 0 & 0 & 0\\\\\n",
       "\t 0 & 0 & 0 & 0 & 0 & 0 & 0 & 0 & 0 & 0 & ⋯ & 0 & 0 & 0 & 0 & 0 & 0 & 0 & 0 & 0 & 0\\\\\n",
       "\t 0 & 0 & 0 & 0 & 0 & 0 & 0 & 0 & 0 & 0 & ⋯ & 0 & 0 & 0 & 0 & 0 & 0 & 0 & 0 & 0 & 0\\\\\n",
       "\t 0 & 0 & 0 & 0 & 0 & 0 & 0 & 0 & 0 & 0 & ⋯ & 0 & 0 & 0 & 0 & 0 & 0 & 0 & 0 & 0 & 0\\\\\n",
       "\t 0 & 0 & 0 & 0 & 0 & 0 & 0 & 0 & 0 & 0 & ⋯ & 0 & 0 & 0 & 0 & 0 & 0 & 0 & 0 & 0 & 0\\\\\n",
       "\t 0 & 0 & 0 & 0 & 0 & 0 & 0 & 0 & 0 & 0 & ⋯ & 0 & 0 & 0 & 0 & 0 & 0 & 0 & 0 & 0 & 0\\\\\n",
       "\t 0 & 0 & 0 & 0 & 0 & 0 & 0 & 0 & 0 & 0 & ⋯ & 0 & 0 & 0 & 0 & 0 & 0 & 0 & 0 & 0 & 0\\\\\n",
       "\t 0 & 0 & 0 & 0 & 0 & 0 & 0 & 0 & 0 & 0 & ⋯ & 0 & 0 & 0 & 0 & 0 & 0 & 0 & 0 & 0 & 0\\\\\n",
       "\t 0 & 0 & 0 & 0 & 0 & 0 & 0 & 0 & 0 & 0 & ⋯ & 0 & 0 & 0 & 0 & 0 & 0 & 0 & 0 & 0 & 0\\\\\n",
       "\t 0 & 0 & 0 & 0 & 0 & 0 & 0 & 0 & 0 & 0 & ⋯ & 0 & 0 & 0 & 0 & 0 & 0 & 0 & 0 & 0 & 0\\\\\n",
       "\t 0 & 0 & 0 & 0 & 0 & 0 & 0 & 0 & 0 & 0 & ⋯ & 0 & 0 & 0 & 0 & 0 & 0 & 0 & 0 & 0 & 0\\\\\n",
       "\t 0 & 0 & 0 & 0 & 0 & 0 & 0 & 0 & 0 & 0 & ⋯ & 0 & 0 & 0 & 0 & 0 & 0 & 0 & 0 & 0 & 0\\\\\n",
       "\t 0 & 0 & 0 & 0 & 0 & 0 & 0 & 0 & 0 & 0 & ⋯ & 0 & 0 & 0 & 0 & 0 & 0 & 0 & 0 & 0 & 0\\\\\n",
       "\t 0 & 0 & 0 & 0 & 0 & 0 & 0 & 0 & 0 & 0 & ⋯ & 0 & 0 & 0 & 0 & 0 & 0 & 0 & 0 & 0 & 0\\\\\n",
       "\t ⋮ & ⋮ & ⋮ & ⋮ & ⋮ & ⋮ & ⋮ & ⋮ & ⋮ & ⋮ & ⋱ & ⋮ & ⋮ & ⋮ & ⋮ & ⋮ & ⋮ & ⋮ & ⋮ & ⋮ & ⋮\\\\\n",
       "\t 0 & 0 & 0 & 0 & 0 & 0 & 0 & 0 & 0 & 0 & ⋯ & 0 & 0 & 0 & 0 & 0 & 0 & 0 & 0 & 0 & 0\\\\\n",
       "\t 0 & 0 & 0 & 0 & 0 & 0 & 0 & 0 & 0 & 0 & ⋯ & 0 & 0 & 0 & 0 & 0 & 0 & 0 & 0 & 0 & 0\\\\\n",
       "\t 0 & 0 & 0 & 0 & 0 & 0 & 0 & 0 & 0 & 0 & ⋯ & 0 & 0 & 0 & 0 & 0 & 0 & 0 & 0 & 0 & 0\\\\\n",
       "\t 0 & 0 & 0 & 0 & 0 & 0 & 0 & 0 & 0 & 0 & ⋯ & 0 & 0 & 0 & 0 & 0 & 0 & 0 & 0 & 0 & 0\\\\\n",
       "\t 0 & 0 & 0 & 0 & 0 & 0 & 0 & 0 & 0 & 0 & ⋯ & 0 & 0 & 0 & 0 & 0 & 0 & 0 & 0 & 0 & 0\\\\\n",
       "\t 0 & 0 & 0 & 0 & 0 & 0 & 0 & 0 & 0 & 0 & ⋯ & 0 & 0 & 0 & 0 & 0 & 0 & 0 & 0 & 0 & 0\\\\\n",
       "\t 0 & 0 & 0 & 0 & 0 & 0 & 0 & 0 & 0 & 0 & ⋯ & 0 & 0 & 0 & 0 & 0 & 0 & 0 & 0 & 0 & 0\\\\\n",
       "\t 0 & 0 & 0 & 0 & 0 & 0 & 0 & 0 & 0 & 0 & ⋯ & 0 & 0 & 0 & 0 & 0 & 0 & 0 & 0 & 0 & 0\\\\\n",
       "\t 0 & 0 & 0 & 0 & 0 & 0 & 0 & 0 & 0 & 0 & ⋯ & 0 & 0 & 0 & 0 & 0 & 0 & 0 & 0 & 0 & 0\\\\\n",
       "\t 0 & 0 & 0 & 0 & 0 & 0 & 0 & 0 & 0 & 0 & ⋯ & 0 & 0 & 0 & 0 & 0 & 0 & 0 & 0 & 0 & 0\\\\\n",
       "\t 0 & 0 & 0 & 0 & 0 & 0 & 0 & 0 & 0 & 0 & ⋯ & 0 & 0 & 0 & 0 & 0 & 0 & 0 & 0 & 0 & 0\\\\\n",
       "\t 0 & 0 & 0 & 0 & 0 & 0 & 0 & 0 & 0 & 0 & ⋯ & 0 & 0 & 0 & 0 & 0 & 0 & 0 & 0 & 0 & 0\\\\\n",
       "\t 0 & 0 & 0 & 0 & 0 & 0 & 0 & 0 & 0 & 0 & ⋯ & 0 & 0 & 0 & 0 & 0 & 0 & 0 & 0 & 0 & 0\\\\\n",
       "\t 0 & 0 & 0 & 0 & 0 & 0 & 0 & 0 & 0 & 0 & ⋯ & 0 & 0 & 0 & 0 & 0 & 0 & 0 & 0 & 0 & 0\\\\\n",
       "\t 0 & 0 & 0 & 0 & 0 & 0 & 0 & 0 & 0 & 0 & ⋯ & 0 & 0 & 0 & 0 & 0 & 0 & 0 & 0 & 0 & 0\\\\\n",
       "\t 0 & 0 & 0 & 0 & 0 & 0 & 0 & 0 & 0 & 0 & ⋯ & 0 & 0 & 0 & 0 & 0 & 0 & 0 & 0 & 0 & 0\\\\\n",
       "\t 0 & 0 & 0 & 0 & 0 & 0 & 0 & 0 & 0 & 0 & ⋯ & 0 & 0 & 0 & 0 & 0 & 0 & 0 & 0 & 0 & 0\\\\\n",
       "\t 0 & 0 & 0 & 0 & 0 & 0 & 0 & 0 & 0 & 0 & ⋯ & 0 & 0 & 0 & 0 & 0 & 0 & 0 & 0 & 0 & 0\\\\\n",
       "\t 0 & 0 & 0 & 0 & 0 & 0 & 0 & 0 & 0 & 0 & ⋯ & 0 & 0 & 0 & 0 & 0 & 0 & 0 & 0 & 0 & 0\\\\\n",
       "\t 0 & 0 & 0 & 0 & 0 & 0 & 0 & 0 & 0 & 0 & ⋯ & 0 & 0 & 0 & 0 & 0 & 0 & 0 & 0 & 0 & 0\\\\\n",
       "\t 0 & 0 & 0 & 0 & 0 & 0 & 0 & 0 & 0 & 0 & ⋯ & 6 & 0 & 0 & 0 & 0 & 0 & 0 & 0 & 0 & 0\\\\\n",
       "\t 0 & 0 & 0 & 0 & 0 & 0 & 0 & 0 & 0 & 0 & ⋯ & 0 & 6 & 0 & 0 & 0 & 0 & 0 & 0 & 0 & 0\\\\\n",
       "\t 0 & 0 & 0 & 0 & 0 & 0 & 0 & 0 & 0 & 0 & ⋯ & 0 & 0 & 6 & 0 & 0 & 0 & 0 & 0 & 0 & 0\\\\\n",
       "\t 0 & 0 & 0 & 0 & 0 & 0 & 0 & 0 & 0 & 0 & ⋯ & 0 & 0 & 0 & 6 & 0 & 0 & 0 & 0 & 0 & 0\\\\\n",
       "\t 0 & 0 & 0 & 0 & 0 & 0 & 0 & 0 & 0 & 0 & ⋯ & 0 & 0 & 0 & 0 & 6 & 0 & 0 & 0 & 0 & 0\\\\\n",
       "\t 0 & 0 & 0 & 0 & 0 & 0 & 0 & 0 & 0 & 0 & ⋯ & 0 & 0 & 0 & 0 & 0 & 6 & 0 & 0 & 0 & 0\\\\\n",
       "\t 0 & 0 & 0 & 0 & 0 & 0 & 0 & 0 & 0 & 0 & ⋯ & 0 & 0 & 0 & 0 & 0 & 0 & 6 & 0 & 0 & 0\\\\\n",
       "\t 0 & 0 & 0 & 0 & 0 & 0 & 0 & 0 & 0 & 0 & ⋯ & 0 & 0 & 0 & 0 & 0 & 0 & 0 & 6 & 0 & 0\\\\\n",
       "\t 0 & 0 & 0 & 0 & 0 & 0 & 0 & 0 & 0 & 0 & ⋯ & 0 & 0 & 0 & 0 & 0 & 0 & 0 & 0 & 6 & 0\\\\\n",
       "\t 0 & 0 & 0 & 0 & 0 & 0 & 0 & 0 & 0 & 0 & ⋯ & 0 & 0 & 0 & 0 & 0 & 0 & 0 & 0 & 0 & 6\\\\\n",
       "\\end{tabular}\n"
      ],
      "text/markdown": [
       "\n",
       "A matrix: 987 × 987 of type dbl\n",
       "\n",
       "| 6 | 0 | 0 | 0 | 0 | 0 | 0 | 0 | 0 | 0 | ⋯ | 0 | 0 | 0 | 0 | 0 | 0 | 0 | 0 | 0 | 0 |\n",
       "| 0 | 6 | 0 | 0 | 0 | 0 | 0 | 0 | 0 | 0 | ⋯ | 0 | 0 | 0 | 0 | 0 | 0 | 0 | 0 | 0 | 0 |\n",
       "| 0 | 0 | 6 | 0 | 0 | 0 | 0 | 0 | 0 | 0 | ⋯ | 0 | 0 | 0 | 0 | 0 | 0 | 0 | 0 | 0 | 0 |\n",
       "| 0 | 0 | 0 | 6 | 0 | 0 | 0 | 0 | 0 | 0 | ⋯ | 0 | 0 | 0 | 0 | 0 | 0 | 0 | 0 | 0 | 0 |\n",
       "| 0 | 0 | 0 | 0 | 6 | 0 | 0 | 0 | 0 | 0 | ⋯ | 0 | 0 | 0 | 0 | 0 | 0 | 0 | 0 | 0 | 0 |\n",
       "| 0 | 0 | 0 | 0 | 0 | 6 | 0 | 0 | 0 | 0 | ⋯ | 0 | 0 | 0 | 0 | 0 | 0 | 0 | 0 | 0 | 0 |\n",
       "| 0 | 0 | 0 | 0 | 0 | 0 | 6 | 0 | 0 | 0 | ⋯ | 0 | 0 | 0 | 0 | 0 | 0 | 0 | 0 | 0 | 0 |\n",
       "| 0 | 0 | 0 | 0 | 0 | 0 | 0 | 6 | 0 | 0 | ⋯ | 0 | 0 | 0 | 0 | 0 | 0 | 0 | 0 | 0 | 0 |\n",
       "| 0 | 0 | 0 | 0 | 0 | 0 | 0 | 0 | 6 | 0 | ⋯ | 0 | 0 | 0 | 0 | 0 | 0 | 0 | 0 | 0 | 0 |\n",
       "| 0 | 0 | 0 | 0 | 0 | 0 | 0 | 0 | 0 | 6 | ⋯ | 0 | 0 | 0 | 0 | 0 | 0 | 0 | 0 | 0 | 0 |\n",
       "| 0 | 0 | 0 | 0 | 0 | 0 | 0 | 0 | 0 | 0 | ⋯ | 0 | 0 | 0 | 0 | 0 | 0 | 0 | 0 | 0 | 0 |\n",
       "| 0 | 0 | 0 | 0 | 0 | 0 | 0 | 0 | 0 | 0 | ⋯ | 0 | 0 | 0 | 0 | 0 | 0 | 0 | 0 | 0 | 0 |\n",
       "| 0 | 0 | 0 | 0 | 0 | 0 | 0 | 0 | 0 | 0 | ⋯ | 0 | 0 | 0 | 0 | 0 | 0 | 0 | 0 | 0 | 0 |\n",
       "| 0 | 0 | 0 | 0 | 0 | 0 | 0 | 0 | 0 | 0 | ⋯ | 0 | 0 | 0 | 0 | 0 | 0 | 0 | 0 | 0 | 0 |\n",
       "| 0 | 0 | 0 | 0 | 0 | 0 | 0 | 0 | 0 | 0 | ⋯ | 0 | 0 | 0 | 0 | 0 | 0 | 0 | 0 | 0 | 0 |\n",
       "| 0 | 0 | 0 | 0 | 0 | 0 | 0 | 0 | 0 | 0 | ⋯ | 0 | 0 | 0 | 0 | 0 | 0 | 0 | 0 | 0 | 0 |\n",
       "| 0 | 0 | 0 | 0 | 0 | 0 | 0 | 0 | 0 | 0 | ⋯ | 0 | 0 | 0 | 0 | 0 | 0 | 0 | 0 | 0 | 0 |\n",
       "| 0 | 0 | 0 | 0 | 0 | 0 | 0 | 0 | 0 | 0 | ⋯ | 0 | 0 | 0 | 0 | 0 | 0 | 0 | 0 | 0 | 0 |\n",
       "| 0 | 0 | 0 | 0 | 0 | 0 | 0 | 0 | 0 | 0 | ⋯ | 0 | 0 | 0 | 0 | 0 | 0 | 0 | 0 | 0 | 0 |\n",
       "| 0 | 0 | 0 | 0 | 0 | 0 | 0 | 0 | 0 | 0 | ⋯ | 0 | 0 | 0 | 0 | 0 | 0 | 0 | 0 | 0 | 0 |\n",
       "| 0 | 0 | 0 | 0 | 0 | 0 | 0 | 0 | 0 | 0 | ⋯ | 0 | 0 | 0 | 0 | 0 | 0 | 0 | 0 | 0 | 0 |\n",
       "| 0 | 0 | 0 | 0 | 0 | 0 | 0 | 0 | 0 | 0 | ⋯ | 0 | 0 | 0 | 0 | 0 | 0 | 0 | 0 | 0 | 0 |\n",
       "| 0 | 0 | 0 | 0 | 0 | 0 | 0 | 0 | 0 | 0 | ⋯ | 0 | 0 | 0 | 0 | 0 | 0 | 0 | 0 | 0 | 0 |\n",
       "| 0 | 0 | 0 | 0 | 0 | 0 | 0 | 0 | 0 | 0 | ⋯ | 0 | 0 | 0 | 0 | 0 | 0 | 0 | 0 | 0 | 0 |\n",
       "| 0 | 0 | 0 | 0 | 0 | 0 | 0 | 0 | 0 | 0 | ⋯ | 0 | 0 | 0 | 0 | 0 | 0 | 0 | 0 | 0 | 0 |\n",
       "| 0 | 0 | 0 | 0 | 0 | 0 | 0 | 0 | 0 | 0 | ⋯ | 0 | 0 | 0 | 0 | 0 | 0 | 0 | 0 | 0 | 0 |\n",
       "| 0 | 0 | 0 | 0 | 0 | 0 | 0 | 0 | 0 | 0 | ⋯ | 0 | 0 | 0 | 0 | 0 | 0 | 0 | 0 | 0 | 0 |\n",
       "| 0 | 0 | 0 | 0 | 0 | 0 | 0 | 0 | 0 | 0 | ⋯ | 0 | 0 | 0 | 0 | 0 | 0 | 0 | 0 | 0 | 0 |\n",
       "| 0 | 0 | 0 | 0 | 0 | 0 | 0 | 0 | 0 | 0 | ⋯ | 0 | 0 | 0 | 0 | 0 | 0 | 0 | 0 | 0 | 0 |\n",
       "| 0 | 0 | 0 | 0 | 0 | 0 | 0 | 0 | 0 | 0 | ⋯ | 0 | 0 | 0 | 0 | 0 | 0 | 0 | 0 | 0 | 0 |\n",
       "| ⋮ | ⋮ | ⋮ | ⋮ | ⋮ | ⋮ | ⋮ | ⋮ | ⋮ | ⋮ | ⋱ | ⋮ | ⋮ | ⋮ | ⋮ | ⋮ | ⋮ | ⋮ | ⋮ | ⋮ | ⋮ |\n",
       "| 0 | 0 | 0 | 0 | 0 | 0 | 0 | 0 | 0 | 0 | ⋯ | 0 | 0 | 0 | 0 | 0 | 0 | 0 | 0 | 0 | 0 |\n",
       "| 0 | 0 | 0 | 0 | 0 | 0 | 0 | 0 | 0 | 0 | ⋯ | 0 | 0 | 0 | 0 | 0 | 0 | 0 | 0 | 0 | 0 |\n",
       "| 0 | 0 | 0 | 0 | 0 | 0 | 0 | 0 | 0 | 0 | ⋯ | 0 | 0 | 0 | 0 | 0 | 0 | 0 | 0 | 0 | 0 |\n",
       "| 0 | 0 | 0 | 0 | 0 | 0 | 0 | 0 | 0 | 0 | ⋯ | 0 | 0 | 0 | 0 | 0 | 0 | 0 | 0 | 0 | 0 |\n",
       "| 0 | 0 | 0 | 0 | 0 | 0 | 0 | 0 | 0 | 0 | ⋯ | 0 | 0 | 0 | 0 | 0 | 0 | 0 | 0 | 0 | 0 |\n",
       "| 0 | 0 | 0 | 0 | 0 | 0 | 0 | 0 | 0 | 0 | ⋯ | 0 | 0 | 0 | 0 | 0 | 0 | 0 | 0 | 0 | 0 |\n",
       "| 0 | 0 | 0 | 0 | 0 | 0 | 0 | 0 | 0 | 0 | ⋯ | 0 | 0 | 0 | 0 | 0 | 0 | 0 | 0 | 0 | 0 |\n",
       "| 0 | 0 | 0 | 0 | 0 | 0 | 0 | 0 | 0 | 0 | ⋯ | 0 | 0 | 0 | 0 | 0 | 0 | 0 | 0 | 0 | 0 |\n",
       "| 0 | 0 | 0 | 0 | 0 | 0 | 0 | 0 | 0 | 0 | ⋯ | 0 | 0 | 0 | 0 | 0 | 0 | 0 | 0 | 0 | 0 |\n",
       "| 0 | 0 | 0 | 0 | 0 | 0 | 0 | 0 | 0 | 0 | ⋯ | 0 | 0 | 0 | 0 | 0 | 0 | 0 | 0 | 0 | 0 |\n",
       "| 0 | 0 | 0 | 0 | 0 | 0 | 0 | 0 | 0 | 0 | ⋯ | 0 | 0 | 0 | 0 | 0 | 0 | 0 | 0 | 0 | 0 |\n",
       "| 0 | 0 | 0 | 0 | 0 | 0 | 0 | 0 | 0 | 0 | ⋯ | 0 | 0 | 0 | 0 | 0 | 0 | 0 | 0 | 0 | 0 |\n",
       "| 0 | 0 | 0 | 0 | 0 | 0 | 0 | 0 | 0 | 0 | ⋯ | 0 | 0 | 0 | 0 | 0 | 0 | 0 | 0 | 0 | 0 |\n",
       "| 0 | 0 | 0 | 0 | 0 | 0 | 0 | 0 | 0 | 0 | ⋯ | 0 | 0 | 0 | 0 | 0 | 0 | 0 | 0 | 0 | 0 |\n",
       "| 0 | 0 | 0 | 0 | 0 | 0 | 0 | 0 | 0 | 0 | ⋯ | 0 | 0 | 0 | 0 | 0 | 0 | 0 | 0 | 0 | 0 |\n",
       "| 0 | 0 | 0 | 0 | 0 | 0 | 0 | 0 | 0 | 0 | ⋯ | 0 | 0 | 0 | 0 | 0 | 0 | 0 | 0 | 0 | 0 |\n",
       "| 0 | 0 | 0 | 0 | 0 | 0 | 0 | 0 | 0 | 0 | ⋯ | 0 | 0 | 0 | 0 | 0 | 0 | 0 | 0 | 0 | 0 |\n",
       "| 0 | 0 | 0 | 0 | 0 | 0 | 0 | 0 | 0 | 0 | ⋯ | 0 | 0 | 0 | 0 | 0 | 0 | 0 | 0 | 0 | 0 |\n",
       "| 0 | 0 | 0 | 0 | 0 | 0 | 0 | 0 | 0 | 0 | ⋯ | 0 | 0 | 0 | 0 | 0 | 0 | 0 | 0 | 0 | 0 |\n",
       "| 0 | 0 | 0 | 0 | 0 | 0 | 0 | 0 | 0 | 0 | ⋯ | 0 | 0 | 0 | 0 | 0 | 0 | 0 | 0 | 0 | 0 |\n",
       "| 0 | 0 | 0 | 0 | 0 | 0 | 0 | 0 | 0 | 0 | ⋯ | 6 | 0 | 0 | 0 | 0 | 0 | 0 | 0 | 0 | 0 |\n",
       "| 0 | 0 | 0 | 0 | 0 | 0 | 0 | 0 | 0 | 0 | ⋯ | 0 | 6 | 0 | 0 | 0 | 0 | 0 | 0 | 0 | 0 |\n",
       "| 0 | 0 | 0 | 0 | 0 | 0 | 0 | 0 | 0 | 0 | ⋯ | 0 | 0 | 6 | 0 | 0 | 0 | 0 | 0 | 0 | 0 |\n",
       "| 0 | 0 | 0 | 0 | 0 | 0 | 0 | 0 | 0 | 0 | ⋯ | 0 | 0 | 0 | 6 | 0 | 0 | 0 | 0 | 0 | 0 |\n",
       "| 0 | 0 | 0 | 0 | 0 | 0 | 0 | 0 | 0 | 0 | ⋯ | 0 | 0 | 0 | 0 | 6 | 0 | 0 | 0 | 0 | 0 |\n",
       "| 0 | 0 | 0 | 0 | 0 | 0 | 0 | 0 | 0 | 0 | ⋯ | 0 | 0 | 0 | 0 | 0 | 6 | 0 | 0 | 0 | 0 |\n",
       "| 0 | 0 | 0 | 0 | 0 | 0 | 0 | 0 | 0 | 0 | ⋯ | 0 | 0 | 0 | 0 | 0 | 0 | 6 | 0 | 0 | 0 |\n",
       "| 0 | 0 | 0 | 0 | 0 | 0 | 0 | 0 | 0 | 0 | ⋯ | 0 | 0 | 0 | 0 | 0 | 0 | 0 | 6 | 0 | 0 |\n",
       "| 0 | 0 | 0 | 0 | 0 | 0 | 0 | 0 | 0 | 0 | ⋯ | 0 | 0 | 0 | 0 | 0 | 0 | 0 | 0 | 6 | 0 |\n",
       "| 0 | 0 | 0 | 0 | 0 | 0 | 0 | 0 | 0 | 0 | ⋯ | 0 | 0 | 0 | 0 | 0 | 0 | 0 | 0 | 0 | 6 |\n",
       "\n"
      ],
      "text/plain": [
       "      [,1] [,2] [,3] [,4] [,5] [,6] [,7] [,8] [,9] [,10] [,11] [,12] [,13]\n",
       " [1,] 6    0    0    0    0    0    0    0    0    0     ⋯     0     0    \n",
       " [2,] 0    6    0    0    0    0    0    0    0    0     ⋯     0     0    \n",
       " [3,] 0    0    6    0    0    0    0    0    0    0     ⋯     0     0    \n",
       " [4,] 0    0    0    6    0    0    0    0    0    0     ⋯     0     0    \n",
       " [5,] 0    0    0    0    6    0    0    0    0    0     ⋯     0     0    \n",
       " [6,] 0    0    0    0    0    6    0    0    0    0     ⋯     0     0    \n",
       " [7,] 0    0    0    0    0    0    6    0    0    0     ⋯     0     0    \n",
       " [8,] 0    0    0    0    0    0    0    6    0    0     ⋯     0     0    \n",
       " [9,] 0    0    0    0    0    0    0    0    6    0     ⋯     0     0    \n",
       "[10,] 0    0    0    0    0    0    0    0    0    6     ⋯     0     0    \n",
       "[11,] 0    0    0    0    0    0    0    0    0    0     ⋯     0     0    \n",
       "[12,] 0    0    0    0    0    0    0    0    0    0     ⋯     0     0    \n",
       "[13,] 0    0    0    0    0    0    0    0    0    0     ⋯     0     0    \n",
       "[14,] 0    0    0    0    0    0    0    0    0    0     ⋯     0     0    \n",
       "[15,] 0    0    0    0    0    0    0    0    0    0     ⋯     0     0    \n",
       "[16,] 0    0    0    0    0    0    0    0    0    0     ⋯     0     0    \n",
       "[17,] 0    0    0    0    0    0    0    0    0    0     ⋯     0     0    \n",
       "[18,] 0    0    0    0    0    0    0    0    0    0     ⋯     0     0    \n",
       "[19,] 0    0    0    0    0    0    0    0    0    0     ⋯     0     0    \n",
       "[20,] 0    0    0    0    0    0    0    0    0    0     ⋯     0     0    \n",
       "[21,] 0    0    0    0    0    0    0    0    0    0     ⋯     0     0    \n",
       "[22,] 0    0    0    0    0    0    0    0    0    0     ⋯     0     0    \n",
       "[23,] 0    0    0    0    0    0    0    0    0    0     ⋯     0     0    \n",
       "[24,] 0    0    0    0    0    0    0    0    0    0     ⋯     0     0    \n",
       "[25,] 0    0    0    0    0    0    0    0    0    0     ⋯     0     0    \n",
       "[26,] 0    0    0    0    0    0    0    0    0    0     ⋯     0     0    \n",
       "[27,] 0    0    0    0    0    0    0    0    0    0     ⋯     0     0    \n",
       "[28,] 0    0    0    0    0    0    0    0    0    0     ⋯     0     0    \n",
       "[29,] 0    0    0    0    0    0    0    0    0    0     ⋯     0     0    \n",
       "[30,] 0    0    0    0    0    0    0    0    0    0     ⋯     0     0    \n",
       "[31,] ⋮    ⋮    ⋮    ⋮    ⋮    ⋮    ⋮    ⋮    ⋮    ⋮     ⋱     ⋮     ⋮    \n",
       "[32,] 0    0    0    0    0    0    0    0    0    0     ⋯     0     0    \n",
       "[33,] 0    0    0    0    0    0    0    0    0    0     ⋯     0     0    \n",
       "[34,] 0    0    0    0    0    0    0    0    0    0     ⋯     0     0    \n",
       "[35,] 0    0    0    0    0    0    0    0    0    0     ⋯     0     0    \n",
       "[36,] 0    0    0    0    0    0    0    0    0    0     ⋯     0     0    \n",
       "[37,] 0    0    0    0    0    0    0    0    0    0     ⋯     0     0    \n",
       "[38,] 0    0    0    0    0    0    0    0    0    0     ⋯     0     0    \n",
       "[39,] 0    0    0    0    0    0    0    0    0    0     ⋯     0     0    \n",
       "[40,] 0    0    0    0    0    0    0    0    0    0     ⋯     0     0    \n",
       "[41,] 0    0    0    0    0    0    0    0    0    0     ⋯     0     0    \n",
       "[42,] 0    0    0    0    0    0    0    0    0    0     ⋯     0     0    \n",
       "[43,] 0    0    0    0    0    0    0    0    0    0     ⋯     0     0    \n",
       "[44,] 0    0    0    0    0    0    0    0    0    0     ⋯     0     0    \n",
       "[45,] 0    0    0    0    0    0    0    0    0    0     ⋯     0     0    \n",
       "[46,] 0    0    0    0    0    0    0    0    0    0     ⋯     0     0    \n",
       "[47,] 0    0    0    0    0    0    0    0    0    0     ⋯     0     0    \n",
       "[48,] 0    0    0    0    0    0    0    0    0    0     ⋯     0     0    \n",
       "[49,] 0    0    0    0    0    0    0    0    0    0     ⋯     0     0    \n",
       "[50,] 0    0    0    0    0    0    0    0    0    0     ⋯     0     0    \n",
       "[51,] 0    0    0    0    0    0    0    0    0    0     ⋯     0     0    \n",
       "[52,] 0    0    0    0    0    0    0    0    0    0     ⋯     6     0    \n",
       "[53,] 0    0    0    0    0    0    0    0    0    0     ⋯     0     6    \n",
       "[54,] 0    0    0    0    0    0    0    0    0    0     ⋯     0     0    \n",
       "[55,] 0    0    0    0    0    0    0    0    0    0     ⋯     0     0    \n",
       "[56,] 0    0    0    0    0    0    0    0    0    0     ⋯     0     0    \n",
       "[57,] 0    0    0    0    0    0    0    0    0    0     ⋯     0     0    \n",
       "[58,] 0    0    0    0    0    0    0    0    0    0     ⋯     0     0    \n",
       "[59,] 0    0    0    0    0    0    0    0    0    0     ⋯     0     0    \n",
       "[60,] 0    0    0    0    0    0    0    0    0    0     ⋯     0     0    \n",
       "[61,] 0    0    0    0    0    0    0    0    0    0     ⋯     0     0    \n",
       "      [,14] [,15] [,16] [,17] [,18] [,19] [,20] [,21]\n",
       " [1,] 0     0     0     0     0     0     0     0    \n",
       " [2,] 0     0     0     0     0     0     0     0    \n",
       " [3,] 0     0     0     0     0     0     0     0    \n",
       " [4,] 0     0     0     0     0     0     0     0    \n",
       " [5,] 0     0     0     0     0     0     0     0    \n",
       " [6,] 0     0     0     0     0     0     0     0    \n",
       " [7,] 0     0     0     0     0     0     0     0    \n",
       " [8,] 0     0     0     0     0     0     0     0    \n",
       " [9,] 0     0     0     0     0     0     0     0    \n",
       "[10,] 0     0     0     0     0     0     0     0    \n",
       "[11,] 0     0     0     0     0     0     0     0    \n",
       "[12,] 0     0     0     0     0     0     0     0    \n",
       "[13,] 0     0     0     0     0     0     0     0    \n",
       "[14,] 0     0     0     0     0     0     0     0    \n",
       "[15,] 0     0     0     0     0     0     0     0    \n",
       "[16,] 0     0     0     0     0     0     0     0    \n",
       "[17,] 0     0     0     0     0     0     0     0    \n",
       "[18,] 0     0     0     0     0     0     0     0    \n",
       "[19,] 0     0     0     0     0     0     0     0    \n",
       "[20,] 0     0     0     0     0     0     0     0    \n",
       "[21,] 0     0     0     0     0     0     0     0    \n",
       "[22,] 0     0     0     0     0     0     0     0    \n",
       "[23,] 0     0     0     0     0     0     0     0    \n",
       "[24,] 0     0     0     0     0     0     0     0    \n",
       "[25,] 0     0     0     0     0     0     0     0    \n",
       "[26,] 0     0     0     0     0     0     0     0    \n",
       "[27,] 0     0     0     0     0     0     0     0    \n",
       "[28,] 0     0     0     0     0     0     0     0    \n",
       "[29,] 0     0     0     0     0     0     0     0    \n",
       "[30,] 0     0     0     0     0     0     0     0    \n",
       "[31,] ⋮     ⋮     ⋮     ⋮     ⋮     ⋮     ⋮     ⋮    \n",
       "[32,] 0     0     0     0     0     0     0     0    \n",
       "[33,] 0     0     0     0     0     0     0     0    \n",
       "[34,] 0     0     0     0     0     0     0     0    \n",
       "[35,] 0     0     0     0     0     0     0     0    \n",
       "[36,] 0     0     0     0     0     0     0     0    \n",
       "[37,] 0     0     0     0     0     0     0     0    \n",
       "[38,] 0     0     0     0     0     0     0     0    \n",
       "[39,] 0     0     0     0     0     0     0     0    \n",
       "[40,] 0     0     0     0     0     0     0     0    \n",
       "[41,] 0     0     0     0     0     0     0     0    \n",
       "[42,] 0     0     0     0     0     0     0     0    \n",
       "[43,] 0     0     0     0     0     0     0     0    \n",
       "[44,] 0     0     0     0     0     0     0     0    \n",
       "[45,] 0     0     0     0     0     0     0     0    \n",
       "[46,] 0     0     0     0     0     0     0     0    \n",
       "[47,] 0     0     0     0     0     0     0     0    \n",
       "[48,] 0     0     0     0     0     0     0     0    \n",
       "[49,] 0     0     0     0     0     0     0     0    \n",
       "[50,] 0     0     0     0     0     0     0     0    \n",
       "[51,] 0     0     0     0     0     0     0     0    \n",
       "[52,] 0     0     0     0     0     0     0     0    \n",
       "[53,] 0     0     0     0     0     0     0     0    \n",
       "[54,] 6     0     0     0     0     0     0     0    \n",
       "[55,] 0     6     0     0     0     0     0     0    \n",
       "[56,] 0     0     6     0     0     0     0     0    \n",
       "[57,] 0     0     0     6     0     0     0     0    \n",
       "[58,] 0     0     0     0     6     0     0     0    \n",
       "[59,] 0     0     0     0     0     6     0     0    \n",
       "[60,] 0     0     0     0     0     0     6     0    \n",
       "[61,] 0     0     0     0     0     0     0     6    "
      ]
     },
     "metadata": {},
     "output_type": "display_data"
    }
   ],
   "source": [
    "6 * diag(ncol(z.mat)) "
   ]
  },
  {
   "cell_type": "code",
   "execution_count": 43,
   "id": "6e23549d-355b-48b0-80b8-aa2e542d398d",
   "metadata": {},
   "outputs": [
    {
     "ename": "ERROR",
     "evalue": "Error in h(simpleError(msg, call)): error in evaluating the argument 'a' in selecting a method for function 'solve': non-numeric argument to binary operator\n",
     "output_type": "error",
     "traceback": [
      "Error in h(simpleError(msg, call)): error in evaluating the argument 'a' in selecting a method for function 'solve': non-numeric argument to binary operator\nTraceback:\n",
      "1. solve(t(z.mat) %*% z.mat + plier.model$L2 * diag(ncol(z.mat)))",
      "2. .handleSimpleError(function (cond) \n . .Internal(C_tryCatchHelper(addr, 1L, cond)), \"non-numeric argument to binary operator\", \n .     base::quote(plier.model$L2 * diag(ncol(z.mat))))",
      "3. h(simpleError(msg, call))"
     ]
    }
   ],
   "source": [
    "exprs.new.b <-\n",
    "solve(t(z.mat) %*% z.mat + plier.model$L2 * diag(ncol(z.mat))) %*%\n",
    "t(z.mat) %*% ord.rownorm\n",
    "\n",
    "head(exprs.new.b)"
   ]
  },
  {
   "cell_type": "code",
   "execution_count": null,
   "id": "53d1cf88-fc61-451b-a606-c1f7ad464026",
   "metadata": {},
   "outputs": [],
   "source": []
  },
  {
   "cell_type": "code",
   "execution_count": null,
   "id": "01605b3e-6ba9-445b-b5ae-06582b8320e5",
   "metadata": {},
   "outputs": [],
   "source": [
    "rownames(exprs.new.b) <- rownames(plier.model$B)\n",
    "head(exprs.new.b)"
   ]
  },
  {
   "cell_type": "code",
   "execution_count": 28,
   "id": "80972466-dcaf-45f3-ab7a-4583bba73632",
   "metadata": {},
   "outputs": [
    {
     "data": {
      "text/html": [
       "<style>\n",
       ".list-inline {list-style: none; margin:0; padding: 0}\n",
       ".list-inline>li {display: inline-block}\n",
       ".list-inline>li:not(:last-child)::after {content: \"\\00b7\"; padding: 0 .5ex}\n",
       "</style>\n",
       "<ol class=list-inline><li>'matrix'</li><li>'array'</li></ol>\n"
      ],
      "text/latex": [
       "\\begin{enumerate*}\n",
       "\\item 'matrix'\n",
       "\\item 'array'\n",
       "\\end{enumerate*}\n"
      ],
      "text/markdown": [
       "1. 'matrix'\n",
       "2. 'array'\n",
       "\n",
       "\n"
      ],
      "text/plain": [
       "[1] \"matrix\" \"array\" "
      ]
     },
     "metadata": {},
     "output_type": "display_data"
    }
   ],
   "source": [
    "class(ordered_tpm_gene_counts)"
   ]
  },
  {
   "cell_type": "code",
   "execution_count": 35,
   "id": "7a93cb77-4e49-4f32-b2ef-65565311ed1f",
   "metadata": {},
   "outputs": [
    {
     "ename": "ERROR",
     "evalue": "Error in h(simpleError(msg, call)): error in evaluating the argument 'a' in selecting a method for function 'solve': non-numeric argument to binary operator\n",
     "output_type": "error",
     "traceback": [
      "Error in h(simpleError(msg, call)): error in evaluating the argument 'a' in selecting a method for function 'solve': non-numeric argument to binary operator\nTraceback:\n",
      "1. GetNewDataB(ordered_tpm_gene_counts, multiplier_model)",
      "2. solve(t(z.mat) %*% z.mat + plier.model$L2 * diag(ncol(z.mat)))",
      "3. .handleSimpleError(function (cond) \n . .Internal(C_tryCatchHelper(addr, 1L, cond)), \"non-numeric argument to binary operator\", \n .     base::quote(plier.model$L2 * diag(ncol(z.mat))))",
      "4. h(simpleError(msg, call))"
     ]
    }
   ],
   "source": [
    "GetNewDataB(ordered_tpm_gene_counts, multiplier_model)"
   ]
  },
  {
   "cell_type": "code",
   "execution_count": 126,
   "id": "733f2a2e-e122-442e-87b4-922bd2adeb7f",
   "metadata": {},
   "outputs": [
    {
     "data": {
      "text/html": [
       "<table class=\"dataframe\">\n",
       "<caption>A data.frame: 6 × 8</caption>\n",
       "<thead>\n",
       "\t<tr><th></th><th scope=col>A2_T21</th><th scope=col>A1_T21</th><th scope=col>B1_N</th><th scope=col>B2_N</th><th scope=col>A3_T21</th><th scope=col>A4_T21</th><th scope=col>B4_N</th><th scope=col>B3_N</th></tr>\n",
       "\t<tr><th></th><th scope=col>&lt;dbl&gt;</th><th scope=col>&lt;dbl&gt;</th><th scope=col>&lt;dbl&gt;</th><th scope=col>&lt;dbl&gt;</th><th scope=col>&lt;dbl&gt;</th><th scope=col>&lt;dbl&gt;</th><th scope=col>&lt;dbl&gt;</th><th scope=col>&lt;dbl&gt;</th></tr>\n",
       "</thead>\n",
       "<tbody>\n",
       "\t<tr><th scope=row>GAS6</th><td> 0.06168728</td><td> 0.1668543</td><td> 0.02651284</td><td> 0.02211796</td><td>0.000000000</td><td>0.01020220</td><td>0.01922243</td><td>0.02073334</td></tr>\n",
       "\t<tr><th scope=row>MMP14</th><td> 0.13445749</td><td> 0.4572055</td><td> 0.18492501</td><td> 0.07713550</td><td>0.036208833</td><td>0.03557978</td><td>0.05586457</td><td>0.06025560</td></tr>\n",
       "\t<tr><th scope=row>DSP</th><td> 0.00000000</td><td> 0.1657715</td><td> 0.02034599</td><td> 0.01060834</td><td>0.003319835</td><td>0.02609727</td><td>0.04609787</td><td>0.04972123</td></tr>\n",
       "\t<tr><th scope=row>MARCKSL1</th><td>19.76784572</td><td>45.6137852</td><td>18.41425891</td><td> 9.34980430</td><td>1.636032263</td><td>3.02972558</td><td>3.84446239</td><td>3.45553516</td></tr>\n",
       "\t<tr><th scope=row>SPARC</th><td>12.38569146</td><td>19.3741441</td><td>12.39687818</td><td>15.11296209</td><td>1.635691856</td><td>1.93330587</td><td>6.65480438</td><td>4.11493084</td></tr>\n",
       "\t<tr><th scope=row>CTSD</th><td>14.50878547</td><td>23.9391484</td><td> 9.60629478</td><td> 8.99936301</td><td>1.172401248</td><td>2.17884527</td><td>2.97277575</td><td>2.11217863</td></tr>\n",
       "</tbody>\n",
       "</table>\n"
      ],
      "text/latex": [
       "A data.frame: 6 × 8\n",
       "\\begin{tabular}{r|llllllll}\n",
       "  & A2\\_T21 & A1\\_T21 & B1\\_N & B2\\_N & A3\\_T21 & A4\\_T21 & B4\\_N & B3\\_N\\\\\n",
       "  & <dbl> & <dbl> & <dbl> & <dbl> & <dbl> & <dbl> & <dbl> & <dbl>\\\\\n",
       "\\hline\n",
       "\tGAS6 &  0.06168728 &  0.1668543 &  0.02651284 &  0.02211796 & 0.000000000 & 0.01020220 & 0.01922243 & 0.02073334\\\\\n",
       "\tMMP14 &  0.13445749 &  0.4572055 &  0.18492501 &  0.07713550 & 0.036208833 & 0.03557978 & 0.05586457 & 0.06025560\\\\\n",
       "\tDSP &  0.00000000 &  0.1657715 &  0.02034599 &  0.01060834 & 0.003319835 & 0.02609727 & 0.04609787 & 0.04972123\\\\\n",
       "\tMARCKSL1 & 19.76784572 & 45.6137852 & 18.41425891 &  9.34980430 & 1.636032263 & 3.02972558 & 3.84446239 & 3.45553516\\\\\n",
       "\tSPARC & 12.38569146 & 19.3741441 & 12.39687818 & 15.11296209 & 1.635691856 & 1.93330587 & 6.65480438 & 4.11493084\\\\\n",
       "\tCTSD & 14.50878547 & 23.9391484 &  9.60629478 &  8.99936301 & 1.172401248 & 2.17884527 & 2.97277575 & 2.11217863\\\\\n",
       "\\end{tabular}\n"
      ],
      "text/markdown": [
       "\n",
       "A data.frame: 6 × 8\n",
       "\n",
       "| <!--/--> | A2_T21 &lt;dbl&gt; | A1_T21 &lt;dbl&gt; | B1_N &lt;dbl&gt; | B2_N &lt;dbl&gt; | A3_T21 &lt;dbl&gt; | A4_T21 &lt;dbl&gt; | B4_N &lt;dbl&gt; | B3_N &lt;dbl&gt; |\n",
       "|---|---|---|---|---|---|---|---|---|\n",
       "| GAS6 |  0.06168728 |  0.1668543 |  0.02651284 |  0.02211796 | 0.000000000 | 0.01020220 | 0.01922243 | 0.02073334 |\n",
       "| MMP14 |  0.13445749 |  0.4572055 |  0.18492501 |  0.07713550 | 0.036208833 | 0.03557978 | 0.05586457 | 0.06025560 |\n",
       "| DSP |  0.00000000 |  0.1657715 |  0.02034599 |  0.01060834 | 0.003319835 | 0.02609727 | 0.04609787 | 0.04972123 |\n",
       "| MARCKSL1 | 19.76784572 | 45.6137852 | 18.41425891 |  9.34980430 | 1.636032263 | 3.02972558 | 3.84446239 | 3.45553516 |\n",
       "| SPARC | 12.38569146 | 19.3741441 | 12.39687818 | 15.11296209 | 1.635691856 | 1.93330587 | 6.65480438 | 4.11493084 |\n",
       "| CTSD | 14.50878547 | 23.9391484 |  9.60629478 |  8.99936301 | 1.172401248 | 2.17884527 | 2.97277575 | 2.11217863 |\n",
       "\n"
      ],
      "text/plain": [
       "         A2_T21      A1_T21     B1_N        B2_N        A3_T21      A4_T21    \n",
       "GAS6      0.06168728  0.1668543  0.02651284  0.02211796 0.000000000 0.01020220\n",
       "MMP14     0.13445749  0.4572055  0.18492501  0.07713550 0.036208833 0.03557978\n",
       "DSP       0.00000000  0.1657715  0.02034599  0.01060834 0.003319835 0.02609727\n",
       "MARCKSL1 19.76784572 45.6137852 18.41425891  9.34980430 1.636032263 3.02972558\n",
       "SPARC    12.38569146 19.3741441 12.39687818 15.11296209 1.635691856 1.93330587\n",
       "CTSD     14.50878547 23.9391484  9.60629478  8.99936301 1.172401248 2.17884527\n",
       "         B4_N       B3_N      \n",
       "GAS6     0.01922243 0.02073334\n",
       "MMP14    0.05586457 0.06025560\n",
       "DSP      0.04609787 0.04972123\n",
       "MARCKSL1 3.84446239 3.45553516\n",
       "SPARC    6.65480438 4.11493084\n",
       "CTSD     2.97277575 2.11217863"
      ]
     },
     "metadata": {},
     "output_type": "display_data"
    },
    {
     "data": {
      "text/html": [
       "<style>\n",
       ".list-inline {list-style: none; margin:0; padding: 0}\n",
       ".list-inline>li {display: inline-block}\n",
       ".list-inline>li:not(:last-child)::after {content: \"\\00b7\"; padding: 0 .5ex}\n",
       "</style>\n",
       "<ol class=list-inline><li>6722</li><li>8</li></ol>\n"
      ],
      "text/latex": [
       "\\begin{enumerate*}\n",
       "\\item 6722\n",
       "\\item 8\n",
       "\\end{enumerate*}\n"
      ],
      "text/markdown": [
       "1. 6722\n",
       "2. 8\n",
       "\n",
       "\n"
      ],
      "text/plain": [
       "[1] 6722    8"
      ]
     },
     "metadata": {},
     "output_type": "display_data"
    }
   ],
   "source": [
    "head(ordered_tpm)\n",
    "dim(ordered_tpm)"
   ]
  },
  {
   "cell_type": "code",
   "execution_count": null,
   "id": "6e79e88c-0f0d-47ba-a7a4-d1c8ec5f59b6",
   "metadata": {},
   "outputs": [],
   "source": []
  },
  {
   "cell_type": "code",
   "execution_count": 128,
   "id": "aae470b3-4d80-4654-a153-7929460f5cb7",
   "metadata": {},
   "outputs": [
    {
     "ename": "ERROR",
     "evalue": "Error in eval(substitute(select), nl, parent.frame()): object 'rowname' not found\n",
     "output_type": "error",
     "traceback": [
      "Error in eval(substitute(select), nl, parent.frame()): object 'rowname' not found\nTraceback:\n",
      "1. subset(tmp_multiplier_z, select = -c(rowname))",
      "2. subset(tmp_multiplier_z, select = -c(rowname))",
      "3. subset.data.frame(tmp_multiplier_z, select = -c(rowname))",
      "4. eval(substitute(select), nl, parent.frame())",
      "5. eval(substitute(select), nl, parent.frame())"
     ]
    }
   ],
   "source": [
    "multiplier_z=subset(tmp_multiplier_z, select = -c(rowname))\n",
    "head(multiplier_z)\n",
    "dim(multiplier_z)"
   ]
  },
  {
   "cell_type": "markdown",
   "id": "f7ba0202-bfdc-4ab0-9a86-064418724e8a",
   "metadata": {},
   "source": [
    "## Projections\n",
    "https://github.com/pivlab/phenoplier/blob/main/nbs/05_projections/015_05-multiplier-emerge.ipynb"
   ]
  },
  {
   "cell_type": "code",
   "execution_count": 113,
   "id": "23142867-0185-41bf-80ce-97fbb576073b",
   "metadata": {},
   "outputs": [],
   "source": [
    "l2 = 45.5"
   ]
  },
  {
   "cell_type": "code",
   "execution_count": null,
   "id": "0653eab4-a53f-4ed3-bedb-81a305780966",
   "metadata": {
    "editable": true,
    "slideshow": {
     "slide_type": ""
    },
    "tags": []
   },
   "outputs": [],
   "source": []
  },
  {
   "cell_type": "code",
   "execution_count": 114,
   "id": "bf73e57a-5a53-4dac-8d09-8840a45e1681",
   "metadata": {
    "editable": true,
    "slideshow": {
     "slide_type": ""
    },
    "tags": []
   },
   "outputs": [
    {
     "data": {
      "text/html": [
       "<style>\n",
       ".list-inline {list-style: none; margin:0; padding: 0}\n",
       ".list-inline>li {display: inline-block}\n",
       ".list-inline>li:not(:last-child)::after {content: \"\\00b7\"; padding: 0 .5ex}\n",
       "</style>\n",
       "<ol class=list-inline><li>987</li><li>987</li></ol>\n"
      ],
      "text/latex": [
       "\\begin{enumerate*}\n",
       "\\item 987\n",
       "\\item 987\n",
       "\\end{enumerate*}\n"
      ],
      "text/markdown": [
       "1. 987\n",
       "2. 987\n",
       "\n",
       "\n"
      ],
      "text/plain": [
       "[1] 987 987"
      ]
     },
     "metadata": {},
     "output_type": "display_data"
    }
   ],
   "source": [
    "zcov <- t(as.matrix(multiplier_z)) %*% as.matrix(multiplier_z)\n",
    "dim(zcov)"
   ]
  },
  {
   "cell_type": "code",
   "execution_count": 115,
   "id": "a4ff6263-1159-4ce1-8bd3-e2175efa29b2",
   "metadata": {},
   "outputs": [
    {
     "data": {
      "text/html": [
       "<style>\n",
       ".list-inline {list-style: none; margin:0; padding: 0}\n",
       ".list-inline>li {display: inline-block}\n",
       ".list-inline>li:not(:last-child)::after {content: \"\\00b7\"; padding: 0 .5ex}\n",
       "</style>\n",
       "<ol class=list-inline><li>987</li><li>987</li></ol>\n"
      ],
      "text/latex": [
       "\\begin{enumerate*}\n",
       "\\item 987\n",
       "\\item 987\n",
       "\\end{enumerate*}\n"
      ],
      "text/markdown": [
       "1. 987\n",
       "2. 987\n",
       "\n",
       "\n"
      ],
      "text/plain": [
       "[1] 987 987"
      ]
     },
     "metadata": {},
     "output_type": "display_data"
    }
   ],
   "source": [
    "l2mat <- l2 * diag(ncol(as.matrix(multiplier_z)))\n",
    "dim(l2mat)"
   ]
  },
  {
   "cell_type": "code",
   "execution_count": 116,
   "id": "51d887be-0ec5-4775-a9c4-72ae581000fa",
   "metadata": {},
   "outputs": [],
   "source": [
    "zinv <- solve(zcov + l2mat)"
   ]
  },
  {
   "cell_type": "code",
   "execution_count": 117,
   "id": "e95536ad-6ac3-4061-affd-10bdae775647",
   "metadata": {},
   "outputs": [
    {
     "data": {
      "text/html": [
       "<table class=\"dataframe\">\n",
       "<caption>A data.frame: 6 × 8</caption>\n",
       "<thead>\n",
       "\t<tr><th></th><th scope=col>A2_T21</th><th scope=col>A1_T21</th><th scope=col>B1_N</th><th scope=col>B2_N</th><th scope=col>A3_T21</th><th scope=col>A4_T21</th><th scope=col>B4_N</th><th scope=col>B3_N</th></tr>\n",
       "\t<tr><th></th><th scope=col>&lt;dbl&gt;</th><th scope=col>&lt;dbl&gt;</th><th scope=col>&lt;dbl&gt;</th><th scope=col>&lt;dbl&gt;</th><th scope=col>&lt;dbl&gt;</th><th scope=col>&lt;dbl&gt;</th><th scope=col>&lt;dbl&gt;</th><th scope=col>&lt;dbl&gt;</th></tr>\n",
       "</thead>\n",
       "<tbody>\n",
       "\t<tr><th scope=row>GAS6</th><td> 0.06168728</td><td> 0.1668543</td><td> 0.02651284</td><td> 0.02211796</td><td>0.000000000</td><td>0.01020220</td><td>0.01922243</td><td>0.02073334</td></tr>\n",
       "\t<tr><th scope=row>MMP14</th><td> 0.13445749</td><td> 0.4572055</td><td> 0.18492501</td><td> 0.07713550</td><td>0.036208833</td><td>0.03557978</td><td>0.05586457</td><td>0.06025560</td></tr>\n",
       "\t<tr><th scope=row>DSP</th><td> 0.00000000</td><td> 0.1657715</td><td> 0.02034599</td><td> 0.01060834</td><td>0.003319835</td><td>0.02609727</td><td>0.04609787</td><td>0.04972123</td></tr>\n",
       "\t<tr><th scope=row>MARCKSL1</th><td>19.76784572</td><td>45.6137852</td><td>18.41425891</td><td> 9.34980430</td><td>1.636032263</td><td>3.02972558</td><td>3.84446239</td><td>3.45553516</td></tr>\n",
       "\t<tr><th scope=row>SPARC</th><td>12.38569146</td><td>19.3741441</td><td>12.39687818</td><td>15.11296209</td><td>1.635691856</td><td>1.93330587</td><td>6.65480438</td><td>4.11493084</td></tr>\n",
       "\t<tr><th scope=row>CTSD</th><td>14.50878547</td><td>23.9391484</td><td> 9.60629478</td><td> 8.99936301</td><td>1.172401248</td><td>2.17884527</td><td>2.97277575</td><td>2.11217863</td></tr>\n",
       "</tbody>\n",
       "</table>\n"
      ],
      "text/latex": [
       "A data.frame: 6 × 8\n",
       "\\begin{tabular}{r|llllllll}\n",
       "  & A2\\_T21 & A1\\_T21 & B1\\_N & B2\\_N & A3\\_T21 & A4\\_T21 & B4\\_N & B3\\_N\\\\\n",
       "  & <dbl> & <dbl> & <dbl> & <dbl> & <dbl> & <dbl> & <dbl> & <dbl>\\\\\n",
       "\\hline\n",
       "\tGAS6 &  0.06168728 &  0.1668543 &  0.02651284 &  0.02211796 & 0.000000000 & 0.01020220 & 0.01922243 & 0.02073334\\\\\n",
       "\tMMP14 &  0.13445749 &  0.4572055 &  0.18492501 &  0.07713550 & 0.036208833 & 0.03557978 & 0.05586457 & 0.06025560\\\\\n",
       "\tDSP &  0.00000000 &  0.1657715 &  0.02034599 &  0.01060834 & 0.003319835 & 0.02609727 & 0.04609787 & 0.04972123\\\\\n",
       "\tMARCKSL1 & 19.76784572 & 45.6137852 & 18.41425891 &  9.34980430 & 1.636032263 & 3.02972558 & 3.84446239 & 3.45553516\\\\\n",
       "\tSPARC & 12.38569146 & 19.3741441 & 12.39687818 & 15.11296209 & 1.635691856 & 1.93330587 & 6.65480438 & 4.11493084\\\\\n",
       "\tCTSD & 14.50878547 & 23.9391484 &  9.60629478 &  8.99936301 & 1.172401248 & 2.17884527 & 2.97277575 & 2.11217863\\\\\n",
       "\\end{tabular}\n"
      ],
      "text/markdown": [
       "\n",
       "A data.frame: 6 × 8\n",
       "\n",
       "| <!--/--> | A2_T21 &lt;dbl&gt; | A1_T21 &lt;dbl&gt; | B1_N &lt;dbl&gt; | B2_N &lt;dbl&gt; | A3_T21 &lt;dbl&gt; | A4_T21 &lt;dbl&gt; | B4_N &lt;dbl&gt; | B3_N &lt;dbl&gt; |\n",
       "|---|---|---|---|---|---|---|---|---|\n",
       "| GAS6 |  0.06168728 |  0.1668543 |  0.02651284 |  0.02211796 | 0.000000000 | 0.01020220 | 0.01922243 | 0.02073334 |\n",
       "| MMP14 |  0.13445749 |  0.4572055 |  0.18492501 |  0.07713550 | 0.036208833 | 0.03557978 | 0.05586457 | 0.06025560 |\n",
       "| DSP |  0.00000000 |  0.1657715 |  0.02034599 |  0.01060834 | 0.003319835 | 0.02609727 | 0.04609787 | 0.04972123 |\n",
       "| MARCKSL1 | 19.76784572 | 45.6137852 | 18.41425891 |  9.34980430 | 1.636032263 | 3.02972558 | 3.84446239 | 3.45553516 |\n",
       "| SPARC | 12.38569146 | 19.3741441 | 12.39687818 | 15.11296209 | 1.635691856 | 1.93330587 | 6.65480438 | 4.11493084 |\n",
       "| CTSD | 14.50878547 | 23.9391484 |  9.60629478 |  8.99936301 | 1.172401248 | 2.17884527 | 2.97277575 | 2.11217863 |\n",
       "\n"
      ],
      "text/plain": [
       "         A2_T21      A1_T21     B1_N        B2_N        A3_T21      A4_T21    \n",
       "GAS6      0.06168728  0.1668543  0.02651284  0.02211796 0.000000000 0.01020220\n",
       "MMP14     0.13445749  0.4572055  0.18492501  0.07713550 0.036208833 0.03557978\n",
       "DSP       0.00000000  0.1657715  0.02034599  0.01060834 0.003319835 0.02609727\n",
       "MARCKSL1 19.76784572 45.6137852 18.41425891  9.34980430 1.636032263 3.02972558\n",
       "SPARC    12.38569146 19.3741441 12.39687818 15.11296209 1.635691856 1.93330587\n",
       "CTSD     14.50878547 23.9391484  9.60629478  8.99936301 1.172401248 2.17884527\n",
       "         B4_N       B3_N      \n",
       "GAS6     0.01922243 0.02073334\n",
       "MMP14    0.05586457 0.06025560\n",
       "DSP      0.04609787 0.04972123\n",
       "MARCKSL1 3.84446239 3.45553516\n",
       "SPARC    6.65480438 4.11493084\n",
       "CTSD     2.97277575 2.11217863"
      ]
     },
     "metadata": {},
     "output_type": "display_data"
    }
   ],
   "source": [
    "head(ordered_tpm)"
   ]
  },
  {
   "cell_type": "code",
   "execution_count": 120,
   "id": "16b74733-0915-4fa1-9149-542bb5706d45",
   "metadata": {},
   "outputs": [],
   "source": [
    "newb <- zinv %*% t(as.matrix(multiplier_z)) %*% as.matrix(ordered_tpm)"
   ]
  },
  {
   "cell_type": "code",
   "execution_count": 121,
   "id": "f709d58d-6aed-43fa-8f40-7fae144e80f7",
   "metadata": {
    "editable": true,
    "slideshow": {
     "slide_type": ""
    },
    "tags": []
   },
   "outputs": [
    {
     "data": {
      "text/html": [
       "<table class=\"dataframe\">\n",
       "<caption>A matrix: 6 × 8 of type dbl</caption>\n",
       "<thead>\n",
       "\t<tr><th></th><th scope=col>A2_T21</th><th scope=col>A1_T21</th><th scope=col>B1_N</th><th scope=col>B2_N</th><th scope=col>A3_T21</th><th scope=col>A4_T21</th><th scope=col>B4_N</th><th scope=col>B3_N</th></tr>\n",
       "</thead>\n",
       "<tbody>\n",
       "\t<tr><th scope=row>X1</th><td> 14.020302</td><td> 17.5954569</td><td> 14.90392</td><td> 10.6691668</td><td> 15.297784</td><td>  9.101102</td><td> 11.445383</td><td> 8.570735</td></tr>\n",
       "\t<tr><th scope=row>X2</th><td> 27.320242</td><td> 34.9233072</td><td> 20.65940</td><td> 13.5925847</td><td> 23.186054</td><td> 13.405826</td><td> 16.619541</td><td>10.035201</td></tr>\n",
       "\t<tr><th scope=row>X3</th><td>  1.081143</td><td>  0.9214704</td><td>  1.36611</td><td>  0.9131165</td><td>  2.253863</td><td>  1.094393</td><td>  1.462922</td><td> 1.263021</td></tr>\n",
       "\t<tr><th scope=row>X4</th><td>  9.177443</td><td> 10.6876404</td><td> 10.04862</td><td>  8.2134004</td><td> 11.491121</td><td>  6.335041</td><td>  7.970505</td><td> 4.471863</td></tr>\n",
       "\t<tr><th scope=row>X5</th><td>-11.044831</td><td>-12.4719673</td><td>-13.52302</td><td>-10.5260271</td><td>-18.766835</td><td> -9.698129</td><td>-11.870208</td><td>-8.364079</td></tr>\n",
       "\t<tr><th scope=row>X6</th><td>-15.030297</td><td>-12.7201054</td><td>-13.41360</td><td> -9.0166060</td><td>-21.210630</td><td>-10.512147</td><td>-13.949271</td><td>-5.231020</td></tr>\n",
       "</tbody>\n",
       "</table>\n"
      ],
      "text/latex": [
       "A matrix: 6 × 8 of type dbl\n",
       "\\begin{tabular}{r|llllllll}\n",
       "  & A2\\_T21 & A1\\_T21 & B1\\_N & B2\\_N & A3\\_T21 & A4\\_T21 & B4\\_N & B3\\_N\\\\\n",
       "\\hline\n",
       "\tX1 &  14.020302 &  17.5954569 &  14.90392 &  10.6691668 &  15.297784 &   9.101102 &  11.445383 &  8.570735\\\\\n",
       "\tX2 &  27.320242 &  34.9233072 &  20.65940 &  13.5925847 &  23.186054 &  13.405826 &  16.619541 & 10.035201\\\\\n",
       "\tX3 &   1.081143 &   0.9214704 &   1.36611 &   0.9131165 &   2.253863 &   1.094393 &   1.462922 &  1.263021\\\\\n",
       "\tX4 &   9.177443 &  10.6876404 &  10.04862 &   8.2134004 &  11.491121 &   6.335041 &   7.970505 &  4.471863\\\\\n",
       "\tX5 & -11.044831 & -12.4719673 & -13.52302 & -10.5260271 & -18.766835 &  -9.698129 & -11.870208 & -8.364079\\\\\n",
       "\tX6 & -15.030297 & -12.7201054 & -13.41360 &  -9.0166060 & -21.210630 & -10.512147 & -13.949271 & -5.231020\\\\\n",
       "\\end{tabular}\n"
      ],
      "text/markdown": [
       "\n",
       "A matrix: 6 × 8 of type dbl\n",
       "\n",
       "| <!--/--> | A2_T21 | A1_T21 | B1_N | B2_N | A3_T21 | A4_T21 | B4_N | B3_N |\n",
       "|---|---|---|---|---|---|---|---|---|\n",
       "| X1 |  14.020302 |  17.5954569 |  14.90392 |  10.6691668 |  15.297784 |   9.101102 |  11.445383 |  8.570735 |\n",
       "| X2 |  27.320242 |  34.9233072 |  20.65940 |  13.5925847 |  23.186054 |  13.405826 |  16.619541 | 10.035201 |\n",
       "| X3 |   1.081143 |   0.9214704 |   1.36611 |   0.9131165 |   2.253863 |   1.094393 |   1.462922 |  1.263021 |\n",
       "| X4 |   9.177443 |  10.6876404 |  10.04862 |   8.2134004 |  11.491121 |   6.335041 |   7.970505 |  4.471863 |\n",
       "| X5 | -11.044831 | -12.4719673 | -13.52302 | -10.5260271 | -18.766835 |  -9.698129 | -11.870208 | -8.364079 |\n",
       "| X6 | -15.030297 | -12.7201054 | -13.41360 |  -9.0166060 | -21.210630 | -10.512147 | -13.949271 | -5.231020 |\n",
       "\n"
      ],
      "text/plain": [
       "   A2_T21     A1_T21      B1_N      B2_N        A3_T21     A4_T21    \n",
       "X1  14.020302  17.5954569  14.90392  10.6691668  15.297784   9.101102\n",
       "X2  27.320242  34.9233072  20.65940  13.5925847  23.186054  13.405826\n",
       "X3   1.081143   0.9214704   1.36611   0.9131165   2.253863   1.094393\n",
       "X4   9.177443  10.6876404  10.04862   8.2134004  11.491121   6.335041\n",
       "X5 -11.044831 -12.4719673 -13.52302 -10.5260271 -18.766835  -9.698129\n",
       "X6 -15.030297 -12.7201054 -13.41360  -9.0166060 -21.210630 -10.512147\n",
       "   B4_N       B3_N     \n",
       "X1  11.445383  8.570735\n",
       "X2  16.619541 10.035201\n",
       "X3   1.462922  1.263021\n",
       "X4   7.970505  4.471863\n",
       "X5 -11.870208 -8.364079\n",
       "X6 -13.949271 -5.231020"
      ]
     },
     "metadata": {},
     "output_type": "display_data"
    }
   ],
   "source": [
    "head(newb)"
   ]
  },
  {
   "cell_type": "code",
   "execution_count": 105,
   "id": "e4d33d11-09b7-4b0f-a89f-3aad86ac505e",
   "metadata": {},
   "outputs": [
    {
     "data": {
      "text/html": [
       "<style>\n",
       ".list-inline {list-style: none; margin:0; padding: 0}\n",
       ".list-inline>li {display: inline-block}\n",
       ".list-inline>li:not(:last-child)::after {content: \"\\00b7\"; padding: 0 .5ex}\n",
       "</style>\n",
       "<ol class=list-inline><li>987</li><li>6750</li></ol>\n"
      ],
      "text/latex": [
       "\\begin{enumerate*}\n",
       "\\item 987\n",
       "\\item 6750\n",
       "\\end{enumerate*}\n"
      ],
      "text/markdown": [
       "1. 987\n",
       "2. 6750\n",
       "\n",
       "\n"
      ],
      "text/plain": [
       "[1]  987 6750"
      ]
     },
     "metadata": {},
     "output_type": "display_data"
    }
   ],
   "source": [
    "dim(newb)"
   ]
  },
  {
   "cell_type": "code",
   "execution_count": 106,
   "id": "608b7877-17a0-4da3-a3e7-a9236c26ec6a",
   "metadata": {},
   "outputs": [
    {
     "data": {
      "text/html": [
       "<style>\n",
       ".list-inline {list-style: none; margin:0; padding: 0}\n",
       ".list-inline>li {display: inline-block}\n",
       ".list-inline>li:not(:last-child)::after {content: \"\\00b7\"; padding: 0 .5ex}\n",
       "</style>\n",
       "<ol class=list-inline><li>6722</li><li>8</li></ol>\n"
      ],
      "text/latex": [
       "\\begin{enumerate*}\n",
       "\\item 6722\n",
       "\\item 8\n",
       "\\end{enumerate*}\n"
      ],
      "text/markdown": [
       "1. 6722\n",
       "2. 8\n",
       "\n",
       "\n"
      ],
      "text/plain": [
       "[1] 6722    8"
      ]
     },
     "metadata": {},
     "output_type": "display_data"
    }
   ],
   "source": [
    "dim(ordered_tpm)"
   ]
  },
  {
   "cell_type": "code",
   "execution_count": 1,
   "id": "6765229f-2545-4a33-9c33-2ee36856c445",
   "metadata": {},
   "outputs": [
    {
     "ename": "ERROR",
     "evalue": "Error in parse(text = x, srcfile = src): <text>:1:6: unexpected symbol\n1: from multiplier\n         ^\n",
     "output_type": "error",
     "traceback": [
      "Error in parse(text = x, srcfile = src): <text>:1:6: unexpected symbol\n1: from multiplier\n         ^\nTraceback:\n"
     ]
    }
   ],
   "source": [
    "from multiplier import MultiplierProjection"
   ]
  },
  {
   "cell_type": "code",
   "execution_count": null,
   "id": "e7b799cd-7b1b-481e-bbfb-63994242f713",
   "metadata": {},
   "outputs": [],
   "source": [
    "mproj = MultiplierProjection()\n",
    "smultixcan_into_multiplier = mproj.transform(smultixcan_results)"
   ]
  }
 ],
 "metadata": {
  "kernelspec": {
   "display_name": "R",
   "language": "R",
   "name": "ir"
  },
  "language_info": {
   "codemirror_mode": "r",
   "file_extension": ".r",
   "mimetype": "text/x-r-source",
   "name": "R",
   "pygments_lexer": "r",
   "version": "4.3.3"
  }
 },
 "nbformat": 4,
 "nbformat_minor": 5
}
