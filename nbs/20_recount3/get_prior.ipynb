{
 "cells": [
  {
   "cell_type": "code",
   "execution_count": 2,
   "metadata": {
    "vscode": {
     "languageId": "r"
    }
   },
   "outputs": [
    {
     "data": {
      "text/html": [
       "<table class=\"dataframe\">\n",
       "<caption>A tibble: 6 × 15</caption>\n",
       "<thead>\n",
       "\t<tr><th scope=col>gs_cat</th><th scope=col>gs_subcat</th><th scope=col>gs_name</th><th scope=col>gene_symbol</th><th scope=col>entrez_gene</th><th scope=col>ensembl_gene</th><th scope=col>human_gene_symbol</th><th scope=col>human_entrez_gene</th><th scope=col>human_ensembl_gene</th><th scope=col>gs_id</th><th scope=col>gs_pmid</th><th scope=col>gs_geoid</th><th scope=col>gs_exact_source</th><th scope=col>gs_url</th><th scope=col>gs_description</th></tr>\n",
       "\t<tr><th scope=col>&lt;chr&gt;</th><th scope=col>&lt;chr&gt;</th><th scope=col>&lt;chr&gt;</th><th scope=col>&lt;chr&gt;</th><th scope=col>&lt;int&gt;</th><th scope=col>&lt;chr&gt;</th><th scope=col>&lt;chr&gt;</th><th scope=col>&lt;int&gt;</th><th scope=col>&lt;chr&gt;</th><th scope=col>&lt;chr&gt;</th><th scope=col>&lt;chr&gt;</th><th scope=col>&lt;chr&gt;</th><th scope=col>&lt;chr&gt;</th><th scope=col>&lt;chr&gt;</th><th scope=col>&lt;chr&gt;</th></tr>\n",
       "</thead>\n",
       "<tbody>\n",
       "\t<tr><td>C2</td><td>CGP</td><td>ABBUD_LIF_SIGNALING_1_DN</td><td>AHNAK   </td><td> 79026</td><td>ENSG00000124942</td><td>AHNAK   </td><td> 79026</td><td>ENSG00000124942</td><td>M1423</td><td>14576184</td><td></td><td>Table 2</td><td></td><td>Genes down-regulated in AtT20 cells (pituitary cancer) after  treatment with LIF [GeneID=3976].</td></tr>\n",
       "\t<tr><td>C2</td><td>CGP</td><td>ABBUD_LIF_SIGNALING_1_DN</td><td>ALCAM   </td><td>   214</td><td>ENSG00000170017</td><td>ALCAM   </td><td>   214</td><td>ENSG00000170017</td><td>M1423</td><td>14576184</td><td></td><td>Table 2</td><td></td><td>Genes down-regulated in AtT20 cells (pituitary cancer) after  treatment with LIF [GeneID=3976].</td></tr>\n",
       "\t<tr><td>C2</td><td>CGP</td><td>ABBUD_LIF_SIGNALING_1_DN</td><td>ANKRD40 </td><td> 91369</td><td>ENSG00000154945</td><td>ANKRD40 </td><td> 91369</td><td>ENSG00000154945</td><td>M1423</td><td>14576184</td><td></td><td>Table 2</td><td></td><td>Genes down-regulated in AtT20 cells (pituitary cancer) after  treatment with LIF [GeneID=3976].</td></tr>\n",
       "\t<tr><td>C2</td><td>CGP</td><td>ABBUD_LIF_SIGNALING_1_DN</td><td>ARID1A  </td><td>  8289</td><td>ENSG00000117713</td><td>ARID1A  </td><td>  8289</td><td>ENSG00000117713</td><td>M1423</td><td>14576184</td><td></td><td>Table 2</td><td></td><td>Genes down-regulated in AtT20 cells (pituitary cancer) after  treatment with LIF [GeneID=3976].</td></tr>\n",
       "\t<tr><td>C2</td><td>CGP</td><td>ABBUD_LIF_SIGNALING_1_DN</td><td>BCKDHB  </td><td>   594</td><td>ENSG00000083123</td><td>BCKDHB  </td><td>   594</td><td>ENSG00000083123</td><td>M1423</td><td>14576184</td><td></td><td>Table 2</td><td></td><td>Genes down-regulated in AtT20 cells (pituitary cancer) after  treatment with LIF [GeneID=3976].</td></tr>\n",
       "\t<tr><td>C2</td><td>CGP</td><td>ABBUD_LIF_SIGNALING_1_DN</td><td>C16orf89</td><td>146556</td><td>ENSG00000153446</td><td>C16orf89</td><td>146556</td><td>ENSG00000153446</td><td>M1423</td><td>14576184</td><td></td><td>Table 2</td><td></td><td>Genes down-regulated in AtT20 cells (pituitary cancer) after  treatment with LIF [GeneID=3976].</td></tr>\n",
       "</tbody>\n",
       "</table>\n"
      ],
      "text/latex": [
       "A tibble: 6 × 15\n",
       "\\begin{tabular}{lllllllllllllll}\n",
       " gs\\_cat & gs\\_subcat & gs\\_name & gene\\_symbol & entrez\\_gene & ensembl\\_gene & human\\_gene\\_symbol & human\\_entrez\\_gene & human\\_ensembl\\_gene & gs\\_id & gs\\_pmid & gs\\_geoid & gs\\_exact\\_source & gs\\_url & gs\\_description\\\\\n",
       " <chr> & <chr> & <chr> & <chr> & <int> & <chr> & <chr> & <int> & <chr> & <chr> & <chr> & <chr> & <chr> & <chr> & <chr>\\\\\n",
       "\\hline\n",
       "\t C2 & CGP & ABBUD\\_LIF\\_SIGNALING\\_1\\_DN & AHNAK    &  79026 & ENSG00000124942 & AHNAK    &  79026 & ENSG00000124942 & M1423 & 14576184 &  & Table 2 &  & Genes down-regulated in AtT20 cells (pituitary cancer) after  treatment with LIF {[}GeneID=3976{]}.\\\\\n",
       "\t C2 & CGP & ABBUD\\_LIF\\_SIGNALING\\_1\\_DN & ALCAM    &    214 & ENSG00000170017 & ALCAM    &    214 & ENSG00000170017 & M1423 & 14576184 &  & Table 2 &  & Genes down-regulated in AtT20 cells (pituitary cancer) after  treatment with LIF {[}GeneID=3976{]}.\\\\\n",
       "\t C2 & CGP & ABBUD\\_LIF\\_SIGNALING\\_1\\_DN & ANKRD40  &  91369 & ENSG00000154945 & ANKRD40  &  91369 & ENSG00000154945 & M1423 & 14576184 &  & Table 2 &  & Genes down-regulated in AtT20 cells (pituitary cancer) after  treatment with LIF {[}GeneID=3976{]}.\\\\\n",
       "\t C2 & CGP & ABBUD\\_LIF\\_SIGNALING\\_1\\_DN & ARID1A   &   8289 & ENSG00000117713 & ARID1A   &   8289 & ENSG00000117713 & M1423 & 14576184 &  & Table 2 &  & Genes down-regulated in AtT20 cells (pituitary cancer) after  treatment with LIF {[}GeneID=3976{]}.\\\\\n",
       "\t C2 & CGP & ABBUD\\_LIF\\_SIGNALING\\_1\\_DN & BCKDHB   &    594 & ENSG00000083123 & BCKDHB   &    594 & ENSG00000083123 & M1423 & 14576184 &  & Table 2 &  & Genes down-regulated in AtT20 cells (pituitary cancer) after  treatment with LIF {[}GeneID=3976{]}.\\\\\n",
       "\t C2 & CGP & ABBUD\\_LIF\\_SIGNALING\\_1\\_DN & C16orf89 & 146556 & ENSG00000153446 & C16orf89 & 146556 & ENSG00000153446 & M1423 & 14576184 &  & Table 2 &  & Genes down-regulated in AtT20 cells (pituitary cancer) after  treatment with LIF {[}GeneID=3976{]}.\\\\\n",
       "\\end{tabular}\n"
      ],
      "text/markdown": [
       "\n",
       "A tibble: 6 × 15\n",
       "\n",
       "| gs_cat &lt;chr&gt; | gs_subcat &lt;chr&gt; | gs_name &lt;chr&gt; | gene_symbol &lt;chr&gt; | entrez_gene &lt;int&gt; | ensembl_gene &lt;chr&gt; | human_gene_symbol &lt;chr&gt; | human_entrez_gene &lt;int&gt; | human_ensembl_gene &lt;chr&gt; | gs_id &lt;chr&gt; | gs_pmid &lt;chr&gt; | gs_geoid &lt;chr&gt; | gs_exact_source &lt;chr&gt; | gs_url &lt;chr&gt; | gs_description &lt;chr&gt; |\n",
       "|---|---|---|---|---|---|---|---|---|---|---|---|---|---|---|\n",
       "| C2 | CGP | ABBUD_LIF_SIGNALING_1_DN | AHNAK    |  79026 | ENSG00000124942 | AHNAK    |  79026 | ENSG00000124942 | M1423 | 14576184 | <!----> | Table 2 | <!----> | Genes down-regulated in AtT20 cells (pituitary cancer) after  treatment with LIF [GeneID=3976]. |\n",
       "| C2 | CGP | ABBUD_LIF_SIGNALING_1_DN | ALCAM    |    214 | ENSG00000170017 | ALCAM    |    214 | ENSG00000170017 | M1423 | 14576184 | <!----> | Table 2 | <!----> | Genes down-regulated in AtT20 cells (pituitary cancer) after  treatment with LIF [GeneID=3976]. |\n",
       "| C2 | CGP | ABBUD_LIF_SIGNALING_1_DN | ANKRD40  |  91369 | ENSG00000154945 | ANKRD40  |  91369 | ENSG00000154945 | M1423 | 14576184 | <!----> | Table 2 | <!----> | Genes down-regulated in AtT20 cells (pituitary cancer) after  treatment with LIF [GeneID=3976]. |\n",
       "| C2 | CGP | ABBUD_LIF_SIGNALING_1_DN | ARID1A   |   8289 | ENSG00000117713 | ARID1A   |   8289 | ENSG00000117713 | M1423 | 14576184 | <!----> | Table 2 | <!----> | Genes down-regulated in AtT20 cells (pituitary cancer) after  treatment with LIF [GeneID=3976]. |\n",
       "| C2 | CGP | ABBUD_LIF_SIGNALING_1_DN | BCKDHB   |    594 | ENSG00000083123 | BCKDHB   |    594 | ENSG00000083123 | M1423 | 14576184 | <!----> | Table 2 | <!----> | Genes down-regulated in AtT20 cells (pituitary cancer) after  treatment with LIF [GeneID=3976]. |\n",
       "| C2 | CGP | ABBUD_LIF_SIGNALING_1_DN | C16orf89 | 146556 | ENSG00000153446 | C16orf89 | 146556 | ENSG00000153446 | M1423 | 14576184 | <!----> | Table 2 | <!----> | Genes down-regulated in AtT20 cells (pituitary cancer) after  treatment with LIF [GeneID=3976]. |\n",
       "\n"
      ],
      "text/plain": [
       "  gs_cat gs_subcat gs_name                  gene_symbol entrez_gene\n",
       "1 C2     CGP       ABBUD_LIF_SIGNALING_1_DN AHNAK        79026     \n",
       "2 C2     CGP       ABBUD_LIF_SIGNALING_1_DN ALCAM          214     \n",
       "3 C2     CGP       ABBUD_LIF_SIGNALING_1_DN ANKRD40      91369     \n",
       "4 C2     CGP       ABBUD_LIF_SIGNALING_1_DN ARID1A        8289     \n",
       "5 C2     CGP       ABBUD_LIF_SIGNALING_1_DN BCKDHB         594     \n",
       "6 C2     CGP       ABBUD_LIF_SIGNALING_1_DN C16orf89    146556     \n",
       "  ensembl_gene    human_gene_symbol human_entrez_gene human_ensembl_gene gs_id\n",
       "1 ENSG00000124942 AHNAK              79026            ENSG00000124942    M1423\n",
       "2 ENSG00000170017 ALCAM                214            ENSG00000170017    M1423\n",
       "3 ENSG00000154945 ANKRD40            91369            ENSG00000154945    M1423\n",
       "4 ENSG00000117713 ARID1A              8289            ENSG00000117713    M1423\n",
       "5 ENSG00000083123 BCKDHB               594            ENSG00000083123    M1423\n",
       "6 ENSG00000153446 C16orf89          146556            ENSG00000153446    M1423\n",
       "  gs_pmid  gs_geoid gs_exact_source gs_url\n",
       "1 14576184          Table 2               \n",
       "2 14576184          Table 2               \n",
       "3 14576184          Table 2               \n",
       "4 14576184          Table 2               \n",
       "5 14576184          Table 2               \n",
       "6 14576184          Table 2               \n",
       "  gs_description                                                                                 \n",
       "1 Genes down-regulated in AtT20 cells (pituitary cancer) after  treatment with LIF [GeneID=3976].\n",
       "2 Genes down-regulated in AtT20 cells (pituitary cancer) after  treatment with LIF [GeneID=3976].\n",
       "3 Genes down-regulated in AtT20 cells (pituitary cancer) after  treatment with LIF [GeneID=3976].\n",
       "4 Genes down-regulated in AtT20 cells (pituitary cancer) after  treatment with LIF [GeneID=3976].\n",
       "5 Genes down-regulated in AtT20 cells (pituitary cancer) after  treatment with LIF [GeneID=3976].\n",
       "6 Genes down-regulated in AtT20 cells (pituitary cancer) after  treatment with LIF [GeneID=3976]."
      ]
     },
     "metadata": {},
     "output_type": "display_data"
    }
   ],
   "source": [
    "category <- \"C2\"\n",
    "\n",
    "m <- msigdbr::msigdbr(species = \"Homo sapiens\", category = category)\n",
    "head(m)"
   ]
  },
  {
   "cell_type": "markdown",
   "metadata": {},
   "source": [
    "GMT: Gene Matrix Transposed file format (*.gmt)\n",
    "The GMT file format is a tab delimited file format that describes gene sets. In the GMT format, each row represents a gene set; in the GMX format, each column represents a gene set. The GMT file format is organized as follows:"
   ]
  },
  {
   "cell_type": "code",
   "execution_count": 4,
   "metadata": {
    "vscode": {
     "languageId": "r"
    }
   },
   "outputs": [
    {
     "name": "stderr",
     "output_type": "stream",
     "text": [
      "Loading required package: BiocGenerics\n",
      "\n",
      "\n",
      "Attaching package: ‘BiocGenerics’\n",
      "\n",
      "\n",
      "The following objects are masked from ‘package:stats’:\n",
      "\n",
      "    IQR, mad, sd, var, xtabs\n",
      "\n",
      "\n",
      "The following objects are masked from ‘package:base’:\n",
      "\n",
      "    anyDuplicated, aperm, append, as.data.frame, basename, cbind,\n",
      "    colnames, dirname, do.call, duplicated, eval, evalq, Filter, Find,\n",
      "    get, grep, grepl, intersect, is.unsorted, lapply, Map, mapply,\n",
      "    match, mget, order, paste, pmax, pmax.int, pmin, pmin.int,\n",
      "    Position, rank, rbind, Reduce, rownames, sapply, setdiff, sort,\n",
      "    table, tapply, union, unique, unsplit, which.max, which.min\n",
      "\n",
      "\n",
      "Loading required package: Biobase\n",
      "\n",
      "Welcome to Bioconductor\n",
      "\n",
      "    Vignettes contain introductory material; view with\n",
      "    'browseVignettes()'. To cite Bioconductor, see\n",
      "    'citation(\"Biobase\")', and for packages 'citation(\"pkgname\")'.\n",
      "\n",
      "\n",
      "Loading required package: annotate\n",
      "\n",
      "Loading required package: AnnotationDbi\n",
      "\n",
      "Loading required package: stats4\n",
      "\n",
      "Loading required package: IRanges\n",
      "\n",
      "Loading required package: S4Vectors\n",
      "\n",
      "\n",
      "Attaching package: ‘S4Vectors’\n",
      "\n",
      "\n",
      "The following object is masked from ‘package:utils’:\n",
      "\n",
      "    findMatches\n",
      "\n",
      "\n",
      "The following objects are masked from ‘package:base’:\n",
      "\n",
      "    expand.grid, I, unname\n",
      "\n",
      "\n",
      "Loading required package: XML\n",
      "\n",
      "Loading required package: graph\n",
      "\n",
      "\n",
      "Attaching package: ‘graph’\n",
      "\n",
      "\n",
      "The following object is masked from ‘package:XML’:\n",
      "\n",
      "    addNode\n",
      "\n",
      "\n"
     ]
    }
   ],
   "source": [
    "library(GSEABase)"
   ]
  },
  {
   "cell_type": "code",
   "execution_count": 8,
   "metadata": {
    "vscode": {
     "languageId": "r"
    }
   },
   "outputs": [],
   "source": [
    "#adopted from GSA package, gsa.read.gmt()\n",
    "read.gmt <- function (filename)\n",
    "{\n",
    "  a = scan(filename, what = list(\"\", \"\"), sep = \"\\t\", quote = NULL,\n",
    "           fill = T, flush = T, multi.line = F)\n",
    "  geneset.names = a[1][[1]]\n",
    "  geneset.descriptions = a[2][[1]]\n",
    "  dd = scan(filename, what = \"\", sep = \"\\t\", quote = NULL)\n",
    "  nn = length(geneset.names)\n",
    "  n = length(dd)\n",
    "  ox = rep(NA, nn)\n",
    "  ii = 1\n",
    "  for (i in 1:nn) {\n",
    "    #cat(i)\n",
    "    while ((dd[ii] != geneset.names[i]) | (dd[ii + 1] !=\n",
    "                                           geneset.descriptions[i])) {\n",
    "      ii = ii + 1\n",
    "    }\n",
    "    ox[i] = ii\n",
    "    ii = ii + 1\n",
    "  }\n",
    "  genesets = vector(\"list\", nn)\n",
    "  for (i in 1:(nn - 1)) {\n",
    "    #cat(i, fill = T)\n",
    "    i1 = ox[i] + 2\n",
    "    i2 = ox[i + 1] - 1\n",
    "    geneset.descriptions[i] = dd[ox[i] + 1]\n",
    "    genesets[[i]] = dd[i1:i2]\n",
    "  }\n",
    "  geneset.descriptions[nn] = dd[ox[nn] + 1]\n",
    "  genesets[[nn]] = dd[(ox[nn] + 2):n]\n",
    "  out = list(genesets = genesets, geneset.names = geneset.names,\n",
    "             geneset.descriptions = geneset.descriptions)\n",
    "  class(out) = \"GSA.genesets\"\n",
    "  return(out)\n",
    "  \n",
    "}#read.gmt\n",
    "\n",
    "\n",
    "post.process <- function(gmt){\n",
    "  gene.names <- unique(unlist(gmt$genesets))\n",
    "  pathway.names <- gmt$geneset.names\n",
    "    \n",
    "  res <- matrix(0, nrow = length(gene.names),ncol = length(pathway.names))\n",
    "  rownames(res) <- gene.names\n",
    "  colnames(res) <- pathway.names\n",
    "  \n",
    "  for (i in 1:length(pathway.names)){\n",
    "    res[gmt$genesets[[i]],i] <- 1\n",
    "  }#for i\n",
    "  return(res)\n",
    "}#post.process"
   ]
  },
  {
   "cell_type": "code",
   "execution_count": 9,
   "metadata": {
    "vscode": {
     "languageId": "r"
    }
   },
   "outputs": [],
   "source": [
    "msigdb_path <- '/home/msubirana/Documents/pivlab/plier_recount3/data/msigdb/msigdb.v2023.2.Hs.symbols.gmt'\n",
    "\n",
    "gmt <- read.gmt(msigdb_path)\n"
   ]
  },
  {
   "cell_type": "code",
   "execution_count": 10,
   "metadata": {
    "vscode": {
     "languageId": "r"
    }
   },
   "outputs": [],
   "source": [
    "gmt.mat <- post.process(gmt) #This is the pathway matrix in use."
   ]
  },
  {
   "cell_type": "code",
   "execution_count": 13,
   "metadata": {
    "vscode": {
     "languageId": "r"
    }
   },
   "outputs": [
    {
     "data": {
      "text/html": [
       "<table class=\"dataframe\">\n",
       "<caption>A matrix: 6 × 34550 of type dbl</caption>\n",
       "<thead>\n",
       "\t<tr><th></th><th scope=col>MT</th><th scope=col>chr10p11</th><th scope=col>chr10p12</th><th scope=col>chr10p13</th><th scope=col>chr10p14</th><th scope=col>chr10p15</th><th scope=col>chr10q11</th><th scope=col>chr10q21</th><th scope=col>chr10q22</th><th scope=col>chr10q23</th><th scope=col>⋯</th><th scope=col>HALLMARK_PROTEIN_SECRETION</th><th scope=col>HALLMARK_REACTIVE_OXYGEN_SPECIES_PATHWAY</th><th scope=col>HALLMARK_SPERMATOGENESIS</th><th scope=col>HALLMARK_TGF_BETA_SIGNALING</th><th scope=col>HALLMARK_TNFA_SIGNALING_VIA_NFKB</th><th scope=col>HALLMARK_UNFOLDED_PROTEIN_RESPONSE</th><th scope=col>HALLMARK_UV_RESPONSE_DN</th><th scope=col>HALLMARK_UV_RESPONSE_UP</th><th scope=col>HALLMARK_WNT_BETA_CATENIN_SIGNALING</th><th scope=col>HALLMARK_XENOBIOTIC_METABOLISM</th></tr>\n",
       "</thead>\n",
       "<tbody>\n",
       "\t<tr><th scope=row>MT-ATP6</th><td>1</td><td>0</td><td>0</td><td>0</td><td>0</td><td>0</td><td>0</td><td>0</td><td>0</td><td>0</td><td>⋯</td><td>0</td><td>0</td><td>0</td><td>0</td><td>0</td><td>0</td><td>0</td><td>0</td><td>0</td><td>0</td></tr>\n",
       "\t<tr><th scope=row>MT-ATP8</th><td>1</td><td>0</td><td>0</td><td>0</td><td>0</td><td>0</td><td>0</td><td>0</td><td>0</td><td>0</td><td>⋯</td><td>0</td><td>0</td><td>0</td><td>0</td><td>0</td><td>0</td><td>0</td><td>0</td><td>0</td><td>0</td></tr>\n",
       "\t<tr><th scope=row>MT-CO1</th><td>1</td><td>0</td><td>0</td><td>0</td><td>0</td><td>0</td><td>0</td><td>0</td><td>0</td><td>0</td><td>⋯</td><td>0</td><td>0</td><td>0</td><td>0</td><td>0</td><td>0</td><td>0</td><td>0</td><td>0</td><td>0</td></tr>\n",
       "\t<tr><th scope=row>MT-CO2</th><td>1</td><td>0</td><td>0</td><td>0</td><td>0</td><td>0</td><td>0</td><td>0</td><td>0</td><td>0</td><td>⋯</td><td>0</td><td>0</td><td>0</td><td>0</td><td>0</td><td>0</td><td>0</td><td>0</td><td>0</td><td>0</td></tr>\n",
       "\t<tr><th scope=row>MT-CO3</th><td>1</td><td>0</td><td>0</td><td>0</td><td>0</td><td>0</td><td>0</td><td>0</td><td>0</td><td>0</td><td>⋯</td><td>0</td><td>0</td><td>0</td><td>0</td><td>0</td><td>0</td><td>0</td><td>0</td><td>0</td><td>0</td></tr>\n",
       "\t<tr><th scope=row>MT-CYB</th><td>1</td><td>0</td><td>0</td><td>0</td><td>0</td><td>0</td><td>0</td><td>0</td><td>0</td><td>0</td><td>⋯</td><td>0</td><td>0</td><td>0</td><td>0</td><td>0</td><td>0</td><td>0</td><td>0</td><td>0</td><td>0</td></tr>\n",
       "</tbody>\n",
       "</table>\n"
      ],
      "text/latex": [
       "A matrix: 6 × 34550 of type dbl\n",
       "\\begin{tabular}{r|lllllllllllllllllllll}\n",
       "  & MT & chr10p11 & chr10p12 & chr10p13 & chr10p14 & chr10p15 & chr10q11 & chr10q21 & chr10q22 & chr10q23 & ⋯ & HALLMARK\\_PROTEIN\\_SECRETION & HALLMARK\\_REACTIVE\\_OXYGEN\\_SPECIES\\_PATHWAY & HALLMARK\\_SPERMATOGENESIS & HALLMARK\\_TGF\\_BETA\\_SIGNALING & HALLMARK\\_TNFA\\_SIGNALING\\_VIA\\_NFKB & HALLMARK\\_UNFOLDED\\_PROTEIN\\_RESPONSE & HALLMARK\\_UV\\_RESPONSE\\_DN & HALLMARK\\_UV\\_RESPONSE\\_UP & HALLMARK\\_WNT\\_BETA\\_CATENIN\\_SIGNALING & HALLMARK\\_XENOBIOTIC\\_METABOLISM\\\\\n",
       "\\hline\n",
       "\tMT-ATP6 & 1 & 0 & 0 & 0 & 0 & 0 & 0 & 0 & 0 & 0 & ⋯ & 0 & 0 & 0 & 0 & 0 & 0 & 0 & 0 & 0 & 0\\\\\n",
       "\tMT-ATP8 & 1 & 0 & 0 & 0 & 0 & 0 & 0 & 0 & 0 & 0 & ⋯ & 0 & 0 & 0 & 0 & 0 & 0 & 0 & 0 & 0 & 0\\\\\n",
       "\tMT-CO1 & 1 & 0 & 0 & 0 & 0 & 0 & 0 & 0 & 0 & 0 & ⋯ & 0 & 0 & 0 & 0 & 0 & 0 & 0 & 0 & 0 & 0\\\\\n",
       "\tMT-CO2 & 1 & 0 & 0 & 0 & 0 & 0 & 0 & 0 & 0 & 0 & ⋯ & 0 & 0 & 0 & 0 & 0 & 0 & 0 & 0 & 0 & 0\\\\\n",
       "\tMT-CO3 & 1 & 0 & 0 & 0 & 0 & 0 & 0 & 0 & 0 & 0 & ⋯ & 0 & 0 & 0 & 0 & 0 & 0 & 0 & 0 & 0 & 0\\\\\n",
       "\tMT-CYB & 1 & 0 & 0 & 0 & 0 & 0 & 0 & 0 & 0 & 0 & ⋯ & 0 & 0 & 0 & 0 & 0 & 0 & 0 & 0 & 0 & 0\\\\\n",
       "\\end{tabular}\n"
      ],
      "text/markdown": [
       "\n",
       "A matrix: 6 × 34550 of type dbl\n",
       "\n",
       "| <!--/--> | MT | chr10p11 | chr10p12 | chr10p13 | chr10p14 | chr10p15 | chr10q11 | chr10q21 | chr10q22 | chr10q23 | ⋯ | HALLMARK_PROTEIN_SECRETION | HALLMARK_REACTIVE_OXYGEN_SPECIES_PATHWAY | HALLMARK_SPERMATOGENESIS | HALLMARK_TGF_BETA_SIGNALING | HALLMARK_TNFA_SIGNALING_VIA_NFKB | HALLMARK_UNFOLDED_PROTEIN_RESPONSE | HALLMARK_UV_RESPONSE_DN | HALLMARK_UV_RESPONSE_UP | HALLMARK_WNT_BETA_CATENIN_SIGNALING | HALLMARK_XENOBIOTIC_METABOLISM |\n",
       "|---|---|---|---|---|---|---|---|---|---|---|---|---|---|---|---|---|---|---|---|---|---|\n",
       "| MT-ATP6 | 1 | 0 | 0 | 0 | 0 | 0 | 0 | 0 | 0 | 0 | ⋯ | 0 | 0 | 0 | 0 | 0 | 0 | 0 | 0 | 0 | 0 |\n",
       "| MT-ATP8 | 1 | 0 | 0 | 0 | 0 | 0 | 0 | 0 | 0 | 0 | ⋯ | 0 | 0 | 0 | 0 | 0 | 0 | 0 | 0 | 0 | 0 |\n",
       "| MT-CO1 | 1 | 0 | 0 | 0 | 0 | 0 | 0 | 0 | 0 | 0 | ⋯ | 0 | 0 | 0 | 0 | 0 | 0 | 0 | 0 | 0 | 0 |\n",
       "| MT-CO2 | 1 | 0 | 0 | 0 | 0 | 0 | 0 | 0 | 0 | 0 | ⋯ | 0 | 0 | 0 | 0 | 0 | 0 | 0 | 0 | 0 | 0 |\n",
       "| MT-CO3 | 1 | 0 | 0 | 0 | 0 | 0 | 0 | 0 | 0 | 0 | ⋯ | 0 | 0 | 0 | 0 | 0 | 0 | 0 | 0 | 0 | 0 |\n",
       "| MT-CYB | 1 | 0 | 0 | 0 | 0 | 0 | 0 | 0 | 0 | 0 | ⋯ | 0 | 0 | 0 | 0 | 0 | 0 | 0 | 0 | 0 | 0 |\n",
       "\n"
      ],
      "text/plain": [
       "        MT chr10p11 chr10p12 chr10p13 chr10p14 chr10p15 chr10q11 chr10q21\n",
       "MT-ATP6 1  0        0        0        0        0        0        0       \n",
       "MT-ATP8 1  0        0        0        0        0        0        0       \n",
       "MT-CO1  1  0        0        0        0        0        0        0       \n",
       "MT-CO2  1  0        0        0        0        0        0        0       \n",
       "MT-CO3  1  0        0        0        0        0        0        0       \n",
       "MT-CYB  1  0        0        0        0        0        0        0       \n",
       "        chr10q22 chr10q23 ⋯ HALLMARK_PROTEIN_SECRETION\n",
       "MT-ATP6 0        0        ⋯ 0                         \n",
       "MT-ATP8 0        0        ⋯ 0                         \n",
       "MT-CO1  0        0        ⋯ 0                         \n",
       "MT-CO2  0        0        ⋯ 0                         \n",
       "MT-CO3  0        0        ⋯ 0                         \n",
       "MT-CYB  0        0        ⋯ 0                         \n",
       "        HALLMARK_REACTIVE_OXYGEN_SPECIES_PATHWAY HALLMARK_SPERMATOGENESIS\n",
       "MT-ATP6 0                                        0                       \n",
       "MT-ATP8 0                                        0                       \n",
       "MT-CO1  0                                        0                       \n",
       "MT-CO2  0                                        0                       \n",
       "MT-CO3  0                                        0                       \n",
       "MT-CYB  0                                        0                       \n",
       "        HALLMARK_TGF_BETA_SIGNALING HALLMARK_TNFA_SIGNALING_VIA_NFKB\n",
       "MT-ATP6 0                           0                               \n",
       "MT-ATP8 0                           0                               \n",
       "MT-CO1  0                           0                               \n",
       "MT-CO2  0                           0                               \n",
       "MT-CO3  0                           0                               \n",
       "MT-CYB  0                           0                               \n",
       "        HALLMARK_UNFOLDED_PROTEIN_RESPONSE HALLMARK_UV_RESPONSE_DN\n",
       "MT-ATP6 0                                  0                      \n",
       "MT-ATP8 0                                  0                      \n",
       "MT-CO1  0                                  0                      \n",
       "MT-CO2  0                                  0                      \n",
       "MT-CO3  0                                  0                      \n",
       "MT-CYB  0                                  0                      \n",
       "        HALLMARK_UV_RESPONSE_UP HALLMARK_WNT_BETA_CATENIN_SIGNALING\n",
       "MT-ATP6 0                       0                                  \n",
       "MT-ATP8 0                       0                                  \n",
       "MT-CO1  0                       0                                  \n",
       "MT-CO2  0                       0                                  \n",
       "MT-CO3  0                       0                                  \n",
       "MT-CYB  0                       0                                  \n",
       "        HALLMARK_XENOBIOTIC_METABOLISM\n",
       "MT-ATP6 0                             \n",
       "MT-ATP8 0                             \n",
       "MT-CO1  0                             \n",
       "MT-CO2  0                             \n",
       "MT-CO3  0                             \n",
       "MT-CYB  0                             "
      ]
     },
     "metadata": {},
     "output_type": "display_data"
    },
    {
     "data": {
      "text/html": [
       "<table class=\"dataframe\">\n",
       "<caption>A matrix: 6 × 34550 of type dbl</caption>\n",
       "<thead>\n",
       "\t<tr><th></th><th scope=col>MT</th><th scope=col>chr10p11</th><th scope=col>chr10p12</th><th scope=col>chr10p13</th><th scope=col>chr10p14</th><th scope=col>chr10p15</th><th scope=col>chr10q11</th><th scope=col>chr10q21</th><th scope=col>chr10q22</th><th scope=col>chr10q23</th><th scope=col>⋯</th><th scope=col>HALLMARK_PROTEIN_SECRETION</th><th scope=col>HALLMARK_REACTIVE_OXYGEN_SPECIES_PATHWAY</th><th scope=col>HALLMARK_SPERMATOGENESIS</th><th scope=col>HALLMARK_TGF_BETA_SIGNALING</th><th scope=col>HALLMARK_TNFA_SIGNALING_VIA_NFKB</th><th scope=col>HALLMARK_UNFOLDED_PROTEIN_RESPONSE</th><th scope=col>HALLMARK_UV_RESPONSE_DN</th><th scope=col>HALLMARK_UV_RESPONSE_UP</th><th scope=col>HALLMARK_WNT_BETA_CATENIN_SIGNALING</th><th scope=col>HALLMARK_XENOBIOTIC_METABOLISM</th></tr>\n",
       "</thead>\n",
       "<tbody>\n",
       "\t<tr><th scope=row>FRG1GP</th><td>0</td><td>0</td><td>0</td><td>0</td><td>0</td><td>0</td><td>0</td><td>0</td><td>0</td><td>0</td><td>⋯</td><td>0</td><td>0</td><td>0</td><td>0</td><td>0</td><td>0</td><td>0</td><td>0</td><td>0</td><td>0</td></tr>\n",
       "\t<tr><th scope=row>PRAMEF22</th><td>0</td><td>0</td><td>0</td><td>0</td><td>0</td><td>0</td><td>0</td><td>0</td><td>0</td><td>0</td><td>⋯</td><td>0</td><td>0</td><td>0</td><td>0</td><td>0</td><td>0</td><td>0</td><td>0</td><td>0</td><td>0</td></tr>\n",
       "\t<tr><th scope=row>GTF2H2C_2</th><td>0</td><td>0</td><td>0</td><td>0</td><td>0</td><td>0</td><td>0</td><td>0</td><td>0</td><td>0</td><td>⋯</td><td>0</td><td>0</td><td>0</td><td>0</td><td>0</td><td>0</td><td>0</td><td>0</td><td>0</td><td>0</td></tr>\n",
       "\t<tr><th scope=row>RNA5-8SN5</th><td>0</td><td>0</td><td>0</td><td>0</td><td>0</td><td>0</td><td>0</td><td>0</td><td>0</td><td>0</td><td>⋯</td><td>0</td><td>0</td><td>0</td><td>0</td><td>0</td><td>0</td><td>0</td><td>0</td><td>0</td><td>0</td></tr>\n",
       "\t<tr><th scope=row>ENSG00000280552</th><td>0</td><td>0</td><td>0</td><td>0</td><td>0</td><td>0</td><td>0</td><td>0</td><td>0</td><td>0</td><td>⋯</td><td>0</td><td>0</td><td>0</td><td>0</td><td>0</td><td>0</td><td>0</td><td>0</td><td>0</td><td>0</td></tr>\n",
       "\t<tr><th scope=row>ZNF73P</th><td>0</td><td>0</td><td>0</td><td>0</td><td>0</td><td>0</td><td>0</td><td>0</td><td>0</td><td>0</td><td>⋯</td><td>0</td><td>0</td><td>0</td><td>0</td><td>0</td><td>0</td><td>0</td><td>0</td><td>0</td><td>0</td></tr>\n",
       "</tbody>\n",
       "</table>\n"
      ],
      "text/latex": [
       "A matrix: 6 × 34550 of type dbl\n",
       "\\begin{tabular}{r|lllllllllllllllllllll}\n",
       "  & MT & chr10p11 & chr10p12 & chr10p13 & chr10p14 & chr10p15 & chr10q11 & chr10q21 & chr10q22 & chr10q23 & ⋯ & HALLMARK\\_PROTEIN\\_SECRETION & HALLMARK\\_REACTIVE\\_OXYGEN\\_SPECIES\\_PATHWAY & HALLMARK\\_SPERMATOGENESIS & HALLMARK\\_TGF\\_BETA\\_SIGNALING & HALLMARK\\_TNFA\\_SIGNALING\\_VIA\\_NFKB & HALLMARK\\_UNFOLDED\\_PROTEIN\\_RESPONSE & HALLMARK\\_UV\\_RESPONSE\\_DN & HALLMARK\\_UV\\_RESPONSE\\_UP & HALLMARK\\_WNT\\_BETA\\_CATENIN\\_SIGNALING & HALLMARK\\_XENOBIOTIC\\_METABOLISM\\\\\n",
       "\\hline\n",
       "\tFRG1GP & 0 & 0 & 0 & 0 & 0 & 0 & 0 & 0 & 0 & 0 & ⋯ & 0 & 0 & 0 & 0 & 0 & 0 & 0 & 0 & 0 & 0\\\\\n",
       "\tPRAMEF22 & 0 & 0 & 0 & 0 & 0 & 0 & 0 & 0 & 0 & 0 & ⋯ & 0 & 0 & 0 & 0 & 0 & 0 & 0 & 0 & 0 & 0\\\\\n",
       "\tGTF2H2C\\_2 & 0 & 0 & 0 & 0 & 0 & 0 & 0 & 0 & 0 & 0 & ⋯ & 0 & 0 & 0 & 0 & 0 & 0 & 0 & 0 & 0 & 0\\\\\n",
       "\tRNA5-8SN5 & 0 & 0 & 0 & 0 & 0 & 0 & 0 & 0 & 0 & 0 & ⋯ & 0 & 0 & 0 & 0 & 0 & 0 & 0 & 0 & 0 & 0\\\\\n",
       "\tENSG00000280552 & 0 & 0 & 0 & 0 & 0 & 0 & 0 & 0 & 0 & 0 & ⋯ & 0 & 0 & 0 & 0 & 0 & 0 & 0 & 0 & 0 & 0\\\\\n",
       "\tZNF73P & 0 & 0 & 0 & 0 & 0 & 0 & 0 & 0 & 0 & 0 & ⋯ & 0 & 0 & 0 & 0 & 0 & 0 & 0 & 0 & 0 & 0\\\\\n",
       "\\end{tabular}\n"
      ],
      "text/markdown": [
       "\n",
       "A matrix: 6 × 34550 of type dbl\n",
       "\n",
       "| <!--/--> | MT | chr10p11 | chr10p12 | chr10p13 | chr10p14 | chr10p15 | chr10q11 | chr10q21 | chr10q22 | chr10q23 | ⋯ | HALLMARK_PROTEIN_SECRETION | HALLMARK_REACTIVE_OXYGEN_SPECIES_PATHWAY | HALLMARK_SPERMATOGENESIS | HALLMARK_TGF_BETA_SIGNALING | HALLMARK_TNFA_SIGNALING_VIA_NFKB | HALLMARK_UNFOLDED_PROTEIN_RESPONSE | HALLMARK_UV_RESPONSE_DN | HALLMARK_UV_RESPONSE_UP | HALLMARK_WNT_BETA_CATENIN_SIGNALING | HALLMARK_XENOBIOTIC_METABOLISM |\n",
       "|---|---|---|---|---|---|---|---|---|---|---|---|---|---|---|---|---|---|---|---|---|---|\n",
       "| FRG1GP | 0 | 0 | 0 | 0 | 0 | 0 | 0 | 0 | 0 | 0 | ⋯ | 0 | 0 | 0 | 0 | 0 | 0 | 0 | 0 | 0 | 0 |\n",
       "| PRAMEF22 | 0 | 0 | 0 | 0 | 0 | 0 | 0 | 0 | 0 | 0 | ⋯ | 0 | 0 | 0 | 0 | 0 | 0 | 0 | 0 | 0 | 0 |\n",
       "| GTF2H2C_2 | 0 | 0 | 0 | 0 | 0 | 0 | 0 | 0 | 0 | 0 | ⋯ | 0 | 0 | 0 | 0 | 0 | 0 | 0 | 0 | 0 | 0 |\n",
       "| RNA5-8SN5 | 0 | 0 | 0 | 0 | 0 | 0 | 0 | 0 | 0 | 0 | ⋯ | 0 | 0 | 0 | 0 | 0 | 0 | 0 | 0 | 0 | 0 |\n",
       "| ENSG00000280552 | 0 | 0 | 0 | 0 | 0 | 0 | 0 | 0 | 0 | 0 | ⋯ | 0 | 0 | 0 | 0 | 0 | 0 | 0 | 0 | 0 | 0 |\n",
       "| ZNF73P | 0 | 0 | 0 | 0 | 0 | 0 | 0 | 0 | 0 | 0 | ⋯ | 0 | 0 | 0 | 0 | 0 | 0 | 0 | 0 | 0 | 0 |\n",
       "\n"
      ],
      "text/plain": [
       "                MT chr10p11 chr10p12 chr10p13 chr10p14 chr10p15 chr10q11\n",
       "FRG1GP          0  0        0        0        0        0        0       \n",
       "PRAMEF22        0  0        0        0        0        0        0       \n",
       "GTF2H2C_2       0  0        0        0        0        0        0       \n",
       "RNA5-8SN5       0  0        0        0        0        0        0       \n",
       "ENSG00000280552 0  0        0        0        0        0        0       \n",
       "ZNF73P          0  0        0        0        0        0        0       \n",
       "                chr10q21 chr10q22 chr10q23 ⋯ HALLMARK_PROTEIN_SECRETION\n",
       "FRG1GP          0        0        0        ⋯ 0                         \n",
       "PRAMEF22        0        0        0        ⋯ 0                         \n",
       "GTF2H2C_2       0        0        0        ⋯ 0                         \n",
       "RNA5-8SN5       0        0        0        ⋯ 0                         \n",
       "ENSG00000280552 0        0        0        ⋯ 0                         \n",
       "ZNF73P          0        0        0        ⋯ 0                         \n",
       "                HALLMARK_REACTIVE_OXYGEN_SPECIES_PATHWAY\n",
       "FRG1GP          0                                       \n",
       "PRAMEF22        0                                       \n",
       "GTF2H2C_2       0                                       \n",
       "RNA5-8SN5       0                                       \n",
       "ENSG00000280552 0                                       \n",
       "ZNF73P          0                                       \n",
       "                HALLMARK_SPERMATOGENESIS HALLMARK_TGF_BETA_SIGNALING\n",
       "FRG1GP          0                        0                          \n",
       "PRAMEF22        0                        0                          \n",
       "GTF2H2C_2       0                        0                          \n",
       "RNA5-8SN5       0                        0                          \n",
       "ENSG00000280552 0                        0                          \n",
       "ZNF73P          0                        0                          \n",
       "                HALLMARK_TNFA_SIGNALING_VIA_NFKB\n",
       "FRG1GP          0                               \n",
       "PRAMEF22        0                               \n",
       "GTF2H2C_2       0                               \n",
       "RNA5-8SN5       0                               \n",
       "ENSG00000280552 0                               \n",
       "ZNF73P          0                               \n",
       "                HALLMARK_UNFOLDED_PROTEIN_RESPONSE HALLMARK_UV_RESPONSE_DN\n",
       "FRG1GP          0                                  0                      \n",
       "PRAMEF22        0                                  0                      \n",
       "GTF2H2C_2       0                                  0                      \n",
       "RNA5-8SN5       0                                  0                      \n",
       "ENSG00000280552 0                                  0                      \n",
       "ZNF73P          0                                  0                      \n",
       "                HALLMARK_UV_RESPONSE_UP HALLMARK_WNT_BETA_CATENIN_SIGNALING\n",
       "FRG1GP          0                       0                                  \n",
       "PRAMEF22        0                       0                                  \n",
       "GTF2H2C_2       0                       0                                  \n",
       "RNA5-8SN5       0                       0                                  \n",
       "ENSG00000280552 0                       0                                  \n",
       "ZNF73P          0                       0                                  \n",
       "                HALLMARK_XENOBIOTIC_METABOLISM\n",
       "FRG1GP          0                             \n",
       "PRAMEF22        0                             \n",
       "GTF2H2C_2       0                             \n",
       "RNA5-8SN5       0                             \n",
       "ENSG00000280552 0                             \n",
       "ZNF73P          0                             "
      ]
     },
     "metadata": {},
     "output_type": "display_data"
    },
    {
     "data": {
      "text/html": [
       "<style>\n",
       ".list-inline {list-style: none; margin:0; padding: 0}\n",
       ".list-inline>li {display: inline-block}\n",
       ".list-inline>li:not(:last-child)::after {content: \"\\00b7\"; padding: 0 .5ex}\n",
       "</style>\n",
       "<ol class=list-inline><li>42416</li><li>34550</li></ol>\n"
      ],
      "text/latex": [
       "\\begin{enumerate*}\n",
       "\\item 42416\n",
       "\\item 34550\n",
       "\\end{enumerate*}\n"
      ],
      "text/markdown": [
       "1. 42416\n",
       "2. 34550\n",
       "\n",
       "\n"
      ],
      "text/plain": [
       "[1] 42416 34550"
      ]
     },
     "metadata": {},
     "output_type": "display_data"
    }
   ],
   "source": [
    "head(gmt.mat)\n",
    "tail(gmt.mat)\n",
    "dim(gmt.mat)"
   ]
  },
  {
   "cell_type": "code",
   "execution_count": null,
   "metadata": {
    "vscode": {
     "languageId": "r"
    }
   },
   "outputs": [],
   "source": []
  }
 ],
 "metadata": {
  "kernelspec": {
   "display_name": "R",
   "language": "R",
   "name": "ir"
  },
  "language_info": {
   "codemirror_mode": "r",
   "file_extension": ".r",
   "mimetype": "text/x-r-source",
   "name": "R",
   "pygments_lexer": "r",
   "version": "4.3.3"
  }
 },
 "nbformat": 4,
 "nbformat_minor": 2
}
